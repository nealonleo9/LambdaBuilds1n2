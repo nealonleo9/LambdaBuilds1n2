{
  "nbformat": 4,
  "nbformat_minor": 0,
  "metadata": {
    "colab": {
      "name": "Untitled25.ipynb",
      "provenance": [],
      "collapsed_sections": []
    },
    "kernelspec": {
      "name": "python3",
      "display_name": "Python 3"
    }
  },
  "cells": [
    {
      "cell_type": "code",
      "metadata": {
        "id": "gHMWCSghzV2C"
      },
      "source": [
        "#https://medium.com/were-are-all-the-ufos-a-in-depth-look-at-ufo-data/where-are-all-the-ufos-a-in-depth-look-at-ufo-data-since-the-early-1900s-94fd3a2e6d95"
      ],
      "execution_count": null,
      "outputs": []
    },
    {
      "cell_type": "code",
      "metadata": {
        "id": "LcePCAcoPrk3",
        "colab": {
          "base_uri": "https://localhost:8080/",
          "height": 92
        },
        "outputId": "84f11402-0396-4f83-a768-2bd9cc693d24"
      },
      "source": [
        "!pip install plotly==4.8.1"
      ],
      "execution_count": null,
      "outputs": [
        {
          "output_type": "stream",
          "text": [
            "Requirement already satisfied: plotly==4.8.1 in /usr/local/lib/python3.6/dist-packages (4.8.1)\n",
            "Requirement already satisfied: six in /usr/local/lib/python3.6/dist-packages (from plotly==4.8.1) (1.12.0)\n",
            "Requirement already satisfied: retrying>=1.3.3 in /usr/local/lib/python3.6/dist-packages (from plotly==4.8.1) (1.3.3)\n"
          ],
          "name": "stdout"
        }
      ]
    },
    {
      "cell_type": "code",
      "metadata": {
        "id": "Np3C99UAmDZh"
      },
      "source": [
        "### load in all csv files ###"
      ],
      "execution_count": null,
      "outputs": []
    },
    {
      "cell_type": "code",
      "metadata": {
        "id": "YMOdFmQ8BIGh",
        "colab": {
          "resources": {
            "http://localhost:8080/nbextensions/google.colab/files.js": {
              "data": "Ly8gQ29weXJpZ2h0IDIwMTcgR29vZ2xlIExMQwovLwovLyBMaWNlbnNlZCB1bmRlciB0aGUgQXBhY2hlIExpY2Vuc2UsIFZlcnNpb24gMi4wICh0aGUgIkxpY2Vuc2UiKTsKLy8geW91IG1heSBub3QgdXNlIHRoaXMgZmlsZSBleGNlcHQgaW4gY29tcGxpYW5jZSB3aXRoIHRoZSBMaWNlbnNlLgovLyBZb3UgbWF5IG9idGFpbiBhIGNvcHkgb2YgdGhlIExpY2Vuc2UgYXQKLy8KLy8gICAgICBodHRwOi8vd3d3LmFwYWNoZS5vcmcvbGljZW5zZXMvTElDRU5TRS0yLjAKLy8KLy8gVW5sZXNzIHJlcXVpcmVkIGJ5IGFwcGxpY2FibGUgbGF3IG9yIGFncmVlZCB0byBpbiB3cml0aW5nLCBzb2Z0d2FyZQovLyBkaXN0cmlidXRlZCB1bmRlciB0aGUgTGljZW5zZSBpcyBkaXN0cmlidXRlZCBvbiBhbiAiQVMgSVMiIEJBU0lTLAovLyBXSVRIT1VUIFdBUlJBTlRJRVMgT1IgQ09ORElUSU9OUyBPRiBBTlkgS0lORCwgZWl0aGVyIGV4cHJlc3Mgb3IgaW1wbGllZC4KLy8gU2VlIHRoZSBMaWNlbnNlIGZvciB0aGUgc3BlY2lmaWMgbGFuZ3VhZ2UgZ292ZXJuaW5nIHBlcm1pc3Npb25zIGFuZAovLyBsaW1pdGF0aW9ucyB1bmRlciB0aGUgTGljZW5zZS4KCi8qKgogKiBAZmlsZW92ZXJ2aWV3IEhlbHBlcnMgZm9yIGdvb2dsZS5jb2xhYiBQeXRob24gbW9kdWxlLgogKi8KKGZ1bmN0aW9uKHNjb3BlKSB7CmZ1bmN0aW9uIHNwYW4odGV4dCwgc3R5bGVBdHRyaWJ1dGVzID0ge30pIHsKICBjb25zdCBlbGVtZW50ID0gZG9jdW1lbnQuY3JlYXRlRWxlbWVudCgnc3BhbicpOwogIGVsZW1lbnQudGV4dENvbnRlbnQgPSB0ZXh0OwogIGZvciAoY29uc3Qga2V5IG9mIE9iamVjdC5rZXlzKHN0eWxlQXR0cmlidXRlcykpIHsKICAgIGVsZW1lbnQuc3R5bGVba2V5XSA9IHN0eWxlQXR0cmlidXRlc1trZXldOwogIH0KICByZXR1cm4gZWxlbWVudDsKfQoKLy8gTWF4IG51bWJlciBvZiBieXRlcyB3aGljaCB3aWxsIGJlIHVwbG9hZGVkIGF0IGEgdGltZS4KY29uc3QgTUFYX1BBWUxPQURfU0laRSA9IDEwMCAqIDEwMjQ7CgpmdW5jdGlvbiBfdXBsb2FkRmlsZXMoaW5wdXRJZCwgb3V0cHV0SWQpIHsKICBjb25zdCBzdGVwcyA9IHVwbG9hZEZpbGVzU3RlcChpbnB1dElkLCBvdXRwdXRJZCk7CiAgY29uc3Qgb3V0cHV0RWxlbWVudCA9IGRvY3VtZW50LmdldEVsZW1lbnRCeUlkKG91dHB1dElkKTsKICAvLyBDYWNoZSBzdGVwcyBvbiB0aGUgb3V0cHV0RWxlbWVudCB0byBtYWtlIGl0IGF2YWlsYWJsZSBmb3IgdGhlIG5leHQgY2FsbAogIC8vIHRvIHVwbG9hZEZpbGVzQ29udGludWUgZnJvbSBQeXRob24uCiAgb3V0cHV0RWxlbWVudC5zdGVwcyA9IHN0ZXBzOwoKICByZXR1cm4gX3VwbG9hZEZpbGVzQ29udGludWUob3V0cHV0SWQpOwp9CgovLyBUaGlzIGlzIHJvdWdobHkgYW4gYXN5bmMgZ2VuZXJhdG9yIChub3Qgc3VwcG9ydGVkIGluIHRoZSBicm93c2VyIHlldCksCi8vIHdoZXJlIHRoZXJlIGFyZSBtdWx0aXBsZSBhc3luY2hyb25vdXMgc3RlcHMgYW5kIHRoZSBQeXRob24gc2lkZSBpcyBnb2luZwovLyB0byBwb2xsIGZvciBjb21wbGV0aW9uIG9mIGVhY2ggc3RlcC4KLy8gVGhpcyB1c2VzIGEgUHJvbWlzZSB0byBibG9jayB0aGUgcHl0aG9uIHNpZGUgb24gY29tcGxldGlvbiBvZiBlYWNoIHN0ZXAsCi8vIHRoZW4gcGFzc2VzIHRoZSByZXN1bHQgb2YgdGhlIHByZXZpb3VzIHN0ZXAgYXMgdGhlIGlucHV0IHRvIHRoZSBuZXh0IHN0ZXAuCmZ1bmN0aW9uIF91cGxvYWRGaWxlc0NvbnRpbnVlKG91dHB1dElkKSB7CiAgY29uc3Qgb3V0cHV0RWxlbWVudCA9IGRvY3VtZW50LmdldEVsZW1lbnRCeUlkKG91dHB1dElkKTsKICBjb25zdCBzdGVwcyA9IG91dHB1dEVsZW1lbnQuc3RlcHM7CgogIGNvbnN0IG5leHQgPSBzdGVwcy5uZXh0KG91dHB1dEVsZW1lbnQubGFzdFByb21pc2VWYWx1ZSk7CiAgcmV0dXJuIFByb21pc2UucmVzb2x2ZShuZXh0LnZhbHVlLnByb21pc2UpLnRoZW4oKHZhbHVlKSA9PiB7CiAgICAvLyBDYWNoZSB0aGUgbGFzdCBwcm9taXNlIHZhbHVlIHRvIG1ha2UgaXQgYXZhaWxhYmxlIHRvIHRoZSBuZXh0CiAgICAvLyBzdGVwIG9mIHRoZSBnZW5lcmF0b3IuCiAgICBvdXRwdXRFbGVtZW50Lmxhc3RQcm9taXNlVmFsdWUgPSB2YWx1ZTsKICAgIHJldHVybiBuZXh0LnZhbHVlLnJlc3BvbnNlOwogIH0pOwp9CgovKioKICogR2VuZXJhdG9yIGZ1bmN0aW9uIHdoaWNoIGlzIGNhbGxlZCBiZXR3ZWVuIGVhY2ggYXN5bmMgc3RlcCBvZiB0aGUgdXBsb2FkCiAqIHByb2Nlc3MuCiAqIEBwYXJhbSB7c3RyaW5nfSBpbnB1dElkIEVsZW1lbnQgSUQgb2YgdGhlIGlucHV0IGZpbGUgcGlja2VyIGVsZW1lbnQuCiAqIEBwYXJhbSB7c3RyaW5nfSBvdXRwdXRJZCBFbGVtZW50IElEIG9mIHRoZSBvdXRwdXQgZGlzcGxheS4KICogQHJldHVybiB7IUl0ZXJhYmxlPCFPYmplY3Q+fSBJdGVyYWJsZSBvZiBuZXh0IHN0ZXBzLgogKi8KZnVuY3Rpb24qIHVwbG9hZEZpbGVzU3RlcChpbnB1dElkLCBvdXRwdXRJZCkgewogIGNvbnN0IGlucHV0RWxlbWVudCA9IGRvY3VtZW50LmdldEVsZW1lbnRCeUlkKGlucHV0SWQpOwogIGlucHV0RWxlbWVudC5kaXNhYmxlZCA9IGZhbHNlOwoKICBjb25zdCBvdXRwdXRFbGVtZW50ID0gZG9jdW1lbnQuZ2V0RWxlbWVudEJ5SWQob3V0cHV0SWQpOwogIG91dHB1dEVsZW1lbnQuaW5uZXJIVE1MID0gJyc7CgogIGNvbnN0IHBpY2tlZFByb21pc2UgPSBuZXcgUHJvbWlzZSgocmVzb2x2ZSkgPT4gewogICAgaW5wdXRFbGVtZW50LmFkZEV2ZW50TGlzdGVuZXIoJ2NoYW5nZScsIChlKSA9PiB7CiAgICAgIHJlc29sdmUoZS50YXJnZXQuZmlsZXMpOwogICAgfSk7CiAgfSk7CgogIGNvbnN0IGNhbmNlbCA9IGRvY3VtZW50LmNyZWF0ZUVsZW1lbnQoJ2J1dHRvbicpOwogIGlucHV0RWxlbWVudC5wYXJlbnRFbGVtZW50LmFwcGVuZENoaWxkKGNhbmNlbCk7CiAgY2FuY2VsLnRleHRDb250ZW50ID0gJ0NhbmNlbCB1cGxvYWQnOwogIGNvbnN0IGNhbmNlbFByb21pc2UgPSBuZXcgUHJvbWlzZSgocmVzb2x2ZSkgPT4gewogICAgY2FuY2VsLm9uY2xpY2sgPSAoKSA9PiB7CiAgICAgIHJlc29sdmUobnVsbCk7CiAgICB9OwogIH0pOwoKICAvLyBXYWl0IGZvciB0aGUgdXNlciB0byBwaWNrIHRoZSBmaWxlcy4KICBjb25zdCBmaWxlcyA9IHlpZWxkIHsKICAgIHByb21pc2U6IFByb21pc2UucmFjZShbcGlja2VkUHJvbWlzZSwgY2FuY2VsUHJvbWlzZV0pLAogICAgcmVzcG9uc2U6IHsKICAgICAgYWN0aW9uOiAnc3RhcnRpbmcnLAogICAgfQogIH07CgogIGNhbmNlbC5yZW1vdmUoKTsKCiAgLy8gRGlzYWJsZSB0aGUgaW5wdXQgZWxlbWVudCBzaW5jZSBmdXJ0aGVyIHBpY2tzIGFyZSBub3QgYWxsb3dlZC4KICBpbnB1dEVsZW1lbnQuZGlzYWJsZWQgPSB0cnVlOwoKICBpZiAoIWZpbGVzKSB7CiAgICByZXR1cm4gewogICAgICByZXNwb25zZTogewogICAgICAgIGFjdGlvbjogJ2NvbXBsZXRlJywKICAgICAgfQogICAgfTsKICB9CgogIGZvciAoY29uc3QgZmlsZSBvZiBmaWxlcykgewogICAgY29uc3QgbGkgPSBkb2N1bWVudC5jcmVhdGVFbGVtZW50KCdsaScpOwogICAgbGkuYXBwZW5kKHNwYW4oZmlsZS5uYW1lLCB7Zm9udFdlaWdodDogJ2JvbGQnfSkpOwogICAgbGkuYXBwZW5kKHNwYW4oCiAgICAgICAgYCgke2ZpbGUudHlwZSB8fCAnbi9hJ30pIC0gJHtmaWxlLnNpemV9IGJ5dGVzLCBgICsKICAgICAgICBgbGFzdCBtb2RpZmllZDogJHsKICAgICAgICAgICAgZmlsZS5sYXN0TW9kaWZpZWREYXRlID8gZmlsZS5sYXN0TW9kaWZpZWREYXRlLnRvTG9jYWxlRGF0ZVN0cmluZygpIDoKICAgICAgICAgICAgICAgICAgICAgICAgICAgICAgICAgICAgJ24vYSd9IC0gYCkpOwogICAgY29uc3QgcGVyY2VudCA9IHNwYW4oJzAlIGRvbmUnKTsKICAgIGxpLmFwcGVuZENoaWxkKHBlcmNlbnQpOwoKICAgIG91dHB1dEVsZW1lbnQuYXBwZW5kQ2hpbGQobGkpOwoKICAgIGNvbnN0IGZpbGVEYXRhUHJvbWlzZSA9IG5ldyBQcm9taXNlKChyZXNvbHZlKSA9PiB7CiAgICAgIGNvbnN0IHJlYWRlciA9IG5ldyBGaWxlUmVhZGVyKCk7CiAgICAgIHJlYWRlci5vbmxvYWQgPSAoZSkgPT4gewogICAgICAgIHJlc29sdmUoZS50YXJnZXQucmVzdWx0KTsKICAgICAgfTsKICAgICAgcmVhZGVyLnJlYWRBc0FycmF5QnVmZmVyKGZpbGUpOwogICAgfSk7CiAgICAvLyBXYWl0IGZvciB0aGUgZGF0YSB0byBiZSByZWFkeS4KICAgIGxldCBmaWxlRGF0YSA9IHlpZWxkIHsKICAgICAgcHJvbWlzZTogZmlsZURhdGFQcm9taXNlLAogICAgICByZXNwb25zZTogewogICAgICAgIGFjdGlvbjogJ2NvbnRpbnVlJywKICAgICAgfQogICAgfTsKCiAgICAvLyBVc2UgYSBjaHVua2VkIHNlbmRpbmcgdG8gYXZvaWQgbWVzc2FnZSBzaXplIGxpbWl0cy4gU2VlIGIvNjIxMTU2NjAuCiAgICBsZXQgcG9zaXRpb24gPSAwOwogICAgd2hpbGUgKHBvc2l0aW9uIDwgZmlsZURhdGEuYnl0ZUxlbmd0aCkgewogICAgICBjb25zdCBsZW5ndGggPSBNYXRoLm1pbihmaWxlRGF0YS5ieXRlTGVuZ3RoIC0gcG9zaXRpb24sIE1BWF9QQVlMT0FEX1NJWkUpOwogICAgICBjb25zdCBjaHVuayA9IG5ldyBVaW50OEFycmF5KGZpbGVEYXRhLCBwb3NpdGlvbiwgbGVuZ3RoKTsKICAgICAgcG9zaXRpb24gKz0gbGVuZ3RoOwoKICAgICAgY29uc3QgYmFzZTY0ID0gYnRvYShTdHJpbmcuZnJvbUNoYXJDb2RlLmFwcGx5KG51bGwsIGNodW5rKSk7CiAgICAgIHlpZWxkIHsKICAgICAgICByZXNwb25zZTogewogICAgICAgICAgYWN0aW9uOiAnYXBwZW5kJywKICAgICAgICAgIGZpbGU6IGZpbGUubmFtZSwKICAgICAgICAgIGRhdGE6IGJhc2U2NCwKICAgICAgICB9LAogICAgICB9OwogICAgICBwZXJjZW50LnRleHRDb250ZW50ID0KICAgICAgICAgIGAke01hdGgucm91bmQoKHBvc2l0aW9uIC8gZmlsZURhdGEuYnl0ZUxlbmd0aCkgKiAxMDApfSUgZG9uZWA7CiAgICB9CiAgfQoKICAvLyBBbGwgZG9uZS4KICB5aWVsZCB7CiAgICByZXNwb25zZTogewogICAgICBhY3Rpb246ICdjb21wbGV0ZScsCiAgICB9CiAgfTsKfQoKc2NvcGUuZ29vZ2xlID0gc2NvcGUuZ29vZ2xlIHx8IHt9OwpzY29wZS5nb29nbGUuY29sYWIgPSBzY29wZS5nb29nbGUuY29sYWIgfHwge307CnNjb3BlLmdvb2dsZS5jb2xhYi5fZmlsZXMgPSB7CiAgX3VwbG9hZEZpbGVzLAogIF91cGxvYWRGaWxlc0NvbnRpbnVlLAp9Owp9KShzZWxmKTsK",
              "ok": true,
              "headers": [
                [
                  "content-type",
                  "application/javascript"
                ]
              ],
              "status": 200,
              "status_text": ""
            }
          },
          "base_uri": "https://localhost:8080/",
          "height": 73
        },
        "outputId": "33891369-67ca-4ff1-8d9a-131254e5434f"
      },
      "source": [
        "from google.colab import files\n",
        "uploaded = files.upload()"
      ],
      "execution_count": null,
      "outputs": [
        {
          "output_type": "display_data",
          "data": {
            "text/html": [
              "\n",
              "     <input type=\"file\" id=\"files-a56162b8-9e64-443a-8fac-8466b7b5d2b2\" name=\"files[]\" multiple disabled\n",
              "        style=\"border:none\" />\n",
              "     <output id=\"result-a56162b8-9e64-443a-8fac-8466b7b5d2b2\">\n",
              "      Upload widget is only available when the cell has been executed in the\n",
              "      current browser session. Please rerun this cell to enable.\n",
              "      </output>\n",
              "      <script src=\"/nbextensions/google.colab/files.js\"></script> "
            ],
            "text/plain": [
              "<IPython.core.display.HTML object>"
            ]
          },
          "metadata": {
            "tags": []
          }
        },
        {
          "output_type": "stream",
          "text": [
            "Saving 388_793053_bundle_archive.zip to 388_793053_bundle_archive (1).zip\n"
          ],
          "name": "stdout"
        }
      ]
    },
    {
      "cell_type": "code",
      "metadata": {
        "id": "MbGYadMHxnsL"
      },
      "source": [
        "import pandas as pd"
      ],
      "execution_count": null,
      "outputs": []
    },
    {
      "cell_type": "code",
      "metadata": {
        "id": "plwaVV0xw28B"
      },
      "source": [
        "df1 = pd.read_csv('https://raw.githubusercontent.com/helderc/NUFORC-Data-Scraping/master/ufon_raw_2020-01-18.csv',nrows=38320)"
      ],
      "execution_count": null,
      "outputs": []
    },
    {
      "cell_type": "code",
      "metadata": {
        "id": "zwUjk49XCyxJ",
        "colab": {
          "base_uri": "https://localhost:8080/",
          "height": 54
        },
        "outputId": "d99d961c-4035-449c-a23f-252ea3e1810e"
      },
      "source": [
        "!unzip 388_793053_bundle_archive (1).zip"
      ],
      "execution_count": null,
      "outputs": [
        {
          "output_type": "stream",
          "text": [
            "/bin/bash: -c: line 0: syntax error near unexpected token `('\n",
            "/bin/bash: -c: line 0: `unzip 388_793053_bundle_archive (1).zip'\n"
          ],
          "name": "stdout"
        }
      ]
    },
    {
      "cell_type": "code",
      "metadata": {
        "id": "lq6uAhhyDHVL",
        "colab": {
          "base_uri": "https://localhost:8080/",
          "height": 90
        },
        "outputId": "32373760-c407-4937-c2fb-0f52a6e25db2"
      },
      "source": [
        "df = pd.read_csv('scrubbed.csv')\n",
        "#df1 = pd.read_csv('complete.csv')"
      ],
      "execution_count": null,
      "outputs": [
        {
          "output_type": "stream",
          "text": [
            "/usr/local/lib/python3.6/dist-packages/IPython/core/interactiveshell.py:2718: DtypeWarning:\n",
            "\n",
            "Columns (5,9) have mixed types.Specify dtype option on import or set low_memory=False.\n",
            "\n"
          ],
          "name": "stderr"
        }
      ]
    },
    {
      "cell_type": "code",
      "metadata": {
        "id": "ernOjvydrQ-R"
      },
      "source": [
        "#from google.colab import drive\n",
        "#drive.mount('/content/drive')"
      ],
      "execution_count": null,
      "outputs": []
    },
    {
      "cell_type": "code",
      "metadata": {
        "id": "OHNSb1zVmJ7C"
      },
      "source": [
        "### removes all rows with countrys in them that are not america ###"
      ],
      "execution_count": null,
      "outputs": []
    },
    {
      "cell_type": "code",
      "metadata": {
        "id": "Jw80ZWfMW-R9"
      },
      "source": [
        "df = df[~df['country'].astype(str).str.contains('gb')]\n",
        "df = df[~df['country'].astype(str).str.contains('ca')]\n",
        "df = df[~df['country'].astype(str).str.contains('au')]\n",
        "df = df[~df['country'].astype(str).str.contains('de')]"
      ],
      "execution_count": null,
      "outputs": []
    },
    {
      "cell_type": "code",
      "metadata": {
        "id": "9JQmC-_nmVRW"
      },
      "source": [
        "### drop unwanted columns and then make some time columns ###"
      ],
      "execution_count": null,
      "outputs": []
    },
    {
      "cell_type": "code",
      "metadata": {
        "id": "nY-8Az3PNg-7"
      },
      "source": [
        "df = df.drop(columns=['country','comments'])"
      ],
      "execution_count": null,
      "outputs": []
    },
    {
      "cell_type": "code",
      "metadata": {
        "id": "xEox8dxD8A6L"
      },
      "source": [
        "df = df.drop(columns=['duration (seconds)'])"
      ],
      "execution_count": null,
      "outputs": []
    },
    {
      "cell_type": "code",
      "metadata": {
        "id": "Mld_YmsAFGIE"
      },
      "source": [
        "from datetime import timedelta\n",
        "import pandas as pd\n",
        "df['datetime'] = df['datetime'].str.replace('24:00', '0:00')"
      ],
      "execution_count": null,
      "outputs": []
    },
    {
      "cell_type": "code",
      "metadata": {
        "id": "NXkia7veKQlh"
      },
      "source": [
        ""
      ],
      "execution_count": null,
      "outputs": []
    },
    {
      "cell_type": "code",
      "metadata": {
        "id": "aBkhog6bKQi9"
      },
      "source": [
        ""
      ],
      "execution_count": null,
      "outputs": []
    },
    {
      "cell_type": "code",
      "metadata": {
        "id": "5pfCKvrfKQei"
      },
      "source": [
        ""
      ],
      "execution_count": null,
      "outputs": []
    },
    {
      "cell_type": "code",
      "metadata": {
        "id": "_ZfWCzWNKQbI"
      },
      "source": [
        ""
      ],
      "execution_count": null,
      "outputs": []
    },
    {
      "cell_type": "code",
      "metadata": {
        "id": "7fVtLr5IKQYK"
      },
      "source": [
        ""
      ],
      "execution_count": null,
      "outputs": []
    },
    {
      "cell_type": "code",
      "metadata": {
        "id": "yu51pBWLKQVI"
      },
      "source": [
        ""
      ],
      "execution_count": null,
      "outputs": []
    },
    {
      "cell_type": "code",
      "metadata": {
        "id": "MQJPMMnxKQSR"
      },
      "source": [
        ""
      ],
      "execution_count": null,
      "outputs": []
    },
    {
      "cell_type": "code",
      "metadata": {
        "id": "1NMxwkRMKQN0"
      },
      "source": [
        ""
      ],
      "execution_count": null,
      "outputs": []
    },
    {
      "cell_type": "code",
      "metadata": {
        "id": "RZN5l92EKQIa"
      },
      "source": [
        ""
      ],
      "execution_count": null,
      "outputs": []
    },
    {
      "cell_type": "code",
      "metadata": {
        "id": "_8QuNY5mFmEN"
      },
      "source": [
        "df['datetime'] = pd.to_datetime(df['datetime'], infer_datetime_format=True)"
      ],
      "execution_count": null,
      "outputs": []
    },
    {
      "cell_type": "code",
      "metadata": {
        "id": "Dtctf4MqFmC8"
      },
      "source": [
        "df['month'] = df['datetime'].dt.month\n",
        "df['year'] = df['datetime'].dt.year\n",
        "df['hour'] = df['datetime'].dt.hour"
      ],
      "execution_count": null,
      "outputs": []
    },
    {
      "cell_type": "code",
      "metadata": {
        "id": "3n13yJhfnlAh"
      },
      "source": [
        "df1['date'] = pd.to_datetime(df1['Date / Time'], errors='coerce')"
      ],
      "execution_count": null,
      "outputs": []
    },
    {
      "cell_type": "code",
      "metadata": {
        "id": "j4hq8u-nmgbD"
      },
      "source": [
        "### Time columns for the other dataframe ###"
      ],
      "execution_count": null,
      "outputs": []
    },
    {
      "cell_type": "code",
      "metadata": {
        "id": "Mtz2ACs_oDWi",
        "colab": {
          "base_uri": "https://localhost:8080/",
          "height": 113
        },
        "outputId": "cfe1bc02-4e4b-4ae2-bfe1-6db0a02a4f4b"
      },
      "source": [
        "df1.tail(1)"
      ],
      "execution_count": null,
      "outputs": [
        {
          "output_type": "execute_result",
          "data": {
            "text/html": [
              "<div>\n",
              "<style scoped>\n",
              "    .dataframe tbody tr th:only-of-type {\n",
              "        vertical-align: middle;\n",
              "    }\n",
              "\n",
              "    .dataframe tbody tr th {\n",
              "        vertical-align: top;\n",
              "    }\n",
              "\n",
              "    .dataframe thead th {\n",
              "        text-align: right;\n",
              "    }\n",
              "</style>\n",
              "<table border=\"1\" class=\"dataframe\">\n",
              "  <thead>\n",
              "    <tr style=\"text-align: right;\">\n",
              "      <th></th>\n",
              "      <th>Date / Time</th>\n",
              "      <th>City</th>\n",
              "      <th>State</th>\n",
              "      <th>Shape</th>\n",
              "      <th>Duration</th>\n",
              "      <th>Summary</th>\n",
              "      <th>Posted</th>\n",
              "      <th>date</th>\n",
              "    </tr>\n",
              "  </thead>\n",
              "  <tbody>\n",
              "    <tr>\n",
              "      <th>38319</th>\n",
              "      <td>9/10/13 19:35</td>\n",
              "      <td>Beavercreek</td>\n",
              "      <td>OH</td>\n",
              "      <td>Circle</td>\n",
              "      <td>15</td>\n",
              "      <td>A round object with very bright red green and ...</td>\n",
              "      <td>9/30/13</td>\n",
              "      <td>2013-09-10 19:35:00</td>\n",
              "    </tr>\n",
              "  </tbody>\n",
              "</table>\n",
              "</div>"
            ],
            "text/plain": [
              "         Date / Time         City  ...   Posted                date\n",
              "38319  9/10/13 19:35  Beavercreek  ...  9/30/13 2013-09-10 19:35:00\n",
              "\n",
              "[1 rows x 8 columns]"
            ]
          },
          "metadata": {
            "tags": []
          },
          "execution_count": 59
        }
      ]
    },
    {
      "cell_type": "code",
      "metadata": {
        "id": "dHTrSzO7Wg0A"
      },
      "source": [
        "df1['month'] = df1['date'].dt.month\n",
        "df1['year'] = df1['date'].dt.year\n",
        "df1['hour'] = df1['date'].dt.hour"
      ],
      "execution_count": null,
      "outputs": []
    },
    {
      "cell_type": "code",
      "metadata": {
        "id": "WmDuLyiwZLsc",
        "colab": {
          "base_uri": "https://localhost:8080/",
          "height": 235
        },
        "outputId": "aeaa944c-ee16-4347-900c-cebcccabf8a3"
      },
      "source": [
        "df['year'].value_counts()"
      ],
      "execution_count": null,
      "outputs": [
        {
          "output_type": "execute_result",
          "data": {
            "text/plain": [
              "2012    7008\n",
              "2013    6703\n",
              "2011    4913\n",
              "2008    4529\n",
              "2009    4185\n",
              "        ... \n",
              "1934       1\n",
              "1906       1\n",
              "1941       1\n",
              "1916       1\n",
              "1920       1\n",
              "Name: year, Length: 87, dtype: int64"
            ]
          },
          "metadata": {
            "tags": []
          },
          "execution_count": 61
        }
      ]
    },
    {
      "cell_type": "code",
      "metadata": {
        "id": "JxoqwZa6ZEhB",
        "colab": {
          "base_uri": "https://localhost:8080/",
          "height": 163
        },
        "outputId": "179a1a49-5148-49ff-bb92-c9630b9290b3"
      },
      "source": [
        "df1['year'].value_counts()"
      ],
      "execution_count": null,
      "outputs": [
        {
          "output_type": "execute_result",
          "data": {
            "text/plain": [
              "2014.0    8683\n",
              "2015.0    6898\n",
              "2019.0    5752\n",
              "2016.0    5671\n",
              "2017.0    5007\n",
              "2018.0    3277\n",
              "2013.0    2957\n",
              "Name: year, dtype: int64"
            ]
          },
          "metadata": {
            "tags": []
          },
          "execution_count": 83
        }
      ]
    },
    {
      "cell_type": "code",
      "metadata": {
        "id": "A65NGqhqmmUM"
      },
      "source": [
        "### droped, renamed, and rearanged some columns"
      ],
      "execution_count": null,
      "outputs": []
    },
    {
      "cell_type": "code",
      "metadata": {
        "id": "2T8VM08EnlJg"
      },
      "source": [
        "df1.rename({'date': 'datetime'}, axis=1, inplace=True)"
      ],
      "execution_count": null,
      "outputs": []
    },
    {
      "cell_type": "code",
      "metadata": {
        "id": "35W_OpHVnlTm",
        "colab": {
          "base_uri": "https://localhost:8080/",
          "height": 753
        },
        "outputId": "61776025-379f-4706-829b-e12f6c77e7fe"
      },
      "source": [
        "df1.drop(['Date / Time'], axis=1)"
      ],
      "execution_count": null,
      "outputs": [
        {
          "output_type": "execute_result",
          "data": {
            "text/html": [
              "<div>\n",
              "<style scoped>\n",
              "    .dataframe tbody tr th:only-of-type {\n",
              "        vertical-align: middle;\n",
              "    }\n",
              "\n",
              "    .dataframe tbody tr th {\n",
              "        vertical-align: top;\n",
              "    }\n",
              "\n",
              "    .dataframe thead th {\n",
              "        text-align: right;\n",
              "    }\n",
              "</style>\n",
              "<table border=\"1\" class=\"dataframe\">\n",
              "  <thead>\n",
              "    <tr style=\"text-align: right;\">\n",
              "      <th></th>\n",
              "      <th>City</th>\n",
              "      <th>State</th>\n",
              "      <th>Shape</th>\n",
              "      <th>Duration</th>\n",
              "      <th>Summary</th>\n",
              "      <th>Posted</th>\n",
              "      <th>datetime</th>\n",
              "      <th>month</th>\n",
              "      <th>year</th>\n",
              "      <th>hour</th>\n",
              "    </tr>\n",
              "  </thead>\n",
              "  <tbody>\n",
              "    <tr>\n",
              "      <th>0</th>\n",
              "      <td>Clarkston</td>\n",
              "      <td>MI</td>\n",
              "      <td>Circle</td>\n",
              "      <td>5 minutes</td>\n",
              "      <td>7 white lights seen to the W side of the state...</td>\n",
              "      <td>12/22/19</td>\n",
              "      <td>2019-12-22 23:00:00</td>\n",
              "      <td>12.0</td>\n",
              "      <td>2019.0</td>\n",
              "      <td>23.0</td>\n",
              "    </tr>\n",
              "    <tr>\n",
              "      <th>1</th>\n",
              "      <td>Kennett Square</td>\n",
              "      <td>PA</td>\n",
              "      <td>Triangle</td>\n",
              "      <td>3min</td>\n",
              "      <td>Witness to triangle style craft. View was from...</td>\n",
              "      <td>12/22/19</td>\n",
              "      <td>2019-12-22 22:15:00</td>\n",
              "      <td>12.0</td>\n",
              "      <td>2019.0</td>\n",
              "      <td>22.0</td>\n",
              "    </tr>\n",
              "    <tr>\n",
              "      <th>2</th>\n",
              "      <td>Bethlehem</td>\n",
              "      <td>PA</td>\n",
              "      <td>Unknown</td>\n",
              "      <td>Hours</td>\n",
              "      <td>Hello, My wife and I been seeing these objects...</td>\n",
              "      <td>12/22/19</td>\n",
              "      <td>2019-12-22 21:00:00</td>\n",
              "      <td>12.0</td>\n",
              "      <td>2019.0</td>\n",
              "      <td>21.0</td>\n",
              "    </tr>\n",
              "    <tr>\n",
              "      <th>3</th>\n",
              "      <td>Fishkill</td>\n",
              "      <td>NY</td>\n",
              "      <td>Disk</td>\n",
              "      <td>1 minute</td>\n",
              "      <td>Disc Shape Hovering,  ((Starlink satellites?))</td>\n",
              "      <td>12/22/19</td>\n",
              "      <td>2019-12-22 20:35:00</td>\n",
              "      <td>12.0</td>\n",
              "      <td>2019.0</td>\n",
              "      <td>20.0</td>\n",
              "    </tr>\n",
              "    <tr>\n",
              "      <th>4</th>\n",
              "      <td>Strathroy (Canada)</td>\n",
              "      <td>ON</td>\n",
              "      <td>Light</td>\n",
              "      <td>15 minutes</td>\n",
              "      <td>Chain of white lights following each other upw...</td>\n",
              "      <td>12/22/19</td>\n",
              "      <td>2019-12-22 20:00:00</td>\n",
              "      <td>12.0</td>\n",
              "      <td>2019.0</td>\n",
              "      <td>20.0</td>\n",
              "    </tr>\n",
              "    <tr>\n",
              "      <th>...</th>\n",
              "      <td>...</td>\n",
              "      <td>...</td>\n",
              "      <td>...</td>\n",
              "      <td>...</td>\n",
              "      <td>...</td>\n",
              "      <td>...</td>\n",
              "      <td>...</td>\n",
              "      <td>...</td>\n",
              "      <td>...</td>\n",
              "      <td>...</td>\n",
              "    </tr>\n",
              "    <tr>\n",
              "      <th>38315</th>\n",
              "      <td>Eau Claire</td>\n",
              "      <td>WI</td>\n",
              "      <td>Unknown</td>\n",
              "      <td>30 minutes</td>\n",
              "      <td>Orange lights appear over Eau Claire, WI on Se...</td>\n",
              "      <td>9/30/13</td>\n",
              "      <td>2013-09-10 22:15:00</td>\n",
              "      <td>9.0</td>\n",
              "      <td>2013.0</td>\n",
              "      <td>22.0</td>\n",
              "    </tr>\n",
              "    <tr>\n",
              "      <th>38316</th>\n",
              "      <td>Buxton</td>\n",
              "      <td>NC</td>\n",
              "      <td>Rectangle</td>\n",
              "      <td>1:00</td>\n",
              "      <td>Bright orange rectangle in three connected equ...</td>\n",
              "      <td>9/30/13</td>\n",
              "      <td>2013-09-10 22:00:00</td>\n",
              "      <td>9.0</td>\n",
              "      <td>2013.0</td>\n",
              "      <td>22.0</td>\n",
              "    </tr>\n",
              "    <tr>\n",
              "      <th>38317</th>\n",
              "      <td>Pine Mountain Club</td>\n",
              "      <td>CA</td>\n",
              "      <td>Unknown</td>\n",
              "      <td>30 seconds</td>\n",
              "      <td>Circle of light in the night sky that shrank d...</td>\n",
              "      <td>9/30/13</td>\n",
              "      <td>2013-09-10 20:00:00</td>\n",
              "      <td>9.0</td>\n",
              "      <td>2013.0</td>\n",
              "      <td>20.0</td>\n",
              "    </tr>\n",
              "    <tr>\n",
              "      <th>38318</th>\n",
              "      <td>St. Helena</td>\n",
              "      <td>CA</td>\n",
              "      <td>Flash</td>\n",
              "      <td>1 second</td>\n",
              "      <td>St Helena CA sighting (flash of light across t...</td>\n",
              "      <td>11/20/13</td>\n",
              "      <td>2013-09-10 20:00:00</td>\n",
              "      <td>9.0</td>\n",
              "      <td>2013.0</td>\n",
              "      <td>20.0</td>\n",
              "    </tr>\n",
              "    <tr>\n",
              "      <th>38319</th>\n",
              "      <td>Beavercreek</td>\n",
              "      <td>OH</td>\n",
              "      <td>Circle</td>\n",
              "      <td>15</td>\n",
              "      <td>A round object with very bright red green and ...</td>\n",
              "      <td>9/30/13</td>\n",
              "      <td>2013-09-10 19:35:00</td>\n",
              "      <td>9.0</td>\n",
              "      <td>2013.0</td>\n",
              "      <td>19.0</td>\n",
              "    </tr>\n",
              "  </tbody>\n",
              "</table>\n",
              "<p>38320 rows × 10 columns</p>\n",
              "</div>"
            ],
            "text/plain": [
              "                     City State      Shape  ... month    year  hour\n",
              "0               Clarkston    MI     Circle  ...  12.0  2019.0  23.0\n",
              "1          Kennett Square    PA   Triangle  ...  12.0  2019.0  22.0\n",
              "2               Bethlehem    PA    Unknown  ...  12.0  2019.0  21.0\n",
              "3                Fishkill    NY       Disk  ...  12.0  2019.0  20.0\n",
              "4      Strathroy (Canada)    ON      Light  ...  12.0  2019.0  20.0\n",
              "...                   ...   ...        ...  ...   ...     ...   ...\n",
              "38315          Eau Claire    WI    Unknown  ...   9.0  2013.0  22.0\n",
              "38316              Buxton    NC  Rectangle  ...   9.0  2013.0  22.0\n",
              "38317  Pine Mountain Club    CA    Unknown  ...   9.0  2013.0  20.0\n",
              "38318          St. Helena    CA      Flash  ...   9.0  2013.0  20.0\n",
              "38319         Beavercreek    OH     Circle  ...   9.0  2013.0  19.0\n",
              "\n",
              "[38320 rows x 10 columns]"
            ]
          },
          "metadata": {
            "tags": []
          },
          "execution_count": 63
        }
      ]
    },
    {
      "cell_type": "code",
      "metadata": {
        "id": "dLhM72uVsILA"
      },
      "source": [
        "df1 = df1.drop(columns=['Date / Time','Summary'])"
      ],
      "execution_count": null,
      "outputs": []
    },
    {
      "cell_type": "code",
      "metadata": {
        "id": "N4mSJ4MZtarG"
      },
      "source": [
        "df1['datetime'] = df1['datetime'].dt.date"
      ],
      "execution_count": null,
      "outputs": []
    },
    {
      "cell_type": "code",
      "metadata": {
        "id": "QIob1zCmvFIE"
      },
      "source": [
        "df['datetime'] = df['datetime'].dt.date"
      ],
      "execution_count": null,
      "outputs": []
    },
    {
      "cell_type": "code",
      "metadata": {
        "id": "2YjHjNSy7JoJ"
      },
      "source": [
        "df = df.rename(columns={'city': 'City', 'shape': 'Shape', 'duration (hours/min)':'Duration'})"
      ],
      "execution_count": null,
      "outputs": []
    },
    {
      "cell_type": "code",
      "metadata": {
        "id": "Q6ZjoRzu7Jt9"
      },
      "source": [
        "df = df.rename(columns={'state': 'State', 'date posted': 'Date_Posted'})"
      ],
      "execution_count": null,
      "outputs": []
    },
    {
      "cell_type": "code",
      "metadata": {
        "id": "Ac7j4Ytu9hqQ"
      },
      "source": [
        "df = df.rename(columns={'Date_Posted':'Posted'})"
      ],
      "execution_count": null,
      "outputs": []
    },
    {
      "cell_type": "code",
      "metadata": {
        "id": "Kj_rDNXP7J0D"
      },
      "source": [
        "df1 = df1.reindex(columns=['datetime','City','State','Shape','Duration','Posted','month','year','hour'])"
      ],
      "execution_count": null,
      "outputs": []
    },
    {
      "cell_type": "code",
      "metadata": {
        "id": "U6t_ZLsMmwZv"
      },
      "source": [
        "### uppercased some stuff  ####\n",
        "###############################"
      ],
      "execution_count": null,
      "outputs": []
    },
    {
      "cell_type": "code",
      "metadata": {
        "id": "_92LrBu-8wAL"
      },
      "source": [
        "df['State'] = df['State'].str.upper()"
      ],
      "execution_count": null,
      "outputs": []
    },
    {
      "cell_type": "code",
      "metadata": {
        "id": "XuUdERr5AO-X"
      },
      "source": [
        "df['City'] = df['City'].str.title()"
      ],
      "execution_count": null,
      "outputs": []
    },
    {
      "cell_type": "code",
      "metadata": {
        "id": "xLzz3JNGm0sc"
      },
      "source": [
        "#made some subsets in case i wanted them"
      ],
      "execution_count": null,
      "outputs": []
    },
    {
      "cell_type": "code",
      "metadata": {
        "id": "zmXiYoo9EDTS"
      },
      "source": [
        "vc = pd.concat([df1, df], axis=0)"
      ],
      "execution_count": null,
      "outputs": []
    },
    {
      "cell_type": "code",
      "metadata": {
        "id": "Wl1NAC3NFNuw"
      },
      "source": [
        "misc = vc.loc[:, vc.columns.intersection(['Shape','Duration'])]"
      ],
      "execution_count": null,
      "outputs": []
    },
    {
      "cell_type": "code",
      "metadata": {
        "id": "TK38xRudFpds"
      },
      "source": [
        "time = vc.loc[:, vc.columns.intersection(['datetime','posted','month','year','hour','Duration'])]"
      ],
      "execution_count": null,
      "outputs": []
    },
    {
      "cell_type": "code",
      "metadata": {
        "id": "LmwnSTYziHht"
      },
      "source": [
        "df = df[[c for c in df if c not in ['latitude', 'longitude ']] \n",
        "       + ['latitude', 'longitude ']]"
      ],
      "execution_count": null,
      "outputs": []
    },
    {
      "cell_type": "code",
      "metadata": {
        "id": "sI5BqnDKTFtr"
      },
      "source": [
        "df = df.reindex(index=df.index[::-1])"
      ],
      "execution_count": null,
      "outputs": []
    },
    {
      "cell_type": "code",
      "metadata": {
        "id": "vO7UMtb6iPZM",
        "colab": {
          "base_uri": "https://localhost:8080/",
          "height": 72
        },
        "outputId": "f5b41837-0493-4ebf-a64a-498011272918"
      },
      "source": [
        "df.columns"
      ],
      "execution_count": null,
      "outputs": [
        {
          "output_type": "execute_result",
          "data": {
            "text/plain": [
              "Index(['datetime', 'City', 'State', 'Shape', 'Duration', 'Posted', 'month',\n",
              "       'year', 'hour', 'latitude', 'longitude '],\n",
              "      dtype='object')"
            ]
          },
          "metadata": {
            "tags": []
          },
          "execution_count": 119
        }
      ]
    },
    {
      "cell_type": "code",
      "metadata": {
        "id": "z75ZYT8Sm870"
      },
      "source": [
        "### concated my data frame once everything was perfect ###"
      ],
      "execution_count": null,
      "outputs": []
    },
    {
      "cell_type": "code",
      "metadata": {
        "id": "KeeL2N9ggoEX"
      },
      "source": [
        "dfi = pd.concat([df1, df], axis=0)"
      ],
      "execution_count": null,
      "outputs": []
    },
    {
      "cell_type": "code",
      "metadata": {
        "id": "Z83qlK3LWMCP",
        "colab": {
          "base_uri": "https://localhost:8080/",
          "height": 285
        },
        "outputId": "bd92f7c7-5e95-41c8-fe55-f57bac234393"
      },
      "source": [
        "dfi.tail()"
      ],
      "execution_count": null,
      "outputs": [
        {
          "output_type": "execute_result",
          "data": {
            "text/html": [
              "<div>\n",
              "<style scoped>\n",
              "    .dataframe tbody tr th:only-of-type {\n",
              "        vertical-align: middle;\n",
              "    }\n",
              "\n",
              "    .dataframe tbody tr th {\n",
              "        vertical-align: top;\n",
              "    }\n",
              "\n",
              "    .dataframe thead th {\n",
              "        text-align: right;\n",
              "    }\n",
              "</style>\n",
              "<table border=\"1\" class=\"dataframe\">\n",
              "  <thead>\n",
              "    <tr style=\"text-align: right;\">\n",
              "      <th></th>\n",
              "      <th>datetime</th>\n",
              "      <th>City</th>\n",
              "      <th>State</th>\n",
              "      <th>Shape</th>\n",
              "      <th>Duration</th>\n",
              "      <th>Posted</th>\n",
              "      <th>month</th>\n",
              "      <th>year</th>\n",
              "      <th>hour</th>\n",
              "      <th>latitude</th>\n",
              "      <th>longitude</th>\n",
              "    </tr>\n",
              "  </thead>\n",
              "  <tbody>\n",
              "    <tr>\n",
              "      <th>5</th>\n",
              "      <td>1961-10-10</td>\n",
              "      <td>Bristol</td>\n",
              "      <td>TN</td>\n",
              "      <td>sphere</td>\n",
              "      <td>5 minutes</td>\n",
              "      <td>4/27/2007</td>\n",
              "      <td>10.0</td>\n",
              "      <td>1961.0</td>\n",
              "      <td>19.0</td>\n",
              "      <td>36.5950000</td>\n",
              "      <td>-82.188889</td>\n",
              "    </tr>\n",
              "    <tr>\n",
              "      <th>4</th>\n",
              "      <td>1960-10-10</td>\n",
              "      <td>Kaneohe</td>\n",
              "      <td>HI</td>\n",
              "      <td>light</td>\n",
              "      <td>15 minutes</td>\n",
              "      <td>1/22/2004</td>\n",
              "      <td>10.0</td>\n",
              "      <td>1960.0</td>\n",
              "      <td>20.0</td>\n",
              "      <td>21.4180556</td>\n",
              "      <td>-157.803611</td>\n",
              "    </tr>\n",
              "    <tr>\n",
              "      <th>3</th>\n",
              "      <td>1956-10-10</td>\n",
              "      <td>Edna</td>\n",
              "      <td>TX</td>\n",
              "      <td>circle</td>\n",
              "      <td>1/2 hour</td>\n",
              "      <td>1/17/2004</td>\n",
              "      <td>10.0</td>\n",
              "      <td>1956.0</td>\n",
              "      <td>21.0</td>\n",
              "      <td>28.9783333</td>\n",
              "      <td>-96.645833</td>\n",
              "    </tr>\n",
              "    <tr>\n",
              "      <th>1</th>\n",
              "      <td>1949-10-10</td>\n",
              "      <td>Lackland Afb</td>\n",
              "      <td>TX</td>\n",
              "      <td>light</td>\n",
              "      <td>1-2 hrs</td>\n",
              "      <td>12/16/2005</td>\n",
              "      <td>10.0</td>\n",
              "      <td>1949.0</td>\n",
              "      <td>21.0</td>\n",
              "      <td>29.38421</td>\n",
              "      <td>-98.581082</td>\n",
              "    </tr>\n",
              "    <tr>\n",
              "      <th>0</th>\n",
              "      <td>1949-10-10</td>\n",
              "      <td>San Marcos</td>\n",
              "      <td>TX</td>\n",
              "      <td>cylinder</td>\n",
              "      <td>45 minutes</td>\n",
              "      <td>4/27/2004</td>\n",
              "      <td>10.0</td>\n",
              "      <td>1949.0</td>\n",
              "      <td>20.0</td>\n",
              "      <td>29.8830556</td>\n",
              "      <td>-97.941111</td>\n",
              "    </tr>\n",
              "  </tbody>\n",
              "</table>\n",
              "</div>"
            ],
            "text/plain": [
              "     datetime          City State  ...  hour    latitude  longitude \n",
              "5  1961-10-10       Bristol    TN  ...  19.0  36.5950000  -82.188889\n",
              "4  1960-10-10       Kaneohe    HI  ...  20.0  21.4180556 -157.803611\n",
              "3  1956-10-10          Edna    TX  ...  21.0  28.9783333  -96.645833\n",
              "1  1949-10-10  Lackland Afb    TX  ...  21.0    29.38421  -98.581082\n",
              "0  1949-10-10    San Marcos    TX  ...  20.0  29.8830556  -97.941111\n",
              "\n",
              "[5 rows x 11 columns]"
            ]
          },
          "metadata": {
            "tags": []
          },
          "execution_count": 157
        }
      ]
    },
    {
      "cell_type": "code",
      "metadata": {
        "id": "CevoQ1fUhzSy"
      },
      "source": [
        "### value count snippet ###"
      ],
      "execution_count": null,
      "outputs": []
    },
    {
      "cell_type": "code",
      "metadata": {
        "id": "stEzoyG9XciE"
      },
      "source": [
        "o = dfi[['City','State']]"
      ],
      "execution_count": null,
      "outputs": []
    },
    {
      "cell_type": "code",
      "metadata": {
        "id": "kk0N3szNYjOe"
      },
      "source": [
        "k = o[o[\"State\"] == 'PA']\n",
        "\n"
      ],
      "execution_count": null,
      "outputs": []
    },
    {
      "cell_type": "code",
      "metadata": {
        "id": "Nl3Mpqd_ZiOU",
        "colab": {
          "base_uri": "https://localhost:8080/",
          "height": 35
        },
        "outputId": "758e9da9-1d34-4e91-fa78-f80e2c26e17d"
      },
      "source": [
        "p = o[o['State'] == 'AZ']\n",
        "p.shape"
      ],
      "execution_count": null,
      "outputs": [
        {
          "output_type": "execute_result",
          "data": {
            "text/plain": [
              "(4117, 2)"
            ]
          },
          "metadata": {
            "tags": []
          },
          "execution_count": 81
        }
      ]
    },
    {
      "cell_type": "code",
      "metadata": {
        "id": "a8afCWLSZ6h6"
      },
      "source": [
        "kk = k['City']"
      ],
      "execution_count": null,
      "outputs": []
    },
    {
      "cell_type": "code",
      "metadata": {
        "id": "utcXGG38Z7GI"
      },
      "source": [
        "pp = p['City']"
      ],
      "execution_count": null,
      "outputs": []
    },
    {
      "cell_type": "code",
      "metadata": {
        "id": "C0D3IU_UabQl"
      },
      "source": [
        "kjk = kk.value_counts().rename_axis('City').reset_index(name='Total')"
      ],
      "execution_count": null,
      "outputs": []
    },
    {
      "cell_type": "code",
      "metadata": {
        "id": "BLjR6_HTa1yZ"
      },
      "source": [
        "ppo = pp.value_counts().rename_axis('Year').reset_index(name='Total')"
      ],
      "execution_count": null,
      "outputs": []
    },
    {
      "cell_type": "code",
      "metadata": {
        "id": "n_3eSbyybEOv",
        "colab": {
          "base_uri": "https://localhost:8080/",
          "height": 198
        },
        "outputId": "9cd6603c-c226-4216-9414-552aaf2fe544"
      },
      "source": [
        "ppo.head(5)"
      ],
      "execution_count": null,
      "outputs": [
        {
          "output_type": "execute_result",
          "data": {
            "text/html": [
              "<div>\n",
              "<style scoped>\n",
              "    .dataframe tbody tr th:only-of-type {\n",
              "        vertical-align: middle;\n",
              "    }\n",
              "\n",
              "    .dataframe tbody tr th {\n",
              "        vertical-align: top;\n",
              "    }\n",
              "\n",
              "    .dataframe thead th {\n",
              "        text-align: right;\n",
              "    }\n",
              "</style>\n",
              "<table border=\"1\" class=\"dataframe\">\n",
              "  <thead>\n",
              "    <tr style=\"text-align: right;\">\n",
              "      <th></th>\n",
              "      <th>Year</th>\n",
              "      <th>Total</th>\n",
              "    </tr>\n",
              "  </thead>\n",
              "  <tbody>\n",
              "    <tr>\n",
              "      <th>0</th>\n",
              "      <td>Phoenix</td>\n",
              "      <td>651</td>\n",
              "    </tr>\n",
              "    <tr>\n",
              "      <th>1</th>\n",
              "      <td>Tucson</td>\n",
              "      <td>378</td>\n",
              "    </tr>\n",
              "    <tr>\n",
              "      <th>2</th>\n",
              "      <td>Mesa</td>\n",
              "      <td>222</td>\n",
              "    </tr>\n",
              "    <tr>\n",
              "      <th>3</th>\n",
              "      <td>Scottsdale</td>\n",
              "      <td>161</td>\n",
              "    </tr>\n",
              "    <tr>\n",
              "      <th>4</th>\n",
              "      <td>Gilbert</td>\n",
              "      <td>132</td>\n",
              "    </tr>\n",
              "  </tbody>\n",
              "</table>\n",
              "</div>"
            ],
            "text/plain": [
              "         Year  Total\n",
              "0     Phoenix    651\n",
              "1      Tucson    378\n",
              "2        Mesa    222\n",
              "3  Scottsdale    161\n",
              "4     Gilbert    132"
            ]
          },
          "metadata": {
            "tags": []
          },
          "execution_count": 86
        }
      ]
    },
    {
      "cell_type": "code",
      "metadata": {
        "id": "y2ED7_YcbEEw",
        "colab": {
          "base_uri": "https://localhost:8080/",
          "height": 198
        },
        "outputId": "0ec19a7e-006a-4fb5-c771-c045b222160e"
      },
      "source": [
        "kjk.head(5)"
      ],
      "execution_count": null,
      "outputs": [
        {
          "output_type": "execute_result",
          "data": {
            "text/html": [
              "<div>\n",
              "<style scoped>\n",
              "    .dataframe tbody tr th:only-of-type {\n",
              "        vertical-align: middle;\n",
              "    }\n",
              "\n",
              "    .dataframe tbody tr th {\n",
              "        vertical-align: top;\n",
              "    }\n",
              "\n",
              "    .dataframe thead th {\n",
              "        text-align: right;\n",
              "    }\n",
              "</style>\n",
              "<table border=\"1\" class=\"dataframe\">\n",
              "  <thead>\n",
              "    <tr style=\"text-align: right;\">\n",
              "      <th></th>\n",
              "      <th>City</th>\n",
              "      <th>Total</th>\n",
              "    </tr>\n",
              "  </thead>\n",
              "  <tbody>\n",
              "    <tr>\n",
              "      <th>0</th>\n",
              "      <td>Philadelphia</td>\n",
              "      <td>183</td>\n",
              "    </tr>\n",
              "    <tr>\n",
              "      <th>1</th>\n",
              "      <td>Pittsburgh</td>\n",
              "      <td>173</td>\n",
              "    </tr>\n",
              "    <tr>\n",
              "      <th>2</th>\n",
              "      <td>Allentown</td>\n",
              "      <td>58</td>\n",
              "    </tr>\n",
              "    <tr>\n",
              "      <th>3</th>\n",
              "      <td>Erie</td>\n",
              "      <td>56</td>\n",
              "    </tr>\n",
              "    <tr>\n",
              "      <th>4</th>\n",
              "      <td>Reading</td>\n",
              "      <td>55</td>\n",
              "    </tr>\n",
              "  </tbody>\n",
              "</table>\n",
              "</div>"
            ],
            "text/plain": [
              "           City  Total\n",
              "0  Philadelphia    183\n",
              "1    Pittsburgh    173\n",
              "2     Allentown     58\n",
              "3          Erie     56\n",
              "4       Reading     55"
            ]
          },
          "metadata": {
            "tags": []
          },
          "execution_count": 146
        }
      ]
    },
    {
      "cell_type": "code",
      "metadata": {
        "id": "Jxem-_ECcTzF",
        "colab": {
          "base_uri": "https://localhost:8080/",
          "height": 198
        },
        "outputId": "2e25a237-21e7-4793-f68c-d012e60a213e"
      },
      "source": [
        "Final = pd.concat([ppo, kjk], axis=1)\n",
        "Final.head()"
      ],
      "execution_count": null,
      "outputs": [
        {
          "output_type": "execute_result",
          "data": {
            "text/html": [
              "<div>\n",
              "<style scoped>\n",
              "    .dataframe tbody tr th:only-of-type {\n",
              "        vertical-align: middle;\n",
              "    }\n",
              "\n",
              "    .dataframe tbody tr th {\n",
              "        vertical-align: top;\n",
              "    }\n",
              "\n",
              "    .dataframe thead th {\n",
              "        text-align: right;\n",
              "    }\n",
              "</style>\n",
              "<table border=\"1\" class=\"dataframe\">\n",
              "  <thead>\n",
              "    <tr style=\"text-align: right;\">\n",
              "      <th></th>\n",
              "      <th>Year</th>\n",
              "      <th>Total</th>\n",
              "      <th>City</th>\n",
              "      <th>Total</th>\n",
              "    </tr>\n",
              "  </thead>\n",
              "  <tbody>\n",
              "    <tr>\n",
              "      <th>0</th>\n",
              "      <td>Phoenix</td>\n",
              "      <td>651.0</td>\n",
              "      <td>Philadelphia</td>\n",
              "      <td>183</td>\n",
              "    </tr>\n",
              "    <tr>\n",
              "      <th>1</th>\n",
              "      <td>Tucson</td>\n",
              "      <td>378.0</td>\n",
              "      <td>Pittsburgh</td>\n",
              "      <td>173</td>\n",
              "    </tr>\n",
              "    <tr>\n",
              "      <th>2</th>\n",
              "      <td>Mesa</td>\n",
              "      <td>222.0</td>\n",
              "      <td>Allentown</td>\n",
              "      <td>58</td>\n",
              "    </tr>\n",
              "    <tr>\n",
              "      <th>3</th>\n",
              "      <td>Scottsdale</td>\n",
              "      <td>161.0</td>\n",
              "      <td>Erie</td>\n",
              "      <td>56</td>\n",
              "    </tr>\n",
              "    <tr>\n",
              "      <th>4</th>\n",
              "      <td>Gilbert</td>\n",
              "      <td>132.0</td>\n",
              "      <td>Reading</td>\n",
              "      <td>55</td>\n",
              "    </tr>\n",
              "  </tbody>\n",
              "</table>\n",
              "</div>"
            ],
            "text/plain": [
              "         Year  Total          City  Total\n",
              "0     Phoenix  651.0  Philadelphia    183\n",
              "1      Tucson  378.0    Pittsburgh    173\n",
              "2        Mesa  222.0     Allentown     58\n",
              "3  Scottsdale  161.0          Erie     56\n",
              "4     Gilbert  132.0       Reading     55"
            ]
          },
          "metadata": {
            "tags": []
          },
          "execution_count": 96
        }
      ]
    },
    {
      "cell_type": "code",
      "metadata": {
        "id": "OBZ5T3bE8KRP",
        "colab": {
          "base_uri": "https://localhost:8080/",
          "height": 171
        },
        "outputId": "0a57d5fa-746c-4e0a-f144-27c4d3aa7d8a"
      },
      "source": [
        "Final.rename(index={'Year':'Arizona','City':'Pennslyvania'})"
      ],
      "execution_count": null,
      "outputs": [
        {
          "output_type": "error",
          "ename": "AttributeError",
          "evalue": "ignored",
          "traceback": [
            "\u001b[0;31m---------------------------------------------------------------------------\u001b[0m",
            "\u001b[0;31mAttributeError\u001b[0m                            Traceback (most recent call last)",
            "\u001b[0;32m<ipython-input-93-e4da3db90c17>\u001b[0m in \u001b[0;36m<module>\u001b[0;34m()\u001b[0m\n\u001b[0;32m----> 1\u001b[0;31m \u001b[0mFinal\u001b[0m\u001b[0;34m.\u001b[0m\u001b[0mrename\u001b[0m\u001b[0;34m(\u001b[0m\u001b[0mindex\u001b[0m\u001b[0;34m=\u001b[0m\u001b[0;34m{\u001b[0m\u001b[0;34m'Year'\u001b[0m\u001b[0;34m:\u001b[0m\u001b[0;34m'Arizona'\u001b[0m\u001b[0;34m,\u001b[0m\u001b[0;34m'City'\u001b[0m\u001b[0;34m:\u001b[0m\u001b[0;34m'Pennslyvania'\u001b[0m\u001b[0;34m}\u001b[0m\u001b[0;34m)\u001b[0m\u001b[0;34m\u001b[0m\u001b[0;34m\u001b[0m\u001b[0m\n\u001b[0m",
            "\u001b[0;31mAttributeError\u001b[0m: 'NoneType' object has no attribute 'rename'"
          ]
        }
      ]
    },
    {
      "cell_type": "code",
      "metadata": {
        "id": "qhu1Pw1m7pZV",
        "colab": {
          "base_uri": "https://localhost:8080/",
          "height": 198
        },
        "outputId": "b8645835-96b9-4304-a781-4ed70ea363b1"
      },
      "source": [
        "Final = Final.rename(columns={'Year':'Arizona','City':'Pennslyvania'})\n",
        "Final.head()"
      ],
      "execution_count": null,
      "outputs": [
        {
          "output_type": "execute_result",
          "data": {
            "text/html": [
              "<div>\n",
              "<style scoped>\n",
              "    .dataframe tbody tr th:only-of-type {\n",
              "        vertical-align: middle;\n",
              "    }\n",
              "\n",
              "    .dataframe tbody tr th {\n",
              "        vertical-align: top;\n",
              "    }\n",
              "\n",
              "    .dataframe thead th {\n",
              "        text-align: right;\n",
              "    }\n",
              "</style>\n",
              "<table border=\"1\" class=\"dataframe\">\n",
              "  <thead>\n",
              "    <tr style=\"text-align: right;\">\n",
              "      <th></th>\n",
              "      <th>Arizona</th>\n",
              "      <th>Total</th>\n",
              "      <th>Pennslyvania</th>\n",
              "      <th>Total</th>\n",
              "    </tr>\n",
              "  </thead>\n",
              "  <tbody>\n",
              "    <tr>\n",
              "      <th>0</th>\n",
              "      <td>Phoenix</td>\n",
              "      <td>651.0</td>\n",
              "      <td>Philadelphia</td>\n",
              "      <td>183</td>\n",
              "    </tr>\n",
              "    <tr>\n",
              "      <th>1</th>\n",
              "      <td>Tucson</td>\n",
              "      <td>378.0</td>\n",
              "      <td>Pittsburgh</td>\n",
              "      <td>173</td>\n",
              "    </tr>\n",
              "    <tr>\n",
              "      <th>2</th>\n",
              "      <td>Mesa</td>\n",
              "      <td>222.0</td>\n",
              "      <td>Allentown</td>\n",
              "      <td>58</td>\n",
              "    </tr>\n",
              "    <tr>\n",
              "      <th>3</th>\n",
              "      <td>Scottsdale</td>\n",
              "      <td>161.0</td>\n",
              "      <td>Erie</td>\n",
              "      <td>56</td>\n",
              "    </tr>\n",
              "    <tr>\n",
              "      <th>4</th>\n",
              "      <td>Gilbert</td>\n",
              "      <td>132.0</td>\n",
              "      <td>Reading</td>\n",
              "      <td>55</td>\n",
              "    </tr>\n",
              "  </tbody>\n",
              "</table>\n",
              "</div>"
            ],
            "text/plain": [
              "      Arizona  Total  Pennslyvania  Total\n",
              "0     Phoenix  651.0  Philadelphia    183\n",
              "1      Tucson  378.0    Pittsburgh    173\n",
              "2        Mesa  222.0     Allentown     58\n",
              "3  Scottsdale  161.0          Erie     56\n",
              "4     Gilbert  132.0       Reading     55"
            ]
          },
          "metadata": {
            "tags": []
          },
          "execution_count": 97
        }
      ]
    },
    {
      "cell_type": "code",
      "metadata": {
        "id": "fBjTBKWUcZdM",
        "colab": {
          "base_uri": "https://localhost:8080/",
          "height": 198
        },
        "outputId": "63df73a9-b5bb-4847-dcd5-b88742283f7d"
      },
      "source": [
        "Final['Total'] = Final['Total'].astype(str).replace('\\.0', '', regex=True)\n",
        "Final.head()"
      ],
      "execution_count": null,
      "outputs": [
        {
          "output_type": "execute_result",
          "data": {
            "text/html": [
              "<div>\n",
              "<style scoped>\n",
              "    .dataframe tbody tr th:only-of-type {\n",
              "        vertical-align: middle;\n",
              "    }\n",
              "\n",
              "    .dataframe tbody tr th {\n",
              "        vertical-align: top;\n",
              "    }\n",
              "\n",
              "    .dataframe thead th {\n",
              "        text-align: right;\n",
              "    }\n",
              "</style>\n",
              "<table border=\"1\" class=\"dataframe\">\n",
              "  <thead>\n",
              "    <tr style=\"text-align: right;\">\n",
              "      <th></th>\n",
              "      <th>Year</th>\n",
              "      <th>Total</th>\n",
              "      <th>City</th>\n",
              "      <th>Total</th>\n",
              "    </tr>\n",
              "  </thead>\n",
              "  <tbody>\n",
              "    <tr>\n",
              "      <th>0</th>\n",
              "      <td>Phoenix</td>\n",
              "      <td>651</td>\n",
              "      <td>Philadelphia</td>\n",
              "      <td>183</td>\n",
              "    </tr>\n",
              "    <tr>\n",
              "      <th>1</th>\n",
              "      <td>Tucson</td>\n",
              "      <td>378</td>\n",
              "      <td>Pittsburgh</td>\n",
              "      <td>173</td>\n",
              "    </tr>\n",
              "    <tr>\n",
              "      <th>2</th>\n",
              "      <td>Mesa</td>\n",
              "      <td>222</td>\n",
              "      <td>Allentown</td>\n",
              "      <td>58</td>\n",
              "    </tr>\n",
              "    <tr>\n",
              "      <th>3</th>\n",
              "      <td>Scottsdale</td>\n",
              "      <td>161</td>\n",
              "      <td>Erie</td>\n",
              "      <td>56</td>\n",
              "    </tr>\n",
              "    <tr>\n",
              "      <th>4</th>\n",
              "      <td>Gilbert</td>\n",
              "      <td>132</td>\n",
              "      <td>Reading</td>\n",
              "      <td>55</td>\n",
              "    </tr>\n",
              "  </tbody>\n",
              "</table>\n",
              "</div>"
            ],
            "text/plain": [
              "         Year Total          City Total\n",
              "0     Phoenix   651  Philadelphia   183\n",
              "1      Tucson   378    Pittsburgh   173\n",
              "2        Mesa   222     Allentown    58\n",
              "3  Scottsdale   161          Erie    56\n",
              "4     Gilbert   132       Reading    55"
            ]
          },
          "metadata": {
            "tags": []
          },
          "execution_count": 155
        }
      ]
    },
    {
      "cell_type": "code",
      "metadata": {
        "id": "rCZEAQz_nMPa"
      },
      "source": [
        "### worked out how to get my bar graph for yearly accourences "
      ],
      "execution_count": null,
      "outputs": []
    },
    {
      "cell_type": "code",
      "metadata": {
        "id": "y-cRexxBXL-h"
      },
      "source": [
        "ii = dfi['year']"
      ],
      "execution_count": null,
      "outputs": []
    },
    {
      "cell_type": "code",
      "metadata": {
        "id": "M3bOwtLlabpJ"
      },
      "source": [
        "dfff = ii.value_counts().rename_axis('Year').reset_index(name='Total')\n",
        "print (dfff)"
      ],
      "execution_count": null,
      "outputs": []
    },
    {
      "cell_type": "code",
      "metadata": {
        "id": "jARTL1sQs5dj",
        "colab": {
          "base_uri": "https://localhost:8080/",
          "height": 272
        },
        "outputId": "636441ae-fb72-423e-842f-7236402b4a11"
      },
      "source": [
        "dfff = ii.value_counts().rename_axis('Year').reset_index(name='Total')\n",
        "print (dfff)"
      ],
      "execution_count": null,
      "outputs": [
        {
          "output_type": "stream",
          "text": [
            "      Year  Total\n",
            "0   2014.0  10860\n",
            "1   2013.0   9660\n",
            "2   2012.0   7008\n",
            "3   2015.0   6898\n",
            "4   2019.0   5752\n",
            "..     ...    ...\n",
            "87  1929.0      1\n",
            "88  1925.0      1\n",
            "89  1920.0      1\n",
            "90  1916.0      1\n",
            "91  1906.0      1\n",
            "\n",
            "[92 rows x 2 columns]\n"
          ],
          "name": "stdout"
        }
      ]
    },
    {
      "cell_type": "code",
      "metadata": {
        "id": "OCaZR5qHtB8U",
        "colab": {
          "base_uri": "https://localhost:8080/",
          "height": 1000
        },
        "outputId": "4d5518f2-e0f7-48c5-d96b-54ef02591d48"
      },
      "source": [
        "dfff.tail(50)"
      ],
      "execution_count": null,
      "outputs": [
        {
          "output_type": "execute_result",
          "data": {
            "text/html": [
              "<div>\n",
              "<style scoped>\n",
              "    .dataframe tbody tr th:only-of-type {\n",
              "        vertical-align: middle;\n",
              "    }\n",
              "\n",
              "    .dataframe tbody tr th {\n",
              "        vertical-align: top;\n",
              "    }\n",
              "\n",
              "    .dataframe thead th {\n",
              "        text-align: right;\n",
              "    }\n",
              "</style>\n",
              "<table border=\"1\" class=\"dataframe\">\n",
              "  <thead>\n",
              "    <tr style=\"text-align: right;\">\n",
              "      <th></th>\n",
              "      <th>Year</th>\n",
              "      <th>Total</th>\n",
              "    </tr>\n",
              "  </thead>\n",
              "  <tbody>\n",
              "    <tr>\n",
              "      <th>42</th>\n",
              "      <td>1987.0</td>\n",
              "      <td>200</td>\n",
              "    </tr>\n",
              "    <tr>\n",
              "      <th>43</th>\n",
              "      <td>1966.0</td>\n",
              "      <td>184</td>\n",
              "    </tr>\n",
              "    <tr>\n",
              "      <th>44</th>\n",
              "      <td>1965.0</td>\n",
              "      <td>184</td>\n",
              "    </tr>\n",
              "    <tr>\n",
              "      <th>45</th>\n",
              "      <td>1986.0</td>\n",
              "      <td>181</td>\n",
              "    </tr>\n",
              "    <tr>\n",
              "      <th>46</th>\n",
              "      <td>1967.0</td>\n",
              "      <td>181</td>\n",
              "    </tr>\n",
              "    <tr>\n",
              "      <th>47</th>\n",
              "      <td>1984.0</td>\n",
              "      <td>173</td>\n",
              "    </tr>\n",
              "    <tr>\n",
              "      <th>48</th>\n",
              "      <td>1982.0</td>\n",
              "      <td>172</td>\n",
              "    </tr>\n",
              "    <tr>\n",
              "      <th>49</th>\n",
              "      <td>1981.0</td>\n",
              "      <td>156</td>\n",
              "    </tr>\n",
              "    <tr>\n",
              "      <th>50</th>\n",
              "      <td>1969.0</td>\n",
              "      <td>143</td>\n",
              "    </tr>\n",
              "    <tr>\n",
              "      <th>51</th>\n",
              "      <td>1983.0</td>\n",
              "      <td>142</td>\n",
              "    </tr>\n",
              "    <tr>\n",
              "      <th>52</th>\n",
              "      <td>1972.0</td>\n",
              "      <td>141</td>\n",
              "    </tr>\n",
              "    <tr>\n",
              "      <th>53</th>\n",
              "      <td>1970.0</td>\n",
              "      <td>132</td>\n",
              "    </tr>\n",
              "    <tr>\n",
              "      <th>54</th>\n",
              "      <td>1971.0</td>\n",
              "      <td>122</td>\n",
              "    </tr>\n",
              "    <tr>\n",
              "      <th>55</th>\n",
              "      <td>1964.0</td>\n",
              "      <td>87</td>\n",
              "    </tr>\n",
              "    <tr>\n",
              "      <th>56</th>\n",
              "      <td>1963.0</td>\n",
              "      <td>82</td>\n",
              "    </tr>\n",
              "    <tr>\n",
              "      <th>57</th>\n",
              "      <td>1957.0</td>\n",
              "      <td>71</td>\n",
              "    </tr>\n",
              "    <tr>\n",
              "      <th>58</th>\n",
              "      <td>1962.0</td>\n",
              "      <td>69</td>\n",
              "    </tr>\n",
              "    <tr>\n",
              "      <th>59</th>\n",
              "      <td>1960.0</td>\n",
              "      <td>59</td>\n",
              "    </tr>\n",
              "    <tr>\n",
              "      <th>60</th>\n",
              "      <td>1954.0</td>\n",
              "      <td>51</td>\n",
              "    </tr>\n",
              "    <tr>\n",
              "      <th>61</th>\n",
              "      <td>1959.0</td>\n",
              "      <td>50</td>\n",
              "    </tr>\n",
              "    <tr>\n",
              "      <th>62</th>\n",
              "      <td>1952.0</td>\n",
              "      <td>46</td>\n",
              "    </tr>\n",
              "    <tr>\n",
              "      <th>63</th>\n",
              "      <td>1961.0</td>\n",
              "      <td>46</td>\n",
              "    </tr>\n",
              "    <tr>\n",
              "      <th>64</th>\n",
              "      <td>1958.0</td>\n",
              "      <td>45</td>\n",
              "    </tr>\n",
              "    <tr>\n",
              "      <th>65</th>\n",
              "      <td>1956.0</td>\n",
              "      <td>45</td>\n",
              "    </tr>\n",
              "    <tr>\n",
              "      <th>66</th>\n",
              "      <td>1947.0</td>\n",
              "      <td>37</td>\n",
              "    </tr>\n",
              "    <tr>\n",
              "      <th>67</th>\n",
              "      <td>1953.0</td>\n",
              "      <td>31</td>\n",
              "    </tr>\n",
              "    <tr>\n",
              "      <th>68</th>\n",
              "      <td>1955.0</td>\n",
              "      <td>29</td>\n",
              "    </tr>\n",
              "    <tr>\n",
              "      <th>69</th>\n",
              "      <td>1950.0</td>\n",
              "      <td>28</td>\n",
              "    </tr>\n",
              "    <tr>\n",
              "      <th>70</th>\n",
              "      <td>1951.0</td>\n",
              "      <td>17</td>\n",
              "    </tr>\n",
              "    <tr>\n",
              "      <th>71</th>\n",
              "      <td>1949.0</td>\n",
              "      <td>16</td>\n",
              "    </tr>\n",
              "    <tr>\n",
              "      <th>72</th>\n",
              "      <td>1946.0</td>\n",
              "      <td>9</td>\n",
              "    </tr>\n",
              "    <tr>\n",
              "      <th>73</th>\n",
              "      <td>1945.0</td>\n",
              "      <td>9</td>\n",
              "    </tr>\n",
              "    <tr>\n",
              "      <th>74</th>\n",
              "      <td>1944.0</td>\n",
              "      <td>9</td>\n",
              "    </tr>\n",
              "    <tr>\n",
              "      <th>75</th>\n",
              "      <td>1948.0</td>\n",
              "      <td>8</td>\n",
              "    </tr>\n",
              "    <tr>\n",
              "      <th>76</th>\n",
              "      <td>1943.0</td>\n",
              "      <td>8</td>\n",
              "    </tr>\n",
              "    <tr>\n",
              "      <th>77</th>\n",
              "      <td>1939.0</td>\n",
              "      <td>3</td>\n",
              "    </tr>\n",
              "    <tr>\n",
              "      <th>78</th>\n",
              "      <td>1910.0</td>\n",
              "      <td>2</td>\n",
              "    </tr>\n",
              "    <tr>\n",
              "      <th>79</th>\n",
              "      <td>1931.0</td>\n",
              "      <td>2</td>\n",
              "    </tr>\n",
              "    <tr>\n",
              "      <th>80</th>\n",
              "      <td>1937.0</td>\n",
              "      <td>2</td>\n",
              "    </tr>\n",
              "    <tr>\n",
              "      <th>81</th>\n",
              "      <td>1942.0</td>\n",
              "      <td>2</td>\n",
              "    </tr>\n",
              "    <tr>\n",
              "      <th>82</th>\n",
              "      <td>1936.0</td>\n",
              "      <td>1</td>\n",
              "    </tr>\n",
              "    <tr>\n",
              "      <th>83</th>\n",
              "      <td>1934.0</td>\n",
              "      <td>1</td>\n",
              "    </tr>\n",
              "    <tr>\n",
              "      <th>84</th>\n",
              "      <td>1933.0</td>\n",
              "      <td>1</td>\n",
              "    </tr>\n",
              "    <tr>\n",
              "      <th>85</th>\n",
              "      <td>1941.0</td>\n",
              "      <td>1</td>\n",
              "    </tr>\n",
              "    <tr>\n",
              "      <th>86</th>\n",
              "      <td>1930.0</td>\n",
              "      <td>1</td>\n",
              "    </tr>\n",
              "    <tr>\n",
              "      <th>87</th>\n",
              "      <td>1929.0</td>\n",
              "      <td>1</td>\n",
              "    </tr>\n",
              "    <tr>\n",
              "      <th>88</th>\n",
              "      <td>1925.0</td>\n",
              "      <td>1</td>\n",
              "    </tr>\n",
              "    <tr>\n",
              "      <th>89</th>\n",
              "      <td>1920.0</td>\n",
              "      <td>1</td>\n",
              "    </tr>\n",
              "    <tr>\n",
              "      <th>90</th>\n",
              "      <td>1916.0</td>\n",
              "      <td>1</td>\n",
              "    </tr>\n",
              "    <tr>\n",
              "      <th>91</th>\n",
              "      <td>1906.0</td>\n",
              "      <td>1</td>\n",
              "    </tr>\n",
              "  </tbody>\n",
              "</table>\n",
              "</div>"
            ],
            "text/plain": [
              "      Year  Total\n",
              "42  1987.0    200\n",
              "43  1966.0    184\n",
              "44  1965.0    184\n",
              "45  1986.0    181\n",
              "46  1967.0    181\n",
              "47  1984.0    173\n",
              "48  1982.0    172\n",
              "49  1981.0    156\n",
              "50  1969.0    143\n",
              "51  1983.0    142\n",
              "52  1972.0    141\n",
              "53  1970.0    132\n",
              "54  1971.0    122\n",
              "55  1964.0     87\n",
              "56  1963.0     82\n",
              "57  1957.0     71\n",
              "58  1962.0     69\n",
              "59  1960.0     59\n",
              "60  1954.0     51\n",
              "61  1959.0     50\n",
              "62  1952.0     46\n",
              "63  1961.0     46\n",
              "64  1958.0     45\n",
              "65  1956.0     45\n",
              "66  1947.0     37\n",
              "67  1953.0     31\n",
              "68  1955.0     29\n",
              "69  1950.0     28\n",
              "70  1951.0     17\n",
              "71  1949.0     16\n",
              "72  1946.0      9\n",
              "73  1945.0      9\n",
              "74  1944.0      9\n",
              "75  1948.0      8\n",
              "76  1943.0      8\n",
              "77  1939.0      3\n",
              "78  1910.0      2\n",
              "79  1931.0      2\n",
              "80  1937.0      2\n",
              "81  1942.0      2\n",
              "82  1936.0      1\n",
              "83  1934.0      1\n",
              "84  1933.0      1\n",
              "85  1941.0      1\n",
              "86  1930.0      1\n",
              "87  1929.0      1\n",
              "88  1925.0      1\n",
              "89  1920.0      1\n",
              "90  1916.0      1\n",
              "91  1906.0      1"
            ]
          },
          "metadata": {
            "tags": []
          },
          "execution_count": 159
        }
      ]
    },
    {
      "cell_type": "code",
      "metadata": {
        "id": "spSQg_87t5T2"
      },
      "source": [
        "yt = dfff[['Year', 'Total']].sort_values('Year', ascending=False)"
      ],
      "execution_count": null,
      "outputs": []
    },
    {
      "cell_type": "code",
      "metadata": {
        "id": "_hYIflP4nYmI"
      },
      "source": [
        "## chart studio stuff"
      ],
      "execution_count": null,
      "outputs": []
    },
    {
      "cell_type": "code",
      "metadata": {
        "id": "piDt_a6fgKc5"
      },
      "source": [
        "import plotly.express as px"
      ],
      "execution_count": null,
      "outputs": []
    },
    {
      "cell_type": "code",
      "metadata": {
        "id": "yDVRIYd-hJlZ",
        "colab": {
          "base_uri": "https://localhost:8080/",
          "height": 274
        },
        "outputId": "22cebe42-daa1-4f5d-f79d-ae6dfafae396"
      },
      "source": [
        "!pip install chart_studio"
      ],
      "execution_count": null,
      "outputs": [
        {
          "output_type": "stream",
          "text": [
            "Collecting chart_studio\n",
            "\u001b[?25l  Downloading https://files.pythonhosted.org/packages/ca/ce/330794a6b6ca4b9182c38fc69dd2a9cbff60fd49421cb8648ee5fee352dc/chart_studio-1.1.0-py3-none-any.whl (64kB)\n",
            "\r\u001b[K     |█████                           | 10kB 17.0MB/s eta 0:00:01\r\u001b[K     |██████████▏                     | 20kB 1.7MB/s eta 0:00:01\r\u001b[K     |███████████████▎                | 30kB 2.2MB/s eta 0:00:01\r\u001b[K     |████████████████████▍           | 40kB 2.5MB/s eta 0:00:01\r\u001b[K     |█████████████████████████▍      | 51kB 2.0MB/s eta 0:00:01\r\u001b[K     |██████████████████████████████▌ | 61kB 2.2MB/s eta 0:00:01\r\u001b[K     |████████████████████████████████| 71kB 2.1MB/s \n",
            "\u001b[?25hRequirement already satisfied: six in /usr/local/lib/python3.6/dist-packages (from chart_studio) (1.12.0)\n",
            "Requirement already satisfied: retrying>=1.3.3 in /usr/local/lib/python3.6/dist-packages (from chart_studio) (1.3.3)\n",
            "Requirement already satisfied: requests in /usr/local/lib/python3.6/dist-packages (from chart_studio) (2.23.0)\n",
            "Requirement already satisfied: plotly in /usr/local/lib/python3.6/dist-packages (from chart_studio) (4.4.1)\n",
            "Requirement already satisfied: chardet<4,>=3.0.2 in /usr/local/lib/python3.6/dist-packages (from requests->chart_studio) (3.0.4)\n",
            "Requirement already satisfied: idna<3,>=2.5 in /usr/local/lib/python3.6/dist-packages (from requests->chart_studio) (2.9)\n",
            "Requirement already satisfied: certifi>=2017.4.17 in /usr/local/lib/python3.6/dist-packages (from requests->chart_studio) (2020.4.5.2)\n",
            "Requirement already satisfied: urllib3!=1.25.0,!=1.25.1,<1.26,>=1.21.1 in /usr/local/lib/python3.6/dist-packages (from requests->chart_studio) (1.24.3)\n",
            "Installing collected packages: chart-studio\n",
            "Successfully installed chart-studio-1.1.0\n"
          ],
          "name": "stdout"
        }
      ]
    },
    {
      "cell_type": "code",
      "metadata": {
        "id": "H8zfwzOKhPCH"
      },
      "source": [
        "import chart_studio "
      ],
      "execution_count": null,
      "outputs": []
    },
    {
      "cell_type": "code",
      "metadata": {
        "id": "mCBPqjhLhmSf"
      },
      "source": [
        "username = 'lnealon21'\n",
        "api_key = 'jYtizvZdhFGQ7sSqiGmn'\n",
        "chart_studio.tools.set_credentials_file(username=username, api_key=api_key)"
      ],
      "execution_count": null,
      "outputs": []
    },
    {
      "cell_type": "code",
      "metadata": {
        "id": "fQyC1SoCncAR"
      },
      "source": [
        "# line 1"
      ],
      "execution_count": null,
      "outputs": []
    },
    {
      "cell_type": "code",
      "metadata": {
        "id": "xQ4XxXCzPQh0",
        "colab": {
          "base_uri": "https://localhost:8080/",
          "height": 542
        },
        "outputId": "04ed5fce-541c-4eae-b3ff-494c152b289d"
      },
      "source": [
        "import plotly.express as px\n",
        "\n",
        "\n",
        "#df = px.data.gapminder().query(\"country=='Canada'\")\n",
        "fig = px.line(yt, x=\"Year\", y=\"Total\", title='Nation wide sightings by year')\n",
        "fig.show()"
      ],
      "execution_count": null,
      "outputs": [
        {
          "output_type": "display_data",
          "data": {
            "text/html": [
              "<html>\n",
              "<head><meta charset=\"utf-8\" /></head>\n",
              "<body>\n",
              "    <div>\n",
              "            <script src=\"https://cdnjs.cloudflare.com/ajax/libs/mathjax/2.7.5/MathJax.js?config=TeX-AMS-MML_SVG\"></script><script type=\"text/javascript\">if (window.MathJax) {MathJax.Hub.Config({SVG: {font: \"STIX-Web\"}});}</script>\n",
              "                <script type=\"text/javascript\">window.PlotlyConfig = {MathJaxConfig: 'local'};</script>\n",
              "        <script src=\"https://cdn.plot.ly/plotly-latest.min.js\"></script>    \n",
              "            <div id=\"35e40749-175d-4004-9a69-219320457383\" class=\"plotly-graph-div\" style=\"height:525px; width:100%;\"></div>\n",
              "            <script type=\"text/javascript\">\n",
              "                \n",
              "                    window.PLOTLYENV=window.PLOTLYENV || {};\n",
              "                    \n",
              "                if (document.getElementById(\"35e40749-175d-4004-9a69-219320457383\")) {\n",
              "                    Plotly.newPlot(\n",
              "                        '35e40749-175d-4004-9a69-219320457383',\n",
              "                        [{\"hoverlabel\": {\"namelength\": 0}, \"hovertemplate\": \"Year=%{x}<br>Total=%{y}\", \"legendgroup\": \"\", \"line\": {\"color\": \"#636efa\", \"dash\": \"solid\"}, \"mode\": \"lines\", \"name\": \"\", \"showlegend\": false, \"type\": \"scatter\", \"x\": [2019.0, 2018.0, 2017.0, 2016.0, 2015.0, 2014.0, 2013.0, 2012.0, 2011.0, 2010.0, 2009.0, 2008.0, 2007.0, 2006.0, 2005.0, 2004.0, 2003.0, 2002.0, 2001.0, 2000.0, 1999.0, 1998.0, 1997.0, 1996.0, 1995.0, 1994.0, 1993.0, 1992.0, 1991.0, 1990.0, 1989.0, 1988.0, 1987.0, 1986.0, 1985.0, 1984.0, 1983.0, 1982.0, 1981.0, 1980.0, 1979.0, 1978.0, 1977.0, 1976.0, 1975.0, 1974.0, 1973.0, 1972.0, 1971.0, 1970.0, 1969.0, 1968.0, 1967.0, 1966.0, 1965.0, 1964.0, 1963.0, 1962.0, 1961.0, 1960.0, 1959.0, 1958.0, 1957.0, 1956.0, 1955.0, 1954.0, 1953.0, 1952.0, 1951.0, 1950.0, 1949.0, 1948.0, 1947.0, 1946.0, 1945.0, 1944.0, 1943.0, 1942.0, 1941.0, 1939.0, 1937.0, 1936.0, 1934.0, 1933.0, 1931.0, 1930.0, 1929.0, 1925.0, 1920.0, 1916.0, 1910.0, 1906.0], \"xaxis\": \"x\", \"y\": [5752, 3277, 5007, 5671, 6898, 10860, 9660, 7008, 4913, 4011, 4185, 4529, 3948, 3374, 3733, 3834, 3481, 2889, 2830, 2567, 2655, 1663, 1173, 771, 1042, 398, 281, 230, 222, 236, 241, 225, 200, 181, 207, 173, 142, 172, 156, 228, 230, 315, 251, 263, 300, 258, 217, 141, 122, 132, 143, 212, 181, 184, 184, 87, 82, 69, 46, 59, 50, 45, 71, 45, 29, 51, 31, 46, 17, 28, 16, 8, 37, 9, 9, 9, 8, 2, 1, 3, 2, 1, 1, 1, 2, 1, 1, 1, 1, 1, 2, 1], \"yaxis\": \"y\"}],\n",
              "                        {\"legend\": {\"tracegroupgap\": 0}, \"template\": {\"data\": {\"bar\": [{\"error_x\": {\"color\": \"#2a3f5f\"}, \"error_y\": {\"color\": \"#2a3f5f\"}, \"marker\": {\"line\": {\"color\": \"#E5ECF6\", \"width\": 0.5}}, \"type\": \"bar\"}], \"barpolar\": [{\"marker\": {\"line\": {\"color\": \"#E5ECF6\", \"width\": 0.5}}, \"type\": \"barpolar\"}], \"carpet\": [{\"aaxis\": {\"endlinecolor\": \"#2a3f5f\", \"gridcolor\": \"white\", \"linecolor\": \"white\", \"minorgridcolor\": \"white\", \"startlinecolor\": \"#2a3f5f\"}, \"baxis\": {\"endlinecolor\": \"#2a3f5f\", \"gridcolor\": \"white\", \"linecolor\": \"white\", \"minorgridcolor\": \"white\", \"startlinecolor\": \"#2a3f5f\"}, \"type\": \"carpet\"}], \"choropleth\": [{\"colorbar\": {\"outlinewidth\": 0, \"ticks\": \"\"}, \"type\": \"choropleth\"}], \"contour\": [{\"colorbar\": {\"outlinewidth\": 0, \"ticks\": \"\"}, \"colorscale\": [[0.0, \"#0d0887\"], [0.1111111111111111, \"#46039f\"], [0.2222222222222222, \"#7201a8\"], [0.3333333333333333, \"#9c179e\"], [0.4444444444444444, \"#bd3786\"], [0.5555555555555556, \"#d8576b\"], [0.6666666666666666, \"#ed7953\"], [0.7777777777777778, \"#fb9f3a\"], [0.8888888888888888, \"#fdca26\"], [1.0, \"#f0f921\"]], \"type\": \"contour\"}], \"contourcarpet\": [{\"colorbar\": {\"outlinewidth\": 0, \"ticks\": \"\"}, \"type\": \"contourcarpet\"}], \"heatmap\": [{\"colorbar\": {\"outlinewidth\": 0, \"ticks\": \"\"}, \"colorscale\": [[0.0, \"#0d0887\"], [0.1111111111111111, \"#46039f\"], [0.2222222222222222, \"#7201a8\"], [0.3333333333333333, \"#9c179e\"], [0.4444444444444444, \"#bd3786\"], [0.5555555555555556, \"#d8576b\"], [0.6666666666666666, \"#ed7953\"], [0.7777777777777778, \"#fb9f3a\"], [0.8888888888888888, \"#fdca26\"], [1.0, \"#f0f921\"]], \"type\": \"heatmap\"}], \"heatmapgl\": [{\"colorbar\": {\"outlinewidth\": 0, \"ticks\": \"\"}, \"colorscale\": [[0.0, \"#0d0887\"], [0.1111111111111111, \"#46039f\"], [0.2222222222222222, \"#7201a8\"], [0.3333333333333333, \"#9c179e\"], [0.4444444444444444, \"#bd3786\"], [0.5555555555555556, \"#d8576b\"], [0.6666666666666666, \"#ed7953\"], [0.7777777777777778, \"#fb9f3a\"], [0.8888888888888888, \"#fdca26\"], [1.0, \"#f0f921\"]], \"type\": \"heatmapgl\"}], \"histogram\": [{\"marker\": {\"colorbar\": {\"outlinewidth\": 0, \"ticks\": \"\"}}, \"type\": \"histogram\"}], \"histogram2d\": [{\"colorbar\": {\"outlinewidth\": 0, \"ticks\": \"\"}, \"colorscale\": [[0.0, \"#0d0887\"], [0.1111111111111111, \"#46039f\"], [0.2222222222222222, \"#7201a8\"], [0.3333333333333333, \"#9c179e\"], [0.4444444444444444, \"#bd3786\"], [0.5555555555555556, \"#d8576b\"], [0.6666666666666666, \"#ed7953\"], [0.7777777777777778, \"#fb9f3a\"], [0.8888888888888888, \"#fdca26\"], [1.0, \"#f0f921\"]], \"type\": \"histogram2d\"}], \"histogram2dcontour\": [{\"colorbar\": {\"outlinewidth\": 0, \"ticks\": \"\"}, \"colorscale\": [[0.0, \"#0d0887\"], [0.1111111111111111, \"#46039f\"], [0.2222222222222222, \"#7201a8\"], [0.3333333333333333, \"#9c179e\"], [0.4444444444444444, \"#bd3786\"], [0.5555555555555556, \"#d8576b\"], [0.6666666666666666, \"#ed7953\"], [0.7777777777777778, \"#fb9f3a\"], [0.8888888888888888, \"#fdca26\"], [1.0, \"#f0f921\"]], \"type\": \"histogram2dcontour\"}], \"mesh3d\": [{\"colorbar\": {\"outlinewidth\": 0, \"ticks\": \"\"}, \"type\": \"mesh3d\"}], \"parcoords\": [{\"line\": {\"colorbar\": {\"outlinewidth\": 0, \"ticks\": \"\"}}, \"type\": \"parcoords\"}], \"pie\": [{\"automargin\": true, \"type\": \"pie\"}], \"scatter\": [{\"marker\": {\"colorbar\": {\"outlinewidth\": 0, \"ticks\": \"\"}}, \"type\": \"scatter\"}], \"scatter3d\": [{\"line\": {\"colorbar\": {\"outlinewidth\": 0, \"ticks\": \"\"}}, \"marker\": {\"colorbar\": {\"outlinewidth\": 0, \"ticks\": \"\"}}, \"type\": \"scatter3d\"}], \"scattercarpet\": [{\"marker\": {\"colorbar\": {\"outlinewidth\": 0, \"ticks\": \"\"}}, \"type\": \"scattercarpet\"}], \"scattergeo\": [{\"marker\": {\"colorbar\": {\"outlinewidth\": 0, \"ticks\": \"\"}}, \"type\": \"scattergeo\"}], \"scattergl\": [{\"marker\": {\"colorbar\": {\"outlinewidth\": 0, \"ticks\": \"\"}}, \"type\": \"scattergl\"}], \"scattermapbox\": [{\"marker\": {\"colorbar\": {\"outlinewidth\": 0, \"ticks\": \"\"}}, \"type\": \"scattermapbox\"}], \"scatterpolar\": [{\"marker\": {\"colorbar\": {\"outlinewidth\": 0, \"ticks\": \"\"}}, \"type\": \"scatterpolar\"}], \"scatterpolargl\": [{\"marker\": {\"colorbar\": {\"outlinewidth\": 0, \"ticks\": \"\"}}, \"type\": \"scatterpolargl\"}], \"scatterternary\": [{\"marker\": {\"colorbar\": {\"outlinewidth\": 0, \"ticks\": \"\"}}, \"type\": \"scatterternary\"}], \"surface\": [{\"colorbar\": {\"outlinewidth\": 0, \"ticks\": \"\"}, \"colorscale\": [[0.0, \"#0d0887\"], [0.1111111111111111, \"#46039f\"], [0.2222222222222222, \"#7201a8\"], [0.3333333333333333, \"#9c179e\"], [0.4444444444444444, \"#bd3786\"], [0.5555555555555556, \"#d8576b\"], [0.6666666666666666, \"#ed7953\"], [0.7777777777777778, \"#fb9f3a\"], [0.8888888888888888, \"#fdca26\"], [1.0, \"#f0f921\"]], \"type\": \"surface\"}], \"table\": [{\"cells\": {\"fill\": {\"color\": \"#EBF0F8\"}, \"line\": {\"color\": \"white\"}}, \"header\": {\"fill\": {\"color\": \"#C8D4E3\"}, \"line\": {\"color\": \"white\"}}, \"type\": \"table\"}]}, \"layout\": {\"annotationdefaults\": {\"arrowcolor\": \"#2a3f5f\", \"arrowhead\": 0, \"arrowwidth\": 1}, \"coloraxis\": {\"colorbar\": {\"outlinewidth\": 0, \"ticks\": \"\"}}, \"colorscale\": {\"diverging\": [[0, \"#8e0152\"], [0.1, \"#c51b7d\"], [0.2, \"#de77ae\"], [0.3, \"#f1b6da\"], [0.4, \"#fde0ef\"], [0.5, \"#f7f7f7\"], [0.6, \"#e6f5d0\"], [0.7, \"#b8e186\"], [0.8, \"#7fbc41\"], [0.9, \"#4d9221\"], [1, \"#276419\"]], \"sequential\": [[0.0, \"#0d0887\"], [0.1111111111111111, \"#46039f\"], [0.2222222222222222, \"#7201a8\"], [0.3333333333333333, \"#9c179e\"], [0.4444444444444444, \"#bd3786\"], [0.5555555555555556, \"#d8576b\"], [0.6666666666666666, \"#ed7953\"], [0.7777777777777778, \"#fb9f3a\"], [0.8888888888888888, \"#fdca26\"], [1.0, \"#f0f921\"]], \"sequentialminus\": [[0.0, \"#0d0887\"], [0.1111111111111111, \"#46039f\"], [0.2222222222222222, \"#7201a8\"], [0.3333333333333333, \"#9c179e\"], [0.4444444444444444, \"#bd3786\"], [0.5555555555555556, \"#d8576b\"], [0.6666666666666666, \"#ed7953\"], [0.7777777777777778, \"#fb9f3a\"], [0.8888888888888888, \"#fdca26\"], [1.0, \"#f0f921\"]]}, \"colorway\": [\"#636efa\", \"#EF553B\", \"#00cc96\", \"#ab63fa\", \"#FFA15A\", \"#19d3f3\", \"#FF6692\", \"#B6E880\", \"#FF97FF\", \"#FECB52\"], \"font\": {\"color\": \"#2a3f5f\"}, \"geo\": {\"bgcolor\": \"white\", \"lakecolor\": \"white\", \"landcolor\": \"#E5ECF6\", \"showlakes\": true, \"showland\": true, \"subunitcolor\": \"white\"}, \"hoverlabel\": {\"align\": \"left\"}, \"hovermode\": \"closest\", \"mapbox\": {\"style\": \"light\"}, \"paper_bgcolor\": \"white\", \"plot_bgcolor\": \"#E5ECF6\", \"polar\": {\"angularaxis\": {\"gridcolor\": \"white\", \"linecolor\": \"white\", \"ticks\": \"\"}, \"bgcolor\": \"#E5ECF6\", \"radialaxis\": {\"gridcolor\": \"white\", \"linecolor\": \"white\", \"ticks\": \"\"}}, \"scene\": {\"xaxis\": {\"backgroundcolor\": \"#E5ECF6\", \"gridcolor\": \"white\", \"gridwidth\": 2, \"linecolor\": \"white\", \"showbackground\": true, \"ticks\": \"\", \"zerolinecolor\": \"white\"}, \"yaxis\": {\"backgroundcolor\": \"#E5ECF6\", \"gridcolor\": \"white\", \"gridwidth\": 2, \"linecolor\": \"white\", \"showbackground\": true, \"ticks\": \"\", \"zerolinecolor\": \"white\"}, \"zaxis\": {\"backgroundcolor\": \"#E5ECF6\", \"gridcolor\": \"white\", \"gridwidth\": 2, \"linecolor\": \"white\", \"showbackground\": true, \"ticks\": \"\", \"zerolinecolor\": \"white\"}}, \"shapedefaults\": {\"line\": {\"color\": \"#2a3f5f\"}}, \"ternary\": {\"aaxis\": {\"gridcolor\": \"white\", \"linecolor\": \"white\", \"ticks\": \"\"}, \"baxis\": {\"gridcolor\": \"white\", \"linecolor\": \"white\", \"ticks\": \"\"}, \"bgcolor\": \"#E5ECF6\", \"caxis\": {\"gridcolor\": \"white\", \"linecolor\": \"white\", \"ticks\": \"\"}}, \"title\": {\"x\": 0.05}, \"xaxis\": {\"automargin\": true, \"gridcolor\": \"white\", \"linecolor\": \"white\", \"ticks\": \"\", \"title\": {\"standoff\": 15}, \"zerolinecolor\": \"white\", \"zerolinewidth\": 2}, \"yaxis\": {\"automargin\": true, \"gridcolor\": \"white\", \"linecolor\": \"white\", \"ticks\": \"\", \"title\": {\"standoff\": 15}, \"zerolinecolor\": \"white\", \"zerolinewidth\": 2}}}, \"title\": {\"text\": \"Nation wide sightings by year\"}, \"xaxis\": {\"anchor\": \"y\", \"domain\": [0.0, 1.0], \"title\": {\"text\": \"Year\"}}, \"yaxis\": {\"anchor\": \"x\", \"domain\": [0.0, 1.0], \"title\": {\"text\": \"Total\"}}},\n",
              "                        {\"responsive\": true}\n",
              "                    ).then(function(){\n",
              "                            \n",
              "var gd = document.getElementById('35e40749-175d-4004-9a69-219320457383');\n",
              "var x = new MutationObserver(function (mutations, observer) {{\n",
              "        var display = window.getComputedStyle(gd).display;\n",
              "        if (!display || display === 'none') {{\n",
              "            console.log([gd, 'removed!']);\n",
              "            Plotly.purge(gd);\n",
              "            observer.disconnect();\n",
              "        }}\n",
              "}});\n",
              "\n",
              "// Listen for the removal of the full notebook cells\n",
              "var notebookContainer = gd.closest('#notebook-container');\n",
              "if (notebookContainer) {{\n",
              "    x.observe(notebookContainer, {childList: true});\n",
              "}}\n",
              "\n",
              "// Listen for the clearing of the current output cell\n",
              "var outputEl = gd.closest('.output');\n",
              "if (outputEl) {{\n",
              "    x.observe(outputEl, {childList: true});\n",
              "}}\n",
              "\n",
              "                        })\n",
              "                };\n",
              "                \n",
              "            </script>\n",
              "        </div>\n",
              "</body>\n",
              "</html>"
            ]
          },
          "metadata": {
            "tags": []
          }
        }
      ]
    },
    {
      "cell_type": "code",
      "metadata": {
        "id": "Y2uTMaaSqA2T",
        "colab": {
          "base_uri": "https://localhost:8080/",
          "height": 35
        },
        "outputId": "2841405b-60c0-4fad-98a5-7b7462adda66"
      },
      "source": [
        "import chart_studio.plotly as py\n",
        "py.plot(fig, filename = 'Nation wide sightings by year', auto_open=True)"
      ],
      "execution_count": null,
      "outputs": [
        {
          "output_type": "execute_result",
          "data": {
            "text/plain": [
              "'https://plotly.com/~lnealon21/3/'"
            ]
          },
          "metadata": {
            "tags": []
          },
          "execution_count": 132
        }
      ]
    },
    {
      "cell_type": "code",
      "metadata": {
        "id": "Lz2urbRrngpc"
      },
      "source": [
        "# bar 1"
      ],
      "execution_count": null,
      "outputs": []
    },
    {
      "cell_type": "code",
      "metadata": {
        "id": "XGCOmIvBoLnc",
        "colab": {
          "base_uri": "https://localhost:8080/",
          "height": 35
        },
        "outputId": "252c61e9-3aa1-43f0-b9d4-4ee503d9cb3f"
      },
      "source": [
        "import chart_studio.plotly as py\n",
        "py.plot(fig, filename = 'State total', auto_open=True)"
      ],
      "execution_count": null,
      "outputs": [
        {
          "output_type": "execute_result",
          "data": {
            "text/plain": [
              "'https://plotly.com/~lnealon21/5/'"
            ]
          },
          "metadata": {
            "tags": []
          },
          "execution_count": 106
        }
      ]
    },
    {
      "cell_type": "code",
      "metadata": {
        "id": "YpmroyV5mSdu",
        "colab": {
          "base_uri": "https://localhost:8080/",
          "height": 542
        },
        "outputId": "ea97873a-772d-4fa7-f3c6-a0da91340ee7"
      },
      "source": [
        "animals=['California', 'Flordia', 'Washington', 'Texas', 'New York', 'Arizona', 'Pennsylvania']\n",
        "\n",
        "fig = go.Figure(data=[\n",
        "    go.Bar(name='State Total', x=animals, y=[13531,6832,5804,4825,4565,4117,3975],\n",
        "           marker_color='rgb(55, 83, 109)'),\n",
        "    go.Bar(name='City Most', x=animals, y=[668,345,648,360,208,651,183],\n",
        "           marker_color='rgb(26, 118, 255)')\n",
        "])\n",
        "# Change the bar mode\n",
        "\n",
        "\n",
        "fig.update_layout(barmode='group')\n",
        "fig.show()"
      ],
      "execution_count": null,
      "outputs": [
        {
          "output_type": "display_data",
          "data": {
            "text/html": [
              "<html>\n",
              "<head><meta charset=\"utf-8\" /></head>\n",
              "<body>\n",
              "    <div>\n",
              "            <script src=\"https://cdnjs.cloudflare.com/ajax/libs/mathjax/2.7.5/MathJax.js?config=TeX-AMS-MML_SVG\"></script><script type=\"text/javascript\">if (window.MathJax) {MathJax.Hub.Config({SVG: {font: \"STIX-Web\"}});}</script>\n",
              "                <script type=\"text/javascript\">window.PlotlyConfig = {MathJaxConfig: 'local'};</script>\n",
              "        <script src=\"https://cdn.plot.ly/plotly-latest.min.js\"></script>    \n",
              "            <div id=\"dd2c9f82-c694-406a-8501-a423847b9a47\" class=\"plotly-graph-div\" style=\"height:525px; width:100%;\"></div>\n",
              "            <script type=\"text/javascript\">\n",
              "                \n",
              "                    window.PLOTLYENV=window.PLOTLYENV || {};\n",
              "                    \n",
              "                if (document.getElementById(\"dd2c9f82-c694-406a-8501-a423847b9a47\")) {\n",
              "                    Plotly.newPlot(\n",
              "                        'dd2c9f82-c694-406a-8501-a423847b9a47',\n",
              "                        [{\"marker\": {\"color\": \"rgb(55, 83, 109)\"}, \"name\": \"State Total\", \"type\": \"bar\", \"x\": [\"California\", \"Flordia\", \"Washington\", \"Texas\", \"New York\", \"Arizona\", \"Pennsylvania\"], \"y\": [13531, 6832, 5804, 4825, 4565, 4117, 3975]}, {\"marker\": {\"color\": \"rgb(26, 118, 255)\"}, \"name\": \"City Most\", \"type\": \"bar\", \"x\": [\"California\", \"Flordia\", \"Washington\", \"Texas\", \"New York\", \"Arizona\", \"Pennsylvania\"], \"y\": [668, 345, 648, 360, 208, 651, 183]}],\n",
              "                        {\"barmode\": \"group\", \"template\": {\"data\": {\"bar\": [{\"error_x\": {\"color\": \"#2a3f5f\"}, \"error_y\": {\"color\": \"#2a3f5f\"}, \"marker\": {\"line\": {\"color\": \"#E5ECF6\", \"width\": 0.5}}, \"type\": \"bar\"}], \"barpolar\": [{\"marker\": {\"line\": {\"color\": \"#E5ECF6\", \"width\": 0.5}}, \"type\": \"barpolar\"}], \"carpet\": [{\"aaxis\": {\"endlinecolor\": \"#2a3f5f\", \"gridcolor\": \"white\", \"linecolor\": \"white\", \"minorgridcolor\": \"white\", \"startlinecolor\": \"#2a3f5f\"}, \"baxis\": {\"endlinecolor\": \"#2a3f5f\", \"gridcolor\": \"white\", \"linecolor\": \"white\", \"minorgridcolor\": \"white\", \"startlinecolor\": \"#2a3f5f\"}, \"type\": \"carpet\"}], \"choropleth\": [{\"colorbar\": {\"outlinewidth\": 0, \"ticks\": \"\"}, \"type\": \"choropleth\"}], \"contour\": [{\"colorbar\": {\"outlinewidth\": 0, \"ticks\": \"\"}, \"colorscale\": [[0.0, \"#0d0887\"], [0.1111111111111111, \"#46039f\"], [0.2222222222222222, \"#7201a8\"], [0.3333333333333333, \"#9c179e\"], [0.4444444444444444, \"#bd3786\"], [0.5555555555555556, \"#d8576b\"], [0.6666666666666666, \"#ed7953\"], [0.7777777777777778, \"#fb9f3a\"], [0.8888888888888888, \"#fdca26\"], [1.0, \"#f0f921\"]], \"type\": \"contour\"}], \"contourcarpet\": [{\"colorbar\": {\"outlinewidth\": 0, \"ticks\": \"\"}, \"type\": \"contourcarpet\"}], \"heatmap\": [{\"colorbar\": {\"outlinewidth\": 0, \"ticks\": \"\"}, \"colorscale\": [[0.0, \"#0d0887\"], [0.1111111111111111, \"#46039f\"], [0.2222222222222222, \"#7201a8\"], [0.3333333333333333, \"#9c179e\"], [0.4444444444444444, \"#bd3786\"], [0.5555555555555556, \"#d8576b\"], [0.6666666666666666, \"#ed7953\"], [0.7777777777777778, \"#fb9f3a\"], [0.8888888888888888, \"#fdca26\"], [1.0, \"#f0f921\"]], \"type\": \"heatmap\"}], \"heatmapgl\": [{\"colorbar\": {\"outlinewidth\": 0, \"ticks\": \"\"}, \"colorscale\": [[0.0, \"#0d0887\"], [0.1111111111111111, \"#46039f\"], [0.2222222222222222, \"#7201a8\"], [0.3333333333333333, \"#9c179e\"], [0.4444444444444444, \"#bd3786\"], [0.5555555555555556, \"#d8576b\"], [0.6666666666666666, \"#ed7953\"], [0.7777777777777778, \"#fb9f3a\"], [0.8888888888888888, \"#fdca26\"], [1.0, \"#f0f921\"]], \"type\": \"heatmapgl\"}], \"histogram\": [{\"marker\": {\"colorbar\": {\"outlinewidth\": 0, \"ticks\": \"\"}}, \"type\": \"histogram\"}], \"histogram2d\": [{\"colorbar\": {\"outlinewidth\": 0, \"ticks\": \"\"}, \"colorscale\": [[0.0, \"#0d0887\"], [0.1111111111111111, \"#46039f\"], [0.2222222222222222, \"#7201a8\"], [0.3333333333333333, \"#9c179e\"], [0.4444444444444444, \"#bd3786\"], [0.5555555555555556, \"#d8576b\"], [0.6666666666666666, \"#ed7953\"], [0.7777777777777778, \"#fb9f3a\"], [0.8888888888888888, \"#fdca26\"], [1.0, \"#f0f921\"]], \"type\": \"histogram2d\"}], \"histogram2dcontour\": [{\"colorbar\": {\"outlinewidth\": 0, \"ticks\": \"\"}, \"colorscale\": [[0.0, \"#0d0887\"], [0.1111111111111111, \"#46039f\"], [0.2222222222222222, \"#7201a8\"], [0.3333333333333333, \"#9c179e\"], [0.4444444444444444, \"#bd3786\"], [0.5555555555555556, \"#d8576b\"], [0.6666666666666666, \"#ed7953\"], [0.7777777777777778, \"#fb9f3a\"], [0.8888888888888888, \"#fdca26\"], [1.0, \"#f0f921\"]], \"type\": \"histogram2dcontour\"}], \"mesh3d\": [{\"colorbar\": {\"outlinewidth\": 0, \"ticks\": \"\"}, \"type\": \"mesh3d\"}], \"parcoords\": [{\"line\": {\"colorbar\": {\"outlinewidth\": 0, \"ticks\": \"\"}}, \"type\": \"parcoords\"}], \"pie\": [{\"automargin\": true, \"type\": \"pie\"}], \"scatter\": [{\"marker\": {\"colorbar\": {\"outlinewidth\": 0, \"ticks\": \"\"}}, \"type\": \"scatter\"}], \"scatter3d\": [{\"line\": {\"colorbar\": {\"outlinewidth\": 0, \"ticks\": \"\"}}, \"marker\": {\"colorbar\": {\"outlinewidth\": 0, \"ticks\": \"\"}}, \"type\": \"scatter3d\"}], \"scattercarpet\": [{\"marker\": {\"colorbar\": {\"outlinewidth\": 0, \"ticks\": \"\"}}, \"type\": \"scattercarpet\"}], \"scattergeo\": [{\"marker\": {\"colorbar\": {\"outlinewidth\": 0, \"ticks\": \"\"}}, \"type\": \"scattergeo\"}], \"scattergl\": [{\"marker\": {\"colorbar\": {\"outlinewidth\": 0, \"ticks\": \"\"}}, \"type\": \"scattergl\"}], \"scattermapbox\": [{\"marker\": {\"colorbar\": {\"outlinewidth\": 0, \"ticks\": \"\"}}, \"type\": \"scattermapbox\"}], \"scatterpolar\": [{\"marker\": {\"colorbar\": {\"outlinewidth\": 0, \"ticks\": \"\"}}, \"type\": \"scatterpolar\"}], \"scatterpolargl\": [{\"marker\": {\"colorbar\": {\"outlinewidth\": 0, \"ticks\": \"\"}}, \"type\": \"scatterpolargl\"}], \"scatterternary\": [{\"marker\": {\"colorbar\": {\"outlinewidth\": 0, \"ticks\": \"\"}}, \"type\": \"scatterternary\"}], \"surface\": [{\"colorbar\": {\"outlinewidth\": 0, \"ticks\": \"\"}, \"colorscale\": [[0.0, \"#0d0887\"], [0.1111111111111111, \"#46039f\"], [0.2222222222222222, \"#7201a8\"], [0.3333333333333333, \"#9c179e\"], [0.4444444444444444, \"#bd3786\"], [0.5555555555555556, \"#d8576b\"], [0.6666666666666666, \"#ed7953\"], [0.7777777777777778, \"#fb9f3a\"], [0.8888888888888888, \"#fdca26\"], [1.0, \"#f0f921\"]], \"type\": \"surface\"}], \"table\": [{\"cells\": {\"fill\": {\"color\": \"#EBF0F8\"}, \"line\": {\"color\": \"white\"}}, \"header\": {\"fill\": {\"color\": \"#C8D4E3\"}, \"line\": {\"color\": \"white\"}}, \"type\": \"table\"}]}, \"layout\": {\"annotationdefaults\": {\"arrowcolor\": \"#2a3f5f\", \"arrowhead\": 0, \"arrowwidth\": 1}, \"coloraxis\": {\"colorbar\": {\"outlinewidth\": 0, \"ticks\": \"\"}}, \"colorscale\": {\"diverging\": [[0, \"#8e0152\"], [0.1, \"#c51b7d\"], [0.2, \"#de77ae\"], [0.3, \"#f1b6da\"], [0.4, \"#fde0ef\"], [0.5, \"#f7f7f7\"], [0.6, \"#e6f5d0\"], [0.7, \"#b8e186\"], [0.8, \"#7fbc41\"], [0.9, \"#4d9221\"], [1, \"#276419\"]], \"sequential\": [[0.0, \"#0d0887\"], [0.1111111111111111, \"#46039f\"], [0.2222222222222222, \"#7201a8\"], [0.3333333333333333, \"#9c179e\"], [0.4444444444444444, \"#bd3786\"], [0.5555555555555556, \"#d8576b\"], [0.6666666666666666, \"#ed7953\"], [0.7777777777777778, \"#fb9f3a\"], [0.8888888888888888, \"#fdca26\"], [1.0, \"#f0f921\"]], \"sequentialminus\": [[0.0, \"#0d0887\"], [0.1111111111111111, \"#46039f\"], [0.2222222222222222, \"#7201a8\"], [0.3333333333333333, \"#9c179e\"], [0.4444444444444444, \"#bd3786\"], [0.5555555555555556, \"#d8576b\"], [0.6666666666666666, \"#ed7953\"], [0.7777777777777778, \"#fb9f3a\"], [0.8888888888888888, \"#fdca26\"], [1.0, \"#f0f921\"]]}, \"colorway\": [\"#636efa\", \"#EF553B\", \"#00cc96\", \"#ab63fa\", \"#FFA15A\", \"#19d3f3\", \"#FF6692\", \"#B6E880\", \"#FF97FF\", \"#FECB52\"], \"font\": {\"color\": \"#2a3f5f\"}, \"geo\": {\"bgcolor\": \"white\", \"lakecolor\": \"white\", \"landcolor\": \"#E5ECF6\", \"showlakes\": true, \"showland\": true, \"subunitcolor\": \"white\"}, \"hoverlabel\": {\"align\": \"left\"}, \"hovermode\": \"closest\", \"mapbox\": {\"style\": \"light\"}, \"paper_bgcolor\": \"white\", \"plot_bgcolor\": \"#E5ECF6\", \"polar\": {\"angularaxis\": {\"gridcolor\": \"white\", \"linecolor\": \"white\", \"ticks\": \"\"}, \"bgcolor\": \"#E5ECF6\", \"radialaxis\": {\"gridcolor\": \"white\", \"linecolor\": \"white\", \"ticks\": \"\"}}, \"scene\": {\"xaxis\": {\"backgroundcolor\": \"#E5ECF6\", \"gridcolor\": \"white\", \"gridwidth\": 2, \"linecolor\": \"white\", \"showbackground\": true, \"ticks\": \"\", \"zerolinecolor\": \"white\"}, \"yaxis\": {\"backgroundcolor\": \"#E5ECF6\", \"gridcolor\": \"white\", \"gridwidth\": 2, \"linecolor\": \"white\", \"showbackground\": true, \"ticks\": \"\", \"zerolinecolor\": \"white\"}, \"zaxis\": {\"backgroundcolor\": \"#E5ECF6\", \"gridcolor\": \"white\", \"gridwidth\": 2, \"linecolor\": \"white\", \"showbackground\": true, \"ticks\": \"\", \"zerolinecolor\": \"white\"}}, \"shapedefaults\": {\"line\": {\"color\": \"#2a3f5f\"}}, \"ternary\": {\"aaxis\": {\"gridcolor\": \"white\", \"linecolor\": \"white\", \"ticks\": \"\"}, \"baxis\": {\"gridcolor\": \"white\", \"linecolor\": \"white\", \"ticks\": \"\"}, \"bgcolor\": \"#E5ECF6\", \"caxis\": {\"gridcolor\": \"white\", \"linecolor\": \"white\", \"ticks\": \"\"}}, \"title\": {\"x\": 0.05}, \"xaxis\": {\"automargin\": true, \"gridcolor\": \"white\", \"linecolor\": \"white\", \"ticks\": \"\", \"title\": {\"standoff\": 15}, \"zerolinecolor\": \"white\", \"zerolinewidth\": 2}, \"yaxis\": {\"automargin\": true, \"gridcolor\": \"white\", \"linecolor\": \"white\", \"ticks\": \"\", \"title\": {\"standoff\": 15}, \"zerolinecolor\": \"white\", \"zerolinewidth\": 2}}}},\n",
              "                        {\"responsive\": true}\n",
              "                    ).then(function(){\n",
              "                            \n",
              "var gd = document.getElementById('dd2c9f82-c694-406a-8501-a423847b9a47');\n",
              "var x = new MutationObserver(function (mutations, observer) {{\n",
              "        var display = window.getComputedStyle(gd).display;\n",
              "        if (!display || display === 'none') {{\n",
              "            console.log([gd, 'removed!']);\n",
              "            Plotly.purge(gd);\n",
              "            observer.disconnect();\n",
              "        }}\n",
              "}});\n",
              "\n",
              "// Listen for the removal of the full notebook cells\n",
              "var notebookContainer = gd.closest('#notebook-container');\n",
              "if (notebookContainer) {{\n",
              "    x.observe(notebookContainer, {childList: true});\n",
              "}}\n",
              "\n",
              "// Listen for the clearing of the current output cell\n",
              "var outputEl = gd.closest('.output');\n",
              "if (outputEl) {{\n",
              "    x.observe(outputEl, {childList: true});\n",
              "}}\n",
              "\n",
              "                        })\n",
              "                };\n",
              "                \n",
              "            </script>\n",
              "        </div>\n",
              "</body>\n",
              "</html>"
            ]
          },
          "metadata": {
            "tags": []
          }
        }
      ]
    },
    {
      "cell_type": "code",
      "metadata": {
        "id": "wGBvwikFzL5R"
      },
      "source": [
        "### all import not mentioned pie charts! ##"
      ],
      "execution_count": null,
      "outputs": []
    },
    {
      "cell_type": "code",
      "metadata": {
        "id": "3sEMurM-nkmS"
      },
      "source": [
        "pie 1/2"
      ],
      "execution_count": null,
      "outputs": []
    },
    {
      "cell_type": "code",
      "metadata": {
        "id": "VVgv7miN3koA"
      },
      "source": [
        "labels = ['5 minutes','2 minutes','10 minutes','1 minute','3 minutes','30 seconds',\n",
        "'15 minutes','10 seconds','5 seconds','20 minutes','30 minutes','1 hour','15 seconds',\n",
        "'20 seconds','4 minutes','3 seconds','2 seconds',\n",
        "'2 hours']\n",
        "values = [7784,5617,5327,4663,4225,3397,3325,2971,2634,2391,2189,1957,1769,1647,1488,1082,955,406]"
      ],
      "execution_count": null,
      "outputs": []
    },
    {
      "cell_type": "code",
      "metadata": {
        "id": "G1Hx0hd55Wqk"
      },
      "source": [
        "import pandas as pd"
      ],
      "execution_count": null,
      "outputs": []
    },
    {
      "cell_type": "code",
      "metadata": {
        "id": "H4OyWjvI41QQ"
      },
      "source": [
        "d = {'Time':labels,'value':values}"
      ],
      "execution_count": null,
      "outputs": []
    },
    {
      "cell_type": "code",
      "metadata": {
        "id": "8vEJujOz5Yq0"
      },
      "source": [
        "d = pd.DataFrame(d)"
      ],
      "execution_count": null,
      "outputs": []
    },
    {
      "cell_type": "code",
      "metadata": {
        "id": "-YNc9rt13oDe"
      },
      "source": [
        "labels2 = ['Light', 'Circle', 'Triangle', 'Fireball', 'Unknown', 'Sphere', \n",
        "          'Disk', 'Oval', 'Formation', 'Changing',\n",
        "'Cigar', 'Flash', 'Rectangle', 'Cylinder', 'Diamond', 'Chevron', 'Teardrop', 'Egg', 'Cone', 'Cross']\n",
        "values2 = [23562, 11914, 10528, 8913, 7782, 7571, 6260, 4930, 3695, \n",
        "          2769, 2680, 2092, 1908, 1773, 1670, 1364, 979, 941, 440, 360]\n"
      ],
      "execution_count": null,
      "outputs": []
    },
    {
      "cell_type": "code",
      "metadata": {
        "id": "ycTgWenF42L-"
      },
      "source": [
        "c = {'Shape':labels2,'Value':values2}"
      ],
      "execution_count": null,
      "outputs": []
    },
    {
      "cell_type": "code",
      "metadata": {
        "id": "ZJODn3A25dt_"
      },
      "source": [
        "c = pd.DataFrame(c)"
      ],
      "execution_count": null,
      "outputs": []
    },
    {
      "cell_type": "code",
      "metadata": {
        "id": "ojEhsF047IIM",
        "colab": {
          "base_uri": "https://localhost:8080/",
          "height": 198
        },
        "outputId": "6de98c61-cd64-4d93-84f1-a069a8b1eeb8"
      },
      "source": [
        "d.head()"
      ],
      "execution_count": null,
      "outputs": [
        {
          "output_type": "execute_result",
          "data": {
            "text/html": [
              "<div>\n",
              "<style scoped>\n",
              "    .dataframe tbody tr th:only-of-type {\n",
              "        vertical-align: middle;\n",
              "    }\n",
              "\n",
              "    .dataframe tbody tr th {\n",
              "        vertical-align: top;\n",
              "    }\n",
              "\n",
              "    .dataframe thead th {\n",
              "        text-align: right;\n",
              "    }\n",
              "</style>\n",
              "<table border=\"1\" class=\"dataframe\">\n",
              "  <thead>\n",
              "    <tr style=\"text-align: right;\">\n",
              "      <th></th>\n",
              "      <th>Time</th>\n",
              "      <th>value</th>\n",
              "    </tr>\n",
              "  </thead>\n",
              "  <tbody>\n",
              "    <tr>\n",
              "      <th>0</th>\n",
              "      <td>5 minutes</td>\n",
              "      <td>7784</td>\n",
              "    </tr>\n",
              "    <tr>\n",
              "      <th>1</th>\n",
              "      <td>2 minutes</td>\n",
              "      <td>5617</td>\n",
              "    </tr>\n",
              "    <tr>\n",
              "      <th>2</th>\n",
              "      <td>10 minutes</td>\n",
              "      <td>5327</td>\n",
              "    </tr>\n",
              "    <tr>\n",
              "      <th>3</th>\n",
              "      <td>1 minute</td>\n",
              "      <td>4663</td>\n",
              "    </tr>\n",
              "    <tr>\n",
              "      <th>4</th>\n",
              "      <td>3 minutes</td>\n",
              "      <td>4225</td>\n",
              "    </tr>\n",
              "  </tbody>\n",
              "</table>\n",
              "</div>"
            ],
            "text/plain": [
              "         Time  value\n",
              "0   5 minutes   7784\n",
              "1   2 minutes   5617\n",
              "2  10 minutes   5327\n",
              "3    1 minute   4663\n",
              "4   3 minutes   4225"
            ]
          },
          "metadata": {
            "tags": []
          },
          "execution_count": 52
        }
      ]
    },
    {
      "cell_type": "code",
      "metadata": {
        "id": "btqQJyJV7V6Y",
        "colab": {
          "base_uri": "https://localhost:8080/",
          "height": 542
        },
        "outputId": "72db7541-dbb9-43c2-ff62-e3d5a323f039"
      },
      "source": [
        "import plotly.express as px\n",
        "df = d\n",
        "fig = px.pie(d, values='value', names='Time', color_discrete_sequence=px.colors.sequential.RdBu, title='UFO Time Visible')\n",
        "fig.show()"
      ],
      "execution_count": null,
      "outputs": [
        {
          "output_type": "display_data",
          "data": {
            "text/html": [
              "<html>\n",
              "<head><meta charset=\"utf-8\" /></head>\n",
              "<body>\n",
              "    <div>\n",
              "            <script src=\"https://cdnjs.cloudflare.com/ajax/libs/mathjax/2.7.5/MathJax.js?config=TeX-AMS-MML_SVG\"></script><script type=\"text/javascript\">if (window.MathJax) {MathJax.Hub.Config({SVG: {font: \"STIX-Web\"}});}</script>\n",
              "                <script type=\"text/javascript\">window.PlotlyConfig = {MathJaxConfig: 'local'};</script>\n",
              "        <script src=\"https://cdn.plot.ly/plotly-latest.min.js\"></script>    \n",
              "            <div id=\"9fa71080-3ee6-454d-a682-a44d17d98d1f\" class=\"plotly-graph-div\" style=\"height:525px; width:100%;\"></div>\n",
              "            <script type=\"text/javascript\">\n",
              "                \n",
              "                    window.PLOTLYENV=window.PLOTLYENV || {};\n",
              "                    \n",
              "                if (document.getElementById(\"9fa71080-3ee6-454d-a682-a44d17d98d1f\")) {\n",
              "                    Plotly.newPlot(\n",
              "                        '9fa71080-3ee6-454d-a682-a44d17d98d1f',\n",
              "                        [{\"domain\": {\"x\": [0.0, 1.0], \"y\": [0.0, 1.0]}, \"hoverlabel\": {\"namelength\": 0}, \"hovertemplate\": \"Time=%{label}<br>value=%{value}\", \"labels\": [\"5 minutes\", \"2 minutes\", \"10 minutes\", \"1 minute\", \"3 minutes\", \"30 seconds\", \"15 minutes\", \"10 seconds\", \"5 seconds\", \"20 minutes\", \"30 minutes\", \"1 hour\", \"15 seconds\", \"20 seconds\", \"4 minutes\", \"3 seconds\", \"2 seconds\", \"2 hours\"], \"legendgroup\": \"\", \"name\": \"\", \"showlegend\": true, \"type\": \"pie\", \"values\": [7784, 5617, 5327, 4663, 4225, 3397, 3325, 2971, 2634, 2391, 2189, 1957, 1769, 1647, 1488, 1082, 955, 406]}],\n",
              "                        {\"legend\": {\"tracegroupgap\": 0}, \"piecolorway\": [\"rgb(103,0,31)\", \"rgb(178,24,43)\", \"rgb(214,96,77)\", \"rgb(244,165,130)\", \"rgb(253,219,199)\", \"rgb(247,247,247)\", \"rgb(209,229,240)\", \"rgb(146,197,222)\", \"rgb(67,147,195)\", \"rgb(33,102,172)\", \"rgb(5,48,97)\"], \"template\": {\"data\": {\"bar\": [{\"error_x\": {\"color\": \"#2a3f5f\"}, \"error_y\": {\"color\": \"#2a3f5f\"}, \"marker\": {\"line\": {\"color\": \"#E5ECF6\", \"width\": 0.5}}, \"type\": \"bar\"}], \"barpolar\": [{\"marker\": {\"line\": {\"color\": \"#E5ECF6\", \"width\": 0.5}}, \"type\": \"barpolar\"}], \"carpet\": [{\"aaxis\": {\"endlinecolor\": \"#2a3f5f\", \"gridcolor\": \"white\", \"linecolor\": \"white\", \"minorgridcolor\": \"white\", \"startlinecolor\": \"#2a3f5f\"}, \"baxis\": {\"endlinecolor\": \"#2a3f5f\", \"gridcolor\": \"white\", \"linecolor\": \"white\", \"minorgridcolor\": \"white\", \"startlinecolor\": \"#2a3f5f\"}, \"type\": \"carpet\"}], \"choropleth\": [{\"colorbar\": {\"outlinewidth\": 0, \"ticks\": \"\"}, \"type\": \"choropleth\"}], \"contour\": [{\"colorbar\": {\"outlinewidth\": 0, \"ticks\": \"\"}, \"colorscale\": [[0.0, \"#0d0887\"], [0.1111111111111111, \"#46039f\"], [0.2222222222222222, \"#7201a8\"], [0.3333333333333333, \"#9c179e\"], [0.4444444444444444, \"#bd3786\"], [0.5555555555555556, \"#d8576b\"], [0.6666666666666666, \"#ed7953\"], [0.7777777777777778, \"#fb9f3a\"], [0.8888888888888888, \"#fdca26\"], [1.0, \"#f0f921\"]], \"type\": \"contour\"}], \"contourcarpet\": [{\"colorbar\": {\"outlinewidth\": 0, \"ticks\": \"\"}, \"type\": \"contourcarpet\"}], \"heatmap\": [{\"colorbar\": {\"outlinewidth\": 0, \"ticks\": \"\"}, \"colorscale\": [[0.0, \"#0d0887\"], [0.1111111111111111, \"#46039f\"], [0.2222222222222222, \"#7201a8\"], [0.3333333333333333, \"#9c179e\"], [0.4444444444444444, \"#bd3786\"], [0.5555555555555556, \"#d8576b\"], [0.6666666666666666, \"#ed7953\"], [0.7777777777777778, \"#fb9f3a\"], [0.8888888888888888, \"#fdca26\"], [1.0, \"#f0f921\"]], \"type\": \"heatmap\"}], \"heatmapgl\": [{\"colorbar\": {\"outlinewidth\": 0, \"ticks\": \"\"}, \"colorscale\": [[0.0, \"#0d0887\"], [0.1111111111111111, \"#46039f\"], [0.2222222222222222, \"#7201a8\"], [0.3333333333333333, \"#9c179e\"], [0.4444444444444444, \"#bd3786\"], [0.5555555555555556, \"#d8576b\"], [0.6666666666666666, \"#ed7953\"], [0.7777777777777778, \"#fb9f3a\"], [0.8888888888888888, \"#fdca26\"], [1.0, \"#f0f921\"]], \"type\": \"heatmapgl\"}], \"histogram\": [{\"marker\": {\"colorbar\": {\"outlinewidth\": 0, \"ticks\": \"\"}}, \"type\": \"histogram\"}], \"histogram2d\": [{\"colorbar\": {\"outlinewidth\": 0, \"ticks\": \"\"}, \"colorscale\": [[0.0, \"#0d0887\"], [0.1111111111111111, \"#46039f\"], [0.2222222222222222, \"#7201a8\"], [0.3333333333333333, \"#9c179e\"], [0.4444444444444444, \"#bd3786\"], [0.5555555555555556, \"#d8576b\"], [0.6666666666666666, \"#ed7953\"], [0.7777777777777778, \"#fb9f3a\"], [0.8888888888888888, \"#fdca26\"], [1.0, \"#f0f921\"]], \"type\": \"histogram2d\"}], \"histogram2dcontour\": [{\"colorbar\": {\"outlinewidth\": 0, \"ticks\": \"\"}, \"colorscale\": [[0.0, \"#0d0887\"], [0.1111111111111111, \"#46039f\"], [0.2222222222222222, \"#7201a8\"], [0.3333333333333333, \"#9c179e\"], [0.4444444444444444, \"#bd3786\"], [0.5555555555555556, \"#d8576b\"], [0.6666666666666666, \"#ed7953\"], [0.7777777777777778, \"#fb9f3a\"], [0.8888888888888888, \"#fdca26\"], [1.0, \"#f0f921\"]], \"type\": \"histogram2dcontour\"}], \"mesh3d\": [{\"colorbar\": {\"outlinewidth\": 0, \"ticks\": \"\"}, \"type\": \"mesh3d\"}], \"parcoords\": [{\"line\": {\"colorbar\": {\"outlinewidth\": 0, \"ticks\": \"\"}}, \"type\": \"parcoords\"}], \"pie\": [{\"automargin\": true, \"type\": \"pie\"}], \"scatter\": [{\"marker\": {\"colorbar\": {\"outlinewidth\": 0, \"ticks\": \"\"}}, \"type\": \"scatter\"}], \"scatter3d\": [{\"line\": {\"colorbar\": {\"outlinewidth\": 0, \"ticks\": \"\"}}, \"marker\": {\"colorbar\": {\"outlinewidth\": 0, \"ticks\": \"\"}}, \"type\": \"scatter3d\"}], \"scattercarpet\": [{\"marker\": {\"colorbar\": {\"outlinewidth\": 0, \"ticks\": \"\"}}, \"type\": \"scattercarpet\"}], \"scattergeo\": [{\"marker\": {\"colorbar\": {\"outlinewidth\": 0, \"ticks\": \"\"}}, \"type\": \"scattergeo\"}], \"scattergl\": [{\"marker\": {\"colorbar\": {\"outlinewidth\": 0, \"ticks\": \"\"}}, \"type\": \"scattergl\"}], \"scattermapbox\": [{\"marker\": {\"colorbar\": {\"outlinewidth\": 0, \"ticks\": \"\"}}, \"type\": \"scattermapbox\"}], \"scatterpolar\": [{\"marker\": {\"colorbar\": {\"outlinewidth\": 0, \"ticks\": \"\"}}, \"type\": \"scatterpolar\"}], \"scatterpolargl\": [{\"marker\": {\"colorbar\": {\"outlinewidth\": 0, \"ticks\": \"\"}}, \"type\": \"scatterpolargl\"}], \"scatterternary\": [{\"marker\": {\"colorbar\": {\"outlinewidth\": 0, \"ticks\": \"\"}}, \"type\": \"scatterternary\"}], \"surface\": [{\"colorbar\": {\"outlinewidth\": 0, \"ticks\": \"\"}, \"colorscale\": [[0.0, \"#0d0887\"], [0.1111111111111111, \"#46039f\"], [0.2222222222222222, \"#7201a8\"], [0.3333333333333333, \"#9c179e\"], [0.4444444444444444, \"#bd3786\"], [0.5555555555555556, \"#d8576b\"], [0.6666666666666666, \"#ed7953\"], [0.7777777777777778, \"#fb9f3a\"], [0.8888888888888888, \"#fdca26\"], [1.0, \"#f0f921\"]], \"type\": \"surface\"}], \"table\": [{\"cells\": {\"fill\": {\"color\": \"#EBF0F8\"}, \"line\": {\"color\": \"white\"}}, \"header\": {\"fill\": {\"color\": \"#C8D4E3\"}, \"line\": {\"color\": \"white\"}}, \"type\": \"table\"}]}, \"layout\": {\"annotationdefaults\": {\"arrowcolor\": \"#2a3f5f\", \"arrowhead\": 0, \"arrowwidth\": 1}, \"coloraxis\": {\"colorbar\": {\"outlinewidth\": 0, \"ticks\": \"\"}}, \"colorscale\": {\"diverging\": [[0, \"#8e0152\"], [0.1, \"#c51b7d\"], [0.2, \"#de77ae\"], [0.3, \"#f1b6da\"], [0.4, \"#fde0ef\"], [0.5, \"#f7f7f7\"], [0.6, \"#e6f5d0\"], [0.7, \"#b8e186\"], [0.8, \"#7fbc41\"], [0.9, \"#4d9221\"], [1, \"#276419\"]], \"sequential\": [[0.0, \"#0d0887\"], [0.1111111111111111, \"#46039f\"], [0.2222222222222222, \"#7201a8\"], [0.3333333333333333, \"#9c179e\"], [0.4444444444444444, \"#bd3786\"], [0.5555555555555556, \"#d8576b\"], [0.6666666666666666, \"#ed7953\"], [0.7777777777777778, \"#fb9f3a\"], [0.8888888888888888, \"#fdca26\"], [1.0, \"#f0f921\"]], \"sequentialminus\": [[0.0, \"#0d0887\"], [0.1111111111111111, \"#46039f\"], [0.2222222222222222, \"#7201a8\"], [0.3333333333333333, \"#9c179e\"], [0.4444444444444444, \"#bd3786\"], [0.5555555555555556, \"#d8576b\"], [0.6666666666666666, \"#ed7953\"], [0.7777777777777778, \"#fb9f3a\"], [0.8888888888888888, \"#fdca26\"], [1.0, \"#f0f921\"]]}, \"colorway\": [\"#636efa\", \"#EF553B\", \"#00cc96\", \"#ab63fa\", \"#FFA15A\", \"#19d3f3\", \"#FF6692\", \"#B6E880\", \"#FF97FF\", \"#FECB52\"], \"font\": {\"color\": \"#2a3f5f\"}, \"geo\": {\"bgcolor\": \"white\", \"lakecolor\": \"white\", \"landcolor\": \"#E5ECF6\", \"showlakes\": true, \"showland\": true, \"subunitcolor\": \"white\"}, \"hoverlabel\": {\"align\": \"left\"}, \"hovermode\": \"closest\", \"mapbox\": {\"style\": \"light\"}, \"paper_bgcolor\": \"white\", \"plot_bgcolor\": \"#E5ECF6\", \"polar\": {\"angularaxis\": {\"gridcolor\": \"white\", \"linecolor\": \"white\", \"ticks\": \"\"}, \"bgcolor\": \"#E5ECF6\", \"radialaxis\": {\"gridcolor\": \"white\", \"linecolor\": \"white\", \"ticks\": \"\"}}, \"scene\": {\"xaxis\": {\"backgroundcolor\": \"#E5ECF6\", \"gridcolor\": \"white\", \"gridwidth\": 2, \"linecolor\": \"white\", \"showbackground\": true, \"ticks\": \"\", \"zerolinecolor\": \"white\"}, \"yaxis\": {\"backgroundcolor\": \"#E5ECF6\", \"gridcolor\": \"white\", \"gridwidth\": 2, \"linecolor\": \"white\", \"showbackground\": true, \"ticks\": \"\", \"zerolinecolor\": \"white\"}, \"zaxis\": {\"backgroundcolor\": \"#E5ECF6\", \"gridcolor\": \"white\", \"gridwidth\": 2, \"linecolor\": \"white\", \"showbackground\": true, \"ticks\": \"\", \"zerolinecolor\": \"white\"}}, \"shapedefaults\": {\"line\": {\"color\": \"#2a3f5f\"}}, \"ternary\": {\"aaxis\": {\"gridcolor\": \"white\", \"linecolor\": \"white\", \"ticks\": \"\"}, \"baxis\": {\"gridcolor\": \"white\", \"linecolor\": \"white\", \"ticks\": \"\"}, \"bgcolor\": \"#E5ECF6\", \"caxis\": {\"gridcolor\": \"white\", \"linecolor\": \"white\", \"ticks\": \"\"}}, \"title\": {\"x\": 0.05}, \"xaxis\": {\"automargin\": true, \"gridcolor\": \"white\", \"linecolor\": \"white\", \"ticks\": \"\", \"title\": {\"standoff\": 15}, \"zerolinecolor\": \"white\", \"zerolinewidth\": 2}, \"yaxis\": {\"automargin\": true, \"gridcolor\": \"white\", \"linecolor\": \"white\", \"ticks\": \"\", \"title\": {\"standoff\": 15}, \"zerolinecolor\": \"white\", \"zerolinewidth\": 2}}}, \"title\": {\"text\": \"UFO Time Visible\"}},\n",
              "                        {\"responsive\": true}\n",
              "                    ).then(function(){\n",
              "                            \n",
              "var gd = document.getElementById('9fa71080-3ee6-454d-a682-a44d17d98d1f');\n",
              "var x = new MutationObserver(function (mutations, observer) {{\n",
              "        var display = window.getComputedStyle(gd).display;\n",
              "        if (!display || display === 'none') {{\n",
              "            console.log([gd, 'removed!']);\n",
              "            Plotly.purge(gd);\n",
              "            observer.disconnect();\n",
              "        }}\n",
              "}});\n",
              "\n",
              "// Listen for the removal of the full notebook cells\n",
              "var notebookContainer = gd.closest('#notebook-container');\n",
              "if (notebookContainer) {{\n",
              "    x.observe(notebookContainer, {childList: true});\n",
              "}}\n",
              "\n",
              "// Listen for the clearing of the current output cell\n",
              "var outputEl = gd.closest('.output');\n",
              "if (outputEl) {{\n",
              "    x.observe(outputEl, {childList: true});\n",
              "}}\n",
              "\n",
              "                        })\n",
              "                };\n",
              "                \n",
              "            </script>\n",
              "        </div>\n",
              "</body>\n",
              "</html>"
            ]
          },
          "metadata": {
            "tags": []
          }
        }
      ]
    },
    {
      "cell_type": "code",
      "metadata": {
        "id": "EHx71sw35okZ",
        "colab": {
          "base_uri": "https://localhost:8080/",
          "height": 542
        },
        "outputId": "eaacbf68-5916-411a-83c5-49e5d068dda5"
      },
      "source": [
        "import plotly.express as px\n",
        "# This dataframe has 244 lines, but 4 distinct values for `day`\n",
        "#c = px.data.values()\n",
        "fig = px.pie(c, values='Value', names='Shape', title='UFO Shape')\n",
        "fig.show()"
      ],
      "execution_count": null,
      "outputs": [
        {
          "output_type": "display_data",
          "data": {
            "text/html": [
              "<html>\n",
              "<head><meta charset=\"utf-8\" /></head>\n",
              "<body>\n",
              "    <div>\n",
              "            <script src=\"https://cdnjs.cloudflare.com/ajax/libs/mathjax/2.7.5/MathJax.js?config=TeX-AMS-MML_SVG\"></script><script type=\"text/javascript\">if (window.MathJax) {MathJax.Hub.Config({SVG: {font: \"STIX-Web\"}});}</script>\n",
              "                <script type=\"text/javascript\">window.PlotlyConfig = {MathJaxConfig: 'local'};</script>\n",
              "        <script src=\"https://cdn.plot.ly/plotly-latest.min.js\"></script>    \n",
              "            <div id=\"66b53161-fade-4445-8cf5-8c7375ca8496\" class=\"plotly-graph-div\" style=\"height:525px; width:100%;\"></div>\n",
              "            <script type=\"text/javascript\">\n",
              "                \n",
              "                    window.PLOTLYENV=window.PLOTLYENV || {};\n",
              "                    \n",
              "                if (document.getElementById(\"66b53161-fade-4445-8cf5-8c7375ca8496\")) {\n",
              "                    Plotly.newPlot(\n",
              "                        '66b53161-fade-4445-8cf5-8c7375ca8496',\n",
              "                        [{\"domain\": {\"x\": [0.0, 1.0], \"y\": [0.0, 1.0]}, \"hoverlabel\": {\"namelength\": 0}, \"hovertemplate\": \"Shape=%{label}<br>Value=%{value}\", \"labels\": [\"Light\", \"Circle\", \"Triangle\", \"Fireball\", \"Unknown\", \"Sphere\", \"Disk\", \"Oval\", \"Formation\", \"Changing\", \"Cigar\", \"Flash\", \"Rectangle\", \"Cylinder\", \"Diamond\", \"Chevron\", \"Teardrop\", \"Egg\", \"Cone\", \"Cross\"], \"legendgroup\": \"\", \"name\": \"\", \"showlegend\": true, \"type\": \"pie\", \"values\": [23562, 11914, 10528, 8913, 7782, 7571, 6260, 4930, 3695, 2769, 2680, 2092, 1908, 1773, 1670, 1364, 979, 941, 440, 360]}],\n",
              "                        {\"legend\": {\"tracegroupgap\": 0}, \"template\": {\"data\": {\"bar\": [{\"error_x\": {\"color\": \"#2a3f5f\"}, \"error_y\": {\"color\": \"#2a3f5f\"}, \"marker\": {\"line\": {\"color\": \"#E5ECF6\", \"width\": 0.5}}, \"type\": \"bar\"}], \"barpolar\": [{\"marker\": {\"line\": {\"color\": \"#E5ECF6\", \"width\": 0.5}}, \"type\": \"barpolar\"}], \"carpet\": [{\"aaxis\": {\"endlinecolor\": \"#2a3f5f\", \"gridcolor\": \"white\", \"linecolor\": \"white\", \"minorgridcolor\": \"white\", \"startlinecolor\": \"#2a3f5f\"}, \"baxis\": {\"endlinecolor\": \"#2a3f5f\", \"gridcolor\": \"white\", \"linecolor\": \"white\", \"minorgridcolor\": \"white\", \"startlinecolor\": \"#2a3f5f\"}, \"type\": \"carpet\"}], \"choropleth\": [{\"colorbar\": {\"outlinewidth\": 0, \"ticks\": \"\"}, \"type\": \"choropleth\"}], \"contour\": [{\"colorbar\": {\"outlinewidth\": 0, \"ticks\": \"\"}, \"colorscale\": [[0.0, \"#0d0887\"], [0.1111111111111111, \"#46039f\"], [0.2222222222222222, \"#7201a8\"], [0.3333333333333333, \"#9c179e\"], [0.4444444444444444, \"#bd3786\"], [0.5555555555555556, \"#d8576b\"], [0.6666666666666666, \"#ed7953\"], [0.7777777777777778, \"#fb9f3a\"], [0.8888888888888888, \"#fdca26\"], [1.0, \"#f0f921\"]], \"type\": \"contour\"}], \"contourcarpet\": [{\"colorbar\": {\"outlinewidth\": 0, \"ticks\": \"\"}, \"type\": \"contourcarpet\"}], \"heatmap\": [{\"colorbar\": {\"outlinewidth\": 0, \"ticks\": \"\"}, \"colorscale\": [[0.0, \"#0d0887\"], [0.1111111111111111, \"#46039f\"], [0.2222222222222222, \"#7201a8\"], [0.3333333333333333, \"#9c179e\"], [0.4444444444444444, \"#bd3786\"], [0.5555555555555556, \"#d8576b\"], [0.6666666666666666, \"#ed7953\"], [0.7777777777777778, \"#fb9f3a\"], [0.8888888888888888, \"#fdca26\"], [1.0, \"#f0f921\"]], \"type\": \"heatmap\"}], \"heatmapgl\": [{\"colorbar\": {\"outlinewidth\": 0, \"ticks\": \"\"}, \"colorscale\": [[0.0, \"#0d0887\"], [0.1111111111111111, \"#46039f\"], [0.2222222222222222, \"#7201a8\"], [0.3333333333333333, \"#9c179e\"], [0.4444444444444444, \"#bd3786\"], [0.5555555555555556, \"#d8576b\"], [0.6666666666666666, \"#ed7953\"], [0.7777777777777778, \"#fb9f3a\"], [0.8888888888888888, \"#fdca26\"], [1.0, \"#f0f921\"]], \"type\": \"heatmapgl\"}], \"histogram\": [{\"marker\": {\"colorbar\": {\"outlinewidth\": 0, \"ticks\": \"\"}}, \"type\": \"histogram\"}], \"histogram2d\": [{\"colorbar\": {\"outlinewidth\": 0, \"ticks\": \"\"}, \"colorscale\": [[0.0, \"#0d0887\"], [0.1111111111111111, \"#46039f\"], [0.2222222222222222, \"#7201a8\"], [0.3333333333333333, \"#9c179e\"], [0.4444444444444444, \"#bd3786\"], [0.5555555555555556, \"#d8576b\"], [0.6666666666666666, \"#ed7953\"], [0.7777777777777778, \"#fb9f3a\"], [0.8888888888888888, \"#fdca26\"], [1.0, \"#f0f921\"]], \"type\": \"histogram2d\"}], \"histogram2dcontour\": [{\"colorbar\": {\"outlinewidth\": 0, \"ticks\": \"\"}, \"colorscale\": [[0.0, \"#0d0887\"], [0.1111111111111111, \"#46039f\"], [0.2222222222222222, \"#7201a8\"], [0.3333333333333333, \"#9c179e\"], [0.4444444444444444, \"#bd3786\"], [0.5555555555555556, \"#d8576b\"], [0.6666666666666666, \"#ed7953\"], [0.7777777777777778, \"#fb9f3a\"], [0.8888888888888888, \"#fdca26\"], [1.0, \"#f0f921\"]], \"type\": \"histogram2dcontour\"}], \"mesh3d\": [{\"colorbar\": {\"outlinewidth\": 0, \"ticks\": \"\"}, \"type\": \"mesh3d\"}], \"parcoords\": [{\"line\": {\"colorbar\": {\"outlinewidth\": 0, \"ticks\": \"\"}}, \"type\": \"parcoords\"}], \"pie\": [{\"automargin\": true, \"type\": \"pie\"}], \"scatter\": [{\"marker\": {\"colorbar\": {\"outlinewidth\": 0, \"ticks\": \"\"}}, \"type\": \"scatter\"}], \"scatter3d\": [{\"line\": {\"colorbar\": {\"outlinewidth\": 0, \"ticks\": \"\"}}, \"marker\": {\"colorbar\": {\"outlinewidth\": 0, \"ticks\": \"\"}}, \"type\": \"scatter3d\"}], \"scattercarpet\": [{\"marker\": {\"colorbar\": {\"outlinewidth\": 0, \"ticks\": \"\"}}, \"type\": \"scattercarpet\"}], \"scattergeo\": [{\"marker\": {\"colorbar\": {\"outlinewidth\": 0, \"ticks\": \"\"}}, \"type\": \"scattergeo\"}], \"scattergl\": [{\"marker\": {\"colorbar\": {\"outlinewidth\": 0, \"ticks\": \"\"}}, \"type\": \"scattergl\"}], \"scattermapbox\": [{\"marker\": {\"colorbar\": {\"outlinewidth\": 0, \"ticks\": \"\"}}, \"type\": \"scattermapbox\"}], \"scatterpolar\": [{\"marker\": {\"colorbar\": {\"outlinewidth\": 0, \"ticks\": \"\"}}, \"type\": \"scatterpolar\"}], \"scatterpolargl\": [{\"marker\": {\"colorbar\": {\"outlinewidth\": 0, \"ticks\": \"\"}}, \"type\": \"scatterpolargl\"}], \"scatterternary\": [{\"marker\": {\"colorbar\": {\"outlinewidth\": 0, \"ticks\": \"\"}}, \"type\": \"scatterternary\"}], \"surface\": [{\"colorbar\": {\"outlinewidth\": 0, \"ticks\": \"\"}, \"colorscale\": [[0.0, \"#0d0887\"], [0.1111111111111111, \"#46039f\"], [0.2222222222222222, \"#7201a8\"], [0.3333333333333333, \"#9c179e\"], [0.4444444444444444, \"#bd3786\"], [0.5555555555555556, \"#d8576b\"], [0.6666666666666666, \"#ed7953\"], [0.7777777777777778, \"#fb9f3a\"], [0.8888888888888888, \"#fdca26\"], [1.0, \"#f0f921\"]], \"type\": \"surface\"}], \"table\": [{\"cells\": {\"fill\": {\"color\": \"#EBF0F8\"}, \"line\": {\"color\": \"white\"}}, \"header\": {\"fill\": {\"color\": \"#C8D4E3\"}, \"line\": {\"color\": \"white\"}}, \"type\": \"table\"}]}, \"layout\": {\"annotationdefaults\": {\"arrowcolor\": \"#2a3f5f\", \"arrowhead\": 0, \"arrowwidth\": 1}, \"coloraxis\": {\"colorbar\": {\"outlinewidth\": 0, \"ticks\": \"\"}}, \"colorscale\": {\"diverging\": [[0, \"#8e0152\"], [0.1, \"#c51b7d\"], [0.2, \"#de77ae\"], [0.3, \"#f1b6da\"], [0.4, \"#fde0ef\"], [0.5, \"#f7f7f7\"], [0.6, \"#e6f5d0\"], [0.7, \"#b8e186\"], [0.8, \"#7fbc41\"], [0.9, \"#4d9221\"], [1, \"#276419\"]], \"sequential\": [[0.0, \"#0d0887\"], [0.1111111111111111, \"#46039f\"], [0.2222222222222222, \"#7201a8\"], [0.3333333333333333, \"#9c179e\"], [0.4444444444444444, \"#bd3786\"], [0.5555555555555556, \"#d8576b\"], [0.6666666666666666, \"#ed7953\"], [0.7777777777777778, \"#fb9f3a\"], [0.8888888888888888, \"#fdca26\"], [1.0, \"#f0f921\"]], \"sequentialminus\": [[0.0, \"#0d0887\"], [0.1111111111111111, \"#46039f\"], [0.2222222222222222, \"#7201a8\"], [0.3333333333333333, \"#9c179e\"], [0.4444444444444444, \"#bd3786\"], [0.5555555555555556, \"#d8576b\"], [0.6666666666666666, \"#ed7953\"], [0.7777777777777778, \"#fb9f3a\"], [0.8888888888888888, \"#fdca26\"], [1.0, \"#f0f921\"]]}, \"colorway\": [\"#636efa\", \"#EF553B\", \"#00cc96\", \"#ab63fa\", \"#FFA15A\", \"#19d3f3\", \"#FF6692\", \"#B6E880\", \"#FF97FF\", \"#FECB52\"], \"font\": {\"color\": \"#2a3f5f\"}, \"geo\": {\"bgcolor\": \"white\", \"lakecolor\": \"white\", \"landcolor\": \"#E5ECF6\", \"showlakes\": true, \"showland\": true, \"subunitcolor\": \"white\"}, \"hoverlabel\": {\"align\": \"left\"}, \"hovermode\": \"closest\", \"mapbox\": {\"style\": \"light\"}, \"paper_bgcolor\": \"white\", \"plot_bgcolor\": \"#E5ECF6\", \"polar\": {\"angularaxis\": {\"gridcolor\": \"white\", \"linecolor\": \"white\", \"ticks\": \"\"}, \"bgcolor\": \"#E5ECF6\", \"radialaxis\": {\"gridcolor\": \"white\", \"linecolor\": \"white\", \"ticks\": \"\"}}, \"scene\": {\"xaxis\": {\"backgroundcolor\": \"#E5ECF6\", \"gridcolor\": \"white\", \"gridwidth\": 2, \"linecolor\": \"white\", \"showbackground\": true, \"ticks\": \"\", \"zerolinecolor\": \"white\"}, \"yaxis\": {\"backgroundcolor\": \"#E5ECF6\", \"gridcolor\": \"white\", \"gridwidth\": 2, \"linecolor\": \"white\", \"showbackground\": true, \"ticks\": \"\", \"zerolinecolor\": \"white\"}, \"zaxis\": {\"backgroundcolor\": \"#E5ECF6\", \"gridcolor\": \"white\", \"gridwidth\": 2, \"linecolor\": \"white\", \"showbackground\": true, \"ticks\": \"\", \"zerolinecolor\": \"white\"}}, \"shapedefaults\": {\"line\": {\"color\": \"#2a3f5f\"}}, \"ternary\": {\"aaxis\": {\"gridcolor\": \"white\", \"linecolor\": \"white\", \"ticks\": \"\"}, \"baxis\": {\"gridcolor\": \"white\", \"linecolor\": \"white\", \"ticks\": \"\"}, \"bgcolor\": \"#E5ECF6\", \"caxis\": {\"gridcolor\": \"white\", \"linecolor\": \"white\", \"ticks\": \"\"}}, \"title\": {\"x\": 0.05}, \"xaxis\": {\"automargin\": true, \"gridcolor\": \"white\", \"linecolor\": \"white\", \"ticks\": \"\", \"title\": {\"standoff\": 15}, \"zerolinecolor\": \"white\", \"zerolinewidth\": 2}, \"yaxis\": {\"automargin\": true, \"gridcolor\": \"white\", \"linecolor\": \"white\", \"ticks\": \"\", \"title\": {\"standoff\": 15}, \"zerolinecolor\": \"white\", \"zerolinewidth\": 2}}}, \"title\": {\"text\": \"UFO Shape\"}},\n",
              "                        {\"responsive\": true}\n",
              "                    ).then(function(){\n",
              "                            \n",
              "var gd = document.getElementById('66b53161-fade-4445-8cf5-8c7375ca8496');\n",
              "var x = new MutationObserver(function (mutations, observer) {{\n",
              "        var display = window.getComputedStyle(gd).display;\n",
              "        if (!display || display === 'none') {{\n",
              "            console.log([gd, 'removed!']);\n",
              "            Plotly.purge(gd);\n",
              "            observer.disconnect();\n",
              "        }}\n",
              "}});\n",
              "\n",
              "// Listen for the removal of the full notebook cells\n",
              "var notebookContainer = gd.closest('#notebook-container');\n",
              "if (notebookContainer) {{\n",
              "    x.observe(notebookContainer, {childList: true});\n",
              "}}\n",
              "\n",
              "// Listen for the clearing of the current output cell\n",
              "var outputEl = gd.closest('.output');\n",
              "if (outputEl) {{\n",
              "    x.observe(outputEl, {childList: true});\n",
              "}}\n",
              "\n",
              "                        })\n",
              "                };\n",
              "                \n",
              "            </script>\n",
              "        </div>\n",
              "</body>\n",
              "</html>"
            ]
          },
          "metadata": {
            "tags": []
          }
        }
      ]
    },
    {
      "cell_type": "code",
      "metadata": {
        "id": "Os8UICEW73IN",
        "colab": {
          "base_uri": "https://localhost:8080/",
          "height": 35
        },
        "outputId": "82d3f27c-b12e-4f6b-ccdd-d7390c823e66"
      },
      "source": [
        "import chart_studio.plotly as py\n",
        "py.plot(fig, filename = 'df = d', auto_open=True)"
      ],
      "execution_count": null,
      "outputs": [
        {
          "output_type": "execute_result",
          "data": {
            "application/vnd.google.colaboratory.intrinsic": {
              "type": "string"
            },
            "text/plain": [
              "'https://plotly.com/~lnealon21/15/'"
            ]
          },
          "metadata": {
            "tags": []
          },
          "execution_count": 66
        }
      ]
    },
    {
      "cell_type": "code",
      "metadata": {
        "id": "ZgD9jiY48Vgp",
        "colab": {
          "base_uri": "https://localhost:8080/",
          "height": 35
        },
        "outputId": "c3f0b330-e11a-49dc-9788-a05774ea27d4"
      },
      "source": [
        "import chart_studio.plotly as py\n",
        "py.plot(fig, filename = 'UFO Shape', auto_open=True)"
      ],
      "execution_count": null,
      "outputs": [
        {
          "output_type": "execute_result",
          "data": {
            "application/vnd.google.colaboratory.intrinsic": {
              "type": "string"
            },
            "text/plain": [
              "'https://plotly.com/~lnealon21/11/'"
            ]
          },
          "metadata": {
            "tags": []
          },
          "execution_count": 63
        }
      ]
    },
    {
      "cell_type": "code",
      "metadata": {
        "id": "d9uKdrdSBamJ",
        "colab": {
          "base_uri": "https://localhost:8080/",
          "height": 219
        },
        "outputId": "a4d2cca3-2be6-4da2-dbda-a896abae8d27"
      },
      "source": [
        "df.head(1)"
      ],
      "execution_count": null,
      "outputs": [
        {
          "output_type": "execute_result",
          "data": {
            "text/html": [
              "<div>\n",
              "<style scoped>\n",
              "    .dataframe tbody tr th:only-of-type {\n",
              "        vertical-align: middle;\n",
              "    }\n",
              "\n",
              "    .dataframe tbody tr th {\n",
              "        vertical-align: top;\n",
              "    }\n",
              "\n",
              "    .dataframe thead th {\n",
              "        text-align: right;\n",
              "    }\n",
              "</style>\n",
              "<table border=\"1\" class=\"dataframe\">\n",
              "  <thead>\n",
              "    <tr style=\"text-align: right;\">\n",
              "      <th></th>\n",
              "      <th>datetime</th>\n",
              "      <th>city</th>\n",
              "      <th>state</th>\n",
              "      <th>country</th>\n",
              "      <th>shape</th>\n",
              "      <th>duration (seconds)</th>\n",
              "      <th>duration (hours/min)</th>\n",
              "      <th>comments</th>\n",
              "      <th>date posted</th>\n",
              "      <th>latitude</th>\n",
              "      <th>longitude</th>\n",
              "      <th>text</th>\n",
              "    </tr>\n",
              "  </thead>\n",
              "  <tbody>\n",
              "    <tr>\n",
              "      <th>0</th>\n",
              "      <td>10/10/1949 20:30</td>\n",
              "      <td>san marcos</td>\n",
              "      <td>tx</td>\n",
              "      <td>us</td>\n",
              "      <td>cylinder</td>\n",
              "      <td>2700</td>\n",
              "      <td>45 minutes</td>\n",
              "      <td>This event took place in early fall around 194...</td>\n",
              "      <td>4/27/2004</td>\n",
              "      <td>29.8830556</td>\n",
              "      <td>-97.941111</td>\n",
              "      <td>san marcos, tx</td>\n",
              "    </tr>\n",
              "  </tbody>\n",
              "</table>\n",
              "</div>"
            ],
            "text/plain": [
              "           datetime        city state  ...    latitude longitude             text\n",
              "0  10/10/1949 20:30  san marcos    tx  ...  29.8830556 -97.941111  san marcos, tx\n",
              "\n",
              "[1 rows x 12 columns]"
            ]
          },
          "metadata": {
            "tags": []
          },
          "execution_count": 187
        }
      ]
    },
    {
      "cell_type": "code",
      "metadata": {
        "id": "DFu6HFh4cHXW"
      },
      "source": [
        "colors = ['aggrnyl', 'agsunset', 'algae', 'amp', 'armyrose', 'balance',\n",
        "             'blackbody', 'bluered', 'blues', 'blugrn', 'bluyl', 'brbg',\n",
        "             'brwnyl', 'bugn', 'bupu', 'burg', 'burgyl', 'cividis', 'curl',\n",
        "             'darkmint', 'deep', 'delta', 'dense', 'earth', 'edge', 'electric',\n",
        "             'emrld', 'fall', 'geyser', 'gnbu', 'gray', 'greens', 'greys',\n",
        "             'haline', 'hot', 'hsv', 'ice', 'icefire', 'inferno', 'jet',\n",
        "             'magenta', 'magma', 'matter', 'mint', 'mrybm', 'mygbm', 'oranges',\n",
        "             'orrd', 'oryel', 'peach', 'phase', 'picnic', 'pinkyl', 'piyg',\n",
        "             'plasma', 'plotly3', 'portland', 'prgn', 'pubu', 'pubugn', 'puor',\n",
        "             'purd', 'purp', 'purples', 'purpor', 'rainbow', 'rdbu', 'rdgy',\n",
        "             'rdpu', 'rdylbu', 'rdylgn', 'redor', 'reds', 'solar', 'spectral',\n",
        "             'speed', 'sunset', 'sunsetdark', 'teal', 'tealgrn', 'tealrose',\n",
        "             'tempo', 'temps', 'thermal', 'tropic', 'turbid', 'twilight',\n",
        "             'viridis', 'ylgn', 'ylgnbu', 'ylorbr', 'ylorrd']"
      ],
      "execution_count": null,
      "outputs": []
    },
    {
      "cell_type": "code",
      "metadata": {
        "id": "Qb2ZYioxdOqs"
      },
      "source": [
        "# for colab:\n",
        "def enable_plotly_in_cell():\n",
        "    import IPython\n",
        "    from plotly.offline import init_notebook_mode\n",
        "    display(IPython.core.display.HTML('''<script src=\"/static/components/requirejs/require.js\"></script>'''))\n",
        "    init_notebook_mode(connected=False)"
      ],
      "execution_count": null,
      "outputs": []
    },
    {
      "cell_type": "code",
      "metadata": {
        "id": "sMAl2f_smYmb"
      },
      "source": [
        "g = df[df['datetime'].dt.year == 2013]"
      ],
      "execution_count": null,
      "outputs": []
    },
    {
      "cell_type": "code",
      "metadata": {
        "id": "frpHm2vqrpgo",
        "colab": {
          "base_uri": "https://localhost:8080/",
          "height": 219
        },
        "outputId": "c3735958-4c01-4559-a72a-44a364156645"
      },
      "source": [
        "g.tail(1)"
      ],
      "execution_count": null,
      "outputs": [
        {
          "output_type": "execute_result",
          "data": {
            "text/html": [
              "<div>\n",
              "<style scoped>\n",
              "    .dataframe tbody tr th:only-of-type {\n",
              "        vertical-align: middle;\n",
              "    }\n",
              "\n",
              "    .dataframe tbody tr th {\n",
              "        vertical-align: top;\n",
              "    }\n",
              "\n",
              "    .dataframe thead th {\n",
              "        text-align: right;\n",
              "    }\n",
              "</style>\n",
              "<table border=\"1\" class=\"dataframe\">\n",
              "  <thead>\n",
              "    <tr style=\"text-align: right;\">\n",
              "      <th></th>\n",
              "      <th>datetime</th>\n",
              "      <th>city</th>\n",
              "      <th>state</th>\n",
              "      <th>country</th>\n",
              "      <th>shape</th>\n",
              "      <th>duration (seconds)</th>\n",
              "      <th>duration (hours/min)</th>\n",
              "      <th>comments</th>\n",
              "      <th>date posted</th>\n",
              "      <th>latitude</th>\n",
              "      <th>longitude</th>\n",
              "      <th>month</th>\n",
              "      <th>year</th>\n",
              "      <th>hour</th>\n",
              "    </tr>\n",
              "  </thead>\n",
              "  <tbody>\n",
              "    <tr>\n",
              "      <th>80331</th>\n",
              "      <td>2013-09-09 23:00:00</td>\n",
              "      <td>edmond</td>\n",
              "      <td>ok</td>\n",
              "      <td>us</td>\n",
              "      <td>cigar</td>\n",
              "      <td>1020</td>\n",
              "      <td>17 minutes</td>\n",
              "      <td>2 witnesses 2  miles apart&amp;#44 Red &amp;amp; White...</td>\n",
              "      <td>9/30/2013</td>\n",
              "      <td>35.6528</td>\n",
              "      <td>-97.477778</td>\n",
              "      <td>9</td>\n",
              "      <td>2013</td>\n",
              "      <td>23</td>\n",
              "    </tr>\n",
              "  </tbody>\n",
              "</table>\n",
              "</div>"
            ],
            "text/plain": [
              "                 datetime    city state country  ... longitude  month  year hour\n",
              "80331 2013-09-09 23:00:00  edmond    ok      us  ... -97.477778     9  2013   23\n",
              "\n",
              "[1 rows x 14 columns]"
            ]
          },
          "metadata": {
            "tags": []
          },
          "execution_count": 19
        }
      ]
    },
    {
      "cell_type": "code",
      "metadata": {
        "id": "ys9eAJQYBNDl",
        "colab": {
          "base_uri": "https://localhost:8080/",
          "height": 707
        },
        "outputId": "726fbf4f-e88a-4067-f06b-d804fe11d49b"
      },
      "source": [
        "import plotly.graph_objects as go\n",
        "\n",
        "import pandas as pd\n",
        "\n",
        "\n",
        "g['text'] = g['city'] + ', ' + g['state']# + ', ' + df['cnt'].astype(str)\n",
        "\n",
        "fig = go.Figure(data=go.Scattergeo(\n",
        "        lon = g['longitude '],\n",
        "        lat = g['latitude'],\n",
        "        text = g['text'],\n",
        "        mode='markers',\n",
        "        #colorscale = 'teal',\n",
        "        #colorbar_title = mycolorbartitle,\n",
        "        ))\n",
        "\n",
        "fig.update_layout(\n",
        "        title = '2013 Reports',\n",
        "        geo_scope='usa',\n",
        "    )\n",
        "fig.show()"
      ],
      "execution_count": null,
      "outputs": [
        {
          "output_type": "stream",
          "text": [
            "/usr/local/lib/python3.6/dist-packages/ipykernel_launcher.py:6: SettingWithCopyWarning:\n",
            "\n",
            "\n",
            "A value is trying to be set on a copy of a slice from a DataFrame.\n",
            "Try using .loc[row_indexer,col_indexer] = value instead\n",
            "\n",
            "See the caveats in the documentation: https://pandas.pydata.org/pandas-docs/stable/user_guide/indexing.html#returning-a-view-versus-a-copy\n",
            "\n"
          ],
          "name": "stderr"
        },
        {
          "output_type": "display_data",
          "data": {
            "text/html": [
              "<html>\n",
              "<head><meta charset=\"utf-8\" /></head>\n",
              "<body>\n",
              "    <div>\n",
              "            <script src=\"https://cdnjs.cloudflare.com/ajax/libs/mathjax/2.7.5/MathJax.js?config=TeX-AMS-MML_SVG\"></script><script type=\"text/javascript\">if (window.MathJax) {MathJax.Hub.Config({SVG: {font: \"STIX-Web\"}});}</script>\n",
              "                <script type=\"text/javascript\">window.PlotlyConfig = {MathJaxConfig: 'local'};</script>\n",
              "        <script src=\"https://cdn.plot.ly/plotly-latest.min.js\"></script>    \n",
              "            <div id=\"03747604-44ea-46ac-b6d5-fc0b7aa49cf1\" class=\"plotly-graph-div\" style=\"height:525px; width:100%;\"></div>\n",
              "            <script type=\"text/javascript\">\n",
              "                \n",
              "                    window.PLOTLYENV=window.PLOTLYENV || {};\n",
              "                    \n",
              "                if (document.getElementById(\"03747604-44ea-46ac-b6d5-fc0b7aa49cf1\")) {\n",
              "                    Plotly.newPlot(\n",
              "                        '03747604-44ea-46ac-b6d5-fc0b7aa49cf1',\n",
              "                        [{\"lat\": [\"40.858433\", \"28.0777778\", \"36.864209\", \"38.6272222\", \"45.416667\", \"40.9780556\", \"45.716667\", \"44.4905556\", \"29.9938889\", \"39.7463889\", \"42.7647222\", \"42.9275000\", \"44.7791667\", \"42.4775000\", \"42.3086111\", \"39.1611111\", \"42.7647222\", \"43.4194444\", \"43.25\", \"41.7297222\", \"26.8230556\", \"43.866667\", \"42.2916667\", \"38.9716667\", \"39.103118\", \"44.4905556\", \"39.1619444\", \"39.1619444\", \"26.1416667\", \"32.543889\", \"39.1619444\", \"38.9458333\", \"42.4736111\", \"33.5966667\", \"39.7463889\", \"43.0297222\", \"26.9338889\", \"28.0833333\", \"45.3561111\", \"41.8800000\", \"45.583333\", \"40.8758333\", \"42.4566667\", \"38.8338889\", \"39.5358333\", \"35.3733333\", \"40.296218\", \"40.103874\", \"38.807404\", \"40.1933333\", \"40.4405556\", \"40.4405556\", \"41.921111\", \"40.0150000\", \"29.7955556\", \"43.2122222\", \"26.0583333\", \"27.9472222\", \"34.2072222\", \"36.5297222\", \"42.6916667\", \"42.4927778\", \"40.8841667\", \"51.514125\", \"43.3380556\", \"30.2669444\", \"43.0280556\", \"41.3144444\", \"38.2205556\", \"42.1033333\", \"57.7900000\", \"38.6272222\", \"42.7358333\", \"39.9611111\", \"40.2522222\", \"40.7425000\", \"41.2150000\", \"36.7280556\", \"35.7452778\", \"44.25\", \"39.3994444\", \"30.2669444\", \"39.5588889\", \"39.3994444\", \"9.512017\", \"39.5522222\", \"39.0875000\", \"39.6427778\", \"40.6936111\", \"39.5522222\", \"39.1911111\", \"39.0638889\", \"45.766667\", \"39.898404\", \"40.0333333\", \"34.9491667\", \"41.8800000\", \"42.766667\", \"34.5033333\", \"38.6786111\", \"39.1619444\", \"38.6786111\", \"44.8408333\", \"40.7608333\", \"43.666667\", \"33.0011111\", \"35.6869444\", \"38.550608\", \"41.2619444\", \"41.2619444\", \"43.2133333\", \"40.7705556\", \"41.6827778\", \"40.2141667\", \"39.1072222\", \"28.5555556\", \"47.6588889\", \"26.7052778\", \"43.076113\", \"28.8002778\", \"28.6647222\", \"40.3347222\", \"39.7683333\", \"42.3608333\", \"47.6447222\", \"42.3683333\", \"50.45\", \"40.2430556\", \"34.9577778\", \"39.9555556\", \"40.7141667\", \"42.4775000\", \"16.691308\", \"43.1811111\", \"39.8397222\", \"35.0844444\", \"42.9375000\", \"40.3236111\", \"45.616667\", \"45.616667\", \"35.2269444\", \"42.2194444\", \"45.9933333\", \"37.8044444\", \"44.5191667\", \"32.5230556\", \"43.666667\", \"45.0230556\", \"39.5400000\", \"40.766613\", \"42.2916667\", \"38.9088889\", \"40.683512\", \"41.2375000\", \"37.5483333\", \"41.2058333\", \"39.111504\", \"44.0100000\", \"38.9805556\", \"34.4838889\", \"45.6797222\", \"45.46\", \"13.052414\", \"42.2711111\", \"39.4100000\", \"43.6136111\", \"36.1344444\", \"33.8941667\", \"34.2011111\", \"48.9938889\", \"35.0844444\", \"38.5816667\", \"36.1888889\", \"39.5105556\", \"40.7255556\", \"39.2866667\", \"40.2013889\", \"44.9630556\", \"41.6361111\", \"33.2486111\", \"39.0283333\", \"38.5816667\", \"32.7252778\", \"33.629974\", \"33.3941667\", \"39.7683333\", \"41.1325000\", \"44.0783333\", \"43.6122222\", \"46.24\", \"32.8572222\", \"37.3394444\", \"28.0777778\", \"52.566667\", \"36.6222222\", \"48.5466667\", \"26.0625000\", \"39.5400000\", \"43.6136111\", \"47.6447222\", \"34.0350000\", \"27.2436111\", \"38.0291667\", \"33.2000000\", \"49.166667\", \"44.9902778\", \"42.8441667\", \"26.3583333\", \"46.7313889\", \"38.7083333\", \"44.6397222\", \"37.98295\", \"50.75368\", \"46.216667\", \"46.7833333\", \"36.5297222\", \"32.7833333\", \"39.74844\", \"40.1738889\", \"38.3980556\", \"40.1738889\", \"42.9463889\", \"33.6188889\", \"27.3361111\", \"33.9561111\", \"27.3361111\", \"39.1619444\", \"39.1555556\", \"39.1555556\", \"41.7055556\", \"40.243578\", \"40.0455556\", \"44.8113889\", \"38.8902778\", \"36.8527778\", \"34.5400000\", \"37.7644444\", \"25.9869444\", \"42.4083333\", \"34.0522222\", \"31.5544444\", \"44.3936111\", \"15.5\", \"40.4166667\", \"42.6333333\", \"35.0241667\", \"38.1050000\", \"46.05\", \"38.5338889\", \"33.174147\", \"33.3061111\", \"44.0247222\", \"33.4352778\", \"28.5380556\", \"43.7730556\", \"38.2205556\", \"40.9644444\", \"39.1458333\", \"33.7222222\", \"38.6272222\", \"34.1761111\", \"44.9444444\", \"35.2269444\", \"41.3461111\", \"43.6136111\", \"41.3197222\", \"9.512017\", \"43.0125000\", \"30.2669444\", \"26.9338889\", \"35.0844444\", \"44.25\", \"41.6638889\", \"42.7883333\", \"38.8597222\", \"26.1416667\", \"40.1550000\", \"23.727107\", \"47.6588889\", \"42.1344444\", \"39.9522222\", \"42.0027778\", \"40.1550000\", \"38.7508333\", \"53.710071\", \"37.9577778\", \"34.7391667\", \"29.6194444\", \"43.0388889\", \"46.442793\", \"42.2791667\", \"29.4238889\", \"22.543099\", \"29.7630556\", \"38.4313889\", \"29.7855556\", \"44.1538889\", \"42.3708333\", \"34.1619444\", \"39.7530556\", \"39.7852778\", \"36.3100000\", \"38.3697222\", \"42.5311111\", \"34.9883333\", \"38.8158333\", \"37.7750000\", \"36.1750000\", \"42.6827778\", \"33.9319444\", \"41.5380556\", \"39.5150000\", \"34.786449\", \"39.4561111\", \"38.8008333\", \"40.7988889\", \"42.5369444\", \"44.7311111\", \"42.9730556\", \"39.9522222\", \"39.7913889\", \"39.6416667\", \"38.8113889\", \"40.1672222\", \"42.6525000\", \"47.4236111\", \"31.4716667\", \"39.532503\", \"34.6100000\", \"44.6397222\", \"40.3477778\", \"25.7738889\", \"42.8508333\", \"34.5400000\", \"42.9269444\", \"43.6852778\", \"41.7355556\", \"36.0152778\", \"44.2511111\", \"37.6775000\", \"38.8966667\", \"47.8411111\", \"37.9736111\", \"32.7355556\", \"21.4180556\", \"40.4211111\", \"47.6541667\", \"33.730664\", \"47.677683\", \"40.3152778\", \"42.8352778\", \"39.9522222\", \"42.6986111\", \"27.0994444\", \"61.2180556\", \"41.6027778\", \"48.7597222\", \"43.0238889\", \"38.8338889\", \"35.4975000\", \"35.4975000\", \"37.2438889\", \"38.7691667\", \"41.5291667\", \"36.858838\", \"42.548171\", \"61.2180556\", \"46.3250000\", \"42.2833333\", \"47.6447222\", \"42.9730556\", \"42.5522222\", \"34.7391667\", \"35.5463889\", \"38.8047222\", \"36.1961111\", \"33.5091667\", \"34.1477778\", \"39.7733333\", \"39.2402778\", \"37.5536111\", \"40.7966667\", \"32.7833333\", \"38.6580556\", \"33.1730556\", \"48.7597222\", \"38.3311111\", \"39.0319444\", \"49.25\", \"41.5291667\", \"35.584324\", \"38.6272222\", \"35.2305556\", \"43.8138889\", \"38.9569444\", \"32.9125000\", \"40.7763889\", \"44.0522222\", \"43.7094444\", \"38.8105556\", \"41.2458333\", \"36.0525000\", \"33.3061111\", \"34.8641667\", \"41.0036111\", \"32.8138889\", \"45.8322222\", \"42.4927778\", \"32.5630556\", \"41.6638889\", \"32.2730556\", \"40.8611111\", \"34.0736111\", \"40.7608333\", \"40.7038889\", \"39.6066667\", \"19.432608\", \"25.187459\", \"43.0388889\", \"43.0630556\", \"-0.95\", \"39.2902778\", \"41.6005556\", \"41.3572222\", \"29.7855556\", \"40.4405556\", \"39.2672222\", \"35.4277778\", \"43.5408333\", \"43.6122222\", \"27.3361111\", \"39.6283333\", \"33.9488889\", \"33.8388889\", \"41.6116667\", \"39.9266667\", \"31.189344\", \"39.1752778\", \"34.0522222\", \"30.3863889\", \"21.3069444\", \"42.7261111\", \"39.9852778\", \"40.1672222\", \"38.224444\", \"47.6588889\", \"33.5386111\", \"34.1577778\", \"42.57687\", \"33.9608333\", \"39.3141667\", \"34.1658333\", \"45.9\", \"42.5847222\", \"37.289694\", \"28.0183333\", \"38.2322222\", \"42.8352778\", \"36.3230556\", \"44.7791667\", \"36.4736111\", \"41.611143\", \"26.5625000\", \"30.4380556\", \"26.6155556\", \"28.0338889\", \"45.583333\", \"25.7902778\", \"35.3841667\", \"32.9125000\", \"43.25\", \"38.078918\", \"41.6561111\", \"42.392971\", \"46.8738889\", \"49.233333\", \"41.4527778\", \"19.541791\", \"44.9444444\", \"36.0625000\", \"28.314174\", \"39.1619444\", \"36.0997222\", \"37.9886111\", \"34.1477778\", \"26.7052778\", \"40.4405556\", \"36.1155556\", \"38.948959\", \"42.2675000\", \"45.422257\", \"36.1752778\", \"45.466667\", \"47.0530556\", \"47.7988889\", \"25.9013889\", \"45.466667\", \"42.3802778\", \"42.0500000\", \"26.0625000\", \"40.3933333\", \"26.6583333\", \"39.563109\", \"38.9713889\", \"26.1219444\", \"36.9741667\", \"36.9786111\", \"38.5816667\", \"44.2444444\", \"44.7130556\", \"34.5636111\", \"43.883333\", \"32.7152778\", \"43.4666667\", \"46.1469444\", \"46.2858333\", \"48.2766667\", \"47.7180556\", \"46.0647222\", \"43.4919444\", \"41.0816667\", \"41.4088889\", \"35.8422222\", \"30.3672222\", \"37.6086111\", \"35.9216667\", \"28.5491667\", \"37.4419444\", \"37.6391667\", \"40.5697222\", \"33.1283333\", \"36.8527778\", \"32.7152778\", \"26.3583333\", \"29.1869444\", \"34.6227778\", \"33.8358333\", \"33.2486111\", \"36.9741667\", \"34.0522222\", \"27.888182\", \"64.8377778\", \"33.9241667\", \"35.4419444\", \"28.9886111\", \"43.605289\", \"39.9900000\", \"37.7525000\", \"47.4158333\", \"11.35\", \"33.9608333\", \"39.2902778\", \"44.3377778\", \"40.2291667\", \"33.5919444\", \"26.1416667\", \"45.5236111\", \"44.1969444\", \"40.045592\", \"40.0083333\", \"43.666667\", \"37.7933333\", \"36.0988889\", \"41.4755556\", \"47.4811111\", \"-27.42395\", \"39.4452778\", \"35.4713889\", \"38.6947222\", \"39.9522222\", \"47.6063889\", \"30.3405556\", \"33.9813889\", \"33.6305556\", \"40.7608333\", \"36.6305556\", \"40.209444\", \"39.6472222\", \"32.7833333\", \"45.492034\", \"44.6366667\", \"35.0844444\", \"64.8377778\", \"38.7508333\", \"50.716667\", \"38.4177778\", \"40.4677778\", \"36.1450000\", \"47.9786111\", \"41.599581\", \"44.9430556\", \"44.9430556\", \"64.8377778\", \"34.6991667\", \"34.6991667\", \"40.8813889\", \"26.1272222\", \"47.6063889\", \"35.7563889\", \"25.4683333\", \"45.4983333\", \"40.7141667\", \"40.579532\", \"42.7005556\", \"61.2180556\", \"35.7883333\", \"40.1672222\", \"44.6652778\", \"44.8994444\", \"31.4627778\", \"46.216667\", \"40.634249\", \"43.2505556\", \"38.7594444\", \"33.3061111\", \"20.9316667\", \"36.1658333\", \"44.5438889\", \"37.566535\", \"37.1463889\", \"45.9933333\", \"47.6588889\", \"42.5194444\", \"26.3583333\", \"36.1658333\", \"47.6588889\", \"30.6033333\", \"43.8261111\", \"33.0369444\", \"36.9772222\", \"28.6697222\", \"54.416667\", \"21.461111\", \"29.028318\", \"33.0461111\", \"34.132163\", \"44.0522222\", \"43.666667\", \"45.6136111\", \"48.6969444\", \"36.1630556\", \"40.8000000\", \"33.8358333\", \"34.0522222\", \"44.9111111\", \"41.8730556\", \"29.7855556\", \"40.1672222\", \"47.8850000\", \"27.2927778\", \"40.4850000\", \"47.5675000\", \"42.9275000\", \"28.5997222\", \"32.6452778\", \"47.9130556\", \"39.1638889\", \"42.6055556\", \"43.15\", \"30.6741667\", \"40.3980556\", \"35.46756\", \"29.2094444\", \"39.7391667\", \"30.2669444\", \"33.9561111\", \"40.6752778\", \"36.1750000\", \"41.1366667\", \"40.0150000\", \"44.4758333\", \"33.967338\", \"31.5602778\", \"40.2150000\", \"33.8491667\", \"33.3583333\", \"49.033333\", \"39.7136111\", \"40.7608333\", \"30.6941667\", \"26.6402778\", \"34.2072222\", \"39.7683333\", \"41.7305556\", \"40.7844444\", \"38.3963889\", \"45.0105556\", \"45.5608333\", \"46.216667\", \"27.3361111\", \"40.417287\", \"47.9791667\", \"41.2008333\", \"47.7166667\", \"33.4147222\", \"33.4483333\", \"35.9250000\", \"44.086667\", \"36.1658333\", \"39.6133333\", \"41.1688889\", \"39.7850000\", \"40.6027778\", \"27.9655556\", \"40.7141667\", \"44.35\", \"42.0027778\", \"32.7458333\", \"44.0394444\", \"38.8105556\", \"26.6583333\", \"41.5736111\", \"45.5608333\", \"51.386322\", \"51.386322\", \"42.9602778\", \"40.2900000\", \"32.7938889\", \"47.3811111\", \"41.0186111\", \"54.203611\", \"30.3880556\", \"46.6066667\", \"42.1397222\", \"42.4858333\", \"38.8941667\", \"39.9241667\", \"44.09395\", \"39.0061111\", \"41.2905556\", \"41.2905556\", \"29.5847222\", \"44.8041667\", \"41.3966667\", \"40.7705556\", \"28.5380556\", \"39.0955556\", \"39.0638889\", \"29.9838889\", \"41.9141667\", \"47.0530556\", \"42.6113889\", \"40.3933333\", \"61.5997222\", \"26.9294444\", \"49.216667\", \"27.664827\", \"32.8138889\", \"32.8138889\", \"35.8422222\", \"36.1538889\", \"30.6236111\", \"36.8527778\", \"41.8238889\", \"40.7536111\", \"36.1750000\", \"45.5\", \"39.9416667\", \"48.1172222\", \"52.683333\", \"33.170278\", \"36.5963889\", \"47.6777778\", \"39.7683333\", \"33.4222222\", \"26.4611111\", \"42.610756\", \"33.5805556\", \"26.6155556\", \"28.2438889\", \"42.7852778\", \"-17.383333\", \"43.0055556\", \"-33.480942\", \"28.1611111\", \"35.6233333\", \"39.3291667\", \"20.993106\", \"40.2141667\", \"42.2708333\", \"34.8847222\", \"38.7522222\", \"-37.813938\", \"47.6483333\", \"32.4616667\", \"26.1272222\", \"48.7052778\", \"39.1619444\", \"38.9463889\", \"39.1619444\", \"40.2452778\", \"39.1619444\", \"39.1908333\", \"39.1619444\", \"33.6680556\", \"37.422927\", \"33.6680556\", \"41.3305556\", \"45.673804\", \"27.6383333\", \"46.0038889\", \"34.028926\", \"35.5280556\", \"36.1658333\", \"-25.274398\", \"35.6838889\", \"-31.95224\", \"42.4683333\", \"28.5380556\", \"25.7738889\", \"41.7475000\", \"47.3294444\", \"38.8902778\", \"40.3077778\", \"35.9250000\", \"39.8783333\", \"44.9583333\", \"39.6133333\", \"38.9458333\", \"42.5775000\", \"34.0708333\", \"40.6300000\", \"36.7625000\", \"48.6969444\", \"43.5408333\", \"47.4936111\", \"35.6708333\", \"35.6869444\", \"35.6869444\", \"35.6869444\", \"43.5391667\", \"-20.725229\", \"44.0394444\", \"39.6291667\", \"47.6419444\", \"42.697708\", \"40.7877778\", \"33.7669444\", \"43.6136111\", \"41.0255556\", \"43.0388889\", \"38.5816667\", \"34.4838889\", \"44.1969444\", \"44.5433333\", \"26.4516667\", \"43.916667\", \"41.9902778\", \"44.2947222\", \"40.7608333\", \"42.5961111\", \"43.8013889\", \"27.2436111\", \"29.5955556\", \"36.4252778\", \"40.1150000\", \"39.9536111\", \"38.7522222\", \"43.7972222\", \"44.2947222\", \"34.1808333\", \"48.0841667\", \"37.3661111\", \"44.0536111\", \"44.6688889\", \"45.95\", \"34.1975000\", \"44.8108333\", \"44.6705556\", \"37.0297222\", \"40.2736111\", \"-34.151467\", \"49.25\", \"39.0997222\", \"34.46735\", \"42.9633333\", \"42.5369444\", \"43.5391667\", \"32.7447222\", \"47.2044444\", \"38.8033333\", \"39.8366667\", \"45.0905556\", \"44.7791667\", \"39.74\", \"44.7677778\", \"44.0747222\", \"44.7272222\", \"43.5391667\", \"41.6213889\", \"42.4927778\", \"29.1869444\", \"42.1675000\", \"31.3111111\", \"37.0519444\", \"41.6005556\", \"43.6275000\", \"38.8916667\", \"41.6005556\", \"34.2977778\", \"40.8261111\", \"39.4561111\", \"34.0522222\", \"33.1858333\", \"39.1405556\", \"42.0347222\", \"40.7402778\", \"42.5583333\", \"40.057838\", \"41.5380556\", \"30.093395\", \"41.4969444\", \"41.0813889\", \"38.1505556\", \"-31.95224\", \"38.4405556\", \"42.9311111\", \"33.2002778\", \"34.4838889\", \"41.6005556\", \"33.6408333\", \"41.6005556\", \"44.0463889\", \"40.3222222\", \"37.6438889\", \"34.0858333\", \"35.9525000\", \"34.1650000\", \"37.5455556\", \"30.2383333\", \"41.9000000\", \"26.0625000\", \"30.3319444\", \"41.6005556\", \"33.4147222\", \"42.7358333\", \"39.5297222\", \"32.4205556\", \"43.6136111\", \"38.8158333\", \"39.8027778\", \"39.8366667\", \"40.7355556\", \"43.6136111\", \"39.7391667\", \"43.316667\", \"42.3313889\", \"56.151116\", \"27.6383333\", \"28.5380556\", \"40.4166667\", \"38.6338889\", \"27.8533333\", \"42.8650000\", \"38.6986111\", \"33.2855556\", \"39.001777\", \"41.3080556\", \"39.064175\", \"44.3\", \"44.7894444\", \"38.6244444\", \"-0.95\", \"39.9008333\", \"36.0600000\", \"31.686175\", \"36.8527778\", \"36.1658333\", \"41.4772222\", \"61.5997222\", \"32.5761111\", \"39.2902778\", \"34.9247222\", \"46.3\", \"42.7261111\", \"43.2969444\", \"35.9555556\", \"33.3869444\", \"26.5216667\", \"44.4191667\", \"35.2333333\", \"35.2333333\", \"43.3138889\", \"40.4405556\", \"31.1369444\", \"36.4991667\", \"35.5641667\", \"38.2775000\", \"32.7152778\", \"35.6869444\", \"34.1850000\", \"35.0766667\", \"33.5225000\", \"35.0844444\", \"39.0997222\", \"39.0875000\", \"38.5450000\", \"39.0255556\", \"30.7108333\", \"48.7597222\", \"28.2438889\", \"52.633333\", \"37.5536111\", \"35.2333333\", \"45.5236111\", \"30.4111111\", \"18.473833\", \"-27.522349\", \"37.6391667\", \"48.736277\", \"37.8716667\", \"26.4377778\", \"37.3394444\", \"39.3736111\", \"45.7833333\", \"40.1005556\", \"31.8455556\", \"26.9338889\", \"43.0388889\", \"40.6861111\", \"46.521858\", \"37.9577778\", \"28.2713889\", \"35.6225000\", \"43.3766667\", \"34.8833333\", \"27.8425000\", \"32.6394444\", \"39.9625000\", \"32.7252778\", \"43.666667\", \"25.7738889\", \"51.133333\", \"33.7222222\", \"36.7280556\", \"29.2855556\", \"33.7669444\", \"27.9375000\", \"41.8500000\", \"64.0377778\", \"20.8911111\", \"38.4088889\", \"37.1041667\", \"36.2077778\", \"39.125403\", \"46.1383333\", \"40.6111111\", \"52.966667\", \"47.6063889\", \"51.514125\", \"30.2944444\", \"43.0677778\", \"26.6155556\", \"38.5816667\", \"40.4405556\", \"20.8783333\", \"33.37451\", \"27.3361111\", \"37.9577778\", \"43.801356\", \"40.1800000\", \"40.7311111\", \"37.1888889\", \"28.5380556\", \"33.8352778\", \"21.3069444\", \"28.2438889\", \"33.6116667\", \"33.5172222\", \"33.2111111\", \"31.5788889\", \"32.4205556\", \"46.2633333\", \"41.6361111\", \"36.7477778\", \"41.7480556\", \"43.9847222\", \"44.215261\", \"44.5141667\", \"43.9847222\", \"44.4408333\", \"44.2600000\", \"43.9408333\", \"43.6461111\", \"43.5911111\", \"43.7152778\", \"41.9902778\", \"70.416667\", \"44.2600000\", \"43.193852\", \"40.4383333\", \"40.4172222\", \"42.7008333\", \"28.4952778\", \"41.9902778\", \"36.8525000\", \"41.0180556\", \"43.8122222\", \"31.3402778\", \"47.2530556\", \"40.4086111\", \"40.6263889\", \"44.7527778\", \"42.5294444\", \"43.1705556\", \"21.3069444\", \"34.4208333\", \"32.9627778\", \"39.9522222\", \"36.5166667\", \"44.409977\", \"44.7197222\", \"47.8555556\", \"47.9791667\", \"26.2708333\", \"40.0391667\", \"47.9447222\", \"33.8136111\", \"41.0894444\", \"45.6797222\", \"44.0805556\", \"41.223\", \"42.3875000\", \"45.6388889\", \"45.9047222\", \"46.7311111\", \"39.8772222\", \"41.1919444\", \"28.5380556\", \"34.086941\", \"38.5816667\", \"46.5927778\", \"49.500881\", \"43.1636111\", \"34.8780556\", \"42.8650000\", \"39.0288889\", \"30.0850000\", \"33.9686111\", \"40.2291667\", \"40.058324\", \"42.4972222\", \"38.4405556\", \"61.5813889\", \"42.2208333\", \"43.0972222\", \"25.9561111\", \"55.616667\", \"34.0233333\", \"34.0233333\", \"39.6427778\", \"43.5500000\", \"34.1477778\", \"28.7394444\", \"35.0886111\", \"33.9813889\", \"40.2969444\", \"39.2402778\", \"41.4372222\", \"43.681611\", \"37.9086111\", \"41.4858333\", \"39.2883333\", \"27.9472222\", \"35.0255556\", \"44.2727778\", \"48.5127778\", \"47.5675000\", \"32.7152778\", \"39.57394\", \"39.0997222\", \"35.9938889\", \"43.3855556\", \"-0.589724\", \"19.181739\", \"40.7608333\", \"44.7350000\", \"55.833333\", \"39.9719444\", \"52.2\", \"42.9633333\", \"28.5650000\", \"28.2713889\", \"28.2438889\", \"34.2569444\", \"32.7355556\", \"46.6311111\", \"42.4775000\", \"46.5927778\", \"48.2766667\", \"34.3541667\", \"41.7000000\", \"36.8527778\", \"41.7991667\", \"38.0044444\", \"28.8525000\", \"35.1083333\", \"37.1377778\", \"35.1083333\", \"47.6588889\", \"47.6588889\", \"42.8697222\", \"29.1655556\", \"33.3061111\", \"36.0625000\", \"55.833333\", \"28.078072\", \"44.6366667\", \"27.2436111\", \"38.0050000\", \"37.3394444\", \"35.2922222\", \"35.3733333\", \"42.126116\", \"37.9747222\", \"42.2625000\", \"38.9558333\", \"48.0152778\", \"34.1480556\", \"41.9994444\", \"39.6861111\", \"42.9730556\", \"41.8500000\", \"42.2586111\", \"35.6125000\", \"42.5630556\", \"44.0583333\", \"44.0583333\", \"44.4758333\", \"44.4758333\", \"44.0583333\", \"36.1658333\", \"44.0463889\", \"44.0463889\", \"28.6697222\", \"41.0544444\", \"35.0525000\", \"43.5408333\", \"40.5694444\", \"26.2375000\", \"45.4208333\", \"40.7488889\", \"45.433333\", \"32.0722222\", \"38.9666667\", \"42.1033333\", \"39.9008333\", \"35.0072222\", \"37.6922222\", \"35.1602778\", \"32.7252778\", \"33.4269444\", \"40.1244444\", \"40.5852778\", \"41.6386111\", \"33.4150000\", \"41.0783333\", \"36.0955556\", \"29.9911111\", \"43.7208333\", \"35.397778\", \"36.8525000\", \"35.9250000\", \"44.0838889\", \"38.2544444\", \"38.3030556\", \"36.2694444\", \"33.4483333\", \"32.2216667\", \"40.8000000\", \"34.3580556\", \"43.837208\", \"28.1822222\", \"44.233333\", \"42.766667\", \"42.3583333\", \"37.289694\", \"38.4088889\", \"33.9841667\", \"36.9902778\", \"34.1336111\", \"45.0575000\", \"35.0844444\", \"41.9902778\", \"35.9605556\", \"38.7508333\", \"41.1466667\", \"41.5022222\", \"33.9841667\", \"47.4486111\", \"28.635308\", \"41.6797222\", \"33.6888889\", \"42.4500000\", \"41.7791667\", \"37.0058333\", \"30.2238889\", \"42.8666667\", \"44.9250000\", \"34.4838889\", \"35.0844444\", \"46.083333\", \"42.3333333\", \"41.5066667\", \"40.2755556\", \"44.7208333\", \"38.7744444\", \"42.5791667\", \"32.6550000\", \"33.7319444\", \"40.057838\", \"26.1591667\", \"42.7208333\", \"29.8944444\", \"42.7344444\", \"28.5380556\", \"42.4602778\", \"30.5041667\", \"33.3061111\", \"38.6402778\", \"31.2169444\", \"-37.979858\", \"26.5625000\", \"36.877342\", \"41.8500000\", \"46.2113889\", \"33.9525000\", \"39.9977778\", \"30.1658333\", \"33.4330556\", \"39.4141667\", \"39.3258333\", \"39.3258333\", \"33.9813889\", \"40.8813889\", \"40.8813889\", \"39.2902778\", \"41.7000000\", \"41.8872222\", \"42.4333333\", \"44.6780556\", \"41.7013889\", \"29.5375000\", \"40.858433\", \"40.8066667\", \"35.8027778\", \"38.6172222\", \"40.8297222\", \"40.6583333\", \"47.9447222\", \"34.4838889\", \"28.0194444\", \"44.2800000\", \"37.5311111\", \"42.3636111\", \"33.9525000\", \"42.8744444\", \"44.9430556\", \"35.9516667\", \"37.9975000\", \"37.9975000\", \"40.623333\", \"33.7513889\", \"39.4452778\", \"42.7491667\", \"26.9338889\", \"32.2216667\", \"45.4463889\", \"38.780938\", \"38.780938\", \"27.8425000\", \"35.3394444\", \"35.4675000\", \"40.0377778\", \"26.7080556\", \"38.2541667\", \"40.4166667\", \"40.9977778\", \"46.8722222\", \"18.52043\", \"42.2611111\", \"38.812059\", \"39.3880556\", \"34.4269444\", \"45.95\", \"25.686614\", \"42.6055556\", \"33.754185\", \"41.1338889\", \"35.7883333\", \"49.683333\", \"28.5380556\", \"47.1772222\", \"29.7944444\", \"36.0533333\", \"40.376177\", \"47.0344444\", \"41.1411111\", \"43.5883333\", \"37.3822222\", \"43.1144444\", \"35.5361111\", \"27.9472222\", \"42.9133333\", \"41.4047222\", \"44.2238889\", \"34.7302778\", \"42.3266667\", \"43.0638889\", \"35.6666667\", \"35.5363889\", \"35.1980556\", \"37.0297222\", \"38.4191667\", \"43.9786111\", \"39.6133333\", \"28.1486111\", \"29.7233333\", \"39.613584\", \"39.4436111\", \"37.8044444\", \"41.1669444\", \"38.9180556\", \"3.139003\", \"43.0388889\", \"33.7825000\", \"51\", \"40.7519444\", \"34.1063889\", \"35.9938889\", \"41.6738889\", \"41.9555556\", \"44.9800000\", \"33.5091667\", \"42.3636111\", \"32.2986111\", \"45.377973\", \"42.5972222\", \"39.0275000\", \"38.2972222\", \"37.8044444\", \"34.4900000\", \"35.0844444\", \"51.416667\", \"33.0580556\", \"40.7608333\", \"33.1191667\", \"38.9583333\", \"44.1002778\", \"36.5297222\", \"36.5297222\", \"40.3933333\", \"-35.27603\", \"43.2341667\", \"42.7797222\", \"46.7833333\", \"25.0861111\", \"34.0005556\", \"27.9655556\", \"41.8650000\", \"45.012466\", \"35.7719444\", \"41.0388889\", \"36.070378\", \"47.0380556\", \"20.8783333\", \"42.4975000\", \"33.4708333\", \"34.0561111\", \"42.3369444\", \"52.633333\", \"40.7583333\", \"30.4288889\", \"29.7630556\", \"45.85\", \"61.5813889\", \"32.165622\", \"34.0561111\", \"40.2413889\", \"34.2541667\", \"42.4391667\", \"44.9902778\", \"38.1041667\", \"33.353873\", \"33.4483333\", \"32.4366667\", \"29.4238889\", \"33.5091667\", \"41.1383333\", \"40.1744444\", \"34.9569444\", \"30.1763889\", \"38.3497222\", \"42.1291667\", \"41.1563889\", \"30.5452778\", \"44.239162\", \"35.3394444\", \"38.7291667\", \"33.9791667\", \"34.0522222\", \"32.9777778\", \"29.8944444\", \"33.2888889\", \"35.052664\", \"38.9011111\", \"38.807968\", \"39.507672\", \"31.2230556\", \"33.7358333\", \"33.1213889\", \"32.7152778\", \"33.7125000\", \"47.0980556\", \"31.4636111\", \"40.8041667\", \"38.9980556\", \"26.6402778\", \"34.4208333\", \"26.9338889\", \"33.0197222\", \"46.1880556\", \"29.7630556\", \"42.8666667\", \"45.7202778\", \"40.9983\", \"40.9402778\", \"38.7041667\", \"44.20561\", \"30.2669444\", \"38.8822222\", \"32.9808333\", \"30.6941667\", \"28.9538889\", \"29.456053\", \"48.1958333\", \"34.363889\", \"34.363889\", \"42.8650000\", \"39.1855556\", \"26.9758333\", \"40.2330556\", \"44.9800000\", \"40.1672222\", \"21.8763889\", \"36.1866667\", \"36.2830556\", \"41.8266667\", \"29.5633333\", \"40.0991667\", \"42.3636111\", \"41.2975000\", \"27.8533333\", \"35.9938889\", \"37.2708333\", \"38.8302778\", \"33.8125000\", \"38.9908333\", \"43.0805556\", \"30.0969444\", \"53.416667\", \"40.5813889\", \"39.3638889\", \"40.1302778\", \"38.0050000\", \"35.2269444\", \"42.4775000\", \"36.0222222\", \"32.7355556\", \"37.3402778\", \"36.1155556\", \"44.1752778\", \"34.0194444\", \"27.9655556\", \"56.116667\", \"40.0150000\", \"39.7391667\", \"39.481369\", \"41.4994444\", \"40.7325000\", \"33.8941667\", \"32.514947\", \"19.9430556\", \"39.9080556\", \"44.713611\", \"36.3955556\", \"33.4222222\", \"28.8355556\", \"41.8975000\", \"28.8355556\", \"38.5725000\", \"42.170664\", \"38.9822222\", \"40.6300000\", \"32.832322\", \"41.2794444\", \"64.8377778\", \"41.2052778\", \"39.0702778\", \"39.3111111\", \"40.3141667\", \"35.2922222\", \"41.699096\", \"45.6388889\", \"37.047822\", \"26.0966667\", \"33.4483333\", \"38.9716667\", \"28.1486111\", \"31.0000000\", \"38.8822222\", \"34.0522222\", \"-37.979858\", \"51.45\", \"33.5336111\", \"43.9\", \"35.7511111\", \"29.9744444\", \"41.1669444\", \"42.6566667\", \"33.4502778\", \"34.6086111\", \"47.5002778\", \"33.4483333\", \"37.2386111\", \"38.8119444\", \"38.8119444\", \"38.9822222\", \"28.5380556\", \"33.4352778\", \"47.3069444\", \"29.9838889\", \"41.774489\", \"64.8377778\", \"61.2180556\", \"47.4736111\", \"61.2180556\", \"33.9166667\", \"43.2505556\", \"39.5297222\", \"43.6852778\", \"43.8788889\", \"42.8666667\", \"44.1916667\", \"42.5466667\", \"44.7538889\", \"35.6527778\", \"34.0900000\", \"41.7636111\", \"42.8141667\", \"39.0319444\", \"37.6922222\", \"33.7488889\", \"49.9\", \"34.5369444\", \"37.5058333\", \"41.4538889\", \"45.416667\", \"34.1511111\", \"39.7683333\", \"35.4675000\", \"27.8002778\", \"40.3641667\", \"38.2544444\", \"35.3394444\", \"39.6619444\", \"48.7597222\", \"42.5222222\", \"47.5002778\", \"39.2902778\", \"-1.292066\", \"40.330188\", \"36.616289\", \"43.2166667\", \"35.2269444\", \"31.3463889\", \"37.3394444\", \"41.7000000\", \"43.2166667\", \"39.7391667\", \"39.7047222\", \"39.9205556\", \"41.611143\", \"43.6136111\", \"39.6261111\", \"33.7738889\", \"33.1958333\", \"34.1650000\", \"33.6850000\", \"33.4130556\", \"43.0388889\", \"18.466667\", \"33.4502778\", \"45.583333\", \"64.7511111\", \"39.7391667\", \"34.0658333\", \"26.913396\", \"37.3661111\", \"35.6527778\", \"41.5380556\", \"38.6825000\", \"41.1327778\", \"42.6158333\", \"42.5063889\", \"43.9075000\", \"37.7058333\", \"42.0805556\", \"39.7047222\", \"-0.95\", \"28.6647222\", \"44.4288889\", \"27.9091667\", \"28.0777778\", \"27.7705556\", \"28.0777778\", \"26.1416667\", \"29.8944444\", \"40.1672222\", \"37.7750000\", \"40.1672222\", \"47.4736111\", \"43.6136111\", \"40.1672222\", \"39.9611111\", \"44.0463889\", \"43.0730556\", \"26.7052778\", \"34.0633333\", \"28.7497222\", \"33.0580556\", \"40.6255556\", \"44.7458333\", \"61.2180556\", \"35.0136111\", \"33.4483333\", \"30.3319444\", \"26.6583333\", \"25.7738889\", \"-36.84846\", \"45.7344444\", \"30.2669444\", \"34.4480556\", \"42.2625000\", \"27.0994444\", \"38.5816667\", \"33.1191667\", \"-19.26639\", \"17.385044\", \"40.417095\", \"44.4111111\", \"38.5816667\", \"49.9\", \"41.3116667\", \"35.0525000\", \"40.249274\", \"28.5688889\", \"35.1494444\", \"48.366667\", \"31.1277778\", \"38.5563889\", \"35.8233333\", \"48.2200000\", \"19.7297222\", \"25.9561111\", \"33.5016667\", \"34.2866667\", \"38.7933333\", \"28.2713889\", \"36.1750000\", \"25.7738889\", \"44.9133333\", \"49.883333\", \"26.9758333\", \"44.4583333\", \"37.3394444\", \"27.8394444\", \"34.1013889\", \"32.4580556\", \"35.0844444\", \"41.2888889\", \"38.8047222\", \"43.7094444\", \"33.7838889\", \"34.6980556\", \"39.8522222\", \"40.8611111\", \"38.6272222\", \"33.0897222\", \"33.6888889\", \"42.0347222\", \"20.7850000\", \"42.0644444\", \"38.4405556\", \"30.6033333\", \"28.5380556\", \"35.2427778\", \"61.2180556\", \"37.7808333\", \"36.9902778\", \"33.4352778\", \"42.7261111\", \"-0.95\", \"37.9577778\", \"33.6888889\", \"31.4713889\", \"33.8158333\", \"37.9747222\", \"40.7608333\", \"34.3541667\", \"27.0994444\", \"47.0344444\", \"33.9730556\", \"41.3197222\", \"48.0402778\", \"47.6063889\", \"39.0166667\", \"40.7469444\", \"41.7758333\", \"25.789097\", \"39.5297222\", \"39.7286111\", \"33.2441667\", \"27.411695\", \"27.0438889\", \"42.8708333\", \"33.170278\", \"-34.033333\", \"41.0933333\", \"42.0680556\", \"40.5000000\", \"27.9472222\", \"20.7850000\", \"44.9430556\", \"29.4238889\", \"45.5236111\", \"28.7077778\", \"47.6063889\", \"34.1808333\", \"45.5236111\", \"37.9358333\", \"36.1197222\", \"39.5350000\", \"33.170278\", \"40.2969444\", \"29.8241667\", \"39.9608333\", \"39.864819\", \"27.9655556\", \"35.3991667\", \"32.7355556\", \"37.9975000\", \"42.1391667\", \"28.5380556\", \"34.6080556\", \"39.7391667\", \"45.5236111\", \"28.6119444\", \"38.0050000\", \"32.7677778\", \"34.1705556\", \"34.0522222\", \"38.2541667\", \"31.8275000\", \"33.6888889\", \"33.6888889\", \"30.2669444\", \"39.1619444\", \"49.183333\", \"37.9736111\", \"37.8044444\", \"33.170278\", \"36.8527778\", \"60.4877778\", \"36.7280556\", \"42.9994444\", \"47.8125000\", \"44.0463889\", \"32.2216667\", \"32.2216667\", \"30.3319444\", \"26.8172222\", \"35.9986111\", \"51.037852\", \"26.5625000\", \"47.7180556\", \"37.3394444\", \"38.6244444\", \"43.8261111\", \"45.0083333\", \"33.7877778\", \"43.8261111\", \"33.4150000\", \"41.060222\", \"36.1658333\", \"28.2486111\", \"40.4277778\", \"33.2486111\", \"61.5813889\", \"46.4400000\", \"20.6566667\", \"61.2180556\", \"61.2180556\", \"49.3\", \"36.9102778\", \"38.6402778\", \"50.35\", \"41.1175000\", \"41.1572222\", \"33.1958333\", \"42.7261111\", \"-32.366464\", \"41.79667\", \"46.0688889\", \"37.2638889\", \"33.170278\", \"41.4813889\", \"40.3275000\", \"43.6630556\", \"36.0625000\", \"42.586888\", \"41.1769444\", \"44.2600000\", \"33.5386111\", \"44.2619444\", \"43.6136111\", \"46.7313889\", \"43.5208333\", \"47.6063889\", \"36.0725000\", \"40.7988889\", \"45.8119444\", \"43.6136111\", \"43.0125000\", \"32.7252778\", \"41.6716667\", \"35.0844444\", \"42.3694444\", \"40.3769444\", \"35.0844444\", \"30.7619444\", \"42.4666667\", \"25.686614\", \"32.514947\", \"47.7180556\", \"30.0797222\", \"33.7738889\", \"30.3319444\", \"29.9544444\", \"30.4752778\", \"44.0805556\", \"27.9455556\", \"-33.932104\", \"30.2750000\", \"33.4222222\", \"27.6383333\", \"32.7152778\", \"41.1016667\", \"34.0522222\", \"38.7316667\", \"25.7738889\", \"38.6272222\", \"40.0377778\", \"26.9758333\", \"45.9266667\", \"39.6291667\", \"40.4330556\", \"26.2708333\", \"38.3030556\", \"37.3394444\", \"43.9680556\", \"34.1577778\", \"38.8338889\", \"28.8002778\", \"53.352426\", \"38.2319444\", \"43.2547222\", \"30.209496\", \"40.5000000\", \"37.6688889\", \"40.3977778\", \"33.0580556\", \"39.9080556\", \"35.7883333\", \"38.4016667\", \"37.5058333\", \"28.5380556\", \"28.5380556\", \"43.333333\", \"42.0027778\", \"38.5816667\", \"26.1000000\", \"33.6602778\", \"26.9758333\", \"40.8538889\", \"28.2713889\", \"35.0844444\", \"35.2427778\", \"39.7091667\", \"44.9444444\", \"42.0372222\", \"38.5816667\", \"44.7319444\", \"32.8786111\", \"38.6272222\", \"34.7463889\", \"33.2558333\", \"47.1855556\", \"38.8105556\", \"39.1836111\", \"38.7838889\", \"38.9516667\", \"34.0752778\", \"39.0916667\", \"61.2180556\", \"41.1383333\", \"-33.861481\", \"39.9611111\", \"40.9252778\", \"34.0522222\", \"40.6600000\", \"26.5250000\", \"30.4063889\", \"34.3113889\", \"39.1625000\", \"33.8958333\", \"39.4408333\", \"46.5927778\", \"42.2958333\", \"45.0083333\", \"38.9605556\", \"40.6083333\", \"45.0083333\", \"27.2936111\", \"40.7038889\", \"42.7761111\", \"32.2216667\", \"33.2000000\", \"33.9525000\", \"34.2083333\", \"44.8877778\", \"27.9091667\", \"39.0061111\", \"36.6777778\", \"33.3763889\", \"33.5602778\", \"46.8722222\", \"40.4416667\", \"38.4405556\", \"44.0216667\", \"26.9758333\", \"33.8905556\", \"36.778261\", \"45.3338889\", \"39.7683333\", \"39.9611111\", \"39.9508333\", \"40.7988889\", \"33.9375000\", \"43.0347222\", \"39.1638889\", \"42.3758333\", \"40.5061111\", \"41.8238889\", \"36.9975000\", \"35.1083333\", \"39.9347222\", \"53.983333\", \"33.6888889\", \"33.6888889\", \"37.6391667\", \"29.5072222\", \"34.1486111\", \"42.495556\", \"40.4197222\", \"37.2266667\", \"33.9866667\", \"28.5380556\", \"44.2736111\", \"36.798432\", \"41.4530556\", \"49.7\", \"40.0377778\", \"33.0580556\", \"36.9\", \"29.7194444\", \"38.9625000\", \"19.639994\", \"39.5994444\", \"26.9677778\", \"41.2586111\", \"27.3361111\", \"30.3086111\", \"35.1594444\", \"36.974286\", \"40.4233333\", \"51.341158\", \"26.6583333\", \"38.2775000\", \"48.1172222\", \"26.1416667\", \"30.3319444\", \"47.7627778\", \"39.0638889\", \"47.7544444\", \"25.939741\", \"42.0527778\", \"32.7152778\", \"42.6525000\", \"32.7152778\", \"32.7152778\", \"42.1861111\", \"34.086941\", \"41.5102778\", \"36.9038889\", \"37.3769444\", \"14.083333\", \"36.1750000\", \"42.8508333\", \"28.6608333\", \"64.8377778\", \"39.7588889\", \"28.7027778\", \"36.4072222\", \"33.967626\", \"44.9800000\", \"44.8622222\", \"41.7636111\", \"38.4022222\", \"37.6138889\", \"42.9855556\", \"46.4163889\", \"32.7152778\", \"26.5250000\", \"36.9741667\", \"46.6541667\", \"37.6625000\", \"38.8966667\", \"45.6797222\", \"41.9902778\", \"33.3763889\", \"30.0686111\", \"28.2438889\", \"39.7391667\", \"61.3213889\", \"44.6366667\", \"45.3038889\", \"47.7769444\", \"32.8472222\", \"44.229773\", \"32.5158333\", \"26.1219444\", \"26.8230556\", \"45.5236111\", \"20.8366667\", \"34.2255556\", \"52.766667\", \"44.0522222\", \"38.2541667\", \"33.7222222\", \"47.71702\", \"34.4263889\", \"45.4313889\", \"45.5236111\", \"33.963056\", \"34.4208333\", \"33.4222222\", \"33.3041667\", \"34.0005556\", \"35.7330556\", \"39.3825000\", \"28.2486111\", \"32.2216667\", \"43.6136111\", \"35.9555556\", \"40.7091667\", \"40.8325000\", \"45.6797222\", \"40.5186111\", \"33.0580556\", \"33.6888889\", \"34.0519444\", \"40.5122222\", \"39.1619444\", \"64.8377778\", \"34.7302778\", \"46.3\", \"27.9472222\", \"44.5647222\", \"53.9\", \"32.7938889\", \"27.9091667\", \"-37.813938\", \"37.9577778\", \"39.8208333\", \"27.8425000\", \"27.3361111\", \"34.9202778\", \"30.6086111\", \"20.7850000\", \"32.3122222\", \"57.653035\", \"37.7750000\", \"37.7750000\", \"42.8650000\", \"42.9708333\", \"41.0352778\", \"40.8372222\", \"46.2113889\", \"30.1900000\", \"29.6513889\", \"28.291956\", \"37.5536111\", \"26.6250000\", \"26.62535\", \"30.275784\", \"28.0391667\", \"26.6155556\", \"26.6155556\", \"26.2375000\", \"26.6155556\", \"28.1805556\", \"42.4905556\", \"42.7652778\", \"26.7080556\", \"45.6\", \"39.1111111\", \"27.8161111\", \"29.3683333\", \"26.6250000\", \"32.7355556\", \"26.5216667\", \"28.5491667\", \"32.2216667\", \"42.2458333\", \"42.3266667\", \"42.466373\", \"35.7719444\", \"35.9380556\", \"30.3319444\", \"38.4416667\", \"47.3225000\", \"41.5444444\", \"26.9758333\", \"42.0427778\", \"43.0716667\", \"42.0450000\", \"27.9769444\", \"39.6569444\", \"32.2216667\", \"32.2216667\", \"42.7244444\", \"39.4277778\", \"26.9758333\", \"46.1469444\", \"40.9622222\", \"38.5450000\", \"25.7211111\", \"38.4088889\", \"39.5297222\", \"42.8141667\", \"42.6658333\", \"34.2694444\", \"29.4238889\", \"28.5380556\", \"41.681994\", \"55.3422222\", \"44.2650000\", \"42.8711111\", \"45.0761111\", \"28.1611111\", \"38.5816667\", \"37.4947222\", \"45.6388889\", \"43.6613889\", \"20.9316667\", \"-31.95224\", \"30.2669444\", \"36.903068\", \"47.9255556\", \"34.2561111\", \"36.1538889\", \"40.3769444\", \"26.3583333\", \"42.2788889\", \"30.3319444\", \"20.653407\", \"33.9608333\", \"33.3627778\", \"35.6833333\", \"39.8525000\", \"32.9911111\", \"21.3822222\", \"35.6838889\", \"26.9758333\", \"20.8911111\", \"42.0372222\", \"40.7608333\", \"33.0888889\", \"35.6216667\", \"39.7683333\", \"27.2541667\", \"32.8472222\", \"30.1763889\", \"27.9091667\", \"26.2708333\", \"37.7058333\", \"41.9269444\", \"45.5236111\", \"41.3113889\", \"33.5422222\", \"37.431573\", \"32.7763889\", \"53.4\", \"26.3583333\", \"34.028926\", \"42.9633333\", \"28.244177\", \"42.6111111\", \"47.0380556\", \"45.979922\", \"25.7738889\", \"43.6105556\", \"38.3566667\", \"26.3394444\", \"39.7047222\", \"39.5138889\", \"40.5058333\", \"42.2833333\", \"40.1550000\", \"30.3319444\", \"33.3527778\", \"33.7738889\", \"46.1469444\", \"41.4088889\", \"42.4133333\", \"39.1405556\", \"35.5463889\", \"26.9338889\", \"38.2972222\", \"9.748917\", \"40.4147222\", \"35.0525000\", \"33.7669444\", \"40.7141667\", \"43.5966667\", \"27.9472222\", \"39.8547222\", \"45.5230556\", \"28.1758333\", \"36.0397222\", \"38.6402778\", \"29.0386111\", \"28.7811111\", \"44.3683333\", \"47.5405556\", \"39.8680556\", \"30.3319444\", \"47.9252778\", \"36.8572222\", \"42.5588889\", \"40.3933333\", \"39.4152778\", \"44.3483333\", \"37.5483333\", \"30.0083333\", \"39.8016667\", \"45.4983333\", \"40.5186111\", \"51.514125\", \"42.844668\", \"64.7511111\", \"33.8491667\", \"29.8944444\", \"30.6941667\", \"39.6416667\", \"30.1313889\", \"34.2561111\", \"38.3397222\", \"27.0591667\", \"27.0591667\", \"28.2916667\", \"29.5847222\", \"37.3394444\", \"32.8277778\", \"47.1855556\", \"37.4716667\", \"35.0844444\", \"40.1022222\", \"35.2263889\", \"36.6002778\", \"34.4838889\", \"31.1050000\", \"26.1416667\", \"48.450556\", \"33.4483333\", \"45.416667\", \"40.6638889\", \"54.25\", \"36.1397222\", \"41.2041667\", \"39.1361111\", \"37.0563889\", \"38.7522222\", \"35.6505556\", \"35.4116667\", \"42.2711111\", \"42.8711111\", \"40.7311111\", \"37.9872222\", \"38.6447222\", \"44.3530556\", \"35.909444\", \"40.65932\", \"42.1227778\", \"41.6580556\", \"34.0522222\", \"27.2155556\", \"26.8833333\", \"43.5500000\", \"40.3980556\", \"36.2000000\", \"45.4463889\", \"44.0216667\", \"42.0083333\", \"47.6063889\", \"40.3977778\", \"33.6602778\", \"33.7091667\", \"35.775664\", \"40.7988889\", \"41.9533333\", \"34.0194444\", \"32.3344444\", \"43.6613889\", \"39.505468\", \"40.7883333\", \"42.2666667\", \"43.7072222\", \"34.2011111\", \"29.8750000\", \"41.2230556\", \"25.7738889\", \"36.3125000\", \"39.8016667\", \"38.5130556\", \"42.0083333\", \"19.32217\", \"48.4111111\", \"41.658445\", \"39.8466667\", \"32.9975000\", \"33.2147222\", \"40.3875000\", \"40.4251\", \"41.6527778\", \"26.1219444\", \"36.8188889\", \"42.1013889\", \"34.8697222\", \"39.2902778\", \"36.1658333\", \"43.75\", \"43.0730556\", \"51.633333\", \"43.5500000\", \"34.0211111\", \"36.1055556\", \"37.3058333\", \"44.9341667\", \"34.9247222\", \"33.9383333\", \"40.8894444\", \"31.1997222\", \"42.0850000\", \"49.25\", \"44.9902778\", \"34.1808333\", \"45.7763889\", \"43.0116667\", \"41.8316667\", \"41.8316667\", \"42.3266667\", \"51.65\", \"56.166667\", \"37.6688889\", \"40.330666\", \"34.2625000\", \"35.860374\", \"41.3705556\", \"30.3319444\", \"26.9338889\", \"35.6752778\", \"41.0858333\", \"38.2972222\", \"40.5430556\", \"34.7369444\", \"-27.927513\", \"32.9855556\", \"49.783333\", \"41.9294444\", \"45.6722222\", \"39.0638889\", \"40.2969444\", \"33.9730556\", \"29.7855556\", \"39.0638889\", \"20.7580556\", \"42.6555556\", \"40.1202778\", \"38.8461111\", \"45.7008333\", \"41.3208333\", \"34.8480556\", \"26.1336111\", \"40.6638889\", \"49.25\", \"29.7630556\", \"41.6269444\", \"35.2619444\", \"39.2655556\", \"26.7052778\", \"34.7019444\", \"45.2102778\", \"34.9808333\", \"41.1305556\", \"33.3805556\", \"46.216667\", \"35.9605556\", \"41.6802778\", \"44.0522222\", \"47.6588889\", \"36.8527778\", \"36.1658333\", \"42.4391667\", \"36.3883333\", \"34.1477778\", \"28.4366667\", \"35.4491667\", \"35.3613889\", \"39.6411111\", \"34.1722222\", \"33.9561111\", \"41.6941667\", \"38.0050000\", \"29.9116667\", \"42.4436111\", \"38.951705\", \"32.4283333\", \"42.0883333\", \"42.0883333\", \"47.6063889\", \"35.1894444\", \"33.8491667\", \"31.1797222\", \"36.8188889\", \"34.0522222\", \"33.9533333\", \"48.7597222\", \"41.1277778\", \"39.9977778\", \"43.1547222\", \"39.7391667\", \"37.5483333\", \"45.0097222\", \"38.2541667\", \"33.4483333\", \"38.2119444\", \"45.5200000\", \"30.9261111\", \"39.0272222\", \"34.1063889\", \"-32.927792\", \"-33.924868\", \"29.5425000\", \"47.6588889\", \"41.1305556\", \"51\", \"32.4608333\", \"45.5\", \"36.6002778\", \"36.1155556\", \"30.1102778\", \"39.9166667\", \"33.9813889\", \"26.2169444\", \"28.3644444\", \"45.6700000\", \"42.365259\", \"32.2216667\", \"33.3061111\", \"43.761538\", \"34.5033333\", \"47.0380556\", \"24.7133333\", \"38.0172222\", \"41.4\", \"27.3361111\", \"39.8438889\", \"38.3030556\", \"44.9866667\", \"42.4500000\", \"5.810551\", \"39.6261111\", \"39.7172222\", \"36.1750000\", \"32.755488\", \"38.7072222\", \"42.1969444\", \"39.2805556\", \"45.5230556\", \"32.7833333\", \"45.7055556\", \"33.0461111\", \"28.668107\", \"42.7619444\", \"42.8863889\", \"26.7052778\", \"33.99113\", \"45.704986\", \"53.945188\", \"38.1041667\", \"32.7152778\", \"41.1052778\", \"33.963056\", \"37.5058333\", \"36.0544444\", \"45.6966667\", \"33.9791667\", \"33.9172222\", \"34.8525000\", \"33.8491667\", \"33.5386111\", \"38.6272222\", \"61.5997222\", \"35.3733333\", \"34.1477778\", \"34.1952778\", \"40.5583333\", \"41.9316667\", \"41.2458333\", \"35.7883333\", \"42.0708333\", \"41.700371\", \"41.2888889\", \"36.7477778\", \"45.3575000\", \"39.9611111\", \"33.1975000\", \"33.1975000\", \"36.1750000\", \"44.0522222\", \"39.6580556\", \"27.9472222\", \"40.9994444\", \"43.1063889\", \"30.7750000\", \"33.4708333\", \"28.393619\", \"36.1750000\", \"34.1952778\", \"40.49297\", \"32.7355556\", \"38.9516667\", \"32.9786111\", \"40.7141667\", \"40.3805556\", \"36.0652778\", \"37.9975000\", \"35.7719444\", \"33.9136111\", \"35.77959\", \"37.0297222\", \"38.3397222\", \"35.5083333\", \"26.9677778\", \"33.7455556\", \"35.3061111\", \"43.5408333\", \"48.7597222\", \"32.7152778\", \"39.5297222\", \"38.6172222\", \"35.6869444\", \"32.7763889\", \"40.3858333\", \"33.9136111\", \"36.007949\", \"43.5963889\", \"-33.713032\", \"34.2255556\", \"29.5955556\", \"42.4555556\", \"36.9741667\", \"33.1730556\", \"38.0280556\", \"34.5008333\", \"26.5625000\", \"35.2269444\", \"42.6402778\", \"35.7063889\", \"31.9516667\", \"42.7652778\", \"43.3269444\", \"39.2775000\", \"35.6869444\", \"41.8238889\", \"47.6733333\", \"29.2769444\", \"42.8650000\", \"43.2797222\", \"41.6269444\", \"44.4375000\", \"44.4669444\", \"43.8333333\", \"44.1580556\", \"44.7650000\", \"44.2600000\", \"45.7544444\", \"32.9855556\", \"38.7297222\", \"42.9\", \"25.7738889\", \"36.1658333\", \"41.6269444\", \"26.2350000\", \"47.6105556\", \"30.6355556\", \"46.216667\", \"47.3894444\", \"35.9605556\", \"34.019734\", \"34.6391667\", \"44.477492\", \"30.3319444\", \"47.8108333\", \"28.7027778\", \"41.8500000\", \"-36.84846\", \"33.7747222\", \"40.0150000\", \"39.1072222\", \"33.9400000\", \"34.0005556\", \"38.7908333\", \"20.7580556\", \"27.8500000\", \"37.6138889\", \"47.6063889\", \"47.2530556\", \"42.1013889\", \"34.1425000\", \"48.05\", \"48.05\", \"-33.861481\", \"-8.783195\", \"33.8491667\", \"43.5758333\", \"40.9622222\", \"31.7319444\", \"21.3069444\", \"33.0580556\", \"33.2097222\", \"33.0580556\", \"33.8752778\", \"29.2855556\", \"45.5236111\", \"37.5536111\", \"44.660139\", \"30.4683333\", \"28.6275000\", \"25.317645\", \"29.0336111\", \"31.652213\", \"33.9136111\", \"-36.84846\", \"29.7630556\", \"61.5997222\", \"32.7919444\", \"46.183333\", \"36.8527778\", \"40.0991667\", \"38.3497222\", \"33.5091667\", \"21.504165\", \"33.4483333\", \"55.1\", \"28.079457\", \"46.9422222\", \"31.5602778\", \"40.625932\", \"30.4211111\", \"29.1380556\", \"30.0269444\", \"34.9386111\", \"31.4436111\", \"32.2216667\", \"37.9522222\", \"37.7750000\", \"41.9038889\", \"34.1261111\", \"42.3702778\", \"37.3022222\", \"35.0844444\", \"35.6869444\", \"38.2541667\", \"32.7938889\", \"20.659699\", \"54.766667\", \"41.2794444\", \"32.7833333\", \"40.6111111\", \"32.2216667\", \"33.7738889\", \"42.0316667\", \"43.7730556\", \"34.0338889\", \"20.798363\", \"-24.442982\", \"36.1033333\", \"40.8022222\", \"37.4833333\", \"41.2541667\", \"34.1013889\", \"33.2441667\", \"26.5625000\", \"36.0344444\", \"-36.84846\", \"37.6775000\", \"44.0522222\", \"33.4355556\", \"43.5172222\", \"42.6158333\", \"46.3\", \"64.7511111\", \"35.9605556\", \"45.6352778\", \"38.907231\", \"30.8125000\", \"43.9\", \"43.4552778\", \"27.395444\", \"34.2072222\", \"35.2427778\", \"35.9877778\", \"-32.15\", \"26.62535\", \"61.5813889\", \"61.5813889\", \"44.9483333\", \"33.1191667\", \"41.7797222\", \"46.15\", \"30.2458333\", \"34.6197222\", \"30.2669444\", \"39.9205556\", \"45.5236111\", \"27.9472222\", \"48.0519444\", \"41.1733333\", \"38.8338889\", \"36.1511111\", \"32.5883333\", \"41.7475000\", \"41.4155556\", \"38.2325000\", \"41.9902778\", \"41.5161111\", \"40.6461111\", \"30.4313889\", \"45.5\", \"33.2211111\", \"29.9544444\", \"39.6463889\", \"48.7597222\", \"47.5675000\", \"26.1416667\", \"44.6366667\", \"35.783333\", \"26.640628\", \"33.1580556\", \"35.5847222\", \"28.5380556\", \"26.9616667\", \"32.7938889\", \"32.2730556\", \"45.8322222\", \"45.5700000\", \"38.4783333\", \"38.4783333\", \"41.0813889\", \"37.3394444\", \"42.3833333\", \"28.8827778\", \"34.0522222\", \"27.9375000\", \"38.8113889\", \"38.8113889\", \"38.6688889\", \"47.6063889\", \"39.1686111\", \"34.0952778\", \"43.0730556\", \"42.1866667\", \"39.6847222\", \"44.9494444\", \"41.5380556\", \"38.8047222\", \"40.579532\", \"38.5913889\", \"42.7652778\", \"42.6111111\", \"39.9536111\", \"39.321528\", \"40.3725000\", \"42.0416667\", \"38.7072222\", \"37.5536111\", \"39.3600000\", \"41.0813889\", \"46.6022222\", \"10.666667\", \"42.4405556\", \"38.92594\", \"37.3394444\", \"28.7027778\", \"37.1533333\", \"30.0797222\", \"47.6063889\", \"33.7591667\", \"45.416667\", \"41.2427778\", \"40.4405556\", \"28.0183333\", \"36.1866667\", \"37.2705556\", \"28.8038889\", \"33.5805556\", \"33.4147222\", \"38.6244444\", \"23.242\", \"26.5625000\", \"44.2097222\", \"44.8011111\", \"27.0438889\", \"52.416667\", \"35.6869444\", \"45.4208333\", \"28.3858333\", \"32.7919444\", \"41.5963889\", \"49.283333\", \"42.6319444\", \"-26.250036\", \"40.7988889\", \"49.25\", \"42.5991667\", \"30.2458333\", \"35.6150000\", \"41.8500000\", \"46.1469444\", \"26.6250000\", \"35.4736111\", \"44.9583333\", \"40.1544444\", \"39.8680556\", \"39.7588889\", \"34.1486111\", \"45.1608333\", \"40.7027778\", \"41.9163889\", \"38.0050000\", \"42.0341667\", \"42.0341667\", \"32.9797222\", \"29.651634\", \"33.0580556\", \"39.9625000\", \"35.2338889\", \"42.392222\", \"29.6513889\", \"30.2944444\", \"44.0216667\", \"36.8188889\", \"33.4483333\", \"37.9886111\", \"40.9311111\", \"40.9311111\", \"37.5630556\", \"42.2625000\", \"37.3394444\", \"34.2751500\", \"33.4483333\", \"42.2972222\", \"34.0522222\", \"32.7152778\", \"47.9791667\", \"25.7738889\", \"38.0291667\", \"41.5500000\", \"34.1336111\", \"47.1719444\", \"28.083627\", \"32.3511111\", \"33.4483333\", \"42.9055556\", \"42.0372222\", \"42.0372222\", \"39.7294444\", \"43.5944444\", \"30.4013889\", \"39.8841667\", \"42.2972222\", \"42.9872222\", \"40.3088889\", \"24.861462\", \"41.1108333\", \"33.8752778\", \"40.1933333\", \"33.6694444\", \"42.2458333\", \"38.6447222\", \"39.4458333\", \"31.9575000\", \"41.1200000\", \"37.2152778\", \"47.6063889\", \"30.0927778\", \"38.6447222\", \"33.4222222\", \"38.4730556\", \"42.4183333\", \"60.7922222\", \"45.5230556\", \"45.5230556\", \"34.0050000\", \"33.7358333\", \"42.4461111\", \"42.4397222\", \"41.7797222\", \"37.7250000\", \"35.1477778\", \"41.1363889\", \"45.7008333\", \"42.1944444\", \"29.7630556\", \"29.9938889\", \"42.1250000\", \"40.267194\", \"36.1750000\", \"43.55\", \"53.55\", \"35.3733333\", \"39.945833\", \"40.5141667\", \"40.5141667\", \"23.063656\", \"43.1391667\", \"36.8055556\", \"46.3\", \"34.0027778\", \"51.315994\", \"29.7855556\", \"38.2544444\", \"10.666667\", \"27.7705556\", \"44.0522222\", \"43.0591667\", \"51.608866\", \"40.6011111\", \"47.4236111\", \"39.2638889\", \"34.0025000\", \"33.6377778\", \"37.4694444\", \"-33.861481\", \"-38.166667\", \"38.7072222\", \"48.7597222\", \"37.4108333\", \"13.052414\", \"38.9430556\", \"42.270349\", \"47.5288889\", \"35.0844444\", \"41.7605556\", \"47.6588889\", \"40.9152778\", \"41.0813889\", \"45.5386111\", \"34.2783333\", \"39.9611111\", \"40.7583333\", \"47.6063889\", \"47.6777778\", \"47.6777778\", \"41.7636111\", \"38.8461111\", \"39.7136111\", \"39.7136111\", \"38.5675000\", \"43.0480556\", \"41.8238889\", \"38.0527778\", \"33.3527778\", \"33.8491667\", \"41.3747222\", \"34.1747222\", \"45.5236111\", \"40.3013889\", \"38.0494444\", \"33.7669444\", \"45.5236111\", \"33.9533333\", \"35.2269444\", \"34.0336111\", \"37.3022222\", \"40.3408333\", \"40.3408333\", \"29.7955556\", \"39.1855556\", \"42.4183333\", \"47.6063889\", \"27.9655556\", \"34.0555556\", \"54.866667\", \"34.1808333\", \"33.8358333\", \"39.5538889\", \"37.7750000\", \"40.330188\", \"43.111883\", \"35.5186111\", \"32.8577778\", \"41.9583333\", \"38.8338889\", \"34.2255556\", \"32.7152778\", \"37.3394444\", \"37.3394444\", \"44.0522222\", \"28.5491667\", \"40.6027778\", \"47.2394444\", \"37.6938889\", \"40.7161111\", \"33.1958333\", \"40.3355556\", \"33.4708333\", \"42.3583333\", \"38.9180556\", \"-32.927792\", \"39.6080556\", \"40.2338889\", \"38.5816667\", \"27.7205556\", \"40.2338889\", \"35.5225000\", \"38.8338889\", \"37.6819444\", \"30.2669444\", \"42.4694444\", \"35.2269444\", \"36.1658333\", \"36.1658333\", \"41.1416667\", \"36.8466667\", \"43.9633333\", \"47.7575000\", \"52.955637\", \"32.9125000\", \"35.0844444\", \"39.3950000\", \"39.3941667\", \"42.1236111\", \"38.8402778\", \"28.9886111\", \"34.0522222\", \"41.0036111\", \"41.8500000\", \"44.0500000\", \"42.583595\", \"41.9269444\", \"41.0036111\", \"37.2780556\", \"41.1175000\", \"32.5838889\", \"41.6027778\", \"40.0811111\", \"44.52\", \"40.1316667\", \"43.3005556\", \"39.5069444\", \"38.8338889\", \"32.7355556\", \"49.233333\", \"36.9486111\", \"32.1130556\", \"20.52611\", \"-26.304408\", \"35.2619444\", \"35.8825000\", \"-26.2125\", \"44.983333\", \"45.1719444\", \"47.9791667\", \"41.3955556\", \"48.1500\", \"45.2461111\", \"42.9144444\", \"43.316667\", \"-36.616667\", \"40.8372222\", \"41.6252778\", \"36.1750000\", \"34.197505\", \"38.7297222\", \"44.2594444\", \"46.6433333\", \"44.9133333\", \"46.3191667\", \"41.9950000\", \"34.2783333\", \"40.8688889\", \"-32.526901\", \"37.1377778\", \"40.0236111\", \"40.057838\", \"38.030136\", \"34.1500000\", \"33.4933333\", \"41.5775000\", \"34.589602\", \"42.6894444\", \"39.6761111\", \"34.5361111\", \"37.3183333\", \"52.633333\", \"34.0194444\", \"44.680562\", \"43.4366667\", \"30.2669444\", \"32.617598\", \"38.0291667\", \"41.591051\", \"43.4147222\", \"40.7141667\", \"38.2855556\", \"38.0172222\", \"33.1958333\", \"33.020827\", \"41.4516667\", \"42.2194444\", \"42.0427778\", \"34.1841667\", \"44.0463889\", \"38.8416667\", \"44.0780556\", \"42.4311111\", \"33.4222222\", \"35.8455556\", \"32.3122222\", \"37.7397222\", \"33.8302778\", \"30.3580556\", \"41.7000000\", \"33.3061111\", \"42.5444444\", \"35.0844444\", \"42.586888\", \"21.9711111\", \"21.9711111\", \"42.3583333\", \"40.7141667\", \"44.7438889\", \"43.0302778\", \"41.327546\", \"42.258\", \"40.336419\", \"39.178834\", \"35.9130556\", \"36.6177778\", \"27.7705556\", \"35.7444444\", \"45.9172222\", \"33.8358333\", \"36.7477778\", \"40.0150000\", \"46.4\", \"33.4483333\", \"44.9430556\", \"38.4088889\", \"44.174074\", \"33.2938889\", \"35.1494444\", \"42.0883333\", \"44.6216667\", \"21.9811111\", \"42.9633333\", \"30.3758333\", \"40.6441667\", \"42.2411111\", \"27.8316667\", \"37.1288889\", \"36.5008333\", \"36.768209\", \"35.8238889\", \"43.0483333\", \"36.1155556\", \"46.8219444\", \"39.97117\", \"37.393637\", \"47.8555556\", \"40.5158333\", \"32.795859\", \"33.5386111\", \"42.3266667\", \"34.9338889\", \"45.5230556\", \"39.1136111\", \"34.0350000\", \"34.0350000\", \"36.6850000\", \"41.7105556\", \"42.8886111\", \"39.9688889\", \"39.7683333\", \"35.0844444\", \"30.406951\", \"33.827395\", \"35.0886111\", \"43.5341667\", \"35.0455556\", \"47.7661111\", \"40.4172222\", \"34.6100000\", \"26.1000000\", \"33.1191667\", \"47.4294444\", \"33.4483333\", \"39.6477778\", \"42.2527778\", \"45.250091\", \"45.7544444\", \"45.4208333\", \"33.5205556\", \"42.5583333\", \"32.2216667\", \"44.9133333\", \"33.6888889\", \"28.5380556\", \"45.5200000\", \"41.3686111\", \"37.4136111\", \"41.6638889\", \"45.1608333\", \"40.2969444\", \"43.6136111\", \"30.2669444\", \"32.4638889\", \"32.4638889\", \"47.0344444\", \"47.0344444\", \"45.7544444\", \"33.8358333\", \"29.7263889\", \"33.9813889\", \"46.1469444\", \"32.7177778\", \"39.5608333\", \"33.8941667\", \"30.438256\", \"27.9011111\", \"55.532712\", \"40.6083333\", \"33.4936111\", \"41.4169444\", \"47.3758333\", \"41.6627778\", \"43.966667\", \"35.6527778\", \"38.8008333\", \"39.7172222\", \"39.7663889\", \"40.4405556\", \"37.6391667\", \"41.66121\", \"44.9800000\", \"28.6802778\", \"34.772013\", \"43.6630556\", \"35.0844444\", \"36.7477778\", \"38.8975000\", \"32.8338889\", \"27.9011111\", \"35.0844444\", \"40.6686111\", \"35.0455556\", \"27.7705556\", \"42.4391667\", \"35.0844444\", \"26.9616667\", \"41.5361111\", \"42.0083333\", \"37.3688889\", \"37.3688889\", \"33.6694444\", \"45.3869444\", \"35.166667\", \"35.6869444\", \"-27.47101\", \"29.4238889\", \"28.1611111\", \"34.3663889\", \"36.858838\", \"37.4830556\", \"43.4919444\", \"41.8500000\", \"45.5727778\", \"34.0211111\", \"45.8208333\", \"38.6800000\", \"30.1102778\", \"40.5772222\", \"40.5772222\", \"42.6811111\", \"42.3250000\", \"42.4183333\", \"45.5230556\", \"53.55\", \"35.6225000\", \"39.6283333\", \"42.9005556\", \"47.6063889\", \"37.2702778\", \"44.5625000\", \"39.7683333\", \"33.1958333\", \"28.4652778\", \"36.1750000\", \"38.1238889\", \"39.6044444\", \"40.528383\", \"34.2694444\", \"26.1219444\", \"37.4086111\", \"36.0644444\", \"40.4405556\", \"41.5875000\", \"34.9494444\", \"-34.603723\", \"32.7252778\", \"29.7630556\", \"30.1763889\", \"35.0844444\", \"33.4222222\", \"38.2119444\", \"28.6775000\", \"34.8525000\", \"33.6602778\", \"45.9963889\", \"36.9111111\", \"30.2669444\", \"40.4405556\", \"38.3030556\", \"40.3408333\", \"37.4852778\", \"42.3533333\", \"41.5766667\", \"43.683333\", \"40.4405556\", \"42.6555556\", \"30.2750000\", \"32.7763889\", \"34.4211111\", \"44.9800000\", \"29.1869444\", \"48.0797222\", \"39.6005556\", \"26.1272222\", \"34.0200000\", \"38.2972222\", \"40.267194\", \"41.5119444\", \"46.7313889\", \"35.6150000\", \"51.383333\", \"36.304774\", \"46.4163889\", \"38.2494444\", \"42.1013889\", \"25.047664\", \"53.333333\", \"35.9172222\", \"39.733385\", \"-36.616667\", \"41.7425000\", \"33.7186111\", \"39.3330556\", \"38.6272222\", \"34.4208333\", \"37.7750000\", \"39.9611111\", \"40.0336111\", \"33.770443\", \"37.4852778\", \"39.9658333\", \"27.8002778\", \"33.9022222\", \"41.3080556\", \"43.1225000\", \"41.6005556\", \"37.1041667\", \"44.2619444\", \"34.7302778\", \"41.0533333\", \"40.4850000\", \"34.0522222\", \"40.2211111\", \"39.5744444\", \"44.0783333\", \"39.9205556\", \"33.3061111\", \"25.7738889\", \"43.1191667\", \"41.4569444\", \"28.5380556\", \"38.7633333\", \"43.1191667\", \"33.9547222\", \"40.6500000\", \"41.2888889\", \"35.1980556\", \"43.450101\", \"33.4483333\", \"33.6694444\", \"39.7391667\", \"41.4958333\", \"40.7000000\", \"41.7447222\", \"39.0838889\", \"36.1155556\", \"37.9050000\", \"39.2191667\", \"40.7141667\", \"41.3080556\", \"33.9886111\", \"40.7008333\", \"42.8650000\", \"43.2708333\", \"44.4905556\", \"40.5638889\", \"42.9275000\", \"41.6638889\", \"47.6588889\", \"41.5250000\", \"37.7750000\", \"42.2416667\", \"44.9430556\", \"41.2380556\", \"34.8525000\", \"38.733081\", \"32.7152778\", \"42.2711111\", \"35.185463\", \"37.7741667\", \"39.3702778\", \"28.0183333\", \"34.1975000\", \"38.6275000\", \"45.5236111\", \"32.7152778\", \"39.9611111\", \"43.75\", \"38.530651\", \"35.2269444\", \"41.3469444\", \"39.2666667\", \"37.3661111\", \"35.9250000\", \"36.3547222\", \"36.1538889\", \"46.6316667\", \"35.4086111\", \"26.5216667\", \"34.8525000\", \"34.7047222\", \"36.7477778\", \"39.7391667\", \"32.7252778\", \"38.4416667\", \"36.0152778\", \"26.5216667\", \"35.2155556\", \"35.6869444\", \"45.3055556\", \"33.5805556\", \"37.2152778\", \"41.6483333\", \"37.5536111\", \"37.7477778\", \"33.3652778\", \"39.5538889\", \"21.3069444\", \"-41.084776\", \"36.8252778\", \"38.8002778\", \"41.8500000\", \"28.5491667\", \"41.2230556\", \"20.7850000\", \"45.2102778\", \"40.6836111\", \"40.8622222\", \"36.9483333\", \"40.7569444\", \"36.3133333\", \"38.8338889\", \"42.665197\", \"40.5555556\", \"44.1858333\", \"43.316667\", \"38.6652778\", \"42.0583333\", \"40.4283333\", \"32.7833333\", \"40.3213889\", \"-0.180653\", \"34.1722222\", \"48.7597222\", \"35.3394444\", \"35.3394444\", \"41.6105556\", \"41.6666667\", \"36.8527778\", \"41.8994444\", \"51.895927\", \"38.5816667\", \"44.9430556\", \"36.2086111\", \"44.079162\", \"37.9747222\", \"47.1855556\", \"44.7822222\", \"41.4758333\", \"37.9975000\", \"35.6266667\", \"44.8261111\", \"34.5519444\", \"33.6305556\", \"28.5380556\", \"41.9125000\", \"39.9611111\", \"43.5758333\", \"26.5886111\", \"43.666667\", \"44.666667\", \"40.7141667\", \"38.0175000\", \"44.2113889\", \"30.3319444\", \"41.0047222\", \"33.1958333\", \"26.4611111\", \"34.8027778\", \"42.88475\", \"43.9\", \"40.8255556\", \"40.6547222\", \"40.7438889\", \"34.2072222\", \"43.2286111\", \"47.0380556\", \"36.8527778\", \"31.9516667\", \"42.4975000\", \"39.6133333\", \"44.2911111\", \"41.5322222\", \"21.3069444\", \"19.218331\", \"38.584329\", \"37.6688889\", \"33.6355556\", \"38.9522222\", \"38.5816667\", \"38.3697222\", \"33.5777778\", \"33.5777778\", \"22.203768\", \"26.116362\", \"-31.95224\", \"32.9341667\", \"41.4019444\", \"32.8369444\", \"38.4000000\", \"44.5616667\", \"34.0522222\", \"43.6436111\", \"38.4202778\", \"30.733315\", \"32.4608333\", \"42.5630556\", \"44.8272222\", \"33.7222222\", \"28.0183333\", \"28.5380556\", \"44.8041667\", \"31.7163889\", \"33.9241667\", \"28.5555556\", \"28.0341667\", \"43.0730556\", \"41.6252778\", \"34.4208333\", \"38.8850000\", \"45.483333\", \"39.1580556\", \"41.6269444\", \"32.6550000\", \"42.2155556\", \"36.1772222\", \"49.216667\", \"35.0136111\", \"33.2558333\", \"40.9166667\", \"31.7586111\", \"38.7713889\", \"30.1022222\", \"30.4752778\", \"31.3269444\", \"32.2216667\", \"36.8527778\", \"42.0386111\", \"42.3833333\", \"46.0038889\", \"35.7719444\", \"36.0247222\", \"45.638659\", \"39.9241667\", \"41.0997222\", \"35.7572222\", \"40.743756\", \"28.6802778\", \"46.5944444\", \"33.7877778\", \"38.5816667\", \"43.1136111\", \"33.5805556\", \"36.8352778\", \"47.3811111\", \"41.3966667\", \"41.3966667\", \"34.7538889\", \"28.5380556\", \"39.7588889\", \"41.8800000\", \"40.6705556\", \"40.6955556\", \"41.6033333\", \"40.5158333\", \"40.1741667\", \"27.8625000\", \"39.3361111\", \"43.1547222\", \"27.7705556\", \"27.7705556\", \"42.983333\", \"41.2102778\", \"39.7555556\", \"34.5033333\", \"44.6336111\", \"42.7441667\", \"41.3158333\", \"30.1763889\", \"33.3088889\", \"33.3088889\", \"34.1013889\", \"29.3011111\", \"42.2630556\", \"40.2969444\", \"28.9002778\", \"41.3683333\", \"42.2916667\", \"42.8708333\", \"29.9544444\", \"42.575837\", \"42.4805556\", \"48.433333\", \"42.4805556\", \"26.2772222\", \"38.8461111\", \"40.7447222\", \"47.1219444\", \"38.9916667\", \"40.78306\", \"37.8455556\", \"33.4483333\", \"34.2072222\", \"36.0652778\", \"26.4516667\", \"41.8005556\", \"40.6083333\", \"41.5622222\", \"39.3722222\", \"43.0386111\", \"39.1155556\", \"29.9911111\", \"48.4\", \"-27.927513\", \"28.5380556\", \"33.2775000\", \"34.2855556\", \"33.4486111\", \"33.4486111\", \"41.9430556\", \"44.4583333\", \"36.1658333\", \"44.2619444\", \"33.9172222\", \"33.8936111\", \"38.3675000\", \"40.8352778\", \"35.3991667\", \"45.3194444\", \"35.9555556\", \"39.6711111\", \"35.3394444\", \"42.4461111\", \"44.5263889\", \"33.3527778\", \"37.7750000\", \"40.3294444\", \"42.3125000\", \"33.7488889\", \"38.5816667\", \"30.4063889\", \"34.469611\", \"39.3836111\", \"39.371774\", \"45.416667\", \"39.3638889\", \"39.3638889\", \"37.9241667\", \"41.5386111\", \"19.542915\", \"45.5236111\", \"39.2258333\", \"38.3497222\", \"40.5583333\", \"41.4994444\", \"36.0397222\", \"42.7441667\", \"44.5191667\", \"28.0183333\", \"58.969976\", \"40.3980556\", \"38.5816667\", \"34.9494444\", \"42.3441667\", \"40.3408333\", \"33.5458333\", \"36.7477778\", \"35.2619444\", \"30.2669444\", \"30.4169444\", \"44.8508333\", \"45.6388889\", \"37.0583333\", \"40.9008333\", \"44.233333\", \"47.072222\", \"38.0525000\", \"37.7397222\", \"34.9530556\", \"47.6063889\", \"33.9908333\", \"44.1969444\", \"37.5536111\", \"40.5000000\", \"41.9000000\", \"40.8175000\", \"42.027557\", \"40.0288889\", \"40.2961111\", \"40.5219444\", \"40.5219444\", \"38.2225000\", \"33.6602778\", \"38.3030556\", \"48.4758333\", \"33.170278\", \"40.1566667\", \"33.6000000\", \"42.2769444\", \"33.9802778\", \"43.4666667\", \"47.5675000\", \"39.5297222\", \"43.0966667\", \"38.3450000\", \"-25.933333\", \"42.4405556\", \"43.810556\", \"38.7891667\", \"42.9955556\", \"40.2961111\", \"45.4944444\", \"41.2380556\", \"41.1597222\", \"38.5816667\", \"41.9888889\", \"45.2311111\", \"43.1586111\", \"41.5250000\", \"42.9638889\", \"30.2669444\", \"12.914142\", \"44.6369444\", \"43.6955556\", \"39.6136111\", \"42.983333\", \"42.983333\", \"30.3880556\", \"38.5922222\", \"45.5236111\", \"26.5250000\", \"42.9633333\", \"33.6602778\", \"33.3627778\", \"44.333333\", \"43.3666667\", \"30.2669444\", \"46.8158333\", \"41.6252778\", \"33.7225000\", \"43.8013889\", \"50.45\", \"38.5816667\", \"42.4500000\", \"42.5750000\", \"25.7738889\", \"30.2238889\", \"26.0108333\", \"33.0150000\", \"47.3075000\", \"30.2669444\", \"45.394509\", \"36.9886111\", \"52.086897\", \"45.5236111\", \"35.5066667\", \"33.1800000\", \"-42.883209\", \"28.5380556\", \"34.1952778\", \"42.5750000\", \"44.8108333\", \"43.3813889\", \"47.3225000\", \"52.355518\", \"37.7750000\", \"32.8383333\", \"33.5861111\", \"32.076745\", \"38.4725000\", \"39.9830556\", \"41.5680556\", \"45.5608333\", \"41.2794444\", \"40.7425000\", \"39.8016667\", \"49.883333\", \"40.0150000\", \"33.5091667\", \"27.2927778\", \"45.3575000\", \"52.636878\", \"33.5777778\", \"39.391111\", \"42.5158333\", \"33.7222222\", \"39.1647222\", \"36.7602778\", \"38.7694444\", \"41.6619444\", \"27.6380556\", \"42.2916667\", \"33.5225000\", \"38.7838889\", \"34.1952778\", \"34.2366667\", \"40.4405556\", \"29.4238889\", \"42.0969444\", \"36.0988889\", \"33.0766667\", \"33.7397222\", \"35.0844444\", \"28.0833333\", \"41.6638889\", \"44.9238889\", \"41.6005556\", \"38.071829\", \"43.0177778\", \"33.6888889\", \"39.4141667\", \"32.7152778\", \"35.7913889\", \"34.7302778\", \"34.5519444\", \"33.9163889\", \"41.1575000\", \"38.8338889\", \"44.8755556\", \"33.6888889\", \"40.1150000\", \"41.512222\", \"38.8055556\", \"43.3666667\", \"43.1330556\", \"51.45\", \"44.2619444\", \"40.0377778\", \"52.97894\", \"43.8\", \"42.4500000\", \"40.950334\", \"33.9236111\", \"39.7391667\", \"45.5236111\", \"40.6686111\", \"40.1138889\", \"39.1366667\", \"42.966667\", \"38.6194444\", \"30.3677778\", \"30.2669444\", \"38.5816667\", \"42.4683333\", \"39.4805556\", \"40.4405556\", \"38.7072222\", \"43.75426\", \"35.6697222\", \"40.3266667\", \"30.4013889\", \"38.6272222\", \"42.007749\", \"44.8277778\", \"33.7669444\", \"43.383333\", \"47.8108333\", \"38.0280556\", \"45.583333\", \"33.4330556\", \"33.8158333\", \"33.6888889\", \"48.9244444\", \"34.8697222\", \"48.1958333\", \"33.5736111\", \"48.1958333\", \"35.3500000\", \"-28.00029\", \"43.72208\", \"35.2827778\", \"40.3266667\", \"33.7222222\", \"33.6888889\", \"33.5508333\", \"36.9741667\", \"41.1305556\", \"43.4100000\", \"37.5536111\", \"42.902614\", \"42.9375000\", \"34.1705556\", \"36.8588889\", \"34.1205556\", \"41.7691667\", \"45.5236111\", \"39.8016667\", \"39.8208333\", \"39.8208333\", \"52.516667\", \"40.3408333\", \"43.3594444\", \"36.1750000\", \"42.840407\", \"45.7833333\", \"33.7738889\", \"35.0716667\", \"44.5236111\", \"42.0986111\", \"41.3125000\", \"36.5483333\", \"43.45\", \"40.1261111\", \"21.4180556\", \"37.6583333\", \"40.7988889\", \"45.1600000\", \"33.7283333\", \"40.3616667\", \"39.9544444\", \"37.6658333\", \"47.6063889\", \"34.2366667\", \"38.3325000\", \"52.033333\", \"44.136076\", \"41.4552778\", \"44.15\", \"46.2511111\", \"45.3561111\", \"43.2208333\", \"44.9430556\", \"47.6588889\", \"38.8541667\", \"38.4030556\", \"37.3022222\", \"43.884169\", \"47.5302778\", \"42.1291667\", \"42.2708333\", \"43.75\", \"55.833333\", \"41.1411111\", \"39.5538889\", \"45.1544444\", \"42.0883333\", \"20.8783333\", \"41.1416667\", \"43.0388889\", \"36.1750000\", \"32.2216667\", \"38.649774\", \"41.8477778\", \"41.6216667\", \"40.871612\", \"45.8405556\", \"42.5000000\", \"41.6797222\", \"42.1250000\", \"41.0658333\", \"33.4483333\", \"40.0375000\", \"46.24\", \"39.2672222\", \"35.4833333\", \"29.5425000\", \"40.8000000\", \"44.8011111\", \"42.4927778\", \"41.0144444\", \"43.2341667\", \"37.5536111\", \"42.2208333\", \"41.2411111\", \"11.874478\", \"33.4486111\", \"42.0027778\", \"31.3402778\", \"32.2216667\", \"42.4169444\", \"53.726835\", \"33.6102778\", \"-26.1625\", \"39.4352778\", \"39.9000000\", \"39.7902778\", \"40.6233333\", \"32.8338889\", \"35.9572222\", \"33.7669444\", \"40.9583333\", \"35.7883333\", \"38.5816667\", \"40.8000000\", \"39.4850000\", \"40.4166667\", \"41.5033333\", \"39.1619444\", \"44.4686111\", \"33.827395\", \"44.761373\", \"44.0536111\", \"33.5927778\", \"33.8158333\", \"39.6697222\", \"43.3369444\", \"43.3369444\", \"33.6888889\", \"35.0750000\", \"40.7655556\", \"33.8158333\", \"33.8158333\", \"33.9163889\", \"39.819722\", \"44.3633333\", \"33.7591667\", \"45.416667\", \"35.9230556\", \"43.9\", \"52.133333\", \"33.7488889\", \"41.8500000\", \"38.8108333\", \"32.7947222\", \"42.0952778\", \"37.7750000\", \"38.5816667\", \"40.6788889\", \"37.7477778\", \"34.2255556\", \"42.1577778\", \"32.6300000\", \"42.7008333\", \"39.2666667\", \"45.95\", \"42.4708333\", \"33.8388889\", \"42.1538889\", \"45.5236111\", \"42.9633333\", \"47.4066667\", \"45.1\", \"34.3075000\", \"28.0338889\", \"30.3000000\", \"41.5733333\", \"40.272292\", \"36.7477778\", \"35.4675000\", \"37.6922222\", \"37.6922222\", \"25.4683333\", \"41.4994444\", \"39.7683333\", \"45.5236111\", \"44.8041667\", \"42.3241667\", \"41.7013889\", \"39.0875000\", \"46.6622222\", \"34.9244444\", \"42.4311111\", \"41.3100000\", \"41.5444444\", \"42.2625000\", \"36.8430556\", \"39.660829\", \"46.216667\", \"19.9430556\", \"34.0230556\", \"39.1855556\", \"33.8886111\", \"28.9022222\", \"35.9522222\", \"47.7361111\", \"40.7141667\", \"40.0930556\", \"42.6525000\", \"45.8202778\", \"40.4166667\", \"34.0522222\", \"42.3250000\", \"41.3908333\", \"41.1175000\", \"39.7686111\", \"33.170278\", \"38.0525000\", \"38.7072222\", \"41.0638889\", \"41.3686111\", \"34.1083333\", \"41.0933333\", \"43.5408333\", \"39.8288889\", \"43.3300000\", \"41.2736111\", \"37.2677778\", \"44.127241\", \"40.8022222\", \"41.0586111\", \"36.736389\", \"33.5805556\", \"41.2888889\", \"40.0580556\", \"41.1577778\", \"48.466667\", \"39.7683333\", \"32.8383333\", \"45.5236111\", \"39.6283333\", \"36.1750000\", \"34.261118\", \"33.7413889\", \"34.5033333\", \"32.0000000\", \"32.5158333\", \"26.1219444\", \"34.0522222\", \"25.7738889\", \"35.2650000\", \"36.5816667\", \"29.7630556\", \"50.542613\", \"36.3936111\", \"38.8338889\", \"20.8783333\", \"40.0930556\", \"46.216667\", \"44.4169444\", \"36.0725000\", \"36.6222222\", \"26.5216667\", \"39.1619444\", \"35.4325000\", \"39.7200000\", \"43.0650000\", \"30.7436111\", \"46.1291667\", \"38.2541667\", \"44.0272222\", \"37.4800000\", \"36.1658333\", \"35.4872222\", \"37.4419444\", \"40.7519444\", \"35.2305556\", \"33.7475000\", \"30.4188889\", \"36.1750000\", \"25.7738889\", \"26.3097222\", \"40.7569444\", \"39.5150000\", \"41.522479\", \"32.679852\", \"38.8902778\", \"44.6941667\", \"41.2411111\", \"39.9966667\", \"37.7975000\", \"39.7588889\", \"41.2586111\", \"42.0188889\", \"41.5758333\", \"34.9247222\", \"36.9741667\", \"50.212222\", \"51.116667\", \"42.983333\", \"45.333333\", \"44.136076\", \"40.1672222\", \"27.9655556\", \"27.9655556\", \"33.3702778\", \"39.0833333\", \"38.9430556\", \"33.1383333\", \"41.1408333\", \"38.9430556\", \"44.9383333\", \"39.6333333\", \"36.1866667\", \"47.6063889\", \"32.8350000\", \"39.2666667\", \"51.083333\", \"47.6063889\", \"39.0408333\", \"42.6333333\", \"33.4352778\", \"48.2933333\", \"33.9136111\", \"34.0900000\", \"36.6850000\", \"41.5200000\", \"39.6133333\", \"45.5200000\", \"37.8805556\", \"30.2669444\", \"42.0333333\", \"47.3352778\", \"40.0455556\", \"47.6936111\", \"35.6919444\", \"35.0455556\", \"-37.658455\", \"21.451331\", \"40.9816667\", \"36.2944444\", \"45.055307\", \"30.4261111\", \"38.9780556\", \"40.2291667\", \"27.9011111\", \"43.1586111\", \"43.1586111\", \"39.9241667\", \"29.643817\", \"47.8108333\", \"40.1997222\", \"42.9\", \"39.7683333\", \"46.0994444\", \"44.8613889\", \"44.9444444\", \"35.8455556\", \"38.9686111\", \"49.883333\", \"40.4872222\", \"52.566667\", \"37.3769444\", \"40.42118\", \"43.657166\", \"45.5236111\", \"34.7302778\", \"41.0250000\", \"39.7763889\", \"33.9930556\", \"44.2619444\", \"52.033333\", \"40.353582\", \"34.5400000\", \"41.1586111\", \"40.5002778\", \"45.6797222\", \"42.3313889\", \"45.702817\", \"38.2541667\", \"46.216667\", \"49.166667\", \"40.6213889\", \"35.3805556\", \"37.5536111\", \"34.7302778\", \"42.8744444\", \"36.9902778\", \"34.0522222\", \"35.9488889\", \"43.0527778\", \"35.3733333\", \"37.1041667\", \"34.2072222\", \"39.6416667\", \"34.0522222\", \"34.3077778\", \"39.7683333\", \"43.9\", \"34.1205556\", \"40.4533333\", \"43.6136111\", \"42.4405556\", \"38.5347222\", \"39.3111111\", \"38.6772222\", \"35.6969444\", \"41.8297222\", \"40.0455556\", \"40.0791667\", \"47.6105556\", \"31.3269444\", \"39.2888889\", \"39.2883333\", \"38.6272222\", \"33.9525000\", \"33.2961111\", \"-31.43084\", \"40.1633333\", \"36.8188889\", \"46.2811111\", \"26.3394444\", \"45.6797222\", \"48.50389\", \"39.0436111\", \"47.6105556\", \"47.6816667\", \"38.7838889\", \"42.5630556\", \"44.8408333\", \"51.1\", \"39.7683333\", \"37.2708333\", \"43.666667\", \"41.6977778\", \"57.5033333\", \"30.0969444\", \"34.2369444\", \"43.15\", \"40.7372222\", \"38.7763889\", \"47.3352778\", \"34.464057\", \"36.0955556\", \"29.9688889\", \"36.0725000\", \"38.8402778\", \"34.5958333\", \"42.0986111\", \"43.0416667\", \"49.216667\", \"47.7625000\", \"43.342273\", \"41.0638889\", \"39.8083333\", \"37.7750000\", \"57.155623\", \"43.02475\", \"45.7763889\", \"38.580461\", \"38.8000000\", \"48.4213889\", \"41.6819444\", \"29.6513889\", \"35.5277778\", \"38.9822222\", \"28.5555556\", \"32.7591667\", \"-27.47101\", \"47.751074\", \"38.3708333\", \"31.804381\", \"43.133333\", \"40.7583333\", \"36.8527778\", \"41.6647222\", \"40.174276\", \"39.9347222\", \"38.2966667\", \"40.1797222\", \"36.0838889\", \"38.2972222\", \"44.0247222\", \"39.5297222\", \"34.3650000\", \"41.1338889\", \"42.5194444\", \"40.4283333\", \"42.586888\", \"36.8466667\", \"44.7133333\", \"33.2486111\", \"37.3394444\", \"27.8002778\", \"41.6638889\", \"43.8736111\", \"45.4313889\", \"44.639882\", \"36.8527778\", \"40.3266667\", \"39.7683333\", \"41.6302778\", \"46.521858\", \"40.3294444\", \"43.433333\", \"40.4233333\", \"40.693158\", \"35.442751\", \"44.4375000\", \"37.4136111\", \"41.8488889\", \"41.7636111\", \"43.1547222\", \"45.903826\", \"45.4208333\", \"41.7002778\", \"50.566667\", \"37.7808333\", \"34.7463889\", \"45.8322222\", \"39.7683333\", \"25.7738889\", \"36.8650000\", \"40.2969444\", \"38.4088889\", \"39.3994444\", \"45.5230556\", \"42.983333\", \"42.983333\", \"41.7758333\", \"43.75\", \"30.3319444\", \"43.0761111\", \"33.6102778\", \"44.751784\", \"33.1433333\", \"35.5608333\", \"25.9647222\", \"50.016667\", \"42.0083333\", \"30.2283333\", \"42.0541667\", \"38.7838889\", \"39.0133333\", \"36.5963889\", \"41.3361111\", \"42.2416667\", \"42.7847222\", \"36.6083333\", \"43.166667\", \"48.118146\", \"47.8125000\", \"34.1686111\", \"43.0730556\", \"49.883333\", \"47.6063889\", \"44.771784\", \"41.5200000\", \"41.5380556\", \"39.0005556\", \"39.0005556\", \"45.0761111\", \"46.2750000\", \"45.522894\", \"31.8313889\", \"45.95\", \"46.7325000\", \"34.9888889\", \"43.3058333\", \"40.7141667\", \"35.2269444\", \"45.8322222\", \"36.0997222\", \"33.8352778\", \"43.0986111\", \"43.45\", \"33.8136111\", \"41.3302778\", \"32.7833333\", \"42.4405556\", \"30.2458333\", \"34.7877778\", \"43.85\", \"43.666667\", \"38.2541667\", \"43.166667\", \"46.3\", \"45.7833333\", \"44.3269444\", \"38.580461\", \"49.25\", \"38.4088889\", \"22.890533\", \"41.1305556\", \"37.5000000\", \"44.563164\", \"38.6125000\", \"47.3075000\", \"48.7597222\", \"35.5847222\", \"35.2269444\", \"42.5030556\", \"31.8911111\", \"38.2541667\", \"42.1080556\", \"34.2572222\", \"49.057605\", \"33.8333333\", \"46.9966667\", \"32.8608333\", \"39.8772222\", \"40.796724\", \"43.2047222\", \"34.163305\", \"45.6797222\", \"40.8686111\", \"29.5072222\", \"47.17938\", \"33.6058333\", \"43.3219444\", \"33.5336111\", \"40.6258333\", \"33.5336111\", \"42.2583333\", \"33.1191667\", \"38.9988889\", \"36.8466667\", \"41.6027778\", \"45.016388\", \"41.0036111\", \"41.4705556\", \"42.3222222\", \"42.6733333\", \"38.3697222\", \"44.3805556\", \"47.2152778\", \"41.2400000\", \"39.5588889\", \"41.6833333\", \"41.9141667\", \"33.963056\", \"45.416667\", \"43.666667\", \"39.6408333\", \"41.5119444\", \"40.7583333\", \"46.8722222\", \"42.4311111\", \"33.0197222\", \"32.7833333\", \"41.8994444\", \"26.3583333\", \"43.179117\", \"38.2097222\", \"29.9544444\", \"35.6752778\", \"43.866667\", \"39.3772222\", \"35.2288889\", \"35.2288889\", \"32.5158333\", \"39.9338889\", \"42.1711111\", \"38.6580556\", \"40.0063889\", \"26.443397\", \"43.1536111\", \"41.5513889\", \"44.7822222\", \"38.1494444\", \"33.3061111\", \"45.5827778\", \"41.5236111\", \"42.0983333\", \"43.5277778\", \"26.6402778\", \"40.7519444\", \"33.6694444\", \"37.659027\", \"33.4222222\", \"35.142467\", \"36.237679\", \"32.2216667\", \"44.9430556\", \"42.5847222\", \"34.5958333\", \"42.9633333\", \"33.8388889\", \"44.5105556\", \"40.058324\", \"38.1588889\", \"39.8911111\", \"37.8391667\", \"41.9163889\", \"40.6805556\", \"34.5036111\", \"39.5350000\", \"41.1016667\", \"38.10252\", \"35.1400000\", \"42.3794444\", \"44.7133333\", \"51.55\", \"41.3908333\", \"40.7141667\", \"40.0952778\", \"40.7933333\", \"38.580461\", \"34.0852778\", \"47.626208\", \"33.9547222\", \"36.1961111\", \"36.1961111\", \"40.7966667\", \"43.6136111\", \"39.8366667\", \"41.9852778\", \"32.7833333\", \"34.3075000\", \"34.2986111\", \"47.9130556\", \"37.4605556\", \"36.5708333\", \"34.5894444\", \"33.6888889\", \"33.47022\", \"34.9333333\", \"33.8158333\", \"37.6922222\", \"37.6922222\", \"44.4269444\", \"41.661128\", \"44.0805556\", \"33.6888889\", \"29.618567\", \"47.3200000\", \"41.0250000\", \"44.9583333\", \"39.4352778\", \"39.4352778\", \"41.5769444\", \"41.7636111\", \"26.1219444\", \"39.403986\", \"43.6122222\", \"39.9555556\", \"33.6888889\", \"36.9786111\", \"30.4111111\", \"29.7352778\", \"32.6080556\", \"33.6888889\", \"33.6058333\", \"33.6000000\", \"40.8258333\", \"42.8863889\", \"45.5236111\", \"34.5033333\", \"33.6888889\", \"33.6888889\", \"33.4936111\", \"42.4691667\", \"42.7341667\", \"47.6063889\", \"41.2844444\", \"47.9447222\", \"38.9258333\", \"38.7522222\", \"38.7041667\", \"33.4483333\", \"26.4516667\", \"38.7291667\", \"39.8438889\", \"42.2708333\", \"40.579532\", \"47.6063889\", \"45.416667\", \"38.9694444\", \"46.2397222\", \"41.314497\", \"38.213913\", \"40.4163889\", \"33.379744\", \"42.4794444\", \"43.1705556\", \"34.0686111\", \"37.320722\", \"47.6063889\", \"34.0194444\", \"39.9611111\", \"43.797762\", \"41.6780556\", \"33.9830556\", \"43.166667\", \"26.1600000\", \"40.6788889\", \"43.1\", \"48.9466667\", \"35.8455556\", \"47.2647222\", \"34.0813889\", \"47.2358333\", \"41.4858333\", \"36.6002778\", \"38.2972222\", \"31.806293\", \"28.3197222\", \"37.9886111\", \"30.2669444\", \"39.4519444\", \"44.5191667\", \"36.7280556\", \"36.0650000\", \"36.2694444\", \"34.6980556\", \"60.5372222\", \"40.058324\", \"34.7575000\", \"47.6063889\", \"33.6058333\", \"33.6888889\", \"33.6888889\", \"33.9375000\", \"40.7988889\", \"31.32322\", \"38.9905556\", \"43.2297222\", \"41.6313889\", \"26.5216667\", \"47.4236111\", \"33.6888889\", \"36.1538889\", \"36.2333333\", \"42.4894444\", \"45.4313889\", \"40.1672222\", \"44.7980556\", \"41.7305556\", \"32.467076\", \"26.1219444\", \"42.8336111\", \"26.5216667\", \"21.2827778\", \"39.1619444\", \"40.6872222\", \"34.489036\", \"39.7438889\", \"41.96426\", \"49.25\", \"47.6777778\", \"39.7047222\", \"47.1719444\", \"42.983333\", \"33.5927778\", \"46.24\", \"41.2411111\", \"45.5947222\", \"57.7900000\", \"32.8577778\", \"38.8444444\", \"42.4400000\", \"39.7683333\", \"41.0813889\", \"26.5216667\", \"39.6416667\", \"40.2522222\", \"40.1294444\", \"38.8047222\", \"43.0480556\", \"42.7677778\", \"40.5725\", \"30.4211111\", \"38.6272222\", \"41.0441667\", \"38.8966667\", \"42.3422222\", \"34.4700000\", \"37.540725\", \"38.6580556\", \"38.2008333\", \"45.478852\", \"26.5216667\", \"42.448894\", \"41.8786111\", \"39.8494444\", \"41.1769444\", \"39.9625000\", \"33.1433333\", \"37.9886111\", \"39.6561111\", \"36.0725000\", \"38.9988889\", \"39.8016667\", \"42.9600000\", \"40.0758333\", \"41.2372222\", \"43.1552778\", \"46.7588889\", \"44.0522222\", \"42.7047222\", \"52.221537\", \"37.2152778\", \"45.5236111\", \"29.4238889\", \"45.1486111\", \"37.4236111\", \"30.3933333\", \"40.9780556\", \"28.635308\", \"41.5263889\", \"34.3322222\", \"40.0377778\", \"41.8786111\", \"40.5247222\", \"35.9572222\", \"37.2708333\", \"36.3433333\", \"40.7163889\", \"40.9977778\", \"41.3952778\", \"33.8352778\", \"42.4666667\", \"40.2113889\", \"33.8166667\", \"33.9525000\", \"36.3008333\", \"41.4361111\", \"43.161748\", \"26.443397\", \"34.7302778\", \"53.916667\", \"42.6916667\", \"28.045014\", \"38.6858333\", \"36.3319444\", \"38.8002778\", \"30.80905\", \"38.9988889\", \"45.5236111\", \"48.8466667\", \"38.6402778\", \"44.3141667\", \"36.1988889\", \"40.501179\", \"43.0125000\", \"39.0541667\", \"44.8613889\", \"40.4405556\", \"33.3488889\", \"41.186548\", \"40.4491667\", \"25.8572222\", \"37.8144444\", \"25.8897222\", \"40.8802778\", \"44.7311111\", \"42.0083333\", \"49.1\", \"26.9616667\", \"38.9916667\", \"42.8863889\", \"38.9747222\", \"42.8666667\", \"39.7391667\", \"38.6580556\", \"41.5022222\", \"39.7683333\", \"37.8044444\", \"34.6991667\", \"34.6991667\", \"38.78928\", \"38.186709\", \"40.691026\", \"44.363296\", \"36.3352778\", \"33.4352778\", \"34.8525000\", \"9.672948\", \"45.6388889\", \"45.6388889\", \"35.0525000\", \"47.2530556\", \"40.7141667\", \"30.057536\", \"43.0730556\", \"41.6833333\", \"34.048928\", \"47.6419444\", \"39.3830556\", \"44.25\", \"30.8325000\", \"36.2613889\", \"44.0247222\", \"41.9586111\", \"42.9336111\", \"44.9444444\", \"39.1011111\", \"41.6169444\", \"30.3672222\", \"42.2155556\", \"39.2775000\", \"33.3702778\", \"40.8050000\", \"46.6541667\", \"40.858433\", \"51.133333\", \"49.883333\", \"40.0991667\", \"45.6388889\", \"38.9747222\", \"54.55\", \"39.290385\", \"33.9533333\", \"41.6833333\", \"33.3702778\", \"46.4750000\", \"37.7800000\", \"40.8533333\", \"42.8863889\", \"40.8877778\", \"38.4088889\", \"34.0005556\", \"44.6366667\", \"35.7975000\", \"42.5802778\", \"36.0525000\", \"37.8716667\", \"47.0075000\", \"45.4313889\", \"33.6305556\", \"37.7361111\", \"45.1977778\", \"37.034239\", \"38.306831\", \"43.5405556\", \"44.151098\", \"44.5258333\", \"36.7236111\", \"33.6888889\", \"38.8113889\", \"33.6888889\", \"42.5775000\", \"46.0647222\", \"33.9547222\", \"41.4994444\", \"38.2541667\", \"40.3933333\", \"39.6000000\", \"22.2236111\", \"40.7875000\", \"44.0522222\", \"39.7683333\", \"38.8002778\", \"41.6986111\", \"30.5080556\", \"35.1405556\", \"39.9202778\", \"33.6888889\", \"43.583333\", \"41.1238889\", \"41.3747222\", \"-36.758179\", \"42.2630556\", \"35.6869444\", \"45.0791667\", \"38.846224\", \"46.8772222\", \"39.911203\", \"46.4166667\", \"46.521858\", \"44.189978\", \"41.2380556\", \"32.5883333\", \"3.509247\", \"30.3319444\", \"50.7\", \"41.5950000\", \"41.9950000\", \"47.5675000\", \"41.2916667\", \"36.0525000\", \"40.0063889\", \"42.2711111\", \"42.3583333\", \"43.6613889\", \"36.1538889\", \"40.7583333\", \"40.7583333\", \"33.7877778\", \"42.6402778\", \"40.7583333\", \"41.8500000\", \"40.2883333\", \"39.4486111\", \"33.5602778\", \"35.7913889\", \"39.7391667\", \"32.562928\", \"48.0097222\", \"42.976757\", \"43.0813889\", \"29.5847222\", \"27.2936111\", \"32.7188889\", \"38.7838889\", \"27.1972222\", \"34.2255556\", \"26.1416667\", \"40.6883333\", \"42.1180556\", \"34.0522222\", \"33.4222222\", \"41.4858333\", \"41.1238889\", \"40.8500000\", \"39.1366667\", \"27.8161111\", \"36.09986\", \"40.2883333\", \"42.9763889\", \"27.8425000\", \"28.7027778\", \"38.8466667\", \"41.7500000\", \"39.9205556\", \"39.4580556\", \"35.9938889\", \"40.3133333\", \"42.6072222\", \"40.8000000\", \"43.9727778\", \"34.9569444\", \"37.6391667\", \"35.3394444\", \"38.9480556\", \"39.8016667\", \"38.7691667\", \"41.5733333\", \"39.8380556\", \"39.7294444\", \"42.9033333\", \"39.7555556\", \"46.1852778\", \"36.6102778\", \"39.8366667\", \"42.7741667\", \"40.7875000\", \"43.8013889\", \"45.3575000\", \"40.4405556\", \"39.8366667\", \"33.4936111\", \"40.1983333\", \"40.7536111\", \"26.5216667\", \"44.9800000\", \"37.2152778\", \"43.6136111\", \"42.8863889\", \"41.8500000\", \"40.6813889\", \"44.8041667\", \"38.324512\", \"41.1305556\", \"32.8233333\", \"40.4675\", \"47.9447222\", \"41.4858333\", \"41.1238889\", \"37.2202778\", \"42.7261111\", \"37.7477778\", \"37.9747222\", \"44.7980556\", \"44.7980556\", \"40.3272222\", \"40.8261111\", \"40.0394444\", \"40.2455556\", \"47.3075000\", \"37.0511111\", \"30.1577778\", \"47.3075000\", \"30.332184\", \"45.0680556\", \"35.0886111\", \"44.699827\", \"28.7027778\", \"41.5833333\", \"47.6063889\", \"45.802758\", \"35.3858333\", \"36.1083333\", \"42.8863889\", \"42.3222222\", \"42.3222222\", \"19.490278\", \"38.4088889\", \"40.9294444\", \"28.1875000\", \"40.6805556\", \"44.9800000\", \"40.9469444\", \"19.555833\", \"43.5172222\", \"47.1855556\", \"47.4830556\", \"27.8658333\", \"47.9130556\", \"35.5227778\", \"42.1583333\", \"40.8000000\", \"37.320722\", \"45.7761111\", \"39.7391667\", \"40.7258333\", \"36.5816667\", \"47.0800000\", \"41.1016667\", \"39.863702\", \"41.8500000\", \"47.9791667\", \"47.9791667\", \"41.1411111\", \"47.1052778\", \"38.910841\", \"47.8211111\", \"25.7738889\", \"43.5408333\", \"47.1041667\", \"48.4111111\", \"43.3033333\", \"47.6816667\", \"40.6641667\", \"26.9338889\", \"48.7597222\", \"43.6136111\", \"47.5675000\", \"47.5675000\", \"42.5916667\", \"26.9758333\", \"38.907231\", \"40.5866667\", \"40.7141667\", \"41.6819444\", \"26.6402778\", \"40.0455556\", \"48.1183333\", \"47.5730556\", \"33.6305556\", \"41.3144444\", \"41.8800000\", \"42.8416667\", \"39.9536111\", \"39.1141667\", \"39.011902\", \"43.0813889\", \"44.2563889\", \"33.5205556\", \"37.7588889\", \"41.8672222\", \"30.8325000\", \"38.580461\", \"36.793403\", \"40.0638889\", \"41.5244444\", \"47.8411111\", \"28.1875000\", \"41.3325000\", \"27.8950000\", \"42.9105556\", \"41.6061111\", \"40.2900000\", \"32.2047222\", \"38.8002778\", \"47.6588889\", \"43.1836111\", \"33.8158333\", \"34.2694444\", \"40.7072222\", \"45.9725000\", \"36.8527778\", \"41.6752778\", \"44.6388889\", \"47.7180556\", \"42.4775000\", \"41.0530556\", \"40.738658\", \"42.348519\", \"35.0525000\", \"39.5522222\", \"41.4755556\", \"56.949649\", \"46.24\", \"38.4094444\", \"34.9133333\", \"42.9233333\", \"47.1855556\", \"48.0519444\", \"40.9866667\", \"32.2216667\", \"30.2669444\", \"33.0580556\", \"33.1580556\", \"39.7155556\", \"39.9388889\", \"39.9611111\", \"30.4866667\", \"39.8813889\", \"41.3275000\", \"33.4052778\", \"39.9611111\", \"39.9611111\", \"39.9611111\", \"39.9338889\", \"40.4147222\", \"45.5236111\", \"27.7705556\", \"36.0683333\", \"39.9611111\", \"39.8783333\", \"42.1013889\", \"36.9902778\", \"39.9611111\", \"38.2541667\", \"43.666667\", \"39.8427778\", \"39.9611111\", \"39.8813889\", \"39.8813889\", \"39.9611111\", \"39.9955556\", \"47.5675000\", \"44.5291667\", \"41.5769444\", \"40.7141667\", \"41.0241667\", \"42.1013889\", \"42.1013889\", \"39.8494444\", \"42.0750000\", \"43.1875000\", \"40.1633333\", \"38.9800000\", \"43.4441667\", \"40.4405556\", \"40.7141667\", \"43.5911111\", \"42.9055556\", \"39.9469444\", \"37.0297222\", \"48.1958333\", \"42.7761111\", \"33.8755556\", \"37.964253\", \"41.2736111\", \"41.0988889\", \"40.1527778\", \"39.9530556\", \"42.1305556\", \"37.0841667\", \"36.3352778\", \"48.1183333\", \"44.7630556\", \"41.9058333\", \"33.3527778\", \"39.4141667\", \"28.114184\", \"39.7683333\", \"46.2397222\", \"38.5336111\", \"43.579356\", \"32.7152778\", \"26.452025\", \"28.5997222\", \"33.9997222\", \"42.9955556\", \"42.5875000\", \"42.3086111\", \"34.9288889\", \"40.6866667\", \"30.4505556\", \"41.1175000\", \"37.0833333\", \"40.3916667\", \"41.7827778\", \"38.3497222\", \"42.9597222\", \"44.0463889\", \"45.8641667\", \"27.8775000\", \"41.5061111\", \"39.6619444\", \"34.0666667\", \"26.9616667\", \"45.7811111\", \"37.5536111\", \"40.3355556\", \"48.3883333\", \"39.3641667\", \"43.6613889\", \"40.0380556\", \"-20.035\", \"49.166667\", \"39.8647222\", \"39.5522222\", \"44.9483333\", \"38.3363889\", \"37.1536111\", \"28.6000000\", \"47.6063889\", \"27.8658333\", \"38.5816667\", \"35.9250000\", \"39.9536111\", \"35.2225000\", \"33.8847222\", \"38.3363889\", \"36.0644444\", \"33.3702778\", \"25.4683333\", \"48.7597222\", \"30.9530556\", \"42.1236111\", \"47.6063889\", \"42.8091667\", \"38.9822222\", \"41.9186111\", \"39.3638889\", \"30.2669444\", \"46.6022222\", \"42.4775000\", \"41.8800000\", \"9.931233\", \"43.0608333\", \"44.166667\", \"38.5816667\", \"42.9597222\", \"42.9608333\", \"42.4983333\", \"50.633333\", \"38.8105556\", \"43.316667\", \"39.9611111\", \"29.7630556\", \"40.2100000\", \"33.6288889\", \"33.9133333\", \"41.0758333\", \"34.028926\", \"41.3972222\", \"43.5911111\", \"46.0038889\", \"48.4797222\", \"46.7833333\", \"48.366667\", \"41.1383333\", \"43.7508333\", \"44.0027778\", \"43.886171\", \"40.8336111\", \"34.6777778\", \"39.7588889\", \"44.713112\", \"38.6272222\", \"3.043061\", \"45.333333\", \"46.183333\", \"38.9011111\", \"44.0977778\", \"39.3544444\", \"49.2\", \"44.7527778\", \"44.8333333\", \"42.1194444\", \"30.6325000\", \"35.4447222\", \"40.1783333\", \"43.3838889\", \"41.2222222\", \"29.4950000\", \"45.183342\", \"37.839333\", \"45.6797222\", \"39.0519444\", \"39.0519444\", \"39.2688889\", \"40.5725\", \"37.3394444\", \"37.6922222\", \"28.0833333\", \"39.8775000\", \"38.9016667\", \"47.2944444\", \"39.7172222\", \"43.4172222\", \"41.5791667\", \"36.1538889\", \"32.8577778\", \"33.3486111\", \"36.5858333\", \"33.7797222\", \"37.7750000\", \"33.3702778\", \"38.5394444\", \"38.2366667\", \"34.4263889\", \"44.1\", \"47.6777778\", \"32.0497222\", \"45.8322222\", \"45.830068\", 26.448611100000004, 46.0647222, 38.67805560000001, 30.775, 39.868055600000005, 51.883333, 35.3163889, 39.506944399999995, 43.1008333, 34.186111100000005, 44.5038889, 34.0336111, 42.088333299999995, 36.0725, 42.12, 31.791702, 37.89944439999999, 36.6777778, 46.82194439999999, 44.5891667, 41.7386111, 38.8916667, 44.92805560000001, 39.4805556, 36.3275, 42.014444399999995, 58.816667, 43.1788889, 43.1788889, 47.3225, 45.7444444, 41.85, 42.4791667, 32.7152778, 42.5833333, 36.175, 32.7152778, 42.3333333, 47.415833299999996, 42.7222222, 35.338735, 41.4813889, 21.5027778, 21.5027778, 29.763055600000005, 28.538055600000003, 32.0, 45.6388889, 44.720484, 26.1219444, 41.1575, 47.6741667, 42.9980556, 45.89194439999999, 50.666667, 49.783725, 42.4975, 37.9255556, 39.4805556, 46.82194439999999, 41.718888899999996, 39.1722222, 33.4483333, 24.555277800000002, 26.1272222, 41.7141667, 40.78306, 35.4777778, 40.7966667, 44.0952778, 31.5622222, 33.3702778, 33.8158333, 42.686111100000005, 41.6475, 40.6083333, 26.5216667, 35.3733333, 38.8108333, 29.3777778, 42.936111100000005, 28.635308000000002, 34.8258333, 38.8338889, 39.6, 41.4569444, 44.6377778, 41.1594444, 32.8902778, 39.01694439999999, 35.474166700000005, 47.583333, 35.474166700000005, 42.73, 30.5227778, 31.462777799999998, 34.555555600000005, 41.499444399999994, 33.5091667, 28.538055600000003, 50.916667, 42.8352778, 39.101111100000004, 35.7563889, 26.5216667, 42.5802778, 40.314313, 33.6, 36.1675, 47.6777778, 27.901111100000005, 30.508055600000006, 42.0583333, 43.666667, 47.9505556, 42.1291667, 37.5913889, 43.0730556, 37.3541667, 46.2511111, 36.2080556, 39.2286111, 38.5130556, 38.30305560000001, 39.9547222, 38.6769444, 40.0191667, 26.683333299999997, 39.5186111, 34.902729, 43.048055600000005, 35.9216667, 34.469611, 28.538055600000003, 46.545119, 41.916388899999994, 47.885, 26.5216667, 44.8277778, 42.500555600000006, 35.3733333, 37.595, 40.3041667, 39.5752778, 49.183333000000005, 32.7152778, 28.538055600000003, 41.7797222, 46.7747222, 42.3086111, 40.110833299999996, 37.9747222, 42.6158333, 40.1302778, 49.366667, 28.538055600000003, 41.603333299999996, 41.4169444, 40.9977778, 47.678174, 39.43, 42.345833299999995, 42.783333, 33.1433333, 43.0011111, 45.416667, 40.798888899999994, 41.394722200000004, 34.0961111, 42.6333333, 42.963333299999995, 41.1305556, 42.820865000000005, 42.88475, 33.9966667, 42.5586111, 38.9480556, 45.433333000000005, 32.8338889, 47.389444399999995, 32.7677778, 30.266944399999996, 35.053611100000005, 41.0441667, 34.0633333, 28.045771999999996, 42.381111100000005, 45.416667, 33.4936111, 33.3527778, 41.6716667, 46.82194439999999, 47.2530556, 44.444166700000004, 43.4261111, 20.8783333, 27.468255, 45.9975, 29.0336111, 45.1608333, 34.6980556, 32.3122222, 37.8405556, 37.97361110000001, 41.85, 39.961111100000004, 46.82194439999999, 49.25, 40.236388899999994, 40.2875, 40.099166700000005, 36.8527778, 35.4086111, 38.7891667, 40.45, 41.60805560000001, 44.5433333, 34.4208333, 36.06, 38.249358, 42.4644444, 39.7083333, 43.8991667, 47.2530556, 47.2530556, 42.3583333, 50.933333000000005, 34.0522222, 45.4872222, 41.656111100000004, 47.644722200000004, 42.096388899999994, 41.9202778, 45.523611100000004, 39.6547222, 32.89915, 33.9966667, 38.0683333, 43.811064, 41.522479, 32.234444399999994, 46.211388899999996, 8.983333, 38.890555600000006, 43.303611100000005, 37.9363889, 41.1305556, 40.7141667, 40.7141667, 41.9266667, 28.1875, 40.9227778, 38.14944439999999, 40.7141667, 53.139954, 40.9866667, 38.5675, 44.25, 37.2708333, 39.618055600000005, 28.538055600000003, 26.443396999999997, 47.737522, 40.0872222, 44.9583333, 35.1980556, 43.3813889, 36.9786111, 40.6883333, 30.245833299999997, 43.1063889, 36.9786111, 35.771944399999995, 37.430833299999996, 38.4191667, 47.9791667, 38.5816667, 39.506944399999995, 44.383333, 41.383055600000006, 41.3502778, 39.458611100000006, 40.9166667, 44.861388899999994, 49.883333, 31.8466667, 42.6291667, 42.4975, 43.666667, 33.660277799999996, 36.0997222, 45.4541667, 47.32944439999999, 40.029835, 45.4902778, 41.85, 43.0730556, 32.895, 36.0525, 38.2605556, 44.383333, 38.336388899999996, 37.2277778, 26.1416667, 39.0997222, 40.3916667, 43.66625, 46.2, 40.048333299999996, 42.1355556, 41.656111100000004, 41.8005556, 42.1291667, 42.1291667, 37.9480556, 32.8794444, 44.2619444, 44.383333, 36.7477778, 40.33694439999999, 40.33694439999999, 41.6361111, 40.293974, 44.0886111, 33.466944399999996, 33.7455556, 37.9886111, 39.9241667, 39.9241667, 41.523611100000004, 42.983333, 43.641388899999995, 41.3958333, 25.939741, 38.4494444, 35.226944399999994, 30.078611, 35.6527778, 35.6527778, 33.6016667, 39.5522222, 36.4513889, 45.383333, 40.1205556, 39.7683333, 42.161666700000005, 42.089722200000004, 30.047433, 41.141388899999995, 43.3238889, 41.0816667, 41.018055600000004, 43.0055556, 39.24345, 44.4752778, 47.644722200000004, 40.4333333, 43.25, 44.9747222, 42.6827778, 36.4991667, 36.165833299999996, 40.7141667, 40.7141667, 33.916388899999994, 34.0522222, 39.6761111, 42.70444439999999, 40.8858333, 37.7741667, 39.9522222, 42.6333333, 40.526389, 41.8011111, 43.3766667, 41.60055560000001, 41.1305556, 41.1575, 36.158055600000004, 27.901111100000005, 38.8105556, 41.72555560000001, 33.6, 41.663888899999996, 39.36, 44.3, 42.186111100000005, 43.17055560000001, 44.580441, 47.243055600000005, 27.293611100000003, 42.316666999999995, 36.6102778, 46.6022222, 52.63333299999999, 35.69694439999999, 19.9430556, 43.048055600000005, 41.2222222, 39.7683333, 35.7511111, 33.9236111, 40.4775, 30.5425, 39.27444439999999, 34.7391667, 42.241111100000005, 41.582222200000004, 40.6219444, 31.1797222, 35.69694439999999, 32.7938889, 39.3222222, 37.944444399999995, 39.3702778, 33.5755556, 39.6291667, 35.1716667, 32.0853, 31.758611100000003, 40.3013889, 42.633055600000006, 40.7608333, 39.2863889, 37.7527778, 43.640555600000006, 38.24664, 37.315326, 44.658055600000004, 33.7488889, 41.0783333, 37.553611100000005, 40.152331, 40.7141667, 47.008055600000006, 43.1683333, 42.0083333, 41.921111100000005, 36.175, 32.9125, 40.4975, 41.281388899999996, 19.506111100000002, 46.41111110000001, 39.2666667, 42.4972222, 19.639994, 38.2511111, 47.6063889, 38.8105556, 40.2841667, 26.5216667, 45.783333299999995, 35.3272222, 42.9316667, 43.362777799999996, 38.9108333, 33.4483333, 52.966667, 33.8358333, 52.483332999999995, 39.6836111, 45.483333, 40.7608333, 26.5216667, 33.9813889, 27.293611100000003, 42.8813889, 47.6777778, 36.595, 42.3147222, 52.8, 27.8002778, 39.248611100000005, 36.7416667, 61.59972220000001, 35.3858333, 46.35805560000001, 41.6716667, 41.6716667, 30.421111100000005, 34.8697222, 42.7677778, 40.376177, 43.7294444, 43.7294444, 40.680555600000005, 27.293611100000003, 41.6716667, 45.2025, 37.5586111, 33.941838, 38.811944399999994, 38.811944399999994, 40.4841667, 40.29, 41.60055560000001, 45.95, 44.0261111, 52.133333, 38.1041667, 38.3497222, 35.084444399999995, 38.58888889999999, 37.972334000000004, 35.845555600000004, 43.784440000000004, 33.3527778, 45.3575, 36.4991667, 33.538611100000004, 42.8666667, 40.8527778, 41.2222222, 41.5666667, 39.6586111, 42.591666700000005, 41.6661111, 35.173333299999996, 44.687984, 42.8666667, 40.8558333, 44.071388899999995, 41.4552778, 42.9288889, 37.804444399999994, 43.9, 38.9536111, 53.542784999999995, 42.34444439999999, 42.314937, 50.016667, 44.720484, 42.381111100000005, 41.9269444, 45.523055600000006, 43.23111110000001, 41.394722200000004, 39.709166700000004, 33.83888889999999, 40.296944399999994, 47.252877000000005, 40.853888899999994, 26.683333299999997, 53.816667, 41.279444399999996, 49.25, 41.663888899999996, 40.984878, 40.7616667, 36.5969444, 43.608611100000005, 40.224070000000005, 44.743333299999996, 49.883333, 16.8, 42.6538889, 40.4405556, 38.910841, 42.484444399999994, 47.3319444, 33.4222222, 40.7141667, 41.1383333, 35.076666700000004, 51.016667, 43.0730556, 35.6008333, 35.4427778, 33.76888889999999, 36.175, 41.506666700000004, 42.042777799999996, 42.0027778, 36.7477778, 34.148055600000006, 44.8011111, 45.1230556, 37.3394444, 42.0083333, 41.5119444, 39.758888899999995, 40.9169444, 29.7352778, 39.961111100000004, 39.758888899999995, 45.023055600000006, 41.6375, 42.5030556, 39.7463889, 39.11555560000001, 34.701666700000004, 34.8555556, 46.1852778, 36.8641667, 43.9961111, 42.783333, 43.4261111, 43.426181, 39.6066667, 36.8252778, 40.5675, 40.5, 44.427963, 45.523611100000004, 40.015, 44.846388899999994, 34.4208333, 46.8722222, 47.71805560000001, 29.210555600000003, 40.1302778, 40.691613000000004, 32.7733333, 41.8525, 40.4180556, 39.758888899999995, 33.916388899999994, 44.666667, 38.421944399999994, 42.4641667, 45.150555600000004, 44.6497222, 26.5216667, 44.5402778, 41.8258333, 47.750555600000006, 41.656111100000004, 30.8325, 47.7558333, 43.866667, 52.083333, 52.88148399999999, 37.4947222, 32.7733333, 46.8083333, 51.43148, 33.2469444, 40.421111100000005, 34.0522222, 26.705277799999998, 34.9244444, 43.3636111, 32.216316, 33.887222200000004, 32.2216667, 44.304444399999994, 46.416388899999994, 26.5216667, 44.3105556, 41.944444399999995, 40.3916667, 41.663888899999996, 39.03055560000001, 44.566666999999995, 38.8183333, 34.1063889, 44.1002778, 40.6083333, 34.3527778, 35.084444399999995, 47.6777778, 35.0525, 35.0525, 53.233332999999995, 40.497659999999996, 27.901111100000005, 29.894444399999998, 47.621475, 47.9791667, 36.175, 28.021944399999995, 44.923888899999994, 39.4336111, 33.7125, 41.724444399999996, 26.358333299999998, 33.849166700000005, 28.280289, 26.705277799999998, 26.461111100000004, 28.538055600000003, 26.2375, 28.8002778, 26.705277799999998, 26.0519444, 26.2375, 43.161747999999996, 26.705277799999998, 41.9583333, 41.478888899999994, 44.5105556, 64.8377778, 42.9955556, 35.053611100000005, 47.6063889, 39.15138889999999, 45.9047222, 44.216944399999996, 40.1302778, 33.7458333, 27.770555600000005, 49.9, 33.580555600000004, 46.389738, 25.7738889, 47.65878, 43.5172222, 33.4483333, 45.523611100000004, 44.5038889, 44.08181, 47.6777778, 45.446388899999995, 46.24, 46.188055600000006, 45.666667, 47.6741667, 47.9791667, 32.7152778, 44.9583333, 26.5216667, 43.4452778, 48.8466667, 46.622392, 48.916667, 48.9466667, 34.0522222, 40.1502778, 45.416667, 47.4236111, 46.73111110000001, 37.3022222, 43.088055600000004, 37.3022222, 41.2333333, 45.781111100000004, 14.613332999999999, 39.7155556, 39.40138889999999, 26.5216667, 26.5216667, 26.5216667, 44.6497222, 43.633333, 42.6158333, 42.783333, 44.016667, 32.63, 43.55, 44.5038889, 33.7475, 43.679444399999994, 34.8469444, 38.5052778, 35.2675, 44.8113889, 53.55, 43.038888899999996, 41.7, 33.688888899999995, 41.0894444, 39.4575, 44.2911111, 36.8527778, 37.3230556, 38.603888899999994, 47.3075, 36.165833299999996, 34.6777778, 35.0525, 33.688888899999995, 34.6777778, 35.7525, 21.195, 34.6777778, 44.3236111, 45.523055600000006, 33.688888899999995, 33.688888899999995, 33.5091667, 24.817010999999997, 45.759722, 38.4344444, 41.85, 32.735555600000005, 43.666667, 29.883055600000006, 40.7608333, 29.423888899999998, 36.451666700000004, 42.4772222, 33.76888889999999, 40.09305560000001, 42.716666700000005, 46.183333000000005, 38.658055600000004, 35.7327778, 34.4208333, 39.709166700000004, 39.709166700000004, 34.98305560000001, 40.794509999999995, 39.961111100000004, 42.0583333, 41.2544444, 38.2097222, 44.4311111, 39.9402778, 43.85, 41.560443, 43.338055600000004, 33.6411111, 47.9791667, 36.3047222, 45.3, 41.658445, 41.1280556, 39.8841667, 36.9752778, 27.947222200000002, 33.9375, 40.822804, 40.822804, 40.85805560000001, 41.7858333, 33.3702778, 33.9133333, 30.411111100000003, 47.2530556, 28.635308000000002, 38.32944439999999, 38.402222200000004, 47.2530556, 34.4208333, 45.2102778, 40.57194439999999, 41.9269444, 49.883333, 37.7741667, 41.4383333, 40.508055600000006, 29.7858333, 33.466944399999996, 42.368333299999996, 33.4483333, 33.8158333, 40.015, 30.6741667, 40.0591667, 44.5191667, 43.666667, 34.023055600000006, 37.553611100000005, 40.015, 42.8694444, 45.2630556, 36.014308, 26.615555600000004, 43.15, 39.9508333, 33.6305556, 38.2008333, 42.0358333, 36.3883333, 41.368333299999996, 39.961111100000004, 35.3658333, 36.6102778, 33.66, 43.2797222, 41.2222222, 40.330188, 42.0583333, 47.6063889, 43.048055600000005, 39.4141667, 39.966778999999995, 45.423889, 40.1855556, 36.9902778, 41.85, 30.2366667, 41.7197222, 38.30305560000001, 43.6122222, 45.2630556, 39.961111100000004, 42.1291667, 40.0377778, 41.9902778, 30.6277778, 40.4166667, 40.0952778, 38.6272222, 39.961111100000004, 34.2366667, 38.8105556, 33.4486111, 42.096388899999994, 39.39944439999999, 40.014444399999995, 41.1369444, 41.499444399999994, 45.6388889, 34.023888899999996, 44.281111100000004, 59.494638, 25.7738889, 33.4147222, -32.276821000000005, 44.65, 40.7616667, 40.6883333, 36.4991667, 43.1116667, 41.7141667, 39.849444399999996, 44.3, 34.2977778, 41.582222200000004, 30.291388899999998, 32.77638889999999, 44.5191667, 43.466666700000005, 41.595, 53.63333299999999, 46.183333000000005, 33.4352778, 38.5472222, 34.180833299999996, 46.283055600000004, 40.7608333, 32.7152778, 36.0625, 39.8022222, 33.4222222, 43.0125, 35.14944439999999, 31.568611100000002, 41.638889, 41.08138889999999, 33.9533333, 43.6613889, 38.76694439999999, 36.728055600000005, 34.1422222, 40.7933333, 38.99055560000001, 46.82194439999999, 39.02638889999999, 32.783333299999995, 40.8358333, 45.5, 47.644722200000004, 39.2902778, 39.6283333, 43.6136111, 47.6063889, 38.21194439999999, 38.21194439999999, 28.5491667, 47.9791667, 39.5463889, 43.680833299999996, 34.0513889, 35.1477778, 34.207222200000004, 34.519940000000005, 38.3225, 42.225, 38.201944399999995, 51.102340999999996, 45.666667, 35.084444399999995, 41.7, 43.22555560000001, 48.0797222, 44.4652778, 40.2202778, 42.3875, 42.162801, 40.0063889, 47.3075, 32.2686111, 39.1325, 42.9133333, 47.03805560000001, 30.057536, 34.1952778, 51.083333, 44.035, 38.9580556, 39.9536111, 35.0166667, 30.733315, 40.4897222, 32.2216667, 40.5186111, 40.833611100000006, 63.816667, 29.028318, 29.028318, 27.875, 36.271666700000004, 35.084444399999995, 37.53611110000001, 34.8525, 42.3875, 3.1390029999999998, 35.6125, 32.7458333, 35.9197222, 38.7508333, 35.084444399999995, 38.8611111, 35.2333333, 35.084444399999995, 41.52444439999999, 35.686944399999994, 33.170278, 33.3061111, 26.933888899999996, 42.726111100000004, 37.6922222, 42.71944439999999, 25.7738889, 41.1383333, 26.1272222, 49.899753999999994, 40.548888899999994, 34.4263889, 45.74, 40.1577778, 39.961111100000004, 34.608611100000005, 42.7630556, 61.2180556, 44.080555600000004, 41.60055560000001, 29.423888899999998, 32.7458333, 48.466667, 41.5736111, 37.31707, 36.2077778, 40.8297222, 38.4344444, 39.0044444, 26.6583333, 33.580555600000004, 47.453888899999995, 33.4222222, 33.4222222, 33.0580556, 33.170278, 33.248611100000005, 33.4352778, 42.2041667, 33.5975, 39.0875, 30.4327778, -34.928661, 44.9583333, 44.9583333, 37.3769444, 47.9791667, 42.6827778, 40.1572222, 46.131111100000005, 42.3802778, 40.6883333, 35.2619444, 35.084444399999995, 35.2333333, 35.2225, 42.9363889, 41.7, 35.128263000000004, 43.679444399999994, 43.33694439999999, 44.097777799999996, 44.3741667, 41.9583333, 42.7883333, 42.620138, 45.918799, 37.6202778, 41.85, 33.89, 41.701944399999995, 38.5816667, 38.5816667, 40.7875, 40.3488889, 40.4841667, 43.3238889, 40.4841667, 38.610555600000005, 44.3875, 34.000555600000006, 40.4861111, 39.0838889, 38.6172222, 40.731944399999996, 42.4927778, 42.4588889, 33.8358333, 40.110833299999996, 39.228055600000005, 39.7391667, 39.8775, 39.6427778, 36.775833299999995, 33.342667, 40.033333299999995, 36.8527778, 39.7047222, 41.9941667, 32.3122222, 32.976111100000004, 35.7477778, 39.7391667, 40.455555600000004, 39.7391667, 38.3019444, 26.461111100000004, 41.8488889, 40.691613000000004, 36.175, 41.2844444, 39.6877778, 36.175, 33.451111100000006, 43.0652778, 36.8527778, 39.961111100000004, 39.5127778, 36.1538889, 42.4738889, 41.6777778, 53.38333299999999, 41.5261111, 42.6041667, 42.8597222, 41.1305556, 33.5508333, 37.553611100000005, 64.8377778, 42.7647222, 47.294444399999996, 39.961111100000004, 44.834444399999995, 42.4738889, 45.8925, 43.15, 44.233333, 37.973535, 42.8922222, 41.4438889, 47.6741667, 38.8813889, 42.314937, 45.1608333, 33.618888899999995, 38.0527778, 37.5947222, 42.5583333, 30.450555600000005, 48.993888899999995, 27.15, 53.258013, 37.7741667, 41.1305556, 41.66111110000001, 41.0997222, 41.079273, 41.53805560000001, 36.8352778, 41.3772222, 41.523611100000004, 39.161944399999996, 44.6336111, 39.11555560000001, 39.729432, 37.4947222, 37.7652778, 39.145003, 33.9383333, 33.8358333, 29.623611100000005, 38.8902778, 35.955555600000004, 26.615555600000004, 33.8158333, 33.8158333, 37.4947222, 33.7488889, 38.8402778, 42.76, 46.211388899999996, 39.006666700000004, 51.45, 44.8975, 42.717856, 35.4869444, 42.6727778, 42.4852778, 34.256111100000005, 39.4805556, 40.033333299999995, 39.0875, 41.4738889, 43.0125, 40.883055600000006, 36.175, 33.4052778, 46.9011111, 34.519940000000005, 33.688888899999995, 40.23305560000001, 33.887222200000004, 41.3252778, 33.580555600000004, 39.3544444, 42.2708333, 39.4141667, 40.099166700000005, 40.8041667, 39.8208333, 42.3583333, 33.8302778, 34.0522222, 43.6136111, 34.228333299999996, 33.9791667, 33.34, -33.28273, 45.12, 37.09444439999999, 39.785277799999996, 33.538611100000004, 36.5297222, 34.9202778, 34.132163, 34.207222200000004, 33.83888889999999, 30.421111100000005, 33.9375, 33.9608333, 42.09861110000001, 41.499444399999994, 41.658333299999995, 44.734444399999994, 41.8713889, 39.8427778, 39.7219444, 41.08138889999999, 39.785277799999996, 35.3822222, 34.6916667, 39.7683333, 43.09444439999999, 33.4483333, 34.019453999999996, 34.8697222, 38.8105556, 40.5727778, 37.3769444, 39.785277799999996, 30.223888899999995, 34.7997222, 35.771944399999995, 44.5322222, 38.9988889, 26.1272222, 47.033333, 45.416667, 40.2875, 37.9886111, 27.195833299999997, 40.4416667, 48.76, 42.7652778, 41.775833299999995, 35.203055600000006, 39.0166667, 46.8675, 43.0202778, 35.471388899999994, 36.165833299999996, 40.269722200000004, 42.7761111, 41.82052, 44.414414, 38.256105, 39.5522222, 42.2172222, -29.31, -29.85868, 44.0791667, 42.5077778, -20.166667, 33.4269444, 32.7152778, 35.298055600000005, 35.084444399999995, 39.3161111, 35.5322222, 39.9872222, 34.9775, 64.8377778, 43.303611100000005, 40.579532, 44.505, 43.2341667, 35.201666700000004, 42.436944399999994, 43.96805560000001, 39.623611100000005, 44.8041667, 41.6894444, 40.6966667, 37.84861110000001, 45.275155, 44.923888899999994, 36.1866667, 26.705277799999998, 33.5422222, 36.4991667, 40.798888899999994, 40.7608333, 37.9402778, 44.9583333, 39.0702778, 51.146667, 43.045, 36.7477778, 40.8686111, 35.471388899999994, 25.580832, 40.883888899999995, 41.53805560000001, 34.9244444, 33.7455556, 39.3772222, 34.005, 41.396666700000004, 35.3394444, 33.5966667, 32.7152778, 40.3352778, 46.521858, 34.2977778, 41.319948, 35.9411111, 40.8, 35.245, 39.4997222, 40.416388899999994, 39.7391667, 35.9411111, 33.3527778, 36.3883333, 37.0583333, 33.9791667, 42.0866667, 35.791388899999994, 38.5816667, 40.6883333, 34.6777778, 47.9791667, 33.8925, 42.0252778, 64.8377778, 40.4405556, 49.883333, 42.6288889, 39.7686111, 50.503887, 42.101388899999996, 33.6058333, 43.09861110000001, 33.3244444, 39.7172222, 40.8, 40.1083333, 43.6136111, 44.858611100000005, 39.2952778, 33.7475, 34.028926, 46.2069444, 31.5347222, 34.207222200000004, 35.6008333, 45.8527778, 40.57944439999999, 44.3616667, 39.018164, 27.947222200000002, 38.0166667, 41.5727778, 30.096944399999995, 44.26, 47.3794444, 42.33694439999999, 37.553611100000005, 43.304444399999994, 37.606944399999996, 42.726111100000004, 32.802458, 41.638889, 43.88444439999999, 46.3238889, 33.924545, 44.0463889, 41.6833333, 34.207222200000004, 29.763055600000005, 38.2325, 41.7, 43.9552778, 41.544444399999996, 53.751740000000005, 29.954444399999996, 43.247815, 42.9955556, 40.693611100000005, 47.48305560000001, 38.2325, 40.4991667, 48.9180556, 36.7477778, 41.9402778, 30.266944399999996, 31.116944399999994, 34.70713, 46.82, 27.273049, 27.293611100000003, 38.8916667, 37.6922222, 48.380895, 47.644539, 37.54555560000001, 32.7252778, 41.1305556, 47.9791667, 36.8466667, 42.8863889, 41.0525, 32.7152778, 30.505, 53.25, 40.858433000000005, 33.2097222, 36.5297222, 50.465843, 29.651388899999997, 34.367594, 46.3, 34.101388899999996, 36.165833299999996, 43.6136111, 38.2972222, 38.9011111, 35.6527778], \"lon\": [-74.16375500000001, -82.76388890000001, -86.710273, -90.1977778, -75.7, -81.7822222, -67.0, -73.11138890000001, -90.2416667, -84.2866667, -71.44027779999999, -83.63, -93.3361111, -83.0277778, -83.48222220000001, -80.3522222, -71.44027779999999, -83.9508333, -79.833333, -93.6055556, -80.13888890000001, -79.033333, -85.58722220000001, -95.235, -84.51201999999999, -73.11138890000001, -84.4569444, -84.4569444, -81.795, -83.596111, -84.4569444, -84.6805556, -72.0066667, -83.86027779999999, -84.2866667, -76.0047222, -80.0944444, -80.6083333, -92.6333333, -88.0077778, -72.0, -81.4025, -83.9463889, -104.8208333, -76.34861109999999, -119.01777779999999, -75.082115, -105.170819, -122.740546, -85.38638890000001, -79.9961111, -79.9961111, -71.435, -105.27, -90.8227778, -77.4302778, -80.3375, -82.45861109999998, -84.14027779999999, -83.2175, -83.5541667, -92.3427778, -72.93777779999999, -0.093689, -89.38027779999999, -97.7427778, -73.3816667, -81.8358333, -90.39583329999999, -76.2625, -152.40722219999998, -90.1977778, -83.41888890000001, -82.99888890000001, -80.0030556, -84.1052778, -86.7758333, -76.5838889, -81.685, -79.466667, -84.56138890000001, -97.7427778, -84.3041667, -84.56138890000001, 100.013593, -84.2333333, -81.92277779999999, -84.2866667, -89.58888890000001, -84.2333333, -106.81694440000001, -108.55, -79.4, -81.827354, -83.1583333, -83.7575, -88.0077778, -70.845833, -82.6502778, -121.2247222, -84.4569444, -121.2247222, -93.2980556, -111.89027779999999, -79.416667, -97.4841667, -105.93722220000001, -90.33317199999999, -95.8608333, -95.8608333, -77.58, -74.2330556, -88.3513889, -77.0088889, -76.5713889, -82.4505556, -117.425, -80.0366667, -88.774271, -81.2733333, -82.1130556, -83.4658333, -86.1580556, -85.8794444, -122.6936111, -83.3527778, -104.616667, -79.23777779999999, -90.1516667, -86.01388890000001, -74.0063889, -83.0277778, 74.244866, -95.8558333, -74.1905556, -106.65055559999999, -70.8394444, -75.0602778, -74.6, -74.6, -80.8433333, -87.9794444, -123.9213889, -122.2697222, -88.0197222, -92.6377778, -79.416667, -85.75972220000001, -74.2572222, -111.96743899999998, -85.58722220000001, -123.69194440000001, -74.376508, -80.8186111, -121.9875, -76.0663889, -121.359881, -69.8988889, -77.10055559999999, -114.32166670000001, -111.03777779999999, -73.85, 80.250825, -89.09388890000001, -74.365, -116.2025, -80.6597222, -78.4269444, -118.53555559999998, -122.74583329999999, -106.65055559999999, -121.49333329999999, -95.7455556, -79.79861109999999, -75.3944444, -86.7625, -77.1891667, -92.96472220000001, -70.93472220000001, -111.63361110000001, -84.2177778, -121.49333329999999, -97.32055559999999, -78.96488199999999, -110.7858333, -86.1580556, -111.92944440000001, -116.9327778, -116.39055559999998, -63.21, -116.9213889, -121.8938889, -82.76388890000001, 1.116667, -81.1511111, -117.90444440000002, -80.2333333, -74.2572222, -116.2025, -122.6936111, -77.89388890000001, -80.83, -78.47694440000001, -117.24166670000001, -121.95, -123.025, -71.4802778, -80.08333329999999, -117.1786111, -121.3288889, -73.1108333, -120.382172, 5.30209, -63.483332999999995, -92.10638890000001, -87.3594444, -96.8, -84.28339799999999, -80.24638890000001, -85.755, -80.24638890000001, -71.51638890000001, -83.8675, -82.5308333, -83.9880556, -82.5308333, -84.4569444, -84.4597222, -84.4597222, -70.22916670000001, -109.01456100000001, -86.0086111, -91.4983333, -77.0844444, -75.9783333, -112.4677778, -89.335, -80.2325, -71.0125, -118.2427778, -110.3030556, -122.9836111, -88.033333, -86.87527779999999, -71.3166667, -110.69666670000001, -85.7588889, -64.81, -89.9888889, -96.87871, -111.84055559999999, -88.5425, -112.3575, -81.3794444, -88.4469444, -90.39583329999999, -76.88472220000001, -77.41722220000001, -116.3736111, -90.1977778, -85.1613889, -93.0930556, -80.8433333, -73.0794444, -116.2025, -81.6269444, 100.013593, -83.6875, -97.7427778, -80.0944444, -106.65055559999999, -76.95, -83.5552778, -71.20138890000001, -104.91666670000001, -81.795, -74.8291667, 92.717639, -117.425, -73.8922222, -75.1641667, -71.51527779999999, -74.8291667, -77.47555559999999, 16.699360000000002, -121.2897222, -112.00916670000001, -95.63472220000001, -87.90638890000001, -67.613276, -71.41666670000001, -98.4933333, 114.057868, -95.3630556, -92.8408333, -95.8241667, -87.5691667, -71.1833333, -97.4255556, -74.2233333, -75.97916670000001, -96.46388890000001, -90.3783333, -88.2480556, -80.3672222, -76.75, -122.41833329999999, -115.1363889, -89.01861109999999, -117.9452778, -72.8075, -84.3983333, -92.25319300000001, -77.9641667, -77.3258333, -81.37861109999999, -85.6416667, -68.8269444, -77.8530556, -75.1641667, -74.19555559999999, -77.72027779999999, -90.8527778, -105.1013889, -73.7566667, -120.30916670000002, -83.6469444, -119.89308999999999, -112.315, -73.1108333, -79.8644444, -80.1938889, -72.5583333, -112.4677778, -70.9444444, -71.1172222, -111.8336111, -83.415, -116.96833329999998, -113.0611111, -121.07583329999999, -120.01527779999999, -122.53, -97.1077778, -157.8036111, -79.7883333, -118.1488889, -87.284447, -116.78046599999999, -74.2466667, -71.64944440000001, -75.1641667, -71.1355556, -82.4544444, -149.90027780000003, -87.7438889, -122.48694440000001, -70.9141667, -104.8208333, -97.26861109999999, -97.26861109999999, -77.4105556, -94.65611109999999, -120.17222220000001, -120.456007, -71.17244699999999, -149.90027780000003, -122.73527779999999, -71.35, -122.6936111, -120.7763889, -106.71583329999999, -112.00916670000001, -77.0525, -77.04722220000001, -86.6225, -111.89833329999999, -118.1436111, -75.0066667, -76.83972220000001, -77.46055559999999, -74.4819444, -96.8, -77.25, -84.915, -122.48694440000001, -77.0513889, -76.5030556, -123.13333300000001, -120.17222220000001, -78.800013, -90.1977778, -89.74027779999999, -120.6022222, -76.55027779999999, -96.63861109999999, -73.4677778, -123.08555559999999, -98.0294444, -90.69972220000001, -75.8816667, -95.7905556, -111.84055559999999, -118.1625, -80.3472222, -96.9486111, -93.42611109999999, -92.3427778, -97.14138890000001, -83.5552778, -89.9858333, -79.8955556, -118.39944440000001, -111.89027779999999, -105.00805559999999, -75.83361109999998, -99.133208, 55.405636, -87.90638890000001, -83.8511111, 100.35305600000001, -76.6125, -93.60888890000001, -88.42111109999999, -95.8241667, -79.9961111, -76.79861109999999, -82.205, -116.5625, -116.39055559999998, -82.5308333, -84.1594444, -118.4447222, -83.9008333, -93.885, -74.0775, -85.28604399999999, -84.2944444, -118.2427778, -84.7980556, -157.8583333, -71.1913889, -104.82, -105.1013889, -76.753333, -117.425, -112.1852778, -118.6375, -71.833414, -83.3780556, -77.6280556, -81.35, -82.25, -87.8211111, -113.007021, -82.1130556, -90.56277779999999, -89.0675, -86.7133333, -93.3361111, -93.7672222, -86.722719, -81.94972220000001, -84.2808333, -80.05722220000001, -82.6652778, -72.0, -80.13027779999999, -97.7241667, -96.63861109999999, -79.833333, 13.512364999999999, -70.41666670000001, -81.84297099999999, -96.7672222, -124.8, -82.1825, -155.10101799999998, -93.0930556, -94.1572222, -80.681998, -84.4569444, -80.2444444, -84.4777778, -118.1436111, -80.0366667, -79.9961111, -97.0580556, -83.405746, -94.73361109999999, -76.020319, -80.1533333, -73.883333, -122.29305559999999, -122.49694440000002, -97.49722220000001, -73.883333, -72.5236111, -72.58333329999999, -80.2333333, -82.4858333, -80.2416667, -84.638562, -76.4786111, -80.14361109999999, -122.02972220000001, -76.42833329999999, -121.49333329999999, -86.3241667, -69.7911111, -111.85361110000001, -79.733333, -117.1563889, -112.03333329999998, -122.9072222, -119.28333329999998, -116.5522222, -116.95055559999999, -118.34194440000002, -116.41916670000002, -74.5927778, -75.66277779999999, -90.7041667, -89.0927778, -77.37361109999999, -81.1766667, -81.77305559999999, -122.14194440000001, -120.99583329999999, -79.765, -107.2522222, -75.9783333, -117.1563889, -80.08333329999999, -82.14027779999999, -97.39611109999998, -118.33972220000001, -111.63361110000001, -122.02972220000001, -118.2427778, -82.336047, -147.7163889, -84.37861109999999, -97.4405556, -80.9025, -116.416977, -84.55333329999999, -83.0688889, -120.29194440000002, 77.733333, -83.3780556, -76.6125, -72.7566667, -74.93722220000001, -84.27, -81.795, -122.675, -72.5025, -86.008596, -79.0783333, -79.416667, -79.99416670000001, -78.3013889, -81.8394444, -118.25333329999998, 117.897392, -83.82861109999999, -93.46638890000001, -120.8138889, -75.1641667, -122.33083329999998, -97.55666670000001, -81.23638890000001, -112.3325, -111.89027779999999, -119.6775, -74.4375, -75.96888890000001, -96.8, -73.504175, -123.10472220000001, -106.65055559999999, -147.7163889, -77.47555559999999, -1.166667, -82.5863889, -84.1805556, -82.4169444, -122.35444440000002, -83.589602, -123.0338889, -123.0338889, -147.7163889, -86.7483333, -86.7483333, -82.6619444, -80.2333333, -122.33083329999998, -83.9705556, -80.4777778, -122.4302778, -74.0063889, -74.150201, -74.0341667, -149.90027780000003, -77.6380556, -105.1013889, -73.00916670000001, -109.1502778, -90.85, -63.483332999999995, -74.50048000000001, -89.50138890000001, -87.4155556, -111.84055559999999, -156.69722219999997, -86.7844444, -73.1483333, 126.97796899999999, -92.76861109999999, -123.9213889, -117.425, -70.8972222, -80.08333329999999, -86.7844444, -117.425, -87.90361109999999, -111.7888889, -117.29111110000001, -121.89833329999999, -81.20833329999999, -7.2, -157.841111, -81.30311800000001, -96.9938889, -84.300666, -123.08555559999999, -79.416667, -123.94166670000001, -122.90416670000002, -82.83111109999999, -96.66666670000001, -118.33972220000001, -118.2427778, -116.09777779999999, -72.1219444, -95.8241667, -105.1013889, -120.1572222, -81.3630556, -106.8311111, -122.63138889999999, -123.28, -81.3394444, -85.3783333, -122.09694440000001, -119.7663889, -83.15, -79.5, -96.36972220000001, -77.0233333, -97.516428, -99.7858333, -104.98416670000002, -97.7427778, -83.9880556, -121.4297222, -115.1363889, -95.8905556, -105.27, -73.2125, -94.168531, -91.4030556, -75.0111111, -118.3875, -93.5775, -122.816667, -82.5994444, -111.89027779999999, -88.0430556, -81.8725, -84.14027779999999, -86.1580556, -88.3458333, -75.71388890000001, -82.55888890000001, -93.45527779999999, -94.1622222, -63.483332999999995, -82.5308333, -82.907123, -122.20083329999999, -73.3811111, -104.1558333, -111.9086111, -112.07333329999999, -86.8688889, 26.636667, -86.7844444, -105.0161111, -82.2180556, -85.7694444, -86.8672222, -82.80027779999999, -74.0063889, -78.75, -71.51527779999999, -96.9975, -88.74416670000001, -90.69972220000001, -80.2416667, -84.00527779999999, -94.1622222, 0.551438, 0.551438, -90.13, -76.9341667, -79.86277779999999, -122.2336111, -86.4133333, -110.30666699999999, -95.6961111, -93.31361109999999, -71.5166667, -83.1052778, -77.4313889, -83.80888890000001, -70.158294, -77.4288889, -95.9177778, -95.9177778, -81.2080556, -93.16666670000001, -73.07638890000001, -74.2330556, -81.3794444, -121.5511111, -108.55, -90.1527778, -88.3086111, -122.29305559999999, -83.32861109999999, -82.4858333, -149.1127778, -82.0455556, -122.91666699999999, -81.515754, -96.9486111, -96.9486111, -90.7041667, -95.9925, -84.4147222, -75.9783333, -71.4133333, -86.0688889, -115.1363889, -73.583333, -94.83, -122.75916670000001, -113.566667, -111.572222, -82.18861109999999, -116.77944440000002, -86.1580556, -111.8219444, -80.0730556, -70.87400500000001, -112.23666670000001, -80.05722220000001, -82.7194444, -88.405, -66.166667, -88.80722220000001, 145.534348, -81.60194440000001, -95.9602778, -82.1013889, -156.666914, -77.0088889, -83.7263889, -79.6944444, -121.28694440000001, 144.963425, -117.0913889, -90.11527779999999, -80.2333333, -114.86833329999999, -84.4569444, -78.4394444, -84.4569444, -75.65, -84.4569444, -84.36361109999999, -84.4569444, -117.3263889, -122.08725600000001, -117.3263889, -72.9722222, -122.681248, -80.3975, -112.5338889, -84.19857900000001, -108.74194440000001, -86.7844444, 133.775136, -82.0094444, 115.861397, -73.8166667, -81.3794444, -80.1938889, -74.08722220000001, -122.5788889, -77.0844444, -75.9658333, -86.8688889, -82.8838889, -124.01666670000002, -105.0161111, -105.2888889, -88.105, -112.15, -79.9697222, -80.735, -122.90416670000002, -116.5625, -92.7777778, -80.4744444, -105.93722220000001, -105.93722220000001, -105.93722220000001, -89.4625, 139.497269, -88.74416670000001, -75.65861109999999, -122.07916670000002, 23.321868, -74.38861109999999, -118.18833329999998, -116.2025, -81.73, -87.90638890000001, -121.49333329999999, -114.32166670000001, -72.5025, -68.42, -81.9483333, -80.083333, -70.97555559999999, -90.8513889, -111.89027779999999, -76.09361109999999, -91.2394444, -80.83, -90.7194444, -89.6994444, -111.65416670000002, -74.1983333, -121.28694440000001, -90.07722220000001, -90.8513889, -118.30805559999999, -121.9675, -81.1027778, -71.1288889, -90.1716667, -66.633333, -119.1761111, -73.08361109999998, -70.1516667, -76.3455556, -76.88472220000001, 18.872973, -123.13333300000001, -94.5783333, -114.37574, -85.6680556, -85.6416667, -89.4625, -116.99805559999999, -121.99027779999999, -76.99, -105.03666670000001, -89.885, -93.3361111, -75.068333, -93.2775, -89.28777779999999, -75.3213889, -89.4625, -72.7461111, -92.3427778, -82.14027779999999, -71.3583333, -92.445, -80.3638889, -93.60888890000001, -89.77083329999999, -121.29194440000002, -93.60888890000001, -83.8241667, -73.5025, -77.9641667, -118.2427778, -80.5758333, -121.61583329999999, -93.61972220000001, -75.31, -71.2694444, -74.137183, -72.8075, -81.718981, -71.3677778, -81.5191667, -81.2875, 115.861397, -122.71333329999999, -75.38027779999999, -97.97, -114.32166670000001, -93.60888890000001, -117.6022222, -93.60888890000001, -123.02083329999999, -98.5944444, -98.7372222, -81.1833333, -97.5944444, -84.8, -97.26861109999999, -90.92, -71.0902778, -80.2333333, -81.6558333, -93.60888890000001, -111.9086111, -83.41888890000001, -119.81277779999999, -104.2283333, -116.2025, -76.75, -105.08694440000001, -105.03666670000001, -74.17277779999999, -116.2025, -104.98416670000002, -79.8, -83.0458333, -3.8546739999999997, -80.3975, -81.3794444, -86.87527779999999, -95.8255556, -82.3827778, -71.4938889, -77.58, -86.81, -76.687467, -72.9286111, -74.749535, -78.333333, -93.60194440000001, -76.9394444, 100.35305600000001, -76.60611109999999, -86.67222220000001, 76.521309, -75.9783333, -86.7844444, -72.5125, -149.1127778, -111.325, -76.6125, -81.0252778, -63.216667, -87.78277779999999, -84.1405556, -80.0055556, -84.2830556, -82.1894444, -72.0155556, -106.6638889, -106.6638889, -89.52638890000001, -79.9961111, -83.42361109999999, -80.6075, -89.6463889, -85.7372222, -117.1563889, -105.93722220000001, -83.92527779999999, -80.6694444, -117.70666670000001, -106.65055559999999, -94.5783333, -81.92277779999999, -75.0894444, -77.0766667, -94.9327778, -122.48694440000001, -82.7194444, 1.3, -77.46055559999999, -106.6638889, -122.675, -88.82777779999999, -66.938512, 153.191323, -120.99583329999999, 19.146192000000003, -122.27166670000001, -81.8069444, -121.8938889, -76.9680556, -108.5, -74.8522222, -102.3672222, -80.0944444, -87.90638890000001, -75.49722220000001, -84.34609, -121.2897222, -82.7197222, -117.67, -72.3472222, -82.7075, -82.69972220000001, -96.53805559999999, -76.7280556, -97.32055559999999, -79.416667, -80.1938889, -0.983333, -116.3736111, -108.21805559999999, -81.0561111, -118.18833329999998, -82.28611109999999, -87.65, -145.7322222, -156.50472219999997, -121.37055559999999, -113.58333329999999, -119.3463889, -79.38254, -122.93694440000002, -111.89916670000001, -1.8833330000000001, -122.33083329999998, -0.093689, -81.3933333, -72.4591667, -80.05722220000001, -121.49333329999999, -79.9961111, -156.6825, -111.911424, -82.5308333, -121.2897222, -91.239581, -75.73111109999999, -122.94083329999998, -112.9977778, -81.3794444, -117.9136111, -157.8583333, -82.7194444, -111.71666670000002, -82.0758333, -111.87472220000001, -90.4405556, -104.2283333, -119.48666670000001, -70.93472220000001, -119.77138889999999, -71.19027779999999, -72.8466667, -72.586161, -72.01138890000001, -72.8466667, -72.4169444, -72.5758333, -72.6080556, -72.41888890000001, -71.7372222, -72.3083333, -70.97555559999999, -148.916667, -72.5758333, -71.572395, -79.8433333, -79.86527779999999, -82.9591667, -81.535, -70.97555559999999, -121.40055559999999, -75.9952778, -71.03611109999999, -110.93361110000001, -122.44305559999998, -75.9219444, -80.0561111, -68.67944440000001, -83.7802778, -78.6905556, -157.8583333, -119.69722220000001, -117.035, -75.1641667, -105.5686111, -122.53401000000001, -123.00916670000001, -121.9697222, -122.20083329999999, -80.27083329999999, -76.4311111, -122.30333329999999, -92.41277779999999, -112.0638889, -111.03777779999999, -103.2305556, -111.97383, -71.1, -122.66027779999999, -122.7427778, -120.69833329999999, -75.065, -111.97055559999998, -81.3794444, -118.270204, -121.49333329999999, -112.03527779999999, 5.986093, -73.0727778, -83.4011111, -71.3744444, -104.4825, -97.84, -112.7288889, -74.93722220000001, -74.405661, -82.93722220000001, -122.71333329999999, -149.4394444, -70.94027779999999, -89.5041667, -80.1394444, -3.516667, -84.6155556, -84.6155556, -84.2866667, -96.7, -119.19416670000001, -81.11527779999999, -92.4419444, -81.23638890000001, -111.69388889999999, -76.83972220000001, -71.5019444, -80.027781, -121.59916670000001, -73.05111109999999, -77.2041667, -82.45861109999998, -76.8258333, -121.17277779999999, -122.6113889, -122.63138889999999, -117.1563889, -75.946324, -94.5783333, -78.8988889, -84.83555559999999, 101.343106, -88.479138, -111.89027779999999, -90.7191667, -4.25, -74.6833333, -105.11666699999999, -85.6680556, -81.5863889, -82.7197222, -82.7194444, -85.1647222, -97.1077778, -68.4066667, -83.0277778, -112.03527779999999, -116.5522222, -119.05833329999999, -71.6833333, -75.9783333, -85.4191667, -122.29777779999999, -81.6855556, -81.0430556, -76.83555559999999, -81.0430556, -117.425, -117.425, -72.2822222, -81.0047222, -111.84055559999999, -94.1572222, -4.25, -82.763713, -123.10472220000001, -80.83, -121.8047222, -121.8938889, -81.5358333, -119.01777779999999, -83.257233, -87.5558333, -71.80277779999999, -76.9458333, -122.0625, -117.99805559999999, -88.145, -74.9955556, -77.8530556, -71.4666667, -87.8405556, -77.3666667, -114.46, -121.31416670000002, -121.31416670000002, -73.2125, -73.2125, -121.31416670000002, -86.7844444, -123.02083329999999, -123.02083329999999, -81.20833329999999, -76.23361109999999, -78.87861109999999, -116.5625, -77.4030556, -80.125, -122.66944440000002, -74.2616667, -72.883333, -84.2327778, -94.6166667, -73.5505556, -74.82388890000001, -80.9452778, -97.33722220000001, -97.8788889, -114.6236111, -117.6111111, -87.63, -105.08388889999999, -111.93305559999999, -111.5488889, -80.5994444, -79.4380556, -93.95833329999999, -111.98916670000001, -97.652222, -121.40055559999999, -86.8688889, -93.2258333, -104.60861109999999, -77.4608333, -95.8544444, -112.07333329999999, -110.9258333, -96.66666670000001, -86.29472220000001, -79.508276, -81.8241667, -76.483333, -70.845833, -71.0602778, -113.007021, -90.57, -88.4880556, -86.4436111, -117.90666670000002, -93.0736111, -106.65055559999999, -70.97555559999999, -83.9208333, -77.47555559999999, -73.4952778, -72.97916670000001, -88.4880556, -122.1561111, 77.22496, -74.1508333, -78.8869444, -73.2458333, -83.5688889, -121.5672222, -92.0197222, -88.33333329999999, -93.4625, -114.32166670000001, -106.65055559999999, -64.766667, -88.2666667, -83.1466667, -75.4569444, -88.0719444, -75.13972220000001, -71.4383333, -79.9405556, -84.9191667, -74.137183, -97.9905556, -94.215, -81.3147222, -71.325, -81.3794444, -71.3494444, -90.4611111, -111.84055559999999, -92.12222220000001, -98.3930556, -57.589794, -81.94972220000001, -77.404475, -71.4666667, -119.13611110000001, -84.55, -76.3544444, -81.7066667, -79.1216667, -77.4108333, -77.3516667, -77.3516667, -81.23638890000001, -82.6619444, -82.6619444, -76.6125, -71.6833333, -71.9625, -71.45, -69.9369444, -71.1555556, -95.1180556, -74.16375500000001, -74.1858333, -88.77472220000001, -121.32722220000001, -74.2405556, -74.3, -122.30333329999999, -114.32166670000001, -82.7719444, -88.31833329999999, -84.6619444, -87.8447222, -84.55, -71.18166670000001, -123.0338889, -95.6505556, -121.7113889, -121.7113889, -74.601111, -84.7477778, -83.82861109999999, -91.67111109999999, -80.0944444, -110.9258333, -122.63805559999999, -90.78836, -90.78836, -82.69972220000001, -97.48638890000001, -97.51611109999999, -76.3058333, -80.2308333, -85.7594444, -86.87527779999999, -72.2930556, -113.99305559999999, 73.85674399999999, -71.46388890000001, -77.636381, -77.8858333, -77.54638890000001, -66.633333, -100.316113, -83.15, -118.216458, -81.48472220000001, -83.55444440000001, -125.0, -81.3794444, -122.1852778, -98.7316667, -87.3125, -104.72197299999999, -122.8219444, -73.2641667, -72.65638890000001, -89.6661111, -71.10027779999999, -100.9594444, -82.45861109999998, -85.70527779999999, -81.7230556, -68.6780556, -86.5861111, -122.87444440000002, -77.23361109999999, -84.6647222, -82.6930556, -111.65055559999999, -76.3455556, -82.4452778, -90.5038889, -105.0161111, -80.5886111, -98.9355556, -84.160146, -77.545, -122.2697222, -73.20527779999999, -78.1947222, 101.68685500000001, -87.90638890000001, -117.2277778, -3.183333, -80.3194444, -117.59222220000001, -78.8988889, -73.0736111, -71.70277779999999, -93.26361109999999, -111.89833329999999, -87.8447222, -90.18472220000001, -73.930391, -82.8780556, -83.91972220000001, -122.28444440000001, -122.2697222, -77.4319444, -106.65055559999999, -0.75, -112.04694440000002, -111.89027779999999, -117.08555559999999, -122.62527779999999, -70.2152778, -87.3594444, -87.3594444, -82.4858333, 149.13435, -86.2483333, -73.84611109999999, -92.10638890000001, -80.4475, -81.035, -82.80027779999999, -69.9916667, -92.991883, -78.63888890000001, -73.8655556, -79.852082, -122.89944440000001, -156.6825, -94.1677778, -81.975, -78.8905556, -71.2097222, 1.3, -82.5155556, -90.54861109999999, -95.3630556, -66.466667, -149.4394444, -82.900075, -78.8905556, -75.2841667, -110.02916670000002, -123.32722220000001, -123.025, -122.25555559999998, -112.44221100000001, -112.07333329999999, -111.2247222, -98.4933333, -111.89833329999999, -81.8638889, -74.9230556, -92.4272222, -85.8055556, -81.6327778, -80.0852778, -80.5694444, -87.7516667, -87.641195, -97.48638890000001, -89.88305559999999, -118.03194440000001, -118.2427778, -111.51694440000001, -81.3147222, -117.2247222, -78.87835799999999, -77.2655556, -94.473524, -119.803578, -85.3905556, -118.2913889, -85.5663889, -117.1563889, -115.4013889, -122.20305559999998, -100.4366667, -74.0125, -77.2886111, -81.8725, -119.69722220000001, -80.0944444, -96.6986111, -123.83, -95.3630556, -106.3125, -123.89277779999999, -74.35279799999999, -74.1322222, -77.2280556, -73.246234, -97.7427778, -77.17138890000001, -80.03277779999999, -88.0430556, -95.3594444, -81.24914100000001, -114.31194440000002, -119.44805600000001, -119.44805600000001, -71.3744444, -78.1636111, -82.0908333, -76.1375, -93.26361109999999, -105.1013889, -159.4538889, -94.12861109999999, -92.4938889, -74.1266667, -95.2858333, -83.1141667, -87.8447222, -82.6055556, -82.3827778, -78.8988889, -79.9416667, -77.19666670000001, -84.6344444, -88.1625, -88.2611111, -95.61583329999999, -3.0, -79.5666667, -76.4525, -75.51527779999999, -121.8047222, -80.8433333, -83.0277778, -106.95777779999999, -97.1077778, -95.2608333, -97.0580556, -87.6491667, -118.49027779999999, -82.80027779999999, -3.166667, -105.27, -104.98416670000002, -80.117992, -81.69555559999999, -73.4458333, -83.9558333, -117.038247, -155.7902778, -85.92277779999999, -73.110556, -80.72277779999999, -111.8219444, -82.3305556, -71.9630556, -82.3305556, -90.8819444, -70.905443, -94.6705556, -79.9697222, -79.82842600000001, -72.8155556, -147.7163889, -96.04222220000001, -76.5455556, -94.92222220000001, -112.0061111, -81.5358333, -70.320911, -122.66027779999999, -87.48500200000001, -80.1275, -112.07333329999999, -95.235, -80.5886111, -87.2608333, -77.17138890000001, -118.2427778, -57.589794, -2.583333, -82.13083329999999, -78.866667, -86.93, -92.13416670000001, -73.20527779999999, -83.7530556, -82.1983333, -98.39, -111.3, -112.07333329999999, -76.51, -94.5316667, -94.5316667, -94.6705556, -81.3794444, -112.3575, -92.6030556, -90.1527778, -82.65914699999999, -147.7163889, -149.90027780000003, -94.88, -149.90027780000003, -117.89916670000001, -89.50138890000001, -119.81277779999999, -71.1172222, -71.22027779999999, -88.33333329999999, -88.62388890000001, -83.2113889, -108.75666670000001, -97.4777778, -117.88944440000002, -72.6855556, -73.94, -76.5030556, -97.33722220000001, -84.3880556, -119.483333, -86.3944444, -77.64944440000001, -75.38305559999999, -75.7, -118.44833329999999, -86.1580556, -97.51611109999999, -97.39611109999998, -74.9516667, -104.60861109999999, -97.48638890000001, -75.5666667, -122.48694440000001, -83.3061111, -111.3, -76.6125, 36.821946000000004, -79.730701, -106.72346399999999, -123.34055559999999, -80.8433333, -89.26, -121.8938889, -70.7633333, -123.34055559999999, -104.98416670000002, -105.08083329999998, -104.86527779999999, -86.722719, -116.2025, -84.3694444, -117.94055559999998, -80.0133333, -84.8, -117.2722222, -82.3852778, -87.90638890000001, -77.916667, -82.1983333, -62.63333299999999, -147.3494444, -104.98416670000002, -84.6769444, -82.09620100000001, -81.1027778, -97.4777778, -72.8075, -90.1569444, -73.7930556, -70.6625, -71.0733333, -72.14388890000001, -122.46083329999999, -70.93611109999999, -105.08083329999998, 100.35305600000001, -82.1130556, -71.8905556, -82.7875, -82.76388890000001, -82.67944440000001, -82.76388890000001, -81.795, -81.3147222, -105.1013889, -122.41833329999999, -105.1013889, -94.88, -116.2025, -105.1013889, -82.99888890000001, -123.02083329999999, -89.4011111, -80.0366667, -117.65, -82.2969444, -112.04694440000002, -103.2072222, -118.2011111, -149.90027780000003, -97.3608333, -112.07333329999999, -81.6558333, -80.2416667, -80.1938889, 174.76333200000002, -93.7102778, -97.7427778, -119.24194440000001, -71.80277779999999, -82.4544444, -121.49333329999999, -117.08555559999999, 146.805695, 78.486671, -74.222115, -72.13972220000001, -121.49333329999999, -119.483333, -81.56833329999999, -78.87861109999999, -75.13405999999999, -81.5441667, -90.04888890000001, -53.86666700000001, -92.06611109999999, -75.57166670000001, -78.8258333, -122.685, -155.09, -80.1394444, -117.66166670000001, -78.70138890000001, -77.2719444, -82.7197222, -115.1363889, -80.1938889, -93.5030556, -97.166667, -82.0908333, -87.5030556, -121.8938889, -82.79138890000002, -84.5194444, -83.7316667, -106.65055559999999, -91.5522222, -77.04722220000001, -98.0294444, -116.95777779999999, -118.13583329999999, -75.06833329999999, -79.8955556, -90.1977778, -82.0158333, -78.8869444, -93.61972220000001, -156.4655556, -72.5130556, -122.71333329999999, -87.90361109999999, -81.3794444, -81.0375, -149.90027780000003, -90.4216667, -86.4436111, -112.3575, -71.1913889, 100.35305600000001, -121.2897222, -78.8869444, -110.97583329999999, -78.6802778, -122.56055559999999, -111.89027779999999, -119.05833329999999, -82.4544444, -122.8219444, -78.3861111, -81.6269444, -122.405, -122.33083329999998, -84.6008333, -73.8605556, -72.5219444, -80.204044, -119.81277779999999, -121.8363889, -86.8163889, -82.428522, -82.23611109999999, -85.865, -111.572222, 24.916667, -75.0022222, -72.6791667, -111.95, -82.45861109999998, -156.4655556, -123.0338889, -98.4933333, -122.675, -96.21722220000001, -122.33083329999998, -118.30805559999999, -122.675, -122.34666670000001, -80.07388890000001, -119.75166670000002, -111.572222, -111.69388889999999, -83.595, -89.7238889, -75.425732, -82.80027779999999, -78.81611109999999, -97.1077778, -121.7113889, -87.9288889, -81.3794444, -82.11361109999999, -104.98416670000002, -122.675, -80.8077778, -121.8047222, -117.0222222, -118.83666670000001, -118.2427778, -85.7594444, -107.63944440000002, -78.8869444, -78.8869444, -97.7427778, -84.4569444, -122.85, -122.53, -122.2697222, -111.572222, -75.9783333, -151.05833330000002, -108.21805559999999, -83.6163889, -116.89555559999998, -123.02083329999999, -110.9258333, -110.9258333, -81.6558333, -80.0822222, -96.1138889, -113.400287, -81.94972220000001, -116.95055559999999, -121.8938889, -76.9394444, -111.7888889, -96.41722220000001, -117.8522222, -111.7888889, -111.5488889, -111.971053, -86.7844444, -81.28138890000001, -74.41638890000002, -111.63361110000001, -149.4394444, -122.84555559999998, -156.0586111, -149.90027780000003, -149.90027780000003, -124.316667, -121.75583329999999, -92.12222220000001, -3.583333, -73.4083333, -85.4883333, -117.3786111, -71.1913889, 115.755576, -71.448352, -87.1658333, -122.02194440000001, -111.572222, -73.2136111, -80.0397222, -116.6863889, -94.1572222, -82.919551, -112.00305559999998, -72.5758333, -112.1852778, -88.4152778, -116.2025, -117.1786111, -88.22888890000002, -122.33083329999998, -79.79222220000001, -76.8625, -118.48944440000001, -116.2025, -83.6875, -114.6236111, -72.94972220000001, -106.65055559999999, -71.9486111, -111.795, -106.65055559999999, -86.57055559999999, -70.95, -100.316113, -117.038247, -116.95055559999999, -95.4169444, -117.94055559999998, -81.6558333, -90.075, -90.1008333, -103.2305556, -82.25805559999999, 18.860152, -89.78111109999999, -111.8219444, -80.3975, -117.1563889, -80.76472220000001, -118.2427778, -82.9977778, -80.1938889, -90.1977778, -76.3058333, -82.0908333, -116.1213889, -75.65861109999999, -74.2, -80.27083329999999, -77.4608333, -121.8938889, -88.94333329999999, -118.6375, -104.8208333, -81.2733333, -113.415373, -81.53777779999999, -73.0991667, -84.1888, -111.95, -122.0797222, -105.07444440000002, -112.04694440000002, -85.92277779999999, -83.55444440000001, -122.35972220000001, -77.64944440000001, -81.3794444, -81.3794444, -79.883333, -71.51527779999999, -121.49333329999999, -80.4, -117.99833329999998, -82.0908333, -74.8294444, -82.7197222, -106.65055559999999, -81.0375, -84.0633333, -93.0930556, -88.28111109999999, -121.49333329999999, -93.2175, -82.4738889, -90.1977778, -92.28944440000001, -116.37416670000002, -122.29166670000001, -90.69972220000001, -96.5713889, -90.48111109999999, -92.3338889, -84.2941667, -104.87222220000001, -149.90027780000003, -81.8638889, 151.205475, -82.99888890000001, -74.2769444, -118.2427778, -111.99555559999999, -80.0666667, -87.6836111, -89.9441667, -76.625, -118.21916670000002, -78.9741667, -112.03527779999999, -71.7133333, -96.41722220000001, -89.09361109999999, -75.4905556, -96.41722220000001, -80.35055559999999, -105.00805559999999, -71.07777779999999, -110.9258333, -117.24166670000001, -84.55, -77.7966667, -94.3694444, -82.7875, -77.4288889, -121.65444440000002, -117.25027779999999, -81.7197222, -113.99305559999999, -75.3419444, -122.71333329999999, -92.4697222, -82.0908333, -78.5686111, -119.41793200000001, -96.7627778, -86.1580556, -82.99888890000001, -86.2619444, -81.37861109999999, -117.22972220000001, -83.5180556, -119.7663889, -82.9375, -74.6205556, -71.4133333, -79.8922222, -77.0444444, -75.03111109999999, -1.533333, -78.8869444, -78.8869444, -120.99583329999999, -95.0947222, -118.39555559999998, -82.900278, -79.85027779999999, -121.9736111, -118.18444440000002, -81.3794444, -69.3677778, -119.598721, -72.4616667, -106.566667, -76.3058333, -112.04694440000002, -113.933333, -82.1394444, -119.9388889, -155.996926, -110.81, -80.1288889, -95.9375, -82.5308333, -89.33, -84.8766667, -76.367036, -104.70861109999998, -0.825203, -80.2416667, -85.7372222, -122.75916670000001, -81.795, -81.6558333, -120.6561111, -108.55, -122.1622222, -81.707535, -124.28277779999999, -117.1563889, -73.7566667, -117.1563889, -117.1563889, -86.3083333, -118.270204, -112.01472220000001, -76.9, -77.5061111, -87.216667, -115.1363889, -72.5583333, -81.36583329999999, -147.7163889, -84.1916667, -81.3386111, -105.5725, -118.38364299999999, -93.26361109999999, -93.5305556, -72.6855556, -122.8227778, -122.48583329999998, -72.65638890000001, -117.04416670000002, -117.1563889, -80.0666667, -122.02972220000001, -120.5288889, -121.8736111, -121.07583329999999, -111.03777779999999, -70.97555559999999, -117.25027779999999, -81.8605556, -82.7194444, -104.98416670000002, -149.56777780000002, -123.10472220000001, -93.5669444, -117.0938889, -117.27333329999999, -73.46040699999999, -93.7319444, -80.14361109999999, -80.13888890000001, -122.675, -156.3366667, -77.945, -108.28333300000001, -123.08555559999999, -85.7594444, -116.3736111, -122.30093400000001, -117.3, -122.77027779999999, -122.675, -117.56388899999999, -119.69722220000001, -111.8219444, -96.9858333, -81.035, -81.34138890000001, -77.2697222, -81.28138890000001, -110.9258333, -116.2025, -80.0055556, -112.10083329999999, -115.76222220000001, -111.03777779999999, -74.4125, -112.04694440000002, -78.8869444, -118.04583329999998, -74.85972220000001, -84.4569444, -147.7163889, -86.5861111, -79.45, -82.45861109999998, -123.26083329999999, 27.566667, -79.86277779999999, -82.7875, 144.963425, -121.2897222, -84.0194444, -82.69972220000001, -82.5308333, -82.29638890000001, -89.9, -156.4655556, -106.7777778, 14.696725, -122.41833329999999, -122.41833329999999, -71.3744444, -82.425, -111.93777779999999, -81.25972220000001, -119.13611110000001, -98.0863889, -82.325, -81.40757099999999, -77.46055559999999, -81.625, -81.624803, -82.161518, -81.95, -80.05722220000001, -80.05722220000001, -80.125, -80.05722220000001, -82.6819444, -71.2766667, -71.4680556, -80.2308333, -73.733333, -76.9327778, -80.4708333, -94.97111109999999, -81.625, -97.1077778, -82.1894444, -81.77305559999999, -110.9258333, -122.7875, -122.87444440000002, -72.579511, -78.63888890000001, -77.7908333, -81.6558333, -81.9169444, -122.3113889, -73.2094444, -82.0908333, -88.0797222, -70.7630556, -71.9305556, -82.8280556, -87.39805559999999, -110.9258333, -110.9258333, -83.03611109999999, -86.42833329999999, -82.0908333, -122.9072222, -82.8544444, -80.03611109999999, -80.26861109999999, -121.37055559999999, -119.81277779999999, -73.94, -74.31, -118.78055559999999, -98.4933333, -81.3794444, -85.976667, -131.6461111, -69.1594444, -97.3969444, -93.3325, -81.60194440000001, -121.49333329999999, -120.84555559999998, -122.66027779999999, -70.25583329999999, -156.69722219999997, 115.861397, -97.7427778, -106.579479, -122.68222220000001, -78.045, -95.9925, -111.795, -80.08333329999999, -87.8341667, -81.6558333, -105.22533200000001, -83.3780556, -112.1686111, -85.77, -95.5355556, -117.27027779999999, -157.9336111, -82.0094444, -82.0908333, -156.50472219999997, -88.28111109999999, -111.89027779999999, -96.8861111, -86.5925, -86.1580556, -80.23, -117.27333329999999, -85.8055556, -82.7875, -80.27083329999999, -122.46083329999999, -73.9977778, -122.675, -105.59055559999999, -117.7822222, -78.656894, -79.9311111, -117.58333300000001, -80.08333329999999, -84.19857900000001, -85.6680556, -82.719267, -71.575, -122.89944440000001, -67.426956, -80.1938889, -72.9730556, -121.98666670000001, -81.77888890000001, -105.08083329999998, -121.5552778, -75.6658333, -71.35, -74.8291667, -81.6558333, -111.78833329999999, -117.94055559999998, -122.9072222, -75.66277779999999, -89.00916670000001, -121.61583329999999, -77.0525, -80.0944444, -122.28444440000001, -83.753428, -74.36583329999999, -78.87861109999999, -118.18833329999998, -74.0063889, -85.1447222, -82.45861109999998, -76.5647222, -122.9886111, -80.5902778, -114.9811111, -92.12222220000001, -95.6983333, -82.61527779999999, -100.35055559999999, -122.635, -104.9713889, -81.6558333, -97.0325, -88.35027779999999, -88.0491667, -82.4858333, -81.455, -106.69833329999999, -121.9875, -97.1591667, -89.64361109999999, -122.4302778, -74.4125, -0.093689, -73.81838, -147.3494444, -118.3875, -81.3147222, -88.0430556, -77.72027779999999, -94.01527779999999, -78.045, -122.7, -80.1366667, -80.1366667, -81.40777779999999, -81.2080556, -121.8938889, -86.11111109999999, -122.29166670000001, -121.1286111, -106.65055559999999, -75.1525, -92.12388890000001, -121.8936111, -114.32166670000001, -87.07222220000001, -81.795, -123.50583300000001, -112.07333329999999, -75.7, -74.2111111, -4.366667, -120.35916670000002, -73.6441667, -103.4694444, -78.63861109999999, -121.28694440000001, -78.4566667, -89.53277779999999, -89.09388890000001, -97.3969444, -122.94083329999998, -122.5877778, -121.2711111, -121.17666670000001, 14.478610999999999, -111.410706, -72.20138890000001, -90.5844444, -118.2427778, -81.85861109999999, -82.2902778, -96.7, -80.1858333, -86.51861109999999, -122.63805559999999, -92.4697222, -91.64388890000001, -122.33083329999998, -105.07444440000002, -117.99833329999998, -117.95277779999999, 139.80447900000001, -81.37861109999999, -73.7925, -118.49027779999999, -96.1511111, -70.25583329999999, -119.69268600000001, -74.1336111, -72.6694444, -88.99, -118.5972222, -98.26222220000001, -111.97305559999998, -80.1938889, -95.61583329999999, -89.64361109999999, -90.4358333, -91.64388890000001, -81.24086899999999, -114.33666670000001, -70.128629, -75.71194440000001, -87.63, -97.1327778, -75.79, -75.818042, -70.2833333, -80.14361109999999, -76.2752778, -72.5902778, -111.7602778, -76.6125, -86.7844444, -79.2, -89.4011111, -3.9666669999999997, -96.7, -118.39555559999998, -79.5425, -89.5180556, -68.64583329999999, -81.0252778, -78.7333333, -111.88, -83.87361109999999, -76.0541667, -123.13333300000001, -123.025, -118.30805559999999, -92.6825, -88.23138890000001, -90.8380556, -90.8380556, -122.87444440000002, -0.266667, -3.75, -122.0797222, -74.120975, -118.4261111, -83.5389, -81.06527779999999, -81.6558333, -80.0944444, -83.75583329999999, -79.83361109999998, -122.28444440000001, -74.36361109999999, -82.2544444, 153.194305, -80.11, -92.833333, -88.75027779999999, -118.7875, -108.55, -111.69388889999999, -78.3861111, -95.8241667, -108.55, -155.99027780000003, -70.6208333, -123.82222220000001, -77.30666670000001, -111.78555559999998, -93.1091667, -114.6133333, -80.1133333, -74.2111111, -122.95, -95.3630556, -88.20388890000001, -81.1875, -123.20333329999998, -80.0366667, -80.895, -123.1975, -79.2244444, -85.1288889, -84.7997222, -63.483332999999995, -83.9208333, -108.785, -123.08555559999999, -117.425, -75.9783333, -86.7844444, -123.32722220000001, -86.44666670000001, -118.1436111, -99.23472220000001, -86.7888889, -86.83972220000001, -85.14111109999999, -118.37805559999998, -83.9880556, -72.5341667, -121.8047222, -95.0619444, -88.23638890000001, -92.33407199999999, -90.1322222, -87.9805556, -87.9805556, -122.33083329999998, -114.0522222, -118.3875, -83.7891667, -76.2752778, -118.2427778, -117.39527779999999, -122.48694440000001, -81.61, -76.3544444, -77.61583329999999, -104.98416670000002, -121.9875, -93.3488889, -85.7594444, -112.07333329999999, -86.1219444, -123.10944440000002, -94.59638890000001, -84.585, -117.36944440000002, 151.78448500000002, 18.424055, -90.3380556, -117.425, -85.1288889, -3.183333, -84.98777779999999, -73.583333, -121.8936111, -97.0580556, -97.315, -75.3880556, -81.23638890000001, -80.2261111, -82.1961111, -121.88944440000002, -71.184411, -110.9258333, -111.84055559999999, -79.411079, -82.6502778, -122.89944440000001, -81.0905556, -122.2875, -72.35, -82.5308333, -84.12472220000001, -77.4608333, -93.5713889, -73.2458333, -57.174626, -84.3694444, -74.9697222, -115.1363889, -97.330766, -121.28, -88.0933333, -80.3447222, -122.9886111, -96.8, -121.52027779999999, -96.9938889, -81.227436, -74.13416670000001, -78.87861109999999, -80.0366667, -117.02993799999999, -69.33750699999999, -8.085522000000001, -122.25555559999998, -117.1563889, -75.4763889, -117.56388899999999, -77.64944440000001, -112.1386111, -90.4002778, -118.03194440000001, -118.01111110000001, -82.3941667, -118.3875, -112.1852778, -90.1977778, -149.1127778, -119.01777779999999, -118.1436111, -79.7627778, -85.6591667, -87.9888889, -75.8816667, -83.55444440000001, -83.2466667, -73.92097, -72.68222220000001, -119.77138889999999, -122.60555559999999, -82.99888890000001, -96.615, -96.615, -115.1363889, -123.08555559999999, -78.9286111, -82.45861109999998, -75.18166670000001, -76.2180556, -94.4152778, -81.975, -81.538684, -115.1363889, -79.7627778, -98.947, -97.1077778, -92.3338889, -115.52944440000002, -74.0063889, -75.0086111, -119.01583329999998, -121.7113889, -78.63888890000001, -98.4930556, -78.63817900000001, -76.3455556, -122.7, -78.33972220000001, -80.1288889, -117.86694440000001, -78.6091667, -116.5625, -122.48694440000001, -117.1563889, -119.81277779999999, -121.32722220000001, -105.93722220000001, -79.9311111, -122.27972220000001, -98.4930556, -121.235173, -111.96305559999999, 150.31173700000002, -77.945, -90.7194444, -71.67361109999999, -122.02972220000001, -86.2516667, -121.88361110000001, -117.185, -81.94972220000001, -80.8433333, -72.5, -81.21888890000001, -97.3211111, -71.4680556, -75.18722220000001, -74.575, -105.93722220000001, -71.4133333, -117.2383333, -89.35472220000001, -71.4938889, -75.64388890000001, -88.20388890000001, -73.0686111, -73.17138890000001, -72.6344444, -72.4508333, -69.7197222, -72.5758333, -122.8763889, -80.11, -120.7975, -79.616667, -80.1938889, -86.7844444, -88.20388890000001, -97.5816667, -122.19944440000002, -89.135, -63.483332999999995, -114.8011111, -83.9208333, -117.958675, -120.45694440000001, -88.016214, -81.6558333, -122.3761111, -81.3386111, -87.65, 174.76333200000002, -84.29638890000001, -105.27, -76.5713889, -118.13166670000001, -81.035, -121.23472220000001, -155.99027780000003, -82.175, -122.48583329999998, -122.33083329999998, -122.44305559999998, -72.5902778, -118.25416670000001, -66.616667, -66.616667, 151.205475, -124.508523, -118.3875, -124.1738889, -82.8544444, -84.1708333, -157.8583333, -112.04694440000002, -87.5691667, -112.04694440000002, -117.56555559999998, -81.0561111, -122.675, -77.46055559999999, -65.681914, -96.20222220000001, -81.3633333, 82.97391400000001, -95.4341667, -97.307964, -98.4930556, 174.76333200000002, -95.3630556, -149.1127778, -115.56222220000001, -62.88333299999999, -75.9783333, -83.1141667, -81.6327778, -111.89833329999999, -104.894589, -112.07333329999999, -105.3, -97.88583299999999, -122.60472220000001, -91.4030556, -75.370458, -87.2169444, -80.9958333, -95.08555559999999, -82.2272222, -93.4572222, -110.9258333, -122.55611110000001, -122.41833329999999, -72.47027779999999, -117.5227778, -87.9019444, -120.48194440000002, -106.65055559999999, -105.93722220000001, -85.7594444, -79.86277779999999, -103.349609, -1.566667, -72.8155556, -96.8, -111.89916670000001, -110.9258333, -117.94055559999998, -95.0458333, -88.4469444, -117.31277779999999, -156.331925, -65.166348, -84.1319444, -124.1625, -81.89611109999998, -76.9208333, -84.5194444, -86.8163889, -81.94972220000001, -89.3855556, 174.76333200000002, -113.0611111, -123.08555559999999, -112.34888889999999, -70.3780556, -70.6625, -79.45, -147.3494444, -83.9208333, -87.99083329999999, -77.036464, -98.5752778, -78.866667, -76.5108333, -82.554389, -84.14027779999999, -81.0375, -92.71611109999999, 116.0, -81.624803, -149.4394444, -149.4394444, -93.34777779999999, -117.08555559999999, -71.43777779999999, -60.166667000000004, -87.7008333, -98.75111109999999, -97.7427778, -104.86527779999999, -122.675, -82.45861109999998, -122.1758333, -76.0358333, -104.8208333, -95.50916670000001, -96.9558333, -74.08722220000001, -81.92361109999999, -122.63555559999999, -70.97555559999999, -95.45, -111.49722220000001, -98.3444444, -73.583333, -116.33333329999999, -90.075, -121.7988889, -122.48694440000001, -122.63138889999999, -81.795, -123.10472220000001, 10.833333, -81.87230799999999, -117.3497222, -80.8102778, -81.3794444, -82.3527778, -79.86277779999999, -89.9858333, -93.42611109999999, -93.58138890000001, -107.87555559999998, -107.87555559999998, -81.5191667, -121.8938889, -71.41666670000001, -81.30888890000001, -118.2427778, -82.28611109999999, -89.9530556, -89.9530556, -120.9861111, -122.33083329999998, -75.7136111, -118.1261111, -89.4011111, -86.2605556, -83.9297222, -69.85888890000001, -72.8075, -77.04722220000001, -74.150201, -75.29166670000001, -71.4680556, -71.575, -74.1983333, -76.574831, -74.5105556, -70.67277779999999, -121.28, -77.46055559999999, -84.31, -81.5191667, -120.5047222, -61.516667000000005, -76.4969444, -79.846735, -121.8938889, -81.3386111, -98.0308333, -95.4169444, -122.33083329999998, -118.00583329999999, -75.7, -73.20111109999999, -79.9961111, -82.1130556, -94.12861109999999, -76.70777779999999, -81.7258333, -112.23666670000001, -111.9086111, -76.9394444, 69.66693199999999, -81.94972220000001, -69.06527779999999, -68.7783333, -82.23611109999999, -1.55, -105.93722220000001, -122.66944440000002, -80.7422222, -115.56222220000001, -72.8780556, -122.85, -70.7833333, -49.383557, -81.37861109999999, -122.5, -114.75861110000001, -87.7008333, -87.03527779999999, -87.65, -122.9072222, -81.625, -81.2547222, -124.01666670000002, -75.2219444, -104.9713889, -84.1916667, -118.39555559999998, -93.23472220000001, -74.3791667, -83.3977778, -121.8047222, -91.5975, -91.5975, -86.03361109999999, -82.324826, -112.04694440000002, -76.7280556, -92.3875, -78.25361099999999, -82.325, -81.3933333, -92.4697222, -76.2752778, -112.07333329999999, -84.4777778, -73.8991667, -73.8991667, -122.32444440000002, -71.80277779999999, -121.8938889, -118.5498, -112.07333329999999, -71.075, -118.2427778, -117.1563889, -122.20083329999999, -80.1938889, -78.47694440000001, -71.4666667, -117.90666670000002, -122.5172222, -80.608109, -95.3008333, -112.07333329999999, -74.57222220000001, -88.28111109999999, -88.28111109999999, -104.83138890000001, -83.88888890000001, -86.86361109999999, -82.75361109999999, -71.075, -85.0711111, -76.59361109999999, 67.009939, -112.0252778, -117.56555559999998, -85.38638890000001, -117.82222220000001, -84.40138890000001, -121.2711111, -123.80416670000001, -110.955, -87.86111109999999, -93.2980556, -122.33083329999998, -93.73638890000001, -121.2711111, -111.8219444, -77.9969444, -71.1066667, -161.7558333, -122.9886111, -122.9886111, -118.80916670000002, -118.2913889, -87.83277779999999, -72.6352778, -71.43777779999999, -122.155, -114.5675, -112.0302778, -111.78555559999998, -71.8361111, -95.3630556, -90.2416667, -72.75, -86.134902, -115.1363889, -80.25, -113.5, -119.01777779999999, -74.19, -88.9905556, -88.9905556, -109.70243799999999, -77.2725, -114.06638889999999, -63.216667, -84.1447222, 0.889358, -95.8241667, -104.60861109999999, -61.516667000000005, -82.67944440000001, -123.08555559999999, -77.6125, 0.032438999999999996, -81.36138890000001, -120.30916670000002, -103.6916667, -85.04166670000001, -86.91666670000001, -105.86944440000002, 151.205475, 144.35, -121.28, -122.48694440000001, -94.7047222, 80.250825, -84.5441667, -77.605822, -121.8241667, -106.65055559999999, -88.32, -117.425, -81.10611109999999, -81.5191667, -122.4327778, -119.29222220000001, -82.99888890000001, -82.5155556, -122.33083329999998, -116.77944440000002, -116.77944440000002, -72.6855556, -77.30666670000001, -82.5994444, -82.5994444, -77.3283333, -76.1477778, -71.4133333, -81.10416670000001, -111.78833329999999, -118.3875, -83.65138890000001, -86.84361109999999, -122.675, -79.5391667, -122.1575, -118.18833329999998, -122.675, -117.39527779999999, -80.8433333, -117.04222220000001, -120.48194440000002, -76.4116667, -76.4116667, -90.8227778, -78.1636111, -71.1066667, -122.33083329999998, -82.80027779999999, -117.18166670000001, -1.8, -118.30805559999999, -118.33972220000001, -104.9688889, -122.41833329999999, -79.730701, -75.190811, -97.6319444, -97.2544444, -70.6677778, -104.8208333, -77.945, -117.1563889, -121.8938889, -121.8938889, -123.08555559999999, -81.77305559999999, -86.8672222, -122.35583329999999, -85.8591667, -73.85055559999999, -80.0133333, -75.9272222, -81.975, -71.0602778, -78.1947222, 151.78448500000002, -119.25083329999998, -111.65777779999999, -121.49333329999999, -82.4333333, -111.65777779999999, -97.6186111, -104.8208333, -121.76694440000001, -97.7427778, -93.8158333, -80.8433333, -86.7844444, -86.7844444, -87.875, -76.2855556, -91.2561111, -122.2427778, -0.113399, -96.63861109999999, -106.65055559999999, -86.5625, -76.5238889, -72.4319444, -77.4291667, -80.9025, -118.2427778, -80.3472222, -87.65, -91.6391667, -82.82934200000001, -73.9977778, -80.3472222, -76.5041667, -73.4083333, -117.1122222, -87.7438889, -75.09, -79.99, -75.46, -73.5863889, -84.7452778, -104.8208333, -97.1077778, -124.8, -84.0969444, -103.1930556, -97.855968, -48.846383, -81.1875, -80.0822222, 28.2625, -64.9, -93.8744444, -122.20083329999999, -85.4244444, 11.5833, -93.4519444, -73.5141667, -79.8, 143.466667, -81.25972220000001, -72.34361109999999, -115.1363889, -119.177052, -120.7975, -114.40083329999999, -118.55583329999999, -93.5030556, -111.52, -88.1855556, -119.29222220000001, -74.20861109999998, 115.721703, -76.83555559999999, -79.88416670000001, -74.137183, -79.033637, -114.28833329999999, -112.35722220000001, -71.53805559999999, -112.357294, -90.71194440000001, -89.7044444, -94.85055559999999, -84.9394444, 1.3, -118.49027779999999, -69.16354399999999, -71.17277779999999, -97.7427778, -116.956047, -121.96055559999999, -111.38492600000001, -95.6430556, -74.0063889, -85.8241667, -122.2875, -117.3786111, -117.278897, -82.0355556, -87.9794444, -88.0797222, -118.9097222, -123.02083329999999, -76.5125, -71.2833333, -83.4833333, -111.8219444, -86.39027779999999, -106.7777778, -121.42416670000001, -116.54444440000002, -90.0655556, -70.3, -111.84055559999999, -72.60611109999999, -106.65055559999999, -82.919551, -159.715, -159.715, -71.0602778, -74.0063889, -94.7152778, -83.1661111, 19.818698, -71.781, -74.433047, -81.51168100000001, -79.0561111, -121.91555559999999, -82.67944440000001, -109.07583329999999, -89.24416670000001, -79.0480556, -119.77138889999999, -105.27, -81.166667, -112.07333329999999, -123.0338889, -121.37055559999999, -69.93356, -111.09555559999998, -90.04888890000001, -87.9805556, -123.93722220000001, -159.3711111, -85.6680556, -89.7483333, -97.45, -83.6130556, -81.5225, -84.08333329999999, -88.87527779999999, -76.28749300000001, -80.25361109999999, -75.3788889, -97.0580556, -123.095, -74.339282, -96.152699, -121.9697222, -75.5555556, 35.530972999999996, -112.1852778, -122.87444440000002, -93.49416670000001, -122.9886111, -100.46472220000001, -77.89388890000001, -77.89388890000001, -93.11972220000001, -96.0213889, -88.0383333, -82.93777779999999, -86.1580556, -106.65055559999999, -87.606473, -78.642792, -92.4419444, -70.91027779999999, -85.30972220000001, -116.78555559999998, -74.0625, -112.315, -80.4, -117.08555559999999, -122.54444440000002, -112.07333329999999, -104.9872222, -71.00277779999999, -74.13308599999999, -122.8763889, -122.66944440000002, -86.8025, -70.8805556, -110.9258333, -93.5030556, -78.8869444, -81.3794444, -123.05861110000001, -74.7005556, -79.1425, -83.5552778, -93.23472220000001, -111.69388889999999, -116.2025, -97.7427778, -86.4597222, -86.4597222, -122.8219444, -122.8219444, -122.8763889, -79.0480556, -99.0733333, -81.23638890000001, -122.9072222, -100.91722220000001, -75.36277779999999, -78.4269444, -84.280733, -81.5861111, 25.279369, -75.4905556, -117.1475, -87.36527779999999, -121.8672222, -88.5369444, -78.166667, -97.4777778, -77.3258333, -74.9697222, -75.1447222, -79.9961111, -120.99583329999999, -72.779542, -93.26361109999999, -81.50972220000001, 32.429737, -116.6863889, -106.65055559999999, -119.77138889999999, -76.8305556, -109.70694440000001, -81.5861111, -106.65055559999999, -74.1147222, -85.30972220000001, -82.67944440000001, -123.32722220000001, -106.65055559999999, -82.3527778, -86.02083329999999, -91.64388890000001, -122.03527779999999, -122.03527779999999, -117.82222220000001, -93.3591667, 33.366667, -105.93722220000001, 153.024292, -98.4933333, -81.60194440000001, -89.5191667, -120.456007, -97.64361109999999, -116.41916670000002, -88.3125, -93.2241667, -118.39555559999998, -120.82055559999999, -93.0927778, -97.315, -74.2286111, -74.2286111, -82.7369444, -72.6416667, -71.1066667, -122.9886111, -0.483333, -117.67, -84.1594444, -78.6705556, -122.33083329999998, -95.5522222, -92.53361109999999, -86.1580556, -117.3786111, -98.8105556, -115.1363889, -75.7066667, -76.4780556, -111.856048, -118.78055559999999, -80.14361109999999, -120.84916670000001, -75.70611109999999, -79.9961111, -109.20222220000001, -81.93222220000001, -58.381593, -97.32055559999999, -95.3630556, -85.8055556, -106.65055559999999, -111.8219444, -86.1219444, -81.3280556, -82.3941667, -117.99833329999998, -68.44666670000001, -80.3202778, -97.7427778, -79.9961111, -77.4608333, -76.4116667, -122.23527779999999, -88.0933333, -75.25916670000001, -79.766667, -79.9961111, -70.6208333, -89.78111109999999, -79.9311111, -84.11916670000001, -93.26361109999999, -82.14027779999999, -123.10055559999999, -77.8208333, -80.2333333, -117.94861110000001, -78.44027779999999, -86.134902, -82.93777779999999, -117.1786111, -87.03527779999999, -0.1, -86.619996, -117.04416670000002, -122.0388889, -72.5902778, 55.181741, -113.53333300000001, -82.30111109999999, -98.74811700000001, 143.466667, -70.1625, -116.3075, -82.9825, -90.1977778, -119.69722220000001, -122.41833329999999, -82.99888890000001, -76.5047222, -118.077152, -122.23527779999999, -74.8055556, -97.39611109999998, -118.08083329999998, -72.9286111, -123.41138889999999, -93.60888890000001, -113.58333329999999, -88.4152778, -86.5861111, -73.5391667, -106.8311111, -118.2427778, -112.74361110000001, -106.09694440000001, -116.9327778, -104.86527779999999, -111.84055559999999, -80.1938889, -124.4072222, -72.8236111, -81.3794444, -121.16277779999999, -124.4072222, -118.2111111, -81.45222220000001, -91.5522222, -111.65055559999999, -87.22201899999999, -112.07333329999999, -117.82222220000001, -104.98416670000002, -87.84861109999999, -73.90611109999999, -77.0775, -77.1530556, -97.0580556, -121.14638889999999, -121.06, -74.0063889, -72.9286111, -83.89805559999999, -73.7133333, -71.4938889, -89.7219444, -73.11138890000001, -88.8988889, -83.63, -83.5552778, -117.425, -88.0816667, -122.41833329999999, -71.16666670000001, -123.0338889, -81.8419444, -82.3941667, -109.592514, -117.1563889, -89.09388890000001, -111.669205, -87.1133333, -74.5505556, -82.1130556, -119.1761111, -92.5663889, -122.675, -117.1563889, -82.99888890000001, -79.2, -105.500548, -80.8433333, -74.1266667, -81.5616667, -81.1027778, -86.8688889, -79.6647222, -95.9925, -114.07805559999998, -80.5797222, -82.1894444, -82.3941667, -81.2144444, -119.77138889999999, -104.98416670000002, -114.6236111, -81.9169444, -83.415, -82.1894444, -94.2555556, -105.93722220000001, -93.79388890000001, -112.23666670000001, -93.2980556, -70.4816667, -77.46055559999999, -84.29472220000001, -117.07583329999999, -104.9688889, -157.8583333, 175.45551899999998, -119.70194440000002, -90.62638890000001, -87.65, -81.77305559999999, -111.97305559999998, -156.4655556, -123.1975, -73.5105556, -73.63416670000001, -81.085, -72.9397222, -82.3536111, -104.8208333, -82.92864300000001, -75.98222220000001, -88.4625, -79.8, -78.4597222, -70.1791667, -79.6977778, -96.8, -79.3402778, -78.467838, -118.37805559999998, -122.48694440000001, -97.48638890000001, -97.48638890000001, -87.0641667, -70.1852778, -75.9783333, -87.94027779999999, 0.891874, -121.49333329999999, -123.0338889, -79.905, -79.784315, -87.5558333, -122.29166670000001, -88.60888890000001, -75.1825, -121.7113889, -120.69, -68.6938889, -77.9263889, -112.3325, -81.3794444, -88.13472220000001, -82.99888890000001, -124.1738889, -80.0388889, -79.416667, -78.8, -74.0063889, -77.5155556, -69.27472220000001, -81.6558333, -121.43722220000001, -117.3786111, -80.0730556, -86.9716667, -82.450903, -78.866667, -73.6986111, -73.67222220000001, -74.03277779999999, -84.14027779999999, -88.11027779999999, -122.89944440000001, -75.9783333, -97.3211111, -94.1677778, -105.0161111, -105.50166670000002, -87.255, -157.8583333, 72.97809000000001, -108.07309599999999, -122.0797222, -96.60861109999999, -107.06194440000002, -121.49333329999999, -90.3783333, -101.85472220000001, -101.85472220000001, -159.502848, -81.542959, 115.861397, -97.07777779999999, -74.32472220000001, -97.0816667, -105.21666670000002, -72.5988889, -118.2427778, -73.1991667, -81.7908333, 76.779418, -84.98777779999999, -114.46, -89.1694444, -116.3736111, -82.1130556, -81.3794444, -93.16666670000001, -86.26388890000001, -84.37861109999999, -82.4505556, -80.58888890000001, -89.4011111, -87.7175, -119.69722220000001, -76.9161111, -75.65, -75.52472220000001, -88.20388890000001, -79.9405556, -79.8344444, -87.33972220000001, -122.91666699999999, -97.3608333, -116.37416670000002, -84.70277779999999, -106.4863889, -90.3708333, -95.2294444, -90.1008333, -89.2902778, -110.9258333, -75.9783333, -78.34111109999999, -83.2966667, -112.5338889, -78.63888890000001, -78.4747222, 9.265328, -83.80888890000001, -80.64972220000001, -86.53138890000001, -122.40471299999999, -81.50972220000001, -95.57222220000001, -117.8522222, -121.49333329999999, -88.4358333, -112.23666670000001, -76.29861109999999, -122.2336111, -73.07638890000001, -73.07638890000001, -77.4305556, -81.3794444, -84.1916667, -88.0077778, -78.2388889, -73.32611109999999, -80.3055556, -75.5555556, -75.0441667, -82.84861109999999, -77.0713889, -77.61583329999999, -82.67944440000001, -82.67944440000001, -79.25, -75.8969444, -105.22055559999998, -82.6502778, -86.2344444, -73.6919444, -72.3294444, -85.8055556, -85.48472220000001, -85.48472220000001, -84.5194444, -94.7975, -88.0038889, -111.69388889999999, -81.26388890000001, -82.1077778, -85.58722220000001, -85.865, -90.075, -82.594307, -83.47555559999999, -58.5, -83.47555559999999, -98.5633333, -77.30666670000001, -73.9491667, -88.5688889, -74.81527779999999, -73.971249, -83.8583333, -112.07333329999999, -84.14027779999999, -119.01583329999998, -81.9483333, -73.1216667, -75.4905556, -72.6511111, -104.8555556, -78.8644444, -77.56388890000001, -93.95833329999999, -89.233333, 153.194305, -81.3794444, -85.0980556, -118.8811111, -84.455, -84.455, -86.5569444, -87.5030556, -86.7844444, -88.4152778, -118.01111110000001, -117.7263889, -76.7833333, -73.6241667, -78.81611109999999, -93.20222220000001, -80.0055556, -76.8513889, -97.48638890000001, -87.83277779999999, -109.05583329999999, -111.78833329999999, -122.41833329999999, -76.5155556, -72.20833329999999, -84.3880556, -121.49333329999999, -87.6836111, -77.47191, -76.4325, -76.511075, -75.7, -76.4525, -76.4525, -122.38805559999999, -75.9469444, -155.66585700000002, -122.675, -82.0386111, -81.6327778, -85.6591667, -81.69555559999999, -114.9811111, -73.6919444, -88.0197222, -82.1130556, 5.733107, -77.0233333, -121.49333329999999, -81.93222220000001, -79.30972220000001, -76.4116667, -82.31611109999999, -119.77138889999999, -81.1875, -97.7427778, -97.9288889, -93.7866667, -122.66027779999999, -120.84888889999999, -73.34361109999999, -76.483333, 21.921111, -84.73, -121.42416670000001, -120.43472220000001, -122.33083329999998, -118.45916670000001, -72.5025, -77.46055559999999, -111.95, -71.0902778, -73.0005556, -91.644664, -75.6211111, -75.0825, -111.93833329999998, -111.93833329999998, -85.3552778, -117.99833329999998, -77.4608333, -122.3241667, -111.572222, -75.8330556, -117.6711111, -72.40138890000001, -118.45083329999999, -112.03333329999998, -122.63138889999999, -119.81277779999999, -71.4655556, -98.20138890000001, 114.25, -76.4969444, -70.416944, -90.3225, -71.45527779999999, -75.0825, -122.86583329999999, -81.8419444, -77.3616667, -121.49333329999999, -88.6866667, -122.7547222, -76.3330556, -88.0816667, -78.7380556, -97.7427778, 74.85595699999999, -124.0522222, -116.35305559999999, -86.1066667, -81.25, -81.25, -95.6961111, -89.91111109999999, -122.675, -80.0666667, -85.6680556, -117.99833329999998, -112.1686111, -64.9, -124.21666670000002, -97.7427778, -87.7283333, -87.7175, -111.675, -91.2394444, -104.616667, -121.49333329999999, -73.2458333, -70.9305556, -80.1938889, -92.0197222, -80.14972220000001, -96.5386111, -122.2272222, -97.7427778, -75.84396, -121.8052778, 4.8828190000000005, -122.675, -97.76222220000001, -96.4977778, 147.331665, -81.3794444, -79.7627778, -71.99861109999999, -73.08361109999998, -92.1138889, -122.3113889, -1.17432, -122.41833329999999, -116.97305559999998, -86.28611109999999, -111.31371499999999, -90.8866667, -75.8241667, -87.72027779999999, -94.1622222, -72.8155556, -84.1052778, -89.64361109999999, -97.166667, -105.27, -111.89833329999999, -81.3630556, -84.2238889, -1.139759, -101.85472220000001, -74.593889, -73.6105556, -116.3736111, -122.90944440000001, -81.8630556, -90.72888890000002, -86.15861109999999, -81.8241667, -85.58722220000001, -117.70666670000001, -90.48111109999999, -79.7627778, -84.49083329999999, -79.9961111, -98.4933333, -79.2355556, -78.3013889, -111.7386111, -116.41194440000001, -106.65055559999999, -80.6083333, -83.5552778, -92.9591667, -93.60888890000001, -77.32141899999999, -72.32166670000001, -78.8869444, -77.4108333, -117.1563889, -78.78138890000001, -86.5861111, -77.9263889, -78.1613889, -81.2422222, -104.8208333, -91.9191667, -78.8869444, -111.65416670000002, -72.903611, -123.0161111, -124.21666670000002, -115.69027779999999, -2.583333, -88.4152778, -76.3058333, -0.026576999999999996, -79.416667, -73.2458333, -82.944909, -84.8408333, -104.98416670000002, -122.675, -74.1147222, -87.8730556, -77.715, -82.4, -94.6805556, -97.9913889, -97.7427778, -121.49333329999999, -82.9555556, -86.055, -79.9961111, -121.28, -80.669798, -81.2216667, -78.92222220000001, -86.86361109999999, -90.1977778, -87.668213, -92.9436111, -118.18833329999998, -80.31666700000001, -122.3761111, -121.88361110000001, -72.0, -79.1216667, -78.6802778, -78.8869444, -122.07583329999999, -111.7602778, -114.31194440000002, -79.00277779999999, -114.31194440000002, -80.2002778, 153.430878, 7.405839, -120.6586111, -78.92222220000001, -116.3736111, -78.8869444, -79.04166670000001, -122.02972220000001, -85.1288889, -86.34861109999999, -77.46055559999999, -78.74457199999999, -70.8394444, -118.83666670000001, -120.455, -84.0044444, -72.965, -122.675, -89.64361109999999, -84.0194444, -84.0194444, 13.4, -76.4116667, -83.8816667, -115.1363889, -80.632582, -108.5, -117.94055559999998, -81.65, -89.5744444, -75.9183333, -81.14388890000001, -82.5619444, -80.5, -82.9291667, -157.8036111, -97.6833333, -81.37861109999999, -92.9930556, -117.14555559999998, -76.1844444, -74.3788889, -77.5066667, -122.33083329999998, -84.49083329999999, -82.9486111, -113.95, -79.308339, -81.9180556, -79.866667, -119.90055559999999, -92.6333333, -77.2833333, -123.0338889, -117.425, -77.57222220000001, -85.5741667, -120.48194440000002, -121.4375, -122.0313889, -80.0852778, -83.7263889, -79.2, -4.25, -73.2641667, -104.9688889, -87.7944444, -87.9805556, -156.6825, -87.875, -87.90638890000001, -115.1363889, -110.9258333, -90.380672, -74.5483333, -83.7116667, -111.89216, -119.28833329999999, -96.4, -87.4944444, -72.75, -75.3202778, -112.07333329999999, -107.9125, -63.21, -76.79861109999999, -86.4602778, -90.3380556, -96.66666670000001, -68.7783333, -92.3427778, -75.6013889, -86.2483333, -77.46055559999999, -70.94027779999999, -77.00138890000001, 75.370366, -84.455, -71.51527779999999, -110.93361110000001, -110.9258333, -88.07388890000001, -6.874833, -114.59555559999998, 27.8725, -84.2030556, -75.28944440000001, -77.7280556, -79.73, -109.70694440000001, -75.6244444, -118.18833329999998, -75.975, -83.55444440000001, -121.49333329999999, -96.66666670000001, -80.14277779999999, -86.87527779999999, -94.31833329999999, -84.4569444, -71.1855556, -78.642792, -75.738901, -71.1288889, -79.0088889, -78.6802778, -74.23222220000001, -71.5658333, -71.5658333, -78.8869444, -85.06222220000001, -73.0155556, -78.6802778, -78.6802778, -78.1613889, -75.122778, -98.21388890000001, -118.00583329999999, -75.7, -78.45777779999999, -78.866667, 11.65, -84.3880556, -87.65, -94.9269444, -116.96166670000001, -87.9375, -122.41833329999999, -121.49333329999999, -79.18777779999999, -84.29472220000001, -77.945, -78.7152778, -83.6897222, -82.9591667, -81.5616667, -66.633333, -70.9180556, -83.9008333, -88.1361111, -122.675, -85.6680556, -122.0375, -64.93333299999999, -80.96055559999999, -82.6652778, -87.4275, -87.7844444, -81.605954, -119.77138889999999, -97.51611109999999, -97.33722220000001, -97.33722220000001, -80.4777778, -81.69555559999999, -86.1580556, -122.675, -93.16666670000001, -83.4002778, -71.1555556, -81.92277779999999, -122.9627778, -80.7436111, -83.4833333, -122.30944440000002, -73.2094444, -71.80277779999999, -83.3219444, -119.87413400000001, -63.483332999999995, -155.7902778, -84.3616667, -78.1636111, -117.81222220000001, -82.5927778, -86.6694444, -122.64527779999999, -74.0063889, -83.0180556, -73.7566667, -88.0658333, -86.87527779999999, -118.2427778, -72.6416667, -72.86, -73.4083333, -94.84638890000001, -111.572222, -84.73, -121.28, -73.4369444, -81.6380556, -117.2888889, -75.0022222, -116.5625, -84.89027779999999, -78.555, -82.8416667, -76.01777779999999, -81.692661, -124.1625, -94.36111109999999, -80.395278, -112.23666670000001, -72.68222220000001, -82.40138890000001, -80.08888890000001, -81.333333, -86.1580556, -116.97305559999998, -122.675, -84.1594444, -115.1363889, -116.84503000000001, -118.1038889, -82.6502778, -80.8458333, -93.7319444, -80.14361109999999, -118.2427778, -80.1938889, -116.07361110000001, -86.51638890000001, -95.3630556, -103.87767, -78.9830556, -104.8208333, -156.6825, -83.0180556, -63.483332999999995, -94.92527779999999, -79.79222220000001, -81.1511111, -82.1894444, -84.4569444, -93.61527779999999, -84.325, -124.1377778, -98.0552778, -107.55444440000001, -85.7594444, -89.8877778, -86.29388890000001, -86.7844444, -80.6219444, -122.14194440000001, -80.3194444, -89.74027779999999, -116.9711111, -97.01138890000001, -115.1363889, -80.1938889, -80.2375, -72.9397222, -84.3983333, -72.01126, -16.850288, -77.0844444, -75.4866667, -77.00138890000001, -74.9930556, -120.99555559999999, -84.1916667, -95.9375, -87.80277779999999, -87.17611109999999, -81.0252778, -122.02972220000001, -5.294444, -0.183333, -81.25, -75.9, -79.308339, -105.1013889, -82.80027779999999, -82.80027779999999, -112.58305559999998, -78.2183333, -84.5441667, -95.6008333, -96.2394444, -84.5441667, -93.7175, -105.31666670000001, -94.12861109999999, -122.33083329999998, -116.76555559999998, -81.5616667, -114.08333300000001, -122.33083329999998, -98.1444444, -71.3166667, -112.3575, -122.64194440000001, -98.4930556, -117.88944440000002, -93.11972220000001, -81.5563889, -105.0161111, -121.59555559999998, -84.5730556, -97.7427778, -88.08333329999999, -116.8875, -86.0086111, -114.1622222, -84.8608333, -85.30972220000001, 144.443507, -158.01528100000002, -95.10388890000002, -76.25138890000001, -79.42258199999999, -88.8908333, -122.83833329999999, -74.93722220000001, -81.5861111, -76.3330556, -76.3330556, -83.80888890000001, -84.91302900000001, -122.3761111, -76.73138890000001, -79.616667, -86.1580556, -91.82472220000001, -92.62361109999999, -93.0930556, -86.39027779999999, -77.34138890000001, -97.166667, -85.6130556, -1.8166669999999998, -77.5061111, -79.788102, -116.299502, -122.675, -86.5861111, -80.7611111, -74.86277779999999, -117.9677778, -88.4152778, -113.95, -80.04928699999999, -112.4677778, -101.0022222, -79.74972220000001, -111.03777779999999, -83.0458333, -111.784729, -85.7594444, -63.483332999999995, -121.95, -79.1527778, -106.47861110000001, -77.46055559999999, -86.5861111, -71.18166670000001, -86.4436111, -118.2427778, -85.0269444, -74.3441667, -119.01777779999999, -113.58333329999999, -84.14027779999999, -77.72027779999999, -118.2427778, -118.44833329999999, -86.1580556, -78.866667, -84.0044444, -111.77722220000001, -116.2025, -76.4969444, -105.99833329999998, -94.92222220000001, -87.52861109999999, -82.5608333, -86.2541667, -86.0086111, -75.3019444, -122.19944440000002, -89.2902778, -77.86, -77.2041667, -90.1977778, -84.55, -86.84361109999999, 152.908936, -76.39527779999999, -76.2752778, -87.4408333, -81.77888890000001, -111.03777779999999, -122.23611000000001, -77.48777779999999, -122.19944440000002, -122.2075, -90.48111109999999, -114.46, -93.2980556, -115.35, -86.1580556, -79.9416667, -79.416667, -72.7241667, -134.5838889, -95.61583329999999, -84.9441667, -79.5, -114.03666670000001, -76.5555556, -116.8875, -92.573202, -79.4380556, -95.6969444, -79.79222220000001, -97.61111109999999, -92.4888889, -75.9183333, -72.79166670000001, -2.1325, -122.20416670000002, 17.812754, -80.05666670000001, -104.93333329999999, -122.41833329999999, -2.277129, -83.077715, -92.6825, -121.53023400000001, -120.88916670000002, -122.33277779999999, -85.9766667, -82.325, -94.2705556, -94.6705556, -82.4505556, -97.7969444, 153.024292, -120.74013899999999, -97.6638889, 34.655314000000004, -80.266667, -82.5155556, -75.9783333, -72.63972220000001, -75.10683900000001, -75.03111109999999, -85.76, -76.1791667, -87.79472220000001, -122.28444440000001, -88.5425, -80.11694440000001, -77.63083329999999, -81.48472220000001, -70.8972222, -79.6977778, -82.919551, -76.2855556, -93.4225, -111.63361110000001, -121.8938889, -97.39611109999998, -83.5552778, -116.49833329999998, -122.77027779999999, -79.545248, -75.9783333, -78.92222220000001, -86.1580556, -87.85388890000002, -84.34609, -75.9655556, -79.666667, -104.70861109999998, -74.053752, -120.892125, -73.0686111, -79.1425, -72.57222220000001, -72.6855556, -77.61583329999999, -74.245745, -122.66944440000002, -73.92138890000001, -111.9, -90.4216667, -92.28944440000001, -93.42611109999999, -86.1580556, -80.1938889, -87.8352778, -111.69388889999999, -121.37055559999999, -84.56138890000001, -122.9886111, -81.25, -81.25, -72.5219444, -79.2, -81.6558333, -76.00111109999999, -114.59555559999998, -79.88727800000001, -117.1652778, -97.55111109999999, -80.1225, -125.25, -91.64388890000001, -88.02305559999999, -71.74, -90.48111109999999, -114.12194440000002, -82.18861109999999, -75.9636111, -71.16666670000001, -92.6675, -83.7166667, -79.233333, -123.430741, -116.89555559999998, -80.06277779999999, -89.4011111, -97.166667, -122.33083329999998, -79.936565, -88.2016667, -72.8075, -74.7997222, -74.7997222, -93.3325, -84.51472220000001, -122.989827, -83.7380556, -66.633333, -116.99916670000002, -90.0125, -100.65777779999999, -74.0063889, -80.8433333, -93.42611109999999, -80.2444444, -117.9136111, -77.4422222, -80.5, -85.76138890000001, -80.72555559999999, -96.8, -76.4969444, -87.7008333, -82.6925, -79.016667, -79.416667, -85.7594444, -79.233333, -63.216667, -108.5, -72.7530556, -121.53023400000001, -123.13333300000001, -121.37055559999999, -109.91673700000001, -85.1288889, -80.11111109999999, -78.97998100000001, -90.3244444, -122.2272222, -122.48694440000001, -80.8102778, -80.8433333, -83.1836111, -85.1455556, -85.7594444, -85.9744444, -118.60027779999999, -121.41427900000001, -111.95, -120.54666670000002, -91.3883333, -75.065, -81.521509, -77.02472220000001, -118.384178, -111.03777779999999, -73.0019444, -95.0947222, -113.484523, -78.9733333, -70.58138890000001, -82.13083329999999, -75.3708333, -82.13083329999999, -72.575, -97.0252778, -84.6266667, -76.2855556, -87.7438889, -75.64594699999999, -80.3472222, -81.14527779999999, -83.1763889, -72.82222220000001, -90.3783333, -73.2280556, -123.09944440000001, -81.4408333, -84.3041667, -86.25, -88.3086111, -117.56388899999999, -75.7, -79.416667, -76.6594444, -87.9655556, -82.5155556, -113.99305559999999, -83.4833333, -96.6986111, -96.8, -79.8455556, -80.08333329999999, -82.01829000000001, -84.55888890000001, -90.075, -83.75583329999999, -79.033333, -76.54, -89.515, -89.515, -93.7319444, -74.89138890000001, -87.8444444, -77.25, -75.70361109999999, -82.111512, -93.2008333, -70.61527779999999, -88.60888890000001, -79.0719444, -111.84055559999999, -122.3522222, -90.5775, -76.0497222, -71.4708333, -81.8725, -80.3194444, -117.82222220000001, -122.484153, -111.8219444, -119.45650800000001, -115.21364299999999, -110.9258333, -123.0338889, -87.8211111, -92.4888889, -85.6680556, -83.9008333, -89.42611109999999, -74.405661, -75.9483333, -74.92222220000001, -94.3544444, -83.3977778, -122.36972220000001, -93.055, -119.75166670000002, -80.76472220000001, -122.49944099999999, -93.92138890000001, -89.82222220000001, -93.4225, 0.25, -74.47694440000001, -74.0063889, -76.41027779999999, -77.86027779999999, -121.53023400000001, -117.96, -122.521245, -118.2111111, -82.07055559999999, -82.07055559999999, -81.5216667, -116.2025, -105.03666670000001, -72.44666670000001, -96.8, -80.96055559999999, -95.98777779999999, -122.09694440000001, -115.1922222, -119.6111111, -95.3525, -78.8869444, -79.095404, -95.7694444, -78.6802778, -97.33722220000001, -97.33722220000001, -124.0675, -91.530168, -103.2305556, -78.8869444, -95.53772099999999, -114.09305559999999, -80.7611111, -124.01666670000002, -84.2030556, -84.2030556, -73.40888890000001, -72.6855556, -80.14361109999999, -84.406761, -116.39055559999998, -86.01388890000001, -78.8869444, -76.42833329999999, -88.82777779999999, -94.9772222, -80.085, -78.8869444, -78.9733333, -117.6711111, -74.2094444, -78.87861109999999, -122.675, -82.6502778, -78.8869444, -78.8869444, -117.1475, -75.9119444, -90.4783333, -122.33083329999998, -84.3558333, -122.30333329999999, -79.8469444, -121.28694440000001, -77.2280556, -112.07333329999999, -81.9483333, -89.88305559999999, -84.12472220000001, -83.7263889, -74.150201, -122.33083329999998, -75.7, -77.38638890000001, -119.09944440000001, -81.83569, -77.69941999999999, -120.65194440000002, -112.603476, -79.3341667, -78.6905556, -118.0266667, -119.565078, -122.33083329999998, -118.49027779999999, -82.99888890000001, -88.003208, -73.01138890000001, -118.09583329999998, -79.233333, -80.1391667, -73.4175, -79.05, -122.45083329999999, -86.39027779999999, -122.2488889, -86.59111109999999, -122.54916670000001, -73.05111109999999, -121.8936111, -122.28444440000001, 35.109193, -80.6077778, -84.4777778, -97.7427778, -108.0522222, -88.0197222, -108.21805559999999, -108.6813889, -95.8544444, -118.13583329999999, -150.7647222, -74.405661, -112.45305559999998, -122.33083329999998, -78.9733333, -78.8869444, -78.8869444, -117.22972220000001, -81.37861109999999, -89.282241, -77.02638890000001, -72.8983333, -73.31111109999999, -82.1894444, -120.30916670000002, -78.8869444, -95.9925, -107.56166670000002, -83.1447222, -122.77027779999999, -105.1013889, -93.5266667, -88.3458333, -116.94063, -80.14361109999999, -88.73222220000001, -82.1894444, -157.8294444, -84.4569444, -80.2716667, -118.62565500000001, -84.6366667, -83.35838000000001, -122.95, -116.77944440000002, -105.08083329999998, -122.5172222, -79.25, -79.0088889, -63.21, -77.00138890000001, -121.1775, -152.40722219999998, -97.2544444, -82.13722220000001, -79.3319444, -86.1580556, -81.5191667, -82.1894444, -77.72027779999999, -105.8225, -86.6066667, -77.04722220000001, -76.1477778, -78.61361109999999, -111.85972199999999, -87.2169444, -90.1977778, -83.65, -121.07583329999999, -74.7175, -118.19583329999999, -77.436048, -77.25, -84.8733333, -73.87173, -82.1894444, -90.684017, -71.38305559999999, -75.35611109999999, -75.4183333, -76.7280556, -117.1652778, -84.4777778, -77.9319444, -79.79222220000001, -84.6266667, -89.64361109999999, -78.4058333, -74.58361109999998, -82.12, -75.9697222, -114.08, -123.08555559999999, -77.2719444, 6.893662, -93.2980556, -122.675, -98.4933333, -93.15138890000001, -76.90138890000001, -86.4958333, -81.7822222, 77.22496, -70.67361109999999, -112.11972220000001, -76.3058333, -71.38305559999999, -111.86305559999998, -75.6244444, -79.9416667, -88.85027779999999, -73.8816667, -72.2930556, -81.6763889, -117.9136111, -70.95, -74.7883333, -86.6008333, -84.55, -119.78194440000001, -81.3866667, -70.648258, -82.111512, -86.5861111, -122.766667, -83.5541667, -82.699814, -121.0811111, -94.1183333, -90.62638890000001, 73.45082099999999, -84.6266667, -122.675, -122.58972220000001, -92.12222220000001, -123.29555559999999, -115.11666670000001, -79.83921600000001, -83.6875, -84.0530556, -92.62361109999999, -79.9961111, -96.5483333, -73.195177, -75.5525, -80.2783333, -82.80722220000001, -80.1869444, -79.2422222, -68.8269444, -91.64388890000001, -122.65, -82.3527778, -74.81527779999999, -78.87861109999999, -74.8338889, -106.3125, -104.98416670000002, -77.25, -72.97916670000001, -86.1580556, -122.2697222, -86.7483333, -86.7483333, -77.18720400000001, -91.947112, -73.986525, -72.46634300000001, -92.385, -112.3575, -82.3941667, 123.873002, -122.66027779999999, -122.66027779999999, -78.87861109999999, -122.44305559999998, -74.0063889, -95.190299, -89.4011111, -86.25, -111.093731, -122.07916670000002, -87.0116667, -79.466667, -83.27861109999999, -90.97111109999999, -88.5425, -71.8630556, -72.27861109999999, -93.0930556, -74.7180556, -72.085, -89.0927778, -79.8344444, -74.575, -112.58305559999998, -72.76138890000001, -120.5288889, -74.16375500000001, -0.983333, -97.166667, -83.1141667, -122.66027779999999, -74.8338889, -3.6, -76.612189, -117.39527779999999, -86.25, -112.58305559999998, -96.2802778, -121.97694440000001, -73.4119444, -78.87861109999999, -79.9808333, -121.37055559999999, -118.1588889, -123.10472220000001, -95.25027779999999, -83.0302778, -95.7905556, -122.27166670000001, -122.90805559999998, -122.77027779999999, -112.3325, -120.93444440000002, -93.3869444, -76.079844, -90.403614, -70.84861109999999, -103.307962, -121.21194440000001, -120.0588889, -78.8869444, -90.8527778, -78.8869444, -88.105, -118.34194440000002, -118.2111111, -81.69555559999999, -85.7594444, -82.4858333, -75.9416667, -159.4852778, -82.7366667, -123.08555559999999, -86.1580556, -90.62638890000001, -88.06833329999999, -97.6786111, -85.2327778, -80.7433333, -78.8869444, -79.716667, -100.765, -83.65138890000001, 144.28024299999998, -88.0038889, -105.93722220000001, -93.1469444, -77.306373, -96.78944440000001, -77.549989, -117.01666670000002, -84.34609, -103.34384, -85.8530556, -96.9558333, 101.524805, -81.6558333, -119.28333300000001, -72.64583329999999, -88.1855556, -122.63138889999999, -72.3766667, -95.7905556, -75.70361109999999, -89.09388890000001, -71.0602778, -70.25583329999999, -95.9925, -74.97972220000001, -74.97972220000001, -117.8522222, -87.91027779999999, -74.97972220000001, -87.65, -75.2094444, -76.4180556, -81.7197222, -78.78138890000001, -104.98416670000002, -93.515174, -122.52472220000001, -70.76560699999999, -88.9116667, -81.2080556, -80.35055559999999, -102.6444444, -90.48111109999999, -80.2530556, -77.945, -81.795, -75.22111109999999, -88.09611109999999, -118.2427778, -111.8219444, -73.05111109999999, -100.765, -78.27083329999999, -77.715, -80.4708333, -80.24421600000001, -75.2094444, -88.1083333, -82.69972220000001, -81.3386111, -91.9477778, -87.8041667, -105.0861111, -104.89555559999998, -78.8988889, -88.97361109999999, -83.92944440000001, -96.66666670000001, -74.42138890000001, -92.4272222, -120.99583329999999, -97.48638890000001, -81.7611111, -89.64361109999999, -94.65611109999999, -87.7844444, -75.1530556, -104.83138890000001, -78.755, -105.22055559999998, -123.5847222, -88.3147222, -105.03666670000001, -73.7005556, -82.7366667, -91.2394444, -122.60555559999999, -79.9961111, -105.03666670000001, -117.1475, -83.0102778, -86.0688889, -82.1894444, -93.26361109999999, -93.2980556, -116.2025, -78.87861109999999, -87.65, -73.4002778, -93.16666670000001, -85.87357800000001, -85.1288889, -97.1702778, -83.87527800000001, -122.30333329999999, -73.05111109999999, -100.765, -77.2883333, -87.78277779999999, -84.29472220000001, -122.56055559999999, -93.5266667, -93.5266667, -76.01138890000001, -73.5025, -84.2033333, -74.84638890000001, -122.2272222, -122.0136111, -95.4891667, -122.2272222, -81.655651, -122.7988889, -92.4419444, -80.002503, -81.3386111, -87.5, -122.33083329999998, -66.620402, -98.98777779999999, -91.0972222, -78.87861109999999, -83.1763889, -83.1763889, -155.102778, -121.37055559999999, -100.16027779999999, -82.7397222, -73.4747222, -93.26361109999999, -73.03, -155.108056, -70.3780556, -122.29166670000001, -122.21583329999999, -82.3266667, -122.09694440000001, -97.3769444, -83.5580556, -96.66666670000001, -119.565078, -111.1761111, -104.98416670000002, -73.51472220000001, -86.51638890000001, -122.05027779999999, -80.76472220000001, -105.122972, -87.65, -122.20083329999999, -122.20083329999999, -73.2641667, -104.71194440000001, -94.382172, -122.3138889, -80.1938889, -116.5625, -122.43333329999999, -114.33666670000001, -91.7855556, -122.2075, -73.7088889, -80.0944444, -122.48694440000001, -116.2025, -122.63138889999999, -122.63138889999999, -88.4333333, -82.0908333, -77.036464, -122.39055559999998, -74.0063889, -85.9766667, -81.8725, -86.0086111, -123.42944440000001, -117.68111110000001, -112.3325, -81.8358333, -88.0077778, -70.86111109999999, -74.1983333, -94.6272222, -98.484246, -88.9116667, -70.2566667, -86.8025, -77.4802778, -90.1594444, -83.27861109999999, -121.53023400000001, -94.725228, -80.72111109999999, -90.5155556, -120.01527779999999, -82.7397222, -73.20777779999999, -81.97361109999999, -87.8605556, -73.1186111, -76.9341667, -95.8552778, -90.62638890000001, -117.425, -89.2136111, -78.6802778, -118.78055559999999, -73.6763889, -95.2919444, -75.9783333, -85.70611109999999, -70.01611109999999, -116.95055559999999, -83.0277778, -82.7263889, -85.171637, -83.457408, -118.17305559999998, -84.2333333, -81.8394444, 24.105186, -63.21, -82.29472220000001, -90.30722220000001, -97.27861109999999, -122.29166670000001, -122.1758333, -75.195, -110.9258333, -97.7427778, -112.04694440000002, -117.3497222, -82.9530556, -74.19333329999999, -82.99888890000001, -90.95611109999999, -83.0930556, -89.1288889, -86.81138890000001, -82.99888890000001, -82.99888890000001, -82.99888890000001, -74.89138890000001, -74.36583329999999, -122.675, -82.67944440000001, -90.9558333, -82.99888890000001, -82.8838889, -72.5902778, -86.4436111, -82.99888890000001, -85.7594444, -79.416667, -82.8047222, -82.99888890000001, -83.0930556, -83.0930556, -82.99888890000001, -82.6744444, -122.63138889999999, -94.7205556, -73.40888890000001, -74.0063889, -80.615, -72.5902778, -72.5902778, -75.35611109999999, -72.03388890000001, -72.4894444, -76.39527779999999, -92.56388890000001, -71.6477778, -79.9961111, -74.0063889, -71.7372222, -74.57222220000001, -75.2925, -76.3455556, -114.31194440000002, -71.07777779999999, -84.76222220000001, -91.83183299999999, -82.8416667, -81.02305559999999, -76.6030556, -111.9, -71.54166670000001, -94.5130556, -92.385, -123.42944440000001, -85.6205556, -80.6905556, -111.78833329999999, -77.4108333, -81.61785400000001, -86.1580556, -119.09944440000001, -77.8086111, -116.199928, -117.1563889, -81.948145, -81.3394444, -79.19972220000001, -71.45527779999999, -72.6, -83.48222220000001, -86.9738889, -73.37388890000001, -91.1544444, -73.4083333, -88.6, -74.3988889, -87.8780556, -81.6327778, -87.86138890000001, -123.02083329999999, -122.8052778, -97.2113889, -87.6355556, -74.1655556, -78.5266667, -82.3527778, -122.5322222, -77.46055559999999, -75.9272222, -115.555, -74.4233333, -70.25583329999999, -75.22277779999999, 57.64305600000001, -121.95, -75.0555556, -84.2333333, -93.34777779999999, -75.0852778, -83.7619444, -81.6741667, -122.33083329999998, -82.3266667, -121.49333329999999, -86.8688889, -74.1983333, -97.4391667, -118.41, -75.0852778, -75.70611109999999, -112.58305559999998, -80.4777778, -122.48694440000001, -92.1825, -72.4319444, -122.33083329999998, -82.75583329999999, -94.6705556, -70.5666667, -76.4525, -97.7427778, -120.5047222, -83.0277778, -88.0077778, 76.26730400000001, -88.40361109999999, -77.383333, -121.49333329999999, -87.86138890000001, -89.4697222, -88.3280556, -97.0, -90.69972220000001, -79.8, -82.99888890000001, -95.3630556, -75.5702778, -91.7908333, -78.3041667, -77.58888890000001, -84.19857900000001, -73.6175, -71.7372222, -112.5338889, -116.8483333, -92.10638890000001, -53.86666700000001, -81.8638889, -87.7144444, -69.6661111, -80.001405, -75.7141667, -76.95111109999999, -84.1916667, -66.796118, -90.1977778, 101.440657, -80.033333, -62.88333299999999, -77.2655556, -70.2316667, -84.1272222, -117.28333300000001, -68.67944440000001, -68.3647222, -71.3255556, -97.6769444, -78.4272222, -74.0222222, -70.5452778, -73.0569444, -99.71222220000001, -69.227082, -84.27001800000001, -111.03777779999999, -82.6366667, -82.6366667, -84.26388890000001, -111.85972199999999, -121.8938889, -97.33722220000001, -80.6083333, -84.3022222, -107.9258333, -101.62222220000001, -74.9697222, -73.2047222, -73.4961111, -95.9925, -97.2544444, -87.0141667, -79.39527779999999, -116.46444440000002, -122.41833329999999, -112.58305559999998, -75.0555556, -76.4975, -117.3, -77.583333, -116.77944440000002, -92.1091667, -93.42611109999999, -65.95628599999999, -82.0225, -118.34194440000002, -121.175, -94.4152778, -104.9713889, -0.416667, -81.1763889, -84.7452778, -75.2330556, -103.3338889, -72.9980556, -117.04222220000001, -87.9805556, -79.79222220000001, -85.53277779999999, -7.09262, -89.0519444, -121.65444440000002, -123.095, -104.6961111, -80.77, -121.29194440000002, -74.8922222, -86.055, -119.6447222, -86.5194444, -122.53333300000001, -88.1172222, -88.1172222, -122.3113889, -88.4241667, -87.65, -71.1527778, -117.1563889, -71.80277779999999, -115.1363889, -117.1563889, -88.2666667, -120.29194440000002, -84.4275, 25.144213, -73.2136111, -158.0236111, -158.0236111, -95.3630556, -81.3794444, -80.8458333, -122.66027779999999, -76.92381800000001, -80.14361109999999, -81.2422222, -122.1202778, -78.18777779999999, -123.9602778, -120.33333300000001, -93.696211, -94.1677778, -122.5263889, -86.055, -123.095, -83.7130556, -120.1377778, -112.07333329999999, -81.78277779999999, -80.2333333, -72.6530556, -73.971249, -94.2216667, -81.5216667, -69.37611109999999, -89.4975, -112.58305559999998, -78.6802778, -72.0444444, -88.0894444, -75.4905556, -82.1894444, -119.01777779999999, -94.9269444, -95.1055556, -114.405, 77.22496, -90.22972220000001, -104.8208333, -75.9416667, -72.8236111, -69.50361109999999, -81.4405556, -84.6811111, -94.28138890000001, -83.315, 9.866667, -83.315, -73.7016667, -87.9033333, -90.85, -92.52111109999998, -81.69555559999999, -111.89833329999999, -81.3794444, 13.366667000000001, -71.64944440000001, -74.7180556, -83.9705556, -82.1894444, -83.0302778, -75.01212, -117.6711111, -79.1680556, -116.77944440000002, -81.5861111, -97.6786111, -71.25, -79.416667, -124.38416670000001, -80.0852778, -80.54388890000001, -89.4011111, -121.95416670000002, -119.90055559999999, -86.2911111, -104.8866667, -90.4358333, -77.4608333, -82.81222220000001, -84.9069444, -82.8794444, -80.28, -104.7608333, -83.378939, -76.1477778, -81.1766667, -77.47191, -81.3794444, -93.680657, -83.3977778, -120.1572222, -82.1894444, -92.9436111, -90.66444440000001, -119.01777779999999, -120.95666670000001, -73.9927778, -76.9961111, -97.93333299999999, -117.1563889, -81.3794444, -71.43777779999999, -91.38638890000001, -83.48222220000001, -77.03527779999999, -87.5558333, -70.6625, -75.51527779999999, 7.5833330000000005, -81.3794444, -80.3055556, -81.60611109999999, -72.2930556, -122.337143, -77.80444440000001, -71.55277779999999, -80.2, -117.1652778, -84.5591667, -75.7, -81.37861109999999, -73.4544444, -118.105, -71.3166667, -85.6680556, -85.1288889, -82.486024, -82.450903, -77.9075, -113.76305559999999, -81.7611111, -72.883333, -109.70694440000001, -114.8011111, -117.0222222, -97.7427778, -94.6233333, -83.65, -117.65, -16.576216, -88.13972220000001, -75.7, -117.1475, -111.78833329999999, -72.94972220000001, -123.095, -122.44305559999998, -87.92, -73.7127778, -156.6825, -82.699363, -121.52694440000002, -95.4341667, -93.23472220000001, -118.13583329999999, -106.7777778, -88.6091667, -122.53, -87.65, -82.99888890000001, -123.095, -123.13333300000001, -83.3672222, -74.17277779999999, -83.1141667, -75.9783333, -80.5797222, -77.1875, -111.76944440000001, -74.2994444, -68.42, -119.69722220000001, -86.67222220000001, -122.03996599999999, -83.37638890000001, -91.3583333, -71.1488889, -122.44305559999998, -122.44305559999998, -71.0602778, -102.033333, -118.2427778, -122.8025, -70.41666670000001, -122.6936111, -83.2919444, -79.6405556, -122.675, -77.5730556, 35.086019, -77.9075, -78.88972220000001, -80.04986, -72.01126, -97.755, -119.13611110000001, -79.516667, -90.1841667, -70.73388890000001, -90.78777779999999, -85.1288889, -74.0063889, -74.0063889, -73.91305559999999, -82.7397222, -81.0191667, -79.0719444, -74.0063889, -108.491104, -75.195, -77.3283333, -79.466667, -79.9416667, -75.07611109999999, -81.3794444, -82.111512, -53.229487, -74.90388890000001, -124.01666670000002, -111.65055559999999, -92.1138889, -76.42833329999999, -75.22111109999999, -87.7008333, -76.2180556, -76.42833329999999, -78.63888890000001, -79.1233333, -82.4452778, -122.20083329999999, -121.49333329999999, -84.7452778, -79.7, -71.6422222, -83.1219444, -82.2319444, -74.17222220000001, -92.62361109999999, -97.166667, -81.59611109999999, -73.865, -94.1677778, -79.416667, -117.99833329999998, -80.2444444, -94.5180556, -122.5788889, -74.61849000000001, -93.2475, -87.65, -89.4011111, -97.5455556, -95.7905556, -93.7727778, -79.7, -75.0852778, -77.40222220000001, -81.795, -94.5783333, -111.85, -89.878577, -82.083333, -86.4691667, -71.9705556, -70.41666670000001, -73.1216667, -80.0852778, -80.0852778, -122.05972220000001, -111.56638889999999, -88.4152778, -79.7, -119.77138889999999, -104.91166670000001, -104.91166670000001, -70.93472220000001, -79.447886, -87.6575, -117.69722220000001, -117.86694440000001, -84.4777778, -83.80888890000001, -83.80888890000001, -90.5775, -81.25, -70.2413889, -72.8972222, -81.707535, -78.86916670000001, -80.8433333, -85.576389, -97.4777778, -97.4777778, -90.7736111, -84.2333333, -86.53805559999999, -73.75, -75.1183333, -86.1580556, -79.3919444, -76.8080556, -99.14031899999999, -73.3583333, -88.16666670000001, -74.5927778, -75.9952778, -88.80722220000001, -84.511732, -70.18861109999999, -122.6936111, -76.1125, -79.833333, -92.7566667, -89.01861109999999, -80.6075, -86.7844444, -74.0063889, -74.0063889, -78.1613889, -118.2427778, -89.7044444, -73.9119444, -74.04388890000001, -82.23777779999999, -75.1641667, -71.3166667, -80.02166700000001, -88.07472220000001, -72.3472222, -93.60888890000001, -85.1288889, -81.2422222, -81.83555559999999, -81.5861111, -90.69972220000001, -87.825, -117.6711111, -83.5552778, -84.31, -78.333333, -86.3083333, -78.6905556, -78.852805, -68.3141667, -80.35055559999999, -82.9, -88.3147222, -120.5047222, 1.75, -82.5608333, -155.7902778, -76.1477778, -73.0569444, -86.1580556, -86.93, -84.8408333, -74.6272222, -97.54638890000001, -76.0925, -112.00916670000001, -83.6130556, -85.8344444, -74.245, -83.7891667, -82.5608333, -79.86277779999999, -95.2666667, -87.4052778, -94.7822222, -83.1825, -75.65861109999999, -103.7244444, 34.781768, -106.4863889, -79.5391667, -88.64361109999999, -111.89027779999999, -80.2563889, -100.0166667, -72.1444444, 21.734574, -93.5852, -67.775, -84.3880556, -80.5994444, -77.46055559999999, -75.266289, -74.0063889, -117.14, -89.0666667, -91.64388890000001, -73.0605556, -115.1363889, -96.63861109999999, -74.4888889, -73.49861109999999, -154.8486111, -86.6477778, -74.64527779999999, -82.93722220000001, -155.996926, -87.58111109999999, -122.33083329999998, -90.69972220000001, -84.1555556, -82.1894444, -108.5, -96.925, -76.5663889, -86.1647222, -94.3819444, -112.07333329999999, -1.166667, -118.33972220000001, -2.183333, -75.75, -75.65, -111.89027779999999, -82.1894444, -81.23638890000001, -80.35055559999999, -88.2066667, -116.77944440000002, -82.18888890000001, -88.4486111, -106.21666699999999, -97.39611109999998, -87.3819444, -88.6366667, -149.1127778, -94.3983333, -94.2005556, -72.94972220000001, -72.94972220000001, -87.2169444, -111.7602778, -78.61361109999999, -104.72197299999999, -70.2425, -70.2425, -74.64583329999999, -80.35055559999999, -72.94972220000001, -123.96166670000001, -122.27, -78.833079, -77.6366667, -77.6366667, -88.9936111, -76.9341667, -93.60888890000001, -66.633333, -90.07388890000001, -106.66666699999999, -122.25555559999998, -81.6327778, -106.65055559999999, -89.99027779999999, -81.148713, -86.39027779999999, -88.787868, -111.78833329999999, -122.3577778, -80.6075, -112.1852778, -88.33333329999999, -73.1155556, -73.0569444, -86.5519444, -75.82638890000001, -88.4333333, -81.33972220000001, -83.1294444, -85.52002399999999, -88.33333329999999, -73.20111109999999, -72.9730556, -81.9180556, -88.83694440000001, -122.2697222, -78.68333299999999, -94.7333333, -113.90336699999999, -88.04166670000001, -83.036363, -125.25, -76.92381800000001, -88.13972220000001, -73.9977778, -122.9886111, -76.30111109999999, -73.4544444, -84.0633333, -83.9008333, -111.69388889999999, -122.44429099999999, -74.8294444, -80.28, -101.233333, -72.5988889, -122.5, -83.5552778, -72.615117, -73.3297222, -120.8325, -86.3638889, -79.908076, -92.8522222, -97.166667, 96.15, -73.9291667, -79.9961111, -94.382172, -91.1227778, -122.83388889999999, -111.8219444, -74.0063889, -81.8638889, -80.6694444, -113.53333300000001, -89.4011111, -82.5541667, -120.8911111, -89.8083333, -115.1363889, -83.1466667, -88.0797222, -71.51527779999999, -119.77138889999999, -117.99805559999999, -68.7783333, -92.5363889, -121.8938889, -91.64388890000001, -82.93777779999999, -84.1916667, -72.6625, -94.9772222, -82.99888890000001, -84.1916667, -85.75972220000001, -70.9041667, -83.1836111, -84.2866667, -77.56388890000001, -86.3758333, -86.7508333, -123.5847222, -86.7102778, -70.06111109999999, -81.18333299999999, -73.7127778, -73.71234100000001, -75.83361109999998, -119.70194440000002, -89.6405556, -111.95, -110.58845500000001, -122.675, -105.27, -69.3591667, -119.69722220000001, -113.99305559999999, -116.95055559999999, -81.02305559999999, -75.51527779999999, -112.00105, -92.4055556, -72.6441667, -79.6258333, -84.1916667, -78.1613889, -63.566667, -77.40861109999999, -92.6280556, -94.6827778, -93.2425, -82.1894444, -123.36638889999999, -103.66, -90.3341667, -70.41666670000001, -83.27861109999999, -122.3402778, -78.93333299999999, -4.6666669999999995, 20.619795, -120.84555559999998, -92.4055556, -100.7833333, -0.515525, -95.89972220000001, -79.7883333, -118.2427778, -80.0366667, -80.7436111, -73.3941667, -80.752608, -118.35166670000001, -110.9258333, -92.7902778, -117.04416670000002, -82.1894444, -69.78, -71.28611109999999, -111.85, -83.5552778, -82.8244444, -80.8, -84.6608333, -117.59222220000001, -70.2152778, -75.4905556, -82.93222220000001, -106.65055559999999, -116.77944440000002, -78.87861109999999, -78.87861109999999, -0.533333, -121.42065500000001, -81.5861111, -81.3147222, -122.28648100000001, -122.20083329999999, -115.1363889, -81.7330556, -92.9591667, -76.3580556, -115.4013889, -81.2458333, -80.08333329999999, -118.3875, -81.60813, -80.0366667, -80.0730556, -81.3794444, -80.125, -81.2733333, -80.0366667, -80.1441667, -80.125, -70.648258, -80.0366667, -70.6677778, -87.4547222, -89.42611109999999, -147.7163889, -71.45527779999999, -94.6233333, -122.33083329999998, -97.88888890000001, -122.7427778, -85.95777779999999, -111.57777779999999, -117.8252778, -82.67944440000001, -119.483333, -112.23666670000001, 16.437965, -80.1938889, -117.426047, -70.3780556, -112.07333329999999, -122.675, -72.9980556, -77.093339, -116.77944440000002, -122.63805559999999, -116.62333329999998, -123.83, -72.15, -122.1202778, -122.20083329999999, -117.1563889, -124.01666670000002, -82.1894444, -71.4783333, -122.58972220000001, -75.92154599999999, -123.7, -122.45083329999999, -118.2427778, -74.03138890000001, -75.7, -120.30916670000002, -120.69833329999999, -120.48194440000002, -70.7366667, -120.48194440000002, -80.44888890000001, -122.5322222, -90.535278, -88.6325, -76.6022222, -82.1894444, -82.1894444, -82.1894444, -93.2425, -80.033333, -70.6625, -81.18333299999999, -78.716667, -83.6897222, -80.25, -72.9980556, -116.9711111, -70.4447222, -119.15583329999998, -122.46916670000002, -75.5427778, -91.4983333, -113.5, -87.90638890000001, -71.41666670000001, -78.8869444, -112.0638889, -77.7491667, -105.50166670000002, -75.9783333, -122.0311111, -89.80722220000001, -122.2272222, -86.7844444, -76.95111109999999, -78.87861109999999, -78.8869444, -76.95111109999999, -120.6952778, 72.81944399999999, -76.95111109999999, -93.95777779999999, -122.9886111, -78.8869444, -78.8869444, -111.89833329999999, 93.936844, 21.23, -82.1325, -71.4666667, -97.1077778, -79.416667, -97.94111109999999, -111.89027779999999, -98.4933333, -103.1836111, -88.0955556, -89.8083333, -83.0180556, -70.8791667, -62.88333299999999, -77.25, -84.3338889, -119.69722220000001, -84.0633333, -84.0633333, -85.28611109999999, -80.13672700000001, -82.99888890000001, -70.1791667, -82.39972220000001, -84.55888890000001, -84.0258333, -82.0133333, -79.016667, -72.163596, -89.38027779999999, -117.9177778, -122.20083329999999, -86.62, -122.7725, -70.128629, -101.7191667, -82.75361109999999, -121.95222220000001, -82.45861109999998, -117.22972220000001, -81.279573, -81.279573, -74.08111109999999, -88.1472222, -112.58305559999998, -78.3041667, -88.82777779999999, -122.44305559999998, 77.22496, -89.1908333, -122.8227778, -122.44305559999998, -119.69722220000001, -123.1975, -85.7691667, -73.9977778, -97.166667, -87.1133333, -92.16888890000001, -80.08333329999999, -82.0316667, -117.69722220000001, -83.3527778, -112.07333329999999, -78.6802778, -105.27, -96.36972220000001, -74.1375, -88.0197222, -79.416667, -84.3616667, -77.46055559999999, -105.27, -85.6447222, -122.69138889999999, -75.668195, -80.05722220000001, -79.5, -86.2619444, -112.3325, -84.8733333, -91.6819444, -86.44666670000001, -82.1077778, -82.99888890000001, -120.84888889999999, -88.3147222, -86.81277779999999, -75.64388890000001, -73.0569444, -79.730701, -70.1791667, -122.33083329999998, -76.1477778, -77.4108333, -74.799607, -88.09527800000001, -75.4519444, -86.4436111, -87.65, -93.01361109999999, -72.8325, -77.4608333, -116.39055559999998, -122.69138889999999, -82.99888890000001, -83.1444444, -76.3058333, -70.97555559999999, -96.3341667, -86.87527779999999, -76.41027779999999, -90.1977778, -82.99888890000001, -84.49083329999999, -90.69972220000001, -84.455, -79.3758333, -84.56138890000001, -74.3116667, -77.44722220000001, -81.69555559999999, -122.66027779999999, -118.1711111, -69.00916670000001, 10.839742999999999, -80.1938889, -111.9086111, 115.729782, -63.6, -73.3297222, -75.22111109999999, -80.6075, -88.4991667, -72.6530556, -75.35611109999999, -78.333333, -83.8241667, -85.8344444, -90.4019444, -79.9311111, -88.0197222, -112.03333329999998, -72.64583329999999, -113.63333300000001, -62.88333299999999, -112.3575, -122.81527779999999, -118.30805559999999, -96.07722220000001, -111.89027779999999, -117.1563889, -94.1572222, -75.0644444, -111.8219444, -83.6875, -90.04888890000001, -111.05166670000001, -71.05, -81.5191667, -117.39527779999999, -70.25583329999999, -90.4113889, -76.5838889, -87.98861109999999, -73.4155556, -77.02638890000001, -123.095, -122.67083329999998, -96.8, -78.8766667, -73.583333, -122.6936111, -76.6125, -84.1594444, -116.2025, -122.33083329999998, -85.22361109999999, -85.22361109999999, -81.77305559999999, -122.20083329999999, -75.0252778, -114.36277779999999, -84.0713889, -114.5675, -84.14027779999999, -105.87008999999999, -75.2180556, -121.78055559999999, -83.92944440000001, 3.9940660000000006, -62.7, -106.65055559999999, -71.41666670000001, -74.1725, -123.10055559999999, -72.685, -74.0125, -71.1, -76.895717, -75.70361109999999, -122.2272222, -107.75805559999999, -77.76888890000001, -85.70527779999999, -122.89944440000001, -95.190299, -82.1619444, -114.08333300000001, -69.5372222, -76.21055559999999, -74.1983333, -81.8041667, 76.779418, -111.93805559999998, -110.9258333, -78.395, -75.7141667, -138.666667, -81.30311800000001, -81.30311800000001, -82.8513889, -83.14, -106.65055559999999, -96.6416667, -82.3941667, -71.1, 101.68685500000001, -77.3666667, -96.9975, -88.7588889, -77.47555559999999, -106.65055559999999, -86.4872222, -106.6638889, -106.65055559999999, -90.5155556, -105.93722220000001, -111.572222, -111.84055559999999, -80.0944444, -87.78277779999999, -97.33722220000001, -82.4922222, -80.1938889, -81.8638889, -80.2333333, -97.13749399999999, -84.5702778, -100.20361109999999, -92.7952778, -83.0752778, -82.99888890000001, -98.39, -88.2141667, -149.90027780000003, -103.2305556, -93.60888890000001, -98.4933333, -96.9975, -81.333333, -84.00527779999999, -77.391364, -119.3463889, -74.2405556, -82.1325, -76.8758333, -80.2416667, -112.23666670000001, -122.32055559999999, -111.8219444, -111.8219444, -112.04694440000002, -111.572222, -111.63361110000001, -112.3575, -72.6166667, -112.2711111, -81.92277779999999, -93.96222220000001, 138.598633, -124.01666670000002, -124.01666670000002, -77.5061111, -122.20083329999999, -89.01861109999999, -76.30722220000001, -92.8672222, -72.5236111, -75.22111109999999, -81.1875, -106.65055559999999, -106.6638889, -97.4391667, -71.0538889, -71.41666670000001, -106.69688000000001, -70.4447222, -71.5658333, -70.2316667, -70.0333333, -70.6677778, -71.20138890000001, -70.855032, -79.9257, -82.2691667, -87.65, -84.1430556, -70.25, -121.49333329999999, -121.49333329999999, -82.7366667, -85.15, -88.9936111, -88.16666670000001, -88.9936111, -122.86805559999999, -68.2044444, -81.035, -74.45222220000001, -77.1530556, -121.32722220000001, -73.18611109999999, -92.3427778, -88.51777779999999, -79.0480556, -77.03527779999999, -84.35416670000001, -104.98416670000002, -84.3022222, -84.2866667, -121.6686111, -111.98399599999999, -83.1583333, -75.9783333, -105.08083329999998, -88.29222220000001, -106.7777778, -96.595, -95.3694444, -104.98416670000002, -109.52805559999999, -104.98416670000002, -84.1475, -80.0730556, -72.57222220000001, -112.00105, -115.1363889, -84.3558333, -86.6702778, -115.1363889, -79.56111109999999, -76.07888890000001, -75.9783333, -82.99888890000001, -75.9516667, -95.9925, -96.4133333, -79.88, -2.6, -87.8891667, -72.5569444, -89.53805559999999, -85.1288889, -79.04166670000001, -77.46055559999999, -147.7163889, -71.44027779999999, -101.62222220000001, -82.99888890000001, -85.2825, -96.4133333, -111.55138889999999, -79.5, -76.483333, -122.53108700000001, -76.1055556, -80.58888890000001, -122.1202778, -94.8188889, -83.036363, -93.23472220000001, -117.9280556, -81.10416670000001, -82.2755556, -70.8805556, -91.1544444, -122.74583329999999, 74.85, -113.55022199999999, -87.1133333, -85.1288889, -72.78, -80.64972220000001, -85.139351, -72.8075, -76.29861109999999, -71.8341667, -90.5775, -84.4569444, -86.2344444, -77.56388890000001, -104.83192, -120.84555559999998, -122.2405556, -120.967044, -78.7333333, -79.0480556, -81.8905556, -77.0844444, -80.0055556, -80.05722220000001, -78.6802778, -78.6802778, -120.84555559999998, -84.3880556, -77.4291667, -87.9133333, -119.13611110000001, -76.7794444, -2.583333, -85.98527779999999, -73.833455, -93.8275, -88.5444444, -83.3772222, -78.045, -86.055, -83.1583333, -81.92277779999999, -81.5372222, -83.6875, -85.4975, -115.1363889, -86.81138890000001, -119.62944440000001, -105.87008999999999, -78.8869444, -76.1375, -118.35166670000001, -82.4933333, -112.23666670000001, -84.1272222, -83.7263889, -77.4108333, -83.1141667, -74.0125, -84.0194444, -71.0602778, -116.54444440000002, -118.2427778, -116.2025, -118.5358333, -118.03194440000001, -86.63027779999999, 151.4254, -93.2875, -88.08027779999999, -75.97916670000001, -112.1852778, -87.3594444, -82.29638890000001, -84.300666, -84.14027779999999, -83.9008333, -87.2169444, -117.22972220000001, -83.3780556, -75.9183333, -81.69555559999999, -70.8166667, -74.1691667, -72.36916670000001, -82.8047222, -85.8891667, -81.5191667, -75.97916670000001, -85.10888890000001, -89.9772222, -86.1580556, -79.0569444, -112.07333329999999, -118.49119099999999, -111.7602778, -90.69972220000001, -81.0858333, -77.5061111, -75.97916670000001, -92.0197222, -87.6772222, -78.63888890000001, -69.4430556, -84.6266667, -80.2333333, -65.18333299999999, -75.7, -74.17277779999999, -84.4777778, -82.4905556, -74.13027779999999, -98.3677778, -71.4680556, -72.5219444, -85.92111109999999, -84.6008333, -122.26527779999999, -78.8805556, -93.46638890000001, -86.7844444, -74.80027779999999, -71.07777779999999, -71.512617, -65.021395, -107.042827, -84.2333333, -73.865, 27.48, 31.02184, -72.05888890000001, -73.5069444, 57.516667000000005, -117.6111111, -117.1563889, -81.01611109999999, -106.65055559999999, -105.8922222, -97.9547222, -76.02083329999999, -85.3577778, -147.7163889, -70.73388890000001, -74.150201, -73.4805556, -86.2483333, -88.2391667, -71.5061111, -88.94333329999999, -77.41111109999999, -93.16666670000001, -70.1569444, -74.94111109999999, -81.9936111, -75.74984599999999, -92.9591667, -94.12861109999999, -80.0366667, -117.7822222, -80.6075, -81.37861109999999, -111.89027779999999, -97.8680556, -124.01666670000002, -76.5455556, -2.714444, -75.86694440000001, -119.77138889999999, -73.0019444, -93.46638890000001, -80.346859, -97.7466667, -72.8075, -80.7436111, -117.86694440000001, -76.54, -118.80916670000002, -73.07638890000001, -97.48638890000001, -83.86027779999999, -117.1563889, -82.0069444, -84.34609, -83.8241667, -75.938048, -80.4094444, -96.66666670000001, -81.34138890000001, -76.64138890000001, -120.65194440000002, -104.98416670000002, -80.4094444, -111.78833329999999, -86.44666670000001, -120.84888889999999, -118.03194440000001, -71.475, -78.78138890000001, -121.49333329999999, -75.22111109999999, -76.95111109999999, -122.20083329999999, -86.7577778, -121.59944440000001, -147.7163889, -79.9961111, -97.166667, -78.73777779999999, -76.68, 4.469936, -72.5902778, -78.9733333, -77.4422222, -96.7841667, -74.9697222, -96.66666670000001, -83.7525, -116.2025, -93.6613889, -78.6380556, -116.9711111, -84.19857900000001, -119.76777779999999, -103.1258333, -84.14027779999999, -82.5541667, -87.0216667, -75.34111109999999, -69.19555559999999, -77.520269, -82.45861109999998, -108.05277779999999, -72.64111109999999, -95.61583329999999, -72.5758333, -94.60388890000002, -83.2733333, -77.46055559999999, -70.9761111, -87.52861109999999, -87.78277779999999, -117.23558500000001, -71.05, -91.235, -117.9713889, -85.61135, -123.02083329999999, -86.25, -84.14027779999999, -95.3630556, -122.63555559999999, -71.6833333, -86.4525, -73.2094444, -105.24971599999999, -90.075, -81.82188199999999, -71.45527779999999, -75.1905556, -122.21583329999999, -122.63555559999999, -74.39944440000001, -122.74333329999999, -119.77138889999999, -85.0005556, -97.7427778, -97.7275, 33.022617, -67.92361109999999, -80.358226, -80.35055559999999, -121.29194440000002, -97.33722220000001, -89.247682, -122.69487, -97.26861109999999, -97.32055559999999, -85.1288889, -122.20083329999999, -76.2855556, -78.87861109999999, -80.6080556, -117.1563889, -97.82, -113.78333300000001, -74.16375500000001, -87.5691667, -87.3594444, 22.891814, -82.325, -77.710548, -63.216667, -84.5194444, -86.7844444, -116.2025, -122.28444440000001, -77.2655556, -97.4777778], \"mode\": \"markers\", \"text\": [\"clifton, nj\", \"palm harbor, fl\", \"aurburn, ky\", \"st. louis county, mo\", \"ottawa (canada), on\", \"rittman, oh\", \"harvey station (canada), nb\", \"essex junction, vt\", \"kenner, la\", \"drexel, oh\", \"hudson, nh\", \"grand blanc, mi\", \"savage, mn\", \"warren, mi\", \"canton, mi\", \"lost creek, wv\", \"hudson, nh\", \"saginaw, mi\", \"hamilton (canada), on\", \"ankeny, ia\", \"palm beach gardens, fl\", \"pickering (canada), on\", \"kalamazoo, mi\", \"lawrence, ks\", \"north cincinnati, oh\", \"essex junction, vt\", \"cincinnati, oh\", \"cincinnati, oh\", \"naples, fl\", \"bonaie, ga\", \"cincinnati, oh\", \"union, ky\", \"hubbardston, ma\", \"covington, ga\", \"drexel, oh\", \"fayetteville, ny\", \"jupiter, fl\", \"melbourne, fl\", \"dresser, wi\", \"lombard, il\", \"windsor (canada), on\", \"north canton, oh\", \"pinckney, mi\", \"colorado springs, co\", \"bel air, md\", \"bakersfield, ca\", \"furlong, nj\", \"boulder/niwot, co\", \"cobb mountain, ca\", \"muncie, in\", \"pittsburgh, pa\", \"pittsburgh, pa\", \"lincoln, ri\", \"boulder, co\", \"thibodaux, la\", \"webster, ny\", \"southwest ranches, fl\", \"tampa, fl\", \"cumming, ga\", \"sneedville, tn\", \"white lake, mi\", \"waterloo, ia\", \"middle island (long island), ny\", null, \"arlington, wi\", \"austin, tx\", \"cambridge, ny\", \"strongsville, oh\", \"festus, mo\", \"owego, ny\", \"kodiak, ak\", \"st. louis, mo\", \"clarkston, mi\", \"columbus, oh\", \"finleyville, pa\", \"lima, oh\", \"north judson, in\", \"suffolk, va\", \"morganton, nc\", \"keswick (canada), on\", \"hamilton, oh\", \"austin, tx\", \"franklin, oh\", \"hamilton, oh\", null, \"springboro, oh\", \"west chester, oh\", \"miamisburg, oh\", \"peoria, il\", \"springboro, oh\", \"aspen (~2 hrs. w of; driving), co\", \"grand junction (east of; on i-70), co\", \"sundridge (canada), on\", \"chandlerville, oh\", \"hilliard, oh\", \"hiawassee, ga\", \"lombard, il\", \"west newbury, ma\", \"anderson, sc\", \"orangevale, ca\", \"cincinnati, oh\", \"orangevale (sacramento), ca\", \"bloomington, mn\", \"salt lake city, ut\", \"toronto (canada), on\", \"newark, tx\", \"santa fe, nm\", \"afton, mo\", \"council bluffs, ia\", \"council bluffs, ia\", \"irondequoit, ny\", \"orange, nj\", \"oswego, il\", \"mechanicsburg, pa\", \"pasadena, md\", \"spring hill, fl\", \"spokane, wa\", \"west palm beach, fl\", \"jefferson/johnson creek, wi\", \"sanford, fl\", \"bushnell, fl\", \"raymond, oh\", \"indianapolis, in\", \"gobles, mi\", \"silverdale, wa\", \"livonia, mi\", \"regina (canada), sk\", \"ligonier, pa\", \"walls, ms\", \"fishers, in\", \"new york city (brooklyn), ny\", \"warren, mi\", null, \"sheldon, ia\", \"forked river, nj\", \"albuquerque, nm\", \"hampton, nh\", \"buckingham, pa\", \"hawkesbury (canada), on\", \"hawkesbury (canada), on\", \"charlotte, nc\", \"vernon hills, il\", \"seaside, or\", \"oakland, ca\", \"green bay, wi\", \"ruston, la\", \"toronto (canada), on\", \"leland, mi\", \"holgate, nj\", \"salt lake valley, ut\", \"kalamazoo, mi\", \"point arena, ca\", \"watchung area (i believe), nj\", \"warren, oh\", \"fremont, ca\", \"hunlock creek, pa\", \"beale afb, ca\", \"bowdoinham, me\", \"bethesda, md\", \"lake havasu city, az\", \"bozeman, mt\", \"kirkland (canada), qc\", null, \"rockford, il\", \"brigantine, nj\", \"boise, id\", \"yadkinville, nc\", \"ocean isle beach, nc\", \"reseda, ca\", \"blaine, wa\", \"albuquerque, nm\", \"sacramento, ca\", \"catoosa, ok\", \"reedsville, wv\", \"bath, pa\", \"spencer, in\", \"carlisle, pa\", \"oakdale, mn\", \"new bedford, ma\", \"queen creek, az\", \"amelia, oh\", \"sacramento, ca\", \"fort worth, tx\", \"surfside/myrtle beach, sc\", \"globe, az\", \"indianapolis, in\", \"south weber, ut\", \"payette, id\", \"meridian, id\", \"cornwall (canada), on\", \"lakeside, ca\", \"san jose, ca\", \"palm harbor, fl\", null, \"independence, va\", \"colville, wa\", \"davie, fl\", \"holgate (lbi), nj\", \"boise, id\", \"silverdale, wa\", \"carolina beach, nc\", \"okeechobee, fl\", \"charlottesville, va\", \"vista, ca\", \"chilliwack (canada), bc\", \"keizer, or\", \"litchfield, nh\", \"boca raton, fl\", \"pullman, wa\", \"antelope, ca\", \"milton, vt\", \"pinecrest/sonora, ca\", null, \"victoria (canada), bc\", \"duluth, mn\", \"clarksville, tn\", \"dallas, tx\", \"dayton/drexel, oh\", \"washington, pa\", \"sellersburg, in\", \"washington, pa\", \"bedford, nh\", \"oxford, ga\", \"sarasota, fl\", \"lawrenceville, ga\", \"sarasota, fl\", \"cincinnati, oh\", \"norwood, oh\", \"norwood, oh\", \"west yarmouth, ma\", \"dinosaur colorado, co\", \"noblesville, in\", \"eau claire, wi\", \"arlington, va\", \"virginia beach, va\", \"prescott, az\", \"murphysboro, il\", \"miramar, fl\", \"revere, ma\", \"los angeles, ca\", \"sierra vista, az\", \"brownsville, or\", null, \"lafayette, in\", \"lowell, ma\", \"winslow, az\", \"fairdale, ky\", \"riverview (canada), nb\", \"swansea, il\", \"aubrey/frisco, tx\", \"chandler, az\", \"oshkosh, wi\", \"goodyear, az\", \"orlando, fl\", \"fond du lac, wi\", \"festus, mo\", \"lewisburg, pa\", \"poolesville, md\", \"palm desert, ca\", \"saint louis, mo\", \"silver creek, ga\", \"st. paul, mn\", \"charlotte, nc\", \"ansonia, ct\", \"boise, id\", \"brecksville, oh\", null, \"flint, mi\", \"austin, tx\", \"jupiter, fl\", \"albuquerque, nm\", \"napanee (canada), on\", \"toledo, oh\", \"salem, nh\", \"manitou springs, co\", \"naples, fl\", \"levittown, pa\", null, \"spokane, wa\", \"germantown, ny\", \"philadelphia, pa\", \"woonsocket, ri\", \"levittown, pa\", \"manassas, va\", null, \"stockton, ca\", \"cottonwood, az\", \"sugar land, tx\", \"milwaukee, wi\", \"florenceville (canada), nb\", \"framingham, ma\", \"san antonio, tx\", null, \"houston, tx\", \"versailles, mo\", \"katy, tx\", \"two rivers, wi\", \"watertown, ma\", \"wilson, ok\", \"barnegat, nj\", \"oxford, pa\", \"cleveland, ok\", \"imperial, mo\", \"twin lakes, wi\", \"marshville, nc\", \"upper marlboro, md\", \"san francisco, ca\", \"las vegas, nv\", \"janesville, wi\", \"la habra, ca\", \"meriden, ct\", \"middletown, oh\", \"sherwood/north little rock, ar\", \"martinsburg, wv\", \"fairfax station, va\", \"canton, oh\", \"martin, mi\", \"orrington, me\", \"caledonia, ny\", \"philadelphia, pa\", \"waretown, nj\", \"hagerstown, md\", \"wentzville, mo\", \"longmont, co\", \"albany, ny\", \"wenatchee, wa\", \"ty ty, ga\", \"northwest reno, nv\", \"prescott valley, az\", \"milton, vt\", \"mckeesport, pa\", \"miami, fl\", \"brattleboro, vt\", \"prescott, az\", \"kensington, nh\", \"ossipee, nh\", \"logan, ut\", \"dandridge, tn\", \"weiser, id\", \"cedar city, ut\", \"auburn, ca\", \"chelan, wa\", \"san rafael, ca\", \"arlington, tx\", \"kaneohe, hi\", \"monroeville, pa\", \"davenport, wa\", \"parrish alabama, al\", \"couer d&#39alene, id\", \"marlboro, nj\", \"milford, nh\", \"philadelphia, pa\", \"north andover, ma\", \"venice, fl\", \"anchorage, ak\", \"oak forest, il\", \"bellingham, wa\", \"stratham, nh\", \"colorado springs, co\", \"choctaw, ok\", \"choctaw, ok\", \"colonial heights, va\", \"stilwell, ks\", \"cedarville, ca\", \"mercey hot springs/firebaugh, ca\", \"wlimington, ma\", \"anchorage, ak\", \"toutle, wa\", \"natick, ma\", \"silverdale, wa\", \"summer lake, or\", \"alcova, wy\", \"cottonwood, az\", \"washington, nc\", \"alexandria, va\", \"hermitage, tn\", \"scottsdale, az\", \"pasadena, ca\", \"erial, nj\", \"columbia, md\", \"richmond, va\", \"morristown, nj\", \"dallas, tx\", \"woodbridge, va\", \"hogansville, ga\", \"bellingham, wa\", \"dahlgren, va\", \"arnold, md\", \"west vancouver (canada), bc\", \"cedarville, ca\", \"fuquay varina, nc\", \"st. louis, mo\", \"lakeland, tn\", \"brothers, or\", \"edgewater, md\", \"garland, tx\", \"plainview, ny\", \"eugene, or\", \"mitchell, sd\", \"o&#39fallon, mo\", \"wilkes-barre, pa\", \"broken arrow, ok\", \"chandler, az\", \"rosamond, ca\", \"new castle, pa\", \"irving, tx\", \"ogilvie, mn\", \"waterloo, ia\", \"mansfield, tx\", \"toledo, oh\", \"brandon, ms\", \"butler, pa\", \"beverly hills, ca\", \"salt lake city (cottonwood heights), ut\", \"wellington, co\", \"elkton, md\", null, null, \"milwaukee, wi\", \"flushing, mi\", null, \"baltimore, md\", \"des moines, ia\", \"morris, il\", \"katy, tx\", \"pittsburgh, pa\", \"ellicott city, md\", \"lake lure, nc\", \"nampa, id\", \"meridian, id\", \"sarasota, fl\", \"centerville, oh\", \"playa del rey, ca\", \"loganville, ga\", \"waukee, ia\", \"seaside park, nj\", \"avon, fl\", \"milford, oh\", \"los angeles, ca\", \"hosford, fl\", \"honolulu, hi\", \"methuen, ma\", \"brighton, co\", \"longmont, co\", \"colton&#39s point, md\", \"spokane, wa\", \"glendale, az\", \"calabasas, ca\", \"fitchburg/ashby, ma\", \"athens, ga\", \"brunswick, md\", \"chapin, sc\", \"kagawong (canada), on\", \"kenosha, wi\", \"zion national park, ut\", \"plant city, fl\", \"hillsboro, mo\", \"edgerton, wi\", \"goodlettsville, tn\", \"savage, mn\", \"beaver, ar\", \"la porte, in\", \"cape coral, fl\", \"tallahassee, fl\", \"lake worth (southern blvd.; haverhill exit), fl\", \"oldsmar, fl\", \"windsor (canada), on\", \"miami beach, fl\", \"mustang, ok\", \"garland, tx\", \"hamilton (canada), on\", null, \"marstons mills, ma\", \"morpeth (canada), on\", \"moorhead, mn\", \"port alberni (canada), bc\", \"lorain, oh\", \"puna, hi\", \"st. paul, mn\", \"fayetteville, ar\", \"meritt island, fl\", \"cincinnati, oh\", \"winston-salem, nc\", \"lexington, ky\", \"pasadena, ca\", \"west palm beach, fl\", \"pittsburgh, pa\", \"stillwater, ok\", \"peeble, oh\", \"lake city, ia\", \"dunrobin (canada), on\", \"walkertown, nc\", \"pierrefonds (canada), qc\", \"graham, wa\", \"kingston, wa\", \"brownsville, tx\", \"pierrefonds (canada), qc\", \"amherst, ma\", \"longmeadow, ma\", \"davie, fl\", \"mt. vernon, oh\", \"wellington, fl\", \"sommerville, oh\", \"eastport, md\", \"fort lauderdale, fl\", \"santa cruz, ca\", \"newport news, va\", \"sacramento, ca\", \"manistee, mi\", \"norridgewock, me\", \"camp verde (south of), az\", \"bolton (canada), on\", \"san diego, ca\", \"idaho falls, id\", \"kelso, wa\", \"richland, wa\", \"sandpoint, id\", \"post falls, id\", \"walla walla, wa\", \"kuna, id\", \"ogdensburg, nj\", \"scranton, pa\", \"jonesboro, ar\", \"gulfport, ms\", \"mechanicsville, va\", \"taylorsville, nc\", \"clermont, fl\", \"palo alto, ca\", \"modesto, ca\", \"new kensington, pa\", \"truth or consequences, nm\", \"virginia beach, va\", \"san diego, ca\", \"boca raton, fl\", \"ocala, fl\", \"elmore city, ok\", \"torrance, ca\", \"queen creek, az\", \"santa cruz, ca\", \"los angeles, ca\", \"riverview/brandon, fl\", \"fairbanks, ak\", \"sandy springs, ga\", \"del city, ok\", \"edgewater, fl\", \"meridian/nampa, id\", \"arcanum, oh\", \"salyersville, ky\", \"east wenatchee, wa\", null, \"athens, ga\", \"baltimore (city line), md\", \"waterbury, vt\", \"newtown, pa\", \"rex, ga\", \"naples, fl\", \"portland, or\", \"barre, vt\", \"noblsville, in\", \"somerset, pa\", \"toronto (canada), on\", \"covington, va\", \"louisburg, nc\", \"rocky river, oh\", \"harrington, wa\", \"cue (western australia) (australia), wa\", \"wilmington, oh\", \"clarksville, ar\", \"diamond springs, ca\", \"philadelphia, pa\", \"seattle, wa\", \"manor, tx\", \"lexington, sc\", \"surprise, az\", \"salt lake city, ut\", \"fowler, ca\", \"millstone township, nj\", \"westminister, md\", \"dallas, tx\", \"saint lambert (canada), qc\", \"albany, or\", \"albuquerque, nm\", \"fairbanks, ak\", \"manassas, va\", null, \"south point, oh\", \"botkins, oh\", \"erwin, tn\", \"clinton, wa\", \"maumee/toledo, oh\", \"salem, or\", \"salem, or\", \"fairbanks, ak\", \"madison, al\", \"madison, al\", \"shelby, oh\", \"plantation, fl\", \"seattle, wa\", \"maryville, tn\", \"homestead, fl\", \"gresham, or\", \"new york city (bronx), ny\", \"staten island, ny\", \"altamont, ny\", \"anchorage, ak\", \"pinetops, nc\", \"longmont, co\", \"fairfax, vt\", \"clark, wy\", \"bude, ms\", \"victoria (canada), bc\", \"warren, nj\", \"dane county, wi\", \"bruceville, in\", \"chandler, az\", \"kaanapali, hi\", \"nashville, tn\", \"colchester, vt\", null, \"seymour, mo\", \"seaside, or\", \"spokane, wa\", \"salem, ma\", \"boca raton, fl\", \"nashville, tn\", \"spokane, wa\", \"daphne, al\", \"rexburg, id\", \"encinitas, ca\", \"aptos, ca\", \"oviedo, fl\", null, \"kahalu&#39u, hi\", \"deland, fl\", \"lewisville, tx\", \"milton, ga\", \"eugene, or\", \"toronto (canada), on\", \"rockaway beach, or\", \"eastsound, wa\", \"greeneville, tn\", \"lincoln, ne\", \"torrance, ca\", \"los angeles, ca\", \"mccall, id\", \"ashford, ct\", \"katy, tx\", \"longmont, co\", \"manson, wa\", \"lake placid, fl\", \"steamboat springs, co\", \"bremerton, wa\", \"canyonville, or\", \"winter park, fl\", \"opelika, al\", \"snohomish, wa\", \"carson city, nv\", \"troy, mi\", \"mississauga (canada), on\", \"bryan, tx\", \"duncannon, pa\", \"oklahoma, ok\", \"uvalde, tx\", \"denver, co\", \"austin, tx\", \"lawrenceville, ga\", \"old station, ca\", \"las vegas, nv\", \"bellevue, ne\", \"boulder, co\", \"burlington, vt\", \"lockesberg, ar\", \"natchez, ms\", \"richboro, pa\", \"redondo beach, ca\", \"lewisville, ar\", \"white rock (canada), bc\", \"lancaster, oh\", \"salt lake city, ut\", \"mobile, al\", \"fort myers, fl\", \"cumming, ga\", \"indianapolis, in\", \"montgomery, il\", \"ashfield, pa\", \"ceredo, wv\", \"plymouth, mn\", \"st. cloud, mn\", \"victoria (canada), nf\", \"sarasota, fl\", \"ohio (location not specified), oh\", \"everett, wa\", \"weston, ct\", \"sidney, mt\", \"tempe, az\", \"phoenix, az\", \"franklin, tn\", null, \"nashville, tn\", \"littleton, co\", \"wellington, oh\", \"greenfield, in\", \"brookston, in\", \"clearwater, fl\", \"new york city (bronx), ny\", \"kawartha lakes (city of) (canada), on\", \"woonsocket, ri\", \"grand prairie, tx\", \"omro, wi\", \"o&#39fallon, mo\", \"wellington, fl\", \"delta, oh\", \"st. cloud, mn\", null, null, \"dodgeville, wi\", \"enola, pa\", \"mt. pleasant, sc\", \"kent, wa\", \"kewanna, in\", \"beaverdam (canada), nb\", \"montgomery, tx\", \"mcgregor, mn\", \"milford, ma\", \"madison heights, mi\", \"chantilly, va\", \"springfield, oh\", \"greene/lewiston, me\", \"sterling, va\", \"carter lake, ia\", \"carter lake, ia\", \"palm coast, fl\", \"eagan, mn\", \"seymour, ct\", \"west orange, nj\", \"orlando, fl\", \"olivehurst, ca\", \"grand junction, co\", \"metairie, la\", \"st. charles, il\", \"graham, wa\", \"sylvan lake, mi\", \"mt. vernon, oh\", \"palmer, ak\", \"punta gorda, fl\", \"new westminster (canada), bc\", \"north east florida (jacksonville), fl\", \"irving, tx\", \"irving, tx\", \"jonesboro, ar\", \"tulsa, ok\", \"havana, fl\", \"virginia beach, va\", \"providence, ri\", \"peru, in\", \"las vegas, nv\", \"montreal (canada), qc\", \"savannah, mo\", \"port townsend, wa\", \"ponoka (canada), ab\", \"san tan valley, az\", \"bristol, va\", \"coeur d&#39alene, id\", \"indianapolis, in\", \"mesa, az\", \"delray beach, fl\", \"hamilton-wenham, ma\", \"peoria, az\", \"lake worth, fl\", \"new port richey, fl\", \"east troy, wi\", null, \"jefferson, wi\", null, \"davenport, fl\", \"okmulgee, ok\", \"athens, oh\", \"napili, hi\", \"mechanicsburg, pa\", \"ann arbor, mi\", \"hamlet, nc\", \"roseville, ca\", null, \"liberty lake, wa\", \"madison, ms\", \"plantation, fl\", \"trego (near), mt\", \"cincinnati, oh\", \"toms brook, va\", \"cincinnati, oh\", \"pottstown, pa\", \"cincinnati, oh\", \"madeira, oh\", \"cincinnati, oh\", \"lake elsinore, ca\", \"pismo, ca\", \"lake elsinore, ca\", \"westville, ct\", \"portland/vancouver (on i-5 @ interstate bridge), or\", \"vero beach, fl\", \"butte, mt\", \"johns creek, ga\", \"gallup, nm\", \"nashville, tn\", null, \"marion, nc\", null, \"ravena, ny\", \"orlando, fl\", \"miami, fl\", \"new paltz, ny\", \"gig harbor, wa\", \"arlington, va\", \"shillington, pa\", \"franklin, tn\", \"groveport, oh\", \"lincoln city, or\", \"littleton, co\", \"florissant, co\", \"paddock lake, wi\", \"black canyon city, az\", \"gibsonia, pa\", \"hillsville, va\", \"eastsound, wa\", \"nampa, id\", \"buhl, mn\", \"salisbury, nc\", \"santa fe, nm\", \"santa fe, nm\", \"santa fe, nm\", \"portage, wi\", null, \"omro, wi\", \"bear, de\", \"sammamish, wa\", null, \"florham park, nj\", \"long beach, ca\", \"boise, id\", \"wadsworth, oh\", \"milwaukee, wi\", \"sacramento, ca\", \"lake havasu city, az\", \"barre, vt\", \"ellsworth, me\", \"fort myers beach, fl\", \"orangeville (canada), on\", \"bridgewater, ma\", \"black river falls, wi\", \"salt lake city, ut\", \"mcgraw, ny\", \"la crosse, wi\", \"okeechobee, fl\", \"houma, la\", \"portageville, mo\", \"spanish fork, ut\", \"toms river, nj\", \"roseville, ca\", \"mauston, wi\", \"black river falls, wi\", \"burbank, ca\", \"granite falls, wa\", \"princeton, wv\", \"north conway, nh\", \"marshfield, wi\", \"fredericton (canada), nb\", \"oxnard, ca\", \"saint albans, vt\", \"farmington, me\", \"hampton, va\", \"harrisburg, pa\", null, \"vancouver (north) (canada), bc\", \"kansas city, mo\", \"lake havasu, az\", \"grand rapids, mi\", \"martin, mi\", \"portage, wi\", \"spring valley, ca\", \"enumclaw, wa\", \"oxon hill, md\", \"westminster, co\", \"hamburg, wi\", \"savage, mn\", \"washington township, nj\", \"burnsville, mn\", \"wautoma, wi\", \"lisbon, ny\", \"portage, wi\", \"berlin, ct\", \"waterloo, ia\", \"ocala, fl\", \"millis, ma\", \"alexandria, la\", \"pilot, va\", \"des moines, ia\", \"wisconsin dells, wi\", \"lincoln, ca\", \"des moines, ia\", \"gainesville, ga\", \"syosset, ny\", \"martinsburg, wv\", \"los angeles, ca\", \"st. george, sc\", \"yuba city, ca\", \"ames, ia\", \"nazareth, pa\", \"billerica, ma\", \"brick, nj\", \"meriden, ct\", \"fleming island, fl\", \"jamestown, ri\", \"akron, oh\", \"boomer, wv\", null, \"santa rosa, ca\", \"waterville, ny\", \"wizard wells, tx\", \"lake havasu city, az\", \"west des moines, ia\", \"rancho santa margarita, ca\", \"west des moines, ia\", \"springfield (?), or\", \"bladen, ne\", \"pratt, ks\", \"irmo, sc\", \"crescent, ok\", \"cartersville, ga\", \"derby, ks\", \"gonzales, la\", \"taunton, ma\", \"davie, fl\", \"jacksonville, fl\", \"des moines, ia\", \"tempe, az\", \"clarkston, mi\", \"reno, nv\", \"carlsbad, nm\", \"boise, id\", \"upper marlboro, md\", \"arvada, co\", \"westminster, co\", \"newark, nj\", \"boise, id\", \"denver, co\", \"burlington (canada), on\", \"detroit, mi\", null, \"vero beach, fl\", \"orlando, fl\", \"west lafayette, in\", \"osage city, ks\", \"gibsonton, fl\", \"merrimack, nh\", \"nokesville, va\", \"pelham, al\", \"crofton, md\", \"new haven, ct\", \"oceanview, nj\", \"peterborough (canada), on\", \"chaska, mn\", \"waldorf, md\", null, \"red lion, pa\", \"antioch, tn\", null, \"virginia beach, va\", \"nashville, tn\", \"haddam, ct\", \"palmer, ak\", \"red rock, az\", \"baltimore, md\", \"rock hill, sc\", \"milton (canada), on\", \"racine, wi\", \"st. charles, mi\", \"high point, nc\", \"hampton, ga\", \"captiva, fl\", \"st. johnsbury, vt\", \"rio rancho, nm\", \"rio rancho, nm\", \"lodi, wi\", \"pittsburgh, pa\", \"adel, ga\", \"mount airy, nc\", \"covington, tn\", \"jeffersonville, in\", \"san diego, ca\", \"santa fe, nm\", \"flowery branch, ga\", \"indian trail, nc\", \"laguna niguel, ca\", \"albuquerque, nm\", \"kansas city, mo\", \"west chester, oh\", \"ocean view, de\", \"kensington, md\", \"livingston, tx\", \"bellingham, wa\", \"new port richey, fl\", null, \"richmond, va\", \"rio rancho, nm\", \"portland, or\", \"ocean springs, ms\", null, null, \"modesto, ca\", null, \"berkeley, ca\", \"estero, fl\", \"san jose, ca\", \"sykesville, md\", \"billings, mt\", \"bristol, pa\", \"odessa, tx\", \"jupiter, fl\", \"milwaukee, wi\", \"northampton, pa\", \"sault ste marie (canada), on\", \"stockton, ca\", \"port richey, fl\", \"ridgecrest, ca\", \"claremont, nh\", \"pickens, sc\", \"pinellas park, fl\", \"seagoville (dallas), tx\", \"york, pa\", \"fort worth, tx\", \"toronto (canada), on\", \"miami, fl\", null, \"palm desert, ca\", \"farmington, nm\", \"ormond beach, fl\", \"long beach, ca\", \"brandon, fl\", \"chicago, il\", \"delta junction, ak\", \"wailuku, hi\", \"elk grove, ca\", \"st. george, ut\", \"tulare, ca\", \"canaan valley, wv\", \"longview, wa\", \"midvale, ut\", null, \"seattle (ballard neighborhood), wa\", null, \"jacksonville beach, fl\", \"westminster, vt\", \"lake worth, fl\", \"sacramento, ca\", \"pittsburgh, pa\", \"lahaina (maui), hi\", \"east mesa/tempe, az\", \"sarasota, fl\", \"stockton, ca\", \"lacrosse, wi\", \"st. peters, pa\", \"weaverville, ca\", \"springdale, ut\", \"orlando, fl\", \"anaheim, ca\", \"honolulu, hi\", \"new port richey, fl\", \"fountain hills, az\", \"martinez, ga\", \"sun lakes, az\", \"brookhaven, ms\", \"carlsbad, nm\", \"benton city, wa\", \"new bedford, ma\", \"fresno, ca\", \"swansea, ma\", \"granville, vt\", \"berlin, vt\", \"lyndon, vt\", \"granville, vt\", \"woodbury, vt\", \"montpelier, vt\", \"randolph center, vt\", \"quechee, vt\", \"bristol, nh\", \"norwich, vt\", \"bridgewater, ma\", \"kuparuk, ak\", \"montpelier, vt\", \"new hampton/bri, nh\", \"churchill, pa\", \"braddock hills (pittsburgh), pa\", \"macomb, mi\", \"windermere, fl\", \"bridgewater, ma\", \"hollister, ca\", \"drums, pa\", \"freedom, nh\", \"nogales, az\", \"tacoma, wa\", \"temple, pa\", \"wexford, pa\", \"holden, me\", \"brighton, mi\", \"lockport, ny\", \"honolulu, hi\", \"santa barbara, ca\", \"poway, ca\", \"philadelphia, pa\", \"arroyo seco, nm\", \"west linn, or\", \"jefferson, or\", \"monroe, wa\", \"everett, wa\", \"coral springs, fl\", \"mountville, pa\", \"mukilteo, wa\", \"fordyce, ar\", \"syracuse, ut\", \"bozeman, mt\", \"rapid city, sd\", \"ogde, ut\", \"somerville, ma\", \"vancouver, wa\", \"woodland, wa\", \"naches, wa\", \"haddon heights, nj\", \"south ogden, ut\", \"orlando, fl\", \"silver lake (los angeles), ca\", \"sacramento, ca\", \"helena, mt\", null, \"manchester, vt\", \"clayton, ga\", \"londonderry, nh\", \"peyton, co\", \"buda, tx\", \"wickenburg, az\", \"newtown, pa\", \"point pleasant by the barnegat bay, nj\", \"roseville, mi\", \"santa rosa, ca\", \"wasilla, ak\", \"weymouth, ma\", \"middleton, wi\", \"aventura, fl\", null, \"kennesaw, ga\", \"kennesaw, ga\", \"miamisburg, oh\", \"sioux falls, sd\", \"port hueneme, ca\", \"geneva, fl\", \"conway, ar\", \"lexington, sc\", \"orem, ut\", \"columbia, md\", \"wakefield, ri\", \"west hills, ca\", \"discovery bay, ca\", \"naugatuck, ct\", \"damascus, md\", \"tampa, fl\", \"arapahoe, nc\", \"redmond, or\", \"anacortes, wa\", \"bremerton, wa\", \"san diego, ca\", \"cecil co. (northeast md), md\", \"kansas city, mo\", \"durham, nc\", \"riverdale, mi\", null, null, \"salt lake city, ut\", \"willard, wi\", null, \"pemberton, nj\", \"humboldt (canada), sk\", \"grand rapids, mi\", \"winter garden, fl\", \"port richey, fl\", \"new port richey, fl\", \"rome, ga\", \"arlington, tx\", \"ashland, me\", \"warren, mi\", \"helena, mt\", \"sandpoint, id\", \"santa paula, ca\", \"coventry, ri\", \"virginia beach, va\", \"sturgis, mi\", \"pinole, ca\", \"eustis, fl\", \"lake wylie, sc\", \"surry, va\", \"lake wylie, sc\", \"spokane, wa\", \"spokane, wa\", \"swanzey, nh\", \"south daytona, fl\", \"chandler, az\", \"fayetteville, ar\", null, \"palm habor, fl\", \"albany, or\", \"okeechobee, fl\", \"antioch, ca\", \"san jose, ca\", \"shelby, nc\", \"bakersfield, ca\", \"brownstown, mi\", \"evansville, in\", \"worcester, ma\", \"hyattsville, md\", \"lake stevens, wa\", \"monrovia, ca\", \"hanover  park, il\", \"williamstown, nj\", \"caledonia, ny\", \"north providence, ri\", \"lake forest, il\", \"greenville, nc\", \"twin falls, id\", \"bend, or\", \"bend, or\", \"burlington, vt\", \"burlington, vt\", \"bend, or\", \"nashville, tn\", \"springfield, or\", \"springfield, or\", \"oviedo, fl\", \"berwick, pa\", \"fayetteville, nc\", \"nampa, id\", \"west mifflin, pa\", \"pompano beach, fl\", \"lake oswego, or\", \"south orange, nj\", \"abbotsford (canada), bc\", \"americus, ga\", \"leawood, ks\", \"copake, ny\", \"medford, nj\", \"fort mill, sc\", \"wichita, ks\", \"amber, ok\", \"yuma, az\", \"san clemente, ca\", \"danville, il\", \"fort collins, co\", \"wellsville, ut\", \"apache junction, az\", \"campbell, oh\", \"burlington, nc\", \"port neches, tx\", \"menan, id\", \"oklahoma city/weatland, ok\", \"hollister, ca\", \"franklin, tn\", \"owatonna, mn\", \"pueblo, co\", \"fredericksburg, va\", \"owasso, ok\", \"phoenix, az\", \"tucson, az\", \"lincoln, ne\", \"guntersville, al\", \"vaughan (canada), on\", \"polk city, fl\", \"kingston (canada), on\", \"newbury, ma\", \"boston, ma\", \"zion national park, ut\", \"house springs, mo\", \"amory, ms\", \"bowling green, ky\", \"azusa, ca\", \"vadnais heights, mn\", \"albuquerque, nm\", \"bridgewater, ma\", \"knoxville, tn\", \"manassas, va\", \"new canaan, ct\", \"prospect, ct\", \"amory, ms\", \"fairwood, wa\", null, \"gardiner, ny\", \"myrtle beach, sc\", \"pittsfield, ma\", \"temperance, mi\", \"gilroy, ca\", \"lafayette, la\", \"mukwonago, wi\", \"hopkins, mn\", \"lake havasu city, az\", \"albuquerque, nm\", \"moncton (canada), nb\", \"mchenry, il\", \"oak harbor, oh\", \"spring mount, pa\", \"sobieski, wi\", \"lewes, de\", \"westford, ma\", \"folly beach, sc\", \"villa rica, ga\", \"brick, nj\", \"weslaco, tx\", \"humboldt, ia\", \"st. augustine, fl\", \"pelham, nh\", \"orlando, fl\", \"concord, ma\", \"hammond, la\", \"chandler, az\", \"holts summit, mo\", \"lometa, tx\", null, \"cape coral, fl\", \"i-95 south, sc\", \"north providence, ri\", \"kennewick, wa\", \"marietta, ga\", \"millersville, pa\", \"orange park, fl\", \"pawleys island, sc\", \"frederick, md\", \"urbana, md\", \"urbana, md\", \"lexington, sc\", \"shelby, oh\", \"shelby, oh\", \"baltimore, md\", \"coventry, ri\", \"pomfret center, ct\", \"maynard, ma\", \"mercer, me\", \"fall river, ma\", \"webster, tx\", \"clifton, nj\", \"bloomfield, nj\", \"medina, tn\", \"carmichael, ca\", \"verona, nj\", \"cranford, nj\", \"mukilteo, wa\", \"lake havasu city, az\", \"dunedin, fl\", \"little chute, wi\", \"stanford, ky\", \"waukegan, il\", \"marietta, ga\", \"hampstead, nh\", \"salem, or\", \"coweta, ok\", \"oakley, ca\", \"oakley, ca\", \"bridgewater, nj\", \"douglasville, ga\", \"wilmington, oh\", \"arlington, ia\", \"jupiter, fl\", \"tucson, az\", \"milwaukie, or\", \"lake st. louis, mo\", \"lake st. louis, mo\", \"pinellas park, fl\", \"moore, ok\", \"oklahoma city, ok\", \"lancaster, pa\", \"royal palm beach, fl\", \"louisville, ky\", \"lafayette, in\", \"sag harbor, ny\", \"missoula, mt\", null, \"ashland, ma\", \"hay market, va\", \"kearneysville, wv\", \"surf city, nc\", \"fredericton (canada), nb\", null, \"troy, mi\", \"port of long beach, ca\", \"cuyahoga falls, oh\", \"pigeon forge, tn\", \"courtenay (canada), bc\", \"orlando, fl\", \"bonney lake, wa\", \"boerne, tx\", \"burns, tn\", \"west haven, ct\", \"lacey, wa\", \"fairfield, ct\", \"bridgewater corners, vt\", \"jackson, mo\", \"nottingham, nh\", \"pampa, tx\", \"tampa, fl\", \"wyoming, mi\", \"parma, oh\", \"deer isle, me\", \"huntsville, al\", \"medford, or\", \"palmyra, ny\", \"ten mile, tn\", \"candler, nc\", \"flagstaff, az\", \"hampton, va\", \"huntington, wv\", \"tomah, wi\", \"littleton (roxborough), co\", \"indian harbour beach, fl\", \"pipe creek, tx\", \"lebanon/centerville, oh\", \"middletown, md\", \"oakland, ca\", \"bridgeport, ct\", \"front royal, va\", null, \"milwaukee, wi\", \"perris, ca\", \"bradford (uk/england), bc\", \"beaver falls, pa\", \"rancho cucamonga, ca\", \"durham, nc\", \"thomaston, ct\", \"pascoag, ri\", \"minneapolis, mn\", \"scottsdale, az\", \"waukegan, il\", \"jackson, ms\", \"notre-dame-de l&#39ile-perrot (canada), qc\", \"mount clemens, mi\", \"mt. orab, oh\", \"napa, ca\", \"west oakland, ca\", \"north topsail beach, nc\", \"albuquerque, nm\", null, \"maricopa, az\", \"salt lake city, ut\", \"escondido, ca\", \"clearlake, ca\", \"lewiston, me\", \"clarksville, tn\", \"clarksville, tn\", \"mt. vernon, oh\", null, \"muskegon, mi\", \"niskayuna, ny\", \"duluth, mn\", \"key largo, fl\", \"west columbia, sc\", \"clearwater, fl\", \"north eastham, ma\", \"north st. paul, mn\", \"raleigh, nc\", \"irvington, ny\", \"morehead, nc\", \"olympia, wa\", \"lahaina, hi\", \"fort dodge, ia\", \"augusta, ga\", \"loris, sc\", \"newton, ma\", null, \"mansfield, oh\", \"springfield, la\", \"houston, tx\", \"oromocto (canada), nb\", \"wasilla, ak\", \"grayson/lawrenceville area, ga\", \"loris, sc\", \"lansdale, pa\", \"show low, az\", \"grants pass, or\", \"keizer, or\", \"vallejo, ca\", \"estrella mountain, az\", \"phoenix, az\", \"marana, az\", \"san antonio, tx\", \"scottsdale, az\", \"medina, oh\", \"langhorne, pa\", \"mayflower, ar\", \"panama city beach, fl\", \"charleston, wv\", \"erie, pa\", \"hubbard, oh\", \"silverhill, al\", \"michicot, in\", \"moore, ok\", \"troy, il\", \"whittier, ca\", \"los angeles, ca\", \"coolidge, az\", \"st. augustine, fl\", \"bonsall, ca\", \"fayettville, nc\", \"vienna, va\", \"raymore/pleasant hill, mo\", \"reno/fernley, nv\", \"dothan, al\", \"san pedro, ca\", \"wadley, al\", \"san diego county, ca\", \"desert center, ca\", \"orting, wa\", \"san angelo, tx\", \"north bergen, nj\", \"great falls, va\", \"fort myers, fl\", \"santa barbara, ca\", \"jupiter, fl\", \"plano, tx\", \"astoria, or\", \"houston, tx\", \"casper, wy\", \"nehalem, or\", \"route 23 north, nj\", \"fair lawn, nj\", \"lorton, va\", \"ferrisburg, vt\", \"austin, tx\", \"falls church, va\", \"goose creek, sc\", \"mobile, al\", \"freeport, tx\", \"bunnell/palm coast, fl\", \"kalispell, mt\", \"la conchita, ca\", \"la conchita, ca\", \"londonderry, nh\", \"winchester, va\", \"port charlotte, fl\", \"denver, pa\", \"minneapolis, mn\", \"longmont, co\", \"poipu, hi\", \"springdale, ar\", \"gassville, ar\", \"high falls, ny\", \"pearland, tx\", \"dublin, oh\", \"waukegan, il\", \"milan, oh\", \"gibsonton, fl\", \"durham, nc\", \"roanoke, va\", \"annandale, va\", \"austell, ga\", \"newton, il\", \"pewaukee, wi\", \"tomball, tx\", null, \"apollo, pa\", \"nottingham, md\", \"phoenixville, pa\", \"antioch, ca\", \"charlotte, nc\", \"warren, mi\", \"cuba, nm\", \"arlington, tx\", \"parsons (east of), ks\", \"stillwater, ok\", \"shoto, wi\", \"santa monica, ca\", \"clearwater, fl\", null, \"boulder (near), co\", \"denver, co\", \"fairmont/morgantown, wv\", \"cleveland (west side of), oh\", \"farmingdale, ny\", \"grayson, ga\", null, \"waikoloa, hi\", \"mccordsville, in\", \"georgia, vt\", \"dobson, nc\", \"mesa, az\", \"inverness, fl\", \"pomfret, ct\", \"inverness, fl\", \"augusta, mo\", \"hanover/weymouth, ma\", \"overland park, ks\", \"gibsonia, pa\", \"mt.pleasant, sc\", \"branford, ct\", \"fairbanks, ak\", \"ralston, ne\", \"severna park, md\", \"leavenworth, ks\", \"eagle mountain, ut\", \"shelby, nc\", \"cape cod, ma\", \"vancouver, wa\", \"crofton, ky\", \"port everglades, fl\", \"phoenix, az\", \"lawrence, ks\", \"indian harbour beach, fl\", \"flomaton, al\", \"falls church, va\", \"los angeles, ca\", null, null, \"evans, ga\", \"oshawa (canada), on\", \"spring hill, tn\", \"abbeville, la\", \"bridgeport, ct\", \"hartland, mi\", \"grovetown, ga\", \"lawton, ok\", \"great falls, mt\", \"phoenix, az\", \"yorktown, va\", \"belton, mo\", \"belton, mo\", \"overland park, ks\", \"orlando, fl\", \"goodyear, az\", \"zim, mn\", \"metairie, la\", \"pelee island (lake erie) (canada), on\", \"fairbanks, ak\", \"anchorage, ak\", \"bemidji, mn\", \"anchorage, ak\", \"brea, ca\", \"dane, wi\", \"reno, nv\", \"west ossipee, nh\", \"chocorua, nh\", \"mukwonago, wi\", \"larsen, wi\", \"birmingham, mi\", \"powell, wy\", \"edmond, ok\", \"covina, ca\", \"hartford, ct\", \"schenectady, ny\", \"arnold, md\", \"wichita, ks\", \"atlanta, ga\", \"west kelowna (canada), bc\", \"new hope, al\", \"midlothian, va\", \"lake ariel, pa\", \"ottawa (canada), on\", \"sherman oaks, ca\", \"indianapolis, in\", \"oklahoma city (near), ok\", \"corpus christi, tx\", \"new hope, pa\", \"pueblo, co\", \"moore, ok\", \"new castle, de\", \"bellingham, wa\", \"franklin, mi\", \"great falls, mt\", \"baltimore, md\", null, \"north huntingdon, pa\", \"rio arriba county, nm\", \"roseburg, or\", \"charlotte, nc\", \"petal, ms\", \"san jose, ca\", \"marion, ma\", \"roseburg, or\", \"denver, co\", \"lakewood, co\", \"henderson, co\", \"la porte, in\", \"boise, id\", \"germantown, oh\", \"garden grove, ca\", \"moncks corner, sc\", \"cartersville, ga\", \"canyon lake, ca\", \"dearing, ga\", \"milwaukee, wi\", null, \"grovetown, ga\", \"new glasgow (canada), ns\", \"north pole, ak\", \"denver, co\", \"acworth, ga\", \"port charlotte/punta gorda, fl\", \"princeton, wv\", \"edmond, ok\", \"meriden, ct\", \"madison, il\", \"pleasantville, ny\", \"gloucester, ma\", \"wakefield, ma\", \"fairlee, vt\", \"daly city, ca\", \"whitman, ma\", \"lakewood, co\", null, \"bushnell, fl\", \"concord, vt\", \"largo, fl\", \"palm harbor, fl\", \"saint petersburg, fl\", \"palm harbor, fl\", \"naples, fl\", \"st. augustine, fl\", \"longmont, co\", \"san francisco, ca\", \"longmont, co\", \"bemidji, mn\", \"boise, id\", \"longmont, co\", \"columbus, oh\", \"springfield, or\", \"madison, wi\", \"west palm beach, fl\", \"ontario, ca\", \"floral city, fl\", \"maricopa, az\", \"sterling, co\", \"sumpter, or\", \"anchorage, ak\", \"purcell, ok\", \"phoenix, az\", \"jacksonville, fl\", \"wellington, fl\", \"miami, fl\", null, \"foreston, mn\", \"austin, tx\", \"ojai, ca\", \"worcester, ma\", \"venice, fl\", \"sacramento, ca\", \"escondido, ca\", null, null, \"aberdeen, nj\", \"danville, vt\", \"sacramento, ca\", \"west kelowna (canada), bc\", \"sagamore hills, oh\", \"fayetteville, nc\", \"warrinhton, pa\", \"ocoee, fl\", \"memphis, tn\", \"lethbridge (canada), ab\", \"marksville, la\", \"laurel, de\", \"morrisville, nc\", \"coupeville, wa\", \"hilo, hi\", \"aventura, fl\", \"san juan capistrano, ca\", \"brunswick, nc\", \"burke, va\", \"port richey, fl\", \"las vegas, nv\", \"miami, fl\", \"minnetonka, mn\", \"winnipeg (canada), mb\", \"port charlotte, fl\", \"kewaunee, wi\", \"san jose, ca\", \"seminole, fl\", \"woodstock, ga\", \"perry, ga\", \"albuquerque, nm\", \"ainsworth, ia\", \"alexandria, va\", \"mitchell, sd\", \"san jacinto, ca\", \"lancaster, ca\", \"runnemede, nj\", \"butler, pa\", \"st. louis, mo\", \"waynesboro, ga\", \"myrtle beach, sc\", \"ames, ia\", \"kihei, hi\", \"east longmeadow, ma\", \"santa rosa, ca\", \"daphne, al\", \"orlando, fl\", \"belmont, nc\", \"anchorage, ak\", \"farmington, mo\", \"bowling green, ky\", \"goodyear, az\", \"methuen, ma\", null, \"stockton, ca\", \"myrtle beach, sc\", \"rio rico, az\", \"north myrtle beach, sc\", \"san anselmo, ca\", \"salt lake city, ut\", \"santa paula, ca\", \"venice, fl\", \"lacey, wa\", \"shallotte (hwy 17), nc\", \"brecksville, oh\", \"langley, wa\", \"seattle, wa\", \"erlanger, ky\", \"corona, ny\", \"manchester, ct\", \"cutler bay or miami, fl\", \"reno, nv\", \"chico, ca\", \"alabaster, al\", \"lakewood ranch, fl\", \"north port, fl\", \"hudsonville, mi\", \"san tan valley, az\", null, \"bushkill, pa\", \"feeding hills, ma\", \"west jordan, ut\", \"tampa, fl\", \"kihei, hi\", \"salem, or\", \"san antonio, tx\", \"portland, or\", \"palacios, tx\", \"seattle, wa\", \"burbank, ca\", \"portland, or\", \"richmond, ca\", \"kernersville, nc\", \"sparks, nv\", \"san tan valley, az\", \"orem, ut\", \"keaton beach, fl\", \"athens, il\", \"aston, pa\", \"clearwater, fl\", \"lillington, nc\", \"arlington, tx\", \"oakley, ca\", \"wheeling, il\", \"orlando, fl\", \"gray court, sc\", \"denver, co\", \"portland, or\", \"titusville, fl\", \"antioch, ca\", \"la mesa, ca\", \"thousand oaks, ca\", \"los angeles, ca\", \"louisville, ky\", \"columbus, nm\", \"myrtle beach, sc\", \"myrtle beach, sc\", \"austin, tx\", \"cincinnati, oh\", \"surrey, bc\", \"san rafael, ca\", \"oakland, ca\", \"san tan valley, az\", \"virginia beach, va\", \"soldotna, ak\", \"farmington, nm\", \"burton, mi\", \"rathdrum, id\", \"springfield, or\", \"tucson, az\", \"tucson, az\", \"jacksonville, fl\", \"north palm beach, fl\", \"sapulpa, ok\", \"strathmore, ab\", \"cape coral, fl\", \"post falls, id\", \"san jose (??), ca\", \"waldorf, md\", \"rexburg, id\", \"marietta, mn\", \"orange, ca\", \"rexburg, id\", \"apache junction, az\", \"layton to farmington, ut\", \"nashville, tn\", \"saint cloud, fl\", \"east brunswick, nj\", \"queen creek, az\", \"wasilla, ak\", \"toledo, wa\", \"kipahulu, hi\", \"anchorage, ak\", \"anchorage, ak\", \"parksville (canada), bc\", \"watsonville, ca\", \"holts summit, mo\", null, \"norwalk, ct\", \"columbia city, in\", \"oceanside, ca\", \"methuen, ma\", null, \"providence &amp; cranston, ri\", \"rock, mi\", \"saratoga, ca\", \"san tan valley, az\", \"southbury, ct\", \"bethel park, pa\", \"caldwell, id\", \"fayetteville, ar\", \"clinton twp, mi\", \"riverdale, ut\", \"montpelier, vt\", \"glendale, az\", \"appleton, wi\", \"boise, id\", \"pullman, wa\", \"kewaskum, wi\", \"seattle, wa\", \"greensboro, nc\", \"selinsgrove, pa\", \"athena, or\", \"boise, id\", \"flint, mi\", \"yuma, az\", \"bristol, ct\", \"albuquerque, nm\", \"rutland, ma\", \"american fork, ut\", \"albuquerque, nm\", \"crestview, fl\", \"lynn, ma\", null, null, \"post falls, id\", \"spring, tx\", \"garden grove, ca\", \"jacksonville, fl\", \"new orleans, la\", \"covington, la\", \"rapid city, sd\", \"valrico, fl\", null, \"slidell, la\", \"mesa, az\", \"vero beach, fl\", \"san diego, ca\", \"austintown, oh\", \"los angeles, ca\", \"portsmouth, oh\", \"miami, fl\", \"st. louis, mo\", \"lancaster, pa\", \"port charlotte, fl\", \"grangeville, id\", \"bear, de\", \"keyport, nj\", \"coral springs, fl\", \"fredericksburg, va\", \"san jose, ca\", \"berlin, wi\", \"calabasas, ca\", \"colorado springs, co\", \"sanford, fl\", \"beaumont, ab\", \"belle, wv\", \"dorset, vt\", \"new port, fl\", \"west jordan, ut\", \"hayward, ca\", \"loveland, co\", \"maricopa (city of), az\", \"mccordsville, in\", \"pigeon forge, tn\", \"yountville, ca\", \"midlothian, va\", \"orlando, fl\", \"orlando, fl\", \"waterdown (canada), on\", \"woonsocket, ri\", \"sacramento, ca\", \"weston, fl\", \"huntington beach, ca\", \"port charlotte, fl\", \"hackettstown, nj\", \"port richey, fl\", \"albuquerque, nm\", \"belmont, nc\", \"beavercreek, oh\", \"saint paul, mn\", \"elgin, il\", \"sacramento, ca\", \"apple valley, mn\", \"bartow county (hwy 20; near wilderness camp rd.), ga\", \"st. louis, mo\", \"little rock, ar\", \"borrego springs (near), ca\", \"puyallup, wa\", \"o&#39fallon, mo\", \"manhattan, ks\", \"st. charles, mo\", \"columbia, mo\", \"alpharetta, ga\", \"monument, co\", \"anchorage, ak\", \"medina, oh\", null, \"columbus, oh\", \"wayne, nj\", \"los angeles, ca\", \"kearns, ut\", \"boynton beach, fl\", \"foley, al\", \"batesville, ms\", \"glen burnie, md\", \"compton, ca\", \"keyser, wv\", \"helena, mt\", \"shrewsbury, ma\", \"marietta, mn\", \"vandalia, il\", \"allentown (east side), pa\", \"marietta, mn\", \"port saint lucie, fl\", \"wellington, co\", \"haverhill, ma\", \"tucson, az\", \"vista, ca\", \"marietta, ga\", \"wrightsville beach, nc\", \"hutchinson, mn\", \"largo, fl\", \"sterling, va\", \"salinas, ca\", \"fallbrook, ca\", \"aiken, sc\", \"missoula, mt\", \"quakertown, pa\", \"santa rosa, ca\", \"rochester, mn\", \"port charlotte, fl\", \"calabash, nc\", \"anaheim hills/yorba linda/imperial blvd close to 91 freeway, ca\", \"corona, sd\", \"indianapolis, in\", \"columbus, oh\", \"zionsville, in\", \"canton, oh\", \"moreno valley, ca\", \"davison, mi\", \"carson city, nv\", \"grosse pointe park, mi\", \"hamilton, nj\", \"providence, ri\", \"rocky mount, va\", \"new bern, nc\", \"cherry hill, nj\", null, \"myrtle beach, sc\", \"myrtle beach, sc\", \"modesto, ca\", \"league city, tx\", \"studio city, ca\", \"st. clair shores, mi\", \"forest hills, pa\", \"los gatos, ca\", \"maywood, ca\", \"orlando, fl\", \"washington, me\", \"monterey bay area, ca\", \"east haddam, ct\", \"lafleche (canada), sk\", \"lancaster, pa\", \"maricopa, az\", \"beaver dam, az\", \"orange heights (near), fl\", \"stateline, nv\", \"kailua kona, hi\", \"price, ut\", \"tequesta, fl\", \"omaha, ne\", \"sarasota, fl\", \"bay saint louis, ms\", \"cleveland, tn\", \"hampton roads, va\", \"greeley, co\", null, \"wellington, fl\", \"jeffersonville, in\", \"port townsend, wa\", \"naples, fl\", \"jacksonville, fl\", \"plain, wa\", \"grand junction, co\", \"woodinville, wa\", \"marco island, fl\", \"brookings, or\", \"san diego, ca\", \"albany (near), ny\", \"san diego, ca\", \"san diego, ca\", \"coloma, mi\", \"los angeles/silver lake, ca\", \"brigham city, ut\", \"ivor, va\", \"chesterfield, va\", null, \"las vegas, nv\", \"brattleboro, vt\", \"altamonte springs, fl\", \"fairbanks, ak\", \"dayton, oh\", \"longwood, fl\", \"taos, nm\", \"in-flight (danver to los angeles), ca\", \"minneapolis, mn\", \"chanhassen, mn\", \"hartford, ct\", \"sebastopol, ca\", \"pacifica, ca\", \"newfane, vt\", \"clarkston, wa\", \"san diego, ca\", \"boynton beach, fl\", \"santa cruz, ca\", \"selah, wa\", \"pleasanton, ca\", \"auburn, ca\", \"bozeman, mt\", \"bridgewater, ma\", \"fallbrook, ca\", \"middleburg, fl\", \"new port richey, fl\", \"denver, co\", \"eagle river, ak\", \"albany, or\", \"elk river, mn\", \"newman lake, wa\", \"la jolla, ca\", \"westport/wadhams, ny\", \"bossier city, la\", \"fort lauderdale, fl\", \"palm beach gardens, fl\", \"portland, or\", \"pukalani, hi\", \"wilmington, nc\", \"north battleford (canada), sk\", \"eugene, or\", \"louisville, ky\", \"palm desert, ca\", \"north seattle, wa\", \"hesperia, ca\", \"tigard (near), or\", \"portland, or\", \"eastvale, ca\", \"santa barbara, ca\", \"mesa, az\", \"aubrey, tx\", \"columbia, sc\", \"hickory, nc\", \"new market, md\", \"saint cloud, fl\", \"tucson, az\", \"boise, id\", \"high point, nc\", \"magna, ut\", \"elko, nv\", \"bozeman, mt\", \"edison, nj\", \"maricopa, az\", \"myrtle beach, sc\", \"south el monte, ca\", \"flemington, nj\", \"cincinnati, oh\", \"fairbanks, ak\", \"huntsville, al\", \"north bay (canada), on\", \"tampa, fl\", \"corvallis, or\", null, \"mt. pleasant, sc\", \"largo, fl\", null, \"stockton, ca\", \"fairborn, oh\", \"pinellas park, fl\", \"sarasota, fl\", \"taylors, sc\", \"bush, la\", \"kihei, hi\", \"las cruces, nm\", null, \"san francisco, ca\", \"san francisco, ca\", \"londonderry, nh\", \"port huron, mi\", \"kaysville, ut\", \"louisville, oh\", \"kennewick, wa\", \"dripping springs, tx\", \"gainesville, fl\", \"kissimme, fl\", \"richmond, va\", \"lehigh acres, fl\", \"lehigh, fl\", \"glen st. mary, fl\", \"lakeland, fl\", \"lake worth, fl\", \"lake worth, fl\", \"pompano beach, fl\", \"lake worth, fl\", \"trinity, fl\", \"bedford, ma\", \"nashua, nh\", \"royal palm beach, fl\", \"laval (canada), qc\", \"burtonsville, md\", \"sebastian, fl\", \"la marque, tx\", \"lehigh acres, fl\", \"arlington, tx\", \"captiva, fl\", \"clermont, fl\", \"tucson, az\", \"talent, or\", \"medford, or\", \"sunerland, ma\", \"raleigh, nc\", \"rocky mount, nc\", \"jacksonville, fl\", \"scott depot, wv\", \"federal way, wa\", \"woodbury, ct\", \"port charlotte, fl\", \"hoffman estates, il\", \"portsmouth, nh\", \"dudley, ma\", \"clearwater beach, fl\", \"clinton, in\", \"tucson, az\", \"tucson, az\", \"washington, mi\", \"martinsville, in\", \"port charlotte, fl\", \"kelso, wa\", \"new washington, oh\", \"valley head, wv\", \"coral gables, fl\", \"elk grove, ca\", \"reno, nv\", \"schenectady, ny\", \"schoharie, ny\", \"simi valley, ca\", \"san antonio, tx\", \"orlando, fl\", \"elkart, in\", \"ketchikan, ak\", \"hope, me\", \"yankton, sd\", \"brooklyn center, mn\", \"davenport, fl\", \"sacramento, ca\", \"turlock, ca\", \"vancouver, wa\", \"portland, me\", \"kaanapali, hi\", null, \"austin, tx\", \"rio chama, nm\", \"port ludlow, wa\", \"leland, nc\", \"tulsa, ok\", \"american fork, ut\", \"boca raton, fl\", \"lake bluff, il\", \"jacksonville, fl\", null, \"athens, ga\", \"laveen, az\", \"mcminnville, tn\", \"hiawatha, ks\", \"solana beach, ca\", \"aiea, hi\", \"marion, nc\", \"port charlotte, fl\", \"wailuku, hi\", \"elgin, il\", \"salt lake city, ut\", \"the colony, tx\", \"unionville, tn\", \"indianapolis, in\", \"jensen beach, fl\", \"la jolla, ca\", \"panama city beach, fl\", \"largo, fl\", \"coral springs, fl\", \"daly city, ca\", \"kingston, ny\", \"portland (southeast of), or\", \"laramie, wy\", \"laguna beach, ca\", \"virginia (northern), va\", \"charleston (james island), sc\", \"hinton (canada), ab\", \"boca raton, fl\", \"johns creek, ga\", \"grand rapids, mi\", \"new ort richey, fl\", \"groton, ma\", \"olympia, wa\", \"temple (canada), nb\", \"miami, fl\", \"rutland, vt\", \"vacaville, ca\", \"bonita springs, fl\", \"lakewood, co\", \"oroville, ca\", \"mertztown, pa\", \"natick, ma\", \"levittown, pa\", \"jacksonville, fl\", \"gilbert, az\", \"garden grove, ca\", \"kelso, wa\", \"scranton, pa\", \"roscoe, il\", \"yuba city, ca\", \"washington, nc\", \"jupiter, fl\", \"napa, ca\", null, \"old bridge, nj\", \"fayetteville, nc\", \"long beach, ca\", \"new york city (brooklyn), ny\", \"remus, mi\", \"tampa, fl\", \"felton, pa\", \"hillsboro, or\", \"satellite beach, fl\", \"henderson, nv\", \"holts summit, mo\", \"sweeny, tx\", \"homosassa, fl\", \"pierre, sd\", \"port orchard, wa\", \"thornton, co\", \"jacksonville, fl\", \"grand forks, nd\", \"benton, ky\", \"bristol, wi\", \"mount vernon, oh\", \"marietta, oh\", \"buffalo, wy\", \"fremont, ca\", \"smithville, tx\", \"springfield, il\", \"gresham, or\", \"edison, nj\", null, \"clifton park, ny\", \"north pole, ak\", \"redondo beach, ca\", \"st. augustine, fl\", \"mobile, al\", \"hagerstown, md\", \"vidor, tx\", \"leland, nc\", \"rohnert park, ca\", \"hobe sound, fl\", \"hobe sound, fl\", \"kissimmee, fl\", \"palm coast, fl\", \"san jose, ca\", \"nixburg, al\", \"puyallup, wa\", \"patterson, ca\", \"albuquerque, nm\", \"glenside, pa\", \"mount vernon, ar\", \"monterey, ca\", \"lake havasu city, az\", \"brewton, al\", \"naples, fl\", \"langford (canada), bc\", \"phoenix, az\", \"ottawa (canada), on\", \"elizabeth, nj\", null, \"coalinga, ca\", \"bedford, ny\", \"hugo, co\", \"charlotte court house, va\", \"roseville, ca\", \"clayton, nc\", \"mason, tn\", \"rockford, il\", \"yankton, sd\", \"weaverville, ca\", \"fairfax, ca\", \"fair oaks, ca\", \"terrebonne, or\", null, \"deer mountain, ut\", \"brimfield, ma\", \"eldridge, ia\", \"los angeles, ca\", \"arcadia, fl\", \"rotonda, fl\", \"sioux falls, sd\", \"oakdale, pa\", \"mount juliet, tn\", \"milwaukie, or\", \"rochester, mn\", \"cedar rapids, ia\", \"seattle, wa\", \"loveland, co\", \"huntington beach, ca\", \"fountain valley, ca\", null, \"canton, oh\", \"milan, ny\", \"santa monica, ca\", \"gun barrel city, tx\", \"portland, me\", \"reno/sparks, nv\", \"north arlington, nj\", \"easthampton, ma\", \"markesan, wi\", \"canoga park, ca\", \"canyon lake, tx\", \"ogden, ut\", \"miami, fl\", \"claremore, ok\", \"springfield, il\", \"fenton, mo\", \"cedar rapids, ia\", null, \"whitefish, mt\", \"dennisport, ma\", \"kennett square, pa\", \"moundville, al\", \"denton, tx\", \"oley, pa\", \"reading/ruscombmanor township, pa\", \"hyannis, ma\", \"fort lauderdale, fl\", \"chesapeake, va\", \"springfield, ma\", \"sedona, az\", \"baltimore, md\", \"nashville, tn\", \"scarborough (canada), on\", \"madison, wi\", null, \"sioux falls (outskirts of), sd\", \"culver city, ca\", \"gibsonville, nc\", \"cape girardeau, mo\", \"old town, me\", \"rock hill, sc\", \"longs, sc\", \"bountiful, ut\", \"funston, ga\", \"vestal, ny\", \"vancouver (canada), bc\", \"keizer, or\", \"burbank, ca\", \"grantsburg, wi\", \"waukesha, wi\", \"wheatland, ia\", \"wheatland, ia\", \"medford, or\", null, null, \"hayward, ca\", \"lincroft, nj\", \"pacoima, ca\", \"sevierville/pigeon forge, tn\", \"parkman, oh\", \"jacksonville, fl\", \"jupiter, fl\", \"townsend, tn\", \"hilliards, pa\", \"napa, ca\", \"metuchen, nj\", \"simpsonville, sc\", null, \"ladson, sc\", \"dryden (canada), on\", \"dekalb, il\", \"pendleton, or\", \"grand junction, co\", \"orem, ut\", \"shallotte, nc\", \"katy, tx\", \"grand junction, co\", \"hana, hi\", \"rockport, ma\", \"redway, ca\", \"fairfax, va\", \"harrison, mt\", \"knoxville, ia\", \"needles, ca\", \"sunrise, fl\", \"elizabeth, nj\", \"burnaby (canada), bc\", \"houston, tx\", \"plainfield, il\", \"gastonia, nc\", \"redwood valley, ca\", \"west palm beach, fl\", \"fort lawn, sc\", \"mcminnville, or\", \"raeford, nc\", \"fort wayne, in\", \"newnan, ga\", \"victoria (canada), bc\", \"knoxville, tn\", \"point of rocks, wy\", \"eugene, or\", \"spokane, wa\", \"virginia beach, va\", \"nashville, tn\", \"grants pass, or\", \"gallatin, tn\", \"pasadena, ca\", \"cotulla, tx\", \"lewisburg, tn\", \"cornersville, tn\", \"connersville, in\", \"north hollywood, ca\", \"lawrenceville, ga\", \"east glastonbury, ct\", \"antioch, ca\", \"crosby, tx\", \"spring grove, il\", \"chillicothe/columbia, mo\", \"ridgeland, ms\", \"arlington heights, il\", \"arlington heights, il\", \"seattle, wa\", \"kingman, az\", \"redondo beach, ca\", \"moultrie, ga\", \"chesapeake, va\", \"los angeles, ca\", \"riverside, ca\", \"bellingham, wa\", \"fairlawn, oh\", \"millersville, pa\", \"rochester, ny\", \"denver, co\", \"fremont, ca\", \"golden valley, mn\", \"louisville, ky\", \"phoenix, az\", \"corydon, in\", \"forest grove, or\", \"chester, tx\", \"crestview hills, ky\", \"rialto, ca\", null, null, \"cut off, la\", \"spokane county, wa\", \"fort wayne, in\", null, \"columbus, ga\", \"montreal (canada), qc\", \"monterey, ca\", \"stillwater, ok\", \"bastrop, tx\", \"media, pa\", \"lexington, sc\", \"north lauderdale, fl\", \"dade city, fl\", \"cascade locks, or\", \"watertown square, ma\", \"tucson, az\", \"chandler, az\", \"north york (canada), on\", \"anderson, sc\", \"olympia, wa\", \"marathon, fl\", \"hercules, ca\", \"lyme, ct\", \"sarasota, fl\", \"huber heights, oh\", \"fredericksburg, va\", \"long lake, mn\", \"pittsfield, ma\", null, \"germantown, oh\", \"sicklerville, nj\", \"las vegas, nv\", \"dallas-fort worth, tx\", \"citrus heights, ca\", \"lake zurich, il\", \"clarksburg, wv\", \"hillsboro, or\", \"dallas, tx\", \"hood river, or\", \"lewisville, tx\", \"oviedo/winter springs, fl\", \"duanesburg, ny\", \"buffalo, ny\", \"west palm beach, fl\", \"beaumont/cherry valley, ca\", \"piscataquis co. (t9 r11 wels), me\", null, \"vallejo, ca\", \"san diego, ca\", \"pocono lake, pa\", \"eastvale, ca\", \"midlothian, va\", \"grand canyon, az\", \"phillips, wi\", \"whittier, ca\", \"la mirada, ca\", \"greenville, sc\", \"redondo beach, ca\", \"glendale, az\", \"st. louis, mo\", \"palmer, ak\", \"bakersfield, ca\", \"pasadena, ca\", \"florence, sc\", \"marion, in\", \"addison, il\", \"wilkes-barre, pa\", \"pigeon forge, tn\", \"rockwood, mi\", \"poughkkepsie, ny\", \"guilford, ct\", \"fresno, ca\", \"oregon city, or\", \"columbus, oh\", \"mckinney, tx\", \"mckinney, tx\", \"las vegas, nv\", \"eugene, or\", \"frostburg, md\", \"tampa, fl\", \"east stroudsburg, pa\", \"liverpool, ny\", \"woodville, tx\", \"augusta, ga\", \"south lake buena vista, fl\", \"las vegas, nv\", \"florence, sc\", \"kearney/lexington, ne\", \"arlington, tx\", \"columbia, mo\", \"brawley, ca\", \"new york city (bronx), ny\", \"solebury, pa\", \"porterville, ca\", \"oakley, ca\", \"raleigh, nc\", \"wichita falls, tx\", \"raleigh/durham, nc\", \"hampton, va\", \"rohnert park, ca\", \"smithfield, nc\", \"tequesta, fl\", \"santa ana, ca\", \"dunn, nc\", \"nampa, id\", \"bellingham, wa\", \"san diego, ca\", \"reno, nv\", \"carmichael, ca\", \"santa fe, nm\", \"charleston, sc\", \"cottonwood, ca\", \"wichita falls, tx\", \"fort hunter liggett, ca\", \"ucon, id\", null, \"wilmington, nc\", \"houma, la\", \"lancaster, ma\", \"santa cruz, ca\", \"sylacauga, al\", \"pittsburg, ca\", \"apple valley, ca\", \"cape coral, fl\", \"charlotte, nc\", \"gill, ma\", \"conover, nc\", \"whitney, tx\", \"nashua, nh\", \"remsen, ny\", \"ocean city, nj\", \"santa fe, nm\", \"providence, ri\", \"spokane valley, wa\", \"venice, la\", \"merrimack, nh\", \"blossvale, ny\", \"plainfield, il\", \"williston, vt\", \"south burlington, vt\", \"bethel, vt\", \"east barre, vt\", \"skowhegan, me\", \"montpelier, vt\", \"scappoose, or\", \"ladson, sc\", \"placerville, ca\", \"dunnville (canada), on\", \"miami, fl\", \"nashville, tn\", \"plainfield, il\", \"rio hondo, tx\", \"bellevue, wa\", \"saucier, ms\", \"victoria (canada), bc\", \"paradise, mt\", \"knoxville, tn\", \"city of industry, ca\", \"lompoc, ca\", \"alleouz (near greene isle park&#44 facing bellevue st), wi\", \"jacksonville, fl\", \"edmonds, wa\", \"longwood, fl\", \"chicago, il\", null, \"decatur, ga\", \"boulder, co\", \"pasadena, md\", \"downey, ca\", \"columbia, sc\", \"rocklin, ca\", \"hana, hi\", \"lithia, fl\", \"pacifica, ca\", \"seattle, wa\", \"tacoma, wa\", \"west springfield, ma\", \"glendale, ca\", \"oak bay (canada), nb\", \"oak bay (canada), nb\", null, \"pacific ocean (near huntington beach), ca\", \"redondo beach, ca\", \"lakeside, or\", \"new washington, oh\", \"leesburg, ga\", \"honolulu, hi\", \"maricopa, az\", \"tuscaloosa, al\", \"maricopa, az\", \"corona, ca\", \"ormond beach, fl\", \"portland, or\", \"richmond, va\", \"annapolis basin (canada), ns\", \"millican, tx\", \"maitland, fl\", null, \"lake jackson, tx\", \"china spring, tx\", \"wichita falls, tx\", null, \"houston, tx\", \"palmer, ak\", \"el centro, ca\", \"vernon (canada), bc\", \"virginia beach, va\", \"dublin, oh\", \"charleston, wv\", \"scottsdale, az\", null, \"phoenix, az\", \"la ronge (canada), sk\", \"salt lake city, tx\", \"yelm, wa\", \"natchez, ms\", \"bethlem, pa\", \"pensacola, fl\", \"port orange, fl\", \"huffman, tx\", \"greer, sc\", \"florien, la\", \"tucson, az\", \"kentfield, ca\", \"san francisco, ca\", \"ellington, ct\", \"etiwanda, ca\", \"gurnee, il\", \"merced, ca\", \"albuquerque, nm\", \"santa fe, nm\", \"louisville, ky\", \"mt. pleasant, sc\", null, null, \"branford, ct\", \"dallas, tx\", \"midvale, ut\", \"tucson, az\", \"garden grove, ca\", \"arcadia, ia\", \"fond du lac, wi\", \"grand terrace, ca\", \"maui, hi\", null, \"clinton, tn\", \"eureka, ca\", \"panther, wv\", \"montoursville, pa\", \"woodstock, ga\", \"alabaster, al\", \"cape coral, fl\", \"dyersburg, tn\", null, \"cedar city, ut\", \"eugene, or\", \"avondale, az\", \"old orchard beach, me\", \"gloucester, ma\", \"north bay (canada), on\", \"north pole, ak\", \"knoxville, tn\", \"pembine, wi\", \"washington&#44 d.c., dc\", \"lone grove, tx\", \"oshawa (canada), on\", \"oswego, ny\", \"bradenton/sarasota, fl\", \"cumming, ga\", \"belmont, nc\", \"gilbert, ar\", null, \"lehigh acres/fort myers, fl\", \"wasilla, ak\", \"wasilla, ak\", \"st. louis park, mn\", \"escondido, ca\", \"cranston, ri\", \"sydney (canada), ns\", \"gulf shores, al\", \"indiahoma, ok\", \"austin, tx\", \"henderson, co\", \"portland, or\", \"tampa, fl\", \"marysville, wa\", \"wanamie (newport twp.), pa\", \"colorado springs, co\", \"inola, ok\", \"cedar hill, tx\", \"new paltz, ny\", \"north olmsted, oh\", \"petaluma, ca\", \"bridgewater, ma\", \"shelby, ia\", \"park city, ut\", \"round mountain, tx\", \"montreal (canada), qc\", \"borrego, ca\", \"new orleans, la\", \"durham, ca\", \"bellingham, wa\", \"bremerton, wa\", \"naples, fl\", \"albany, or\", null, \"fort meyers, fl\", \"carlsbad, ca\", \"mooresville, nc\", \"orlando, fl\", \"englewood, fl\", \"mt. pleasant, sc\", \"brandon, ms\", \"ogilvie, mn\", \"princeton, mn\", \"montrose, co\", \"montrose, co\", \"akron, oh\", \"san jose, ca\", \"sudbury, ma\", \"debary, fl\", \"los angeles, ca\", \"brandon, fl\", \"edwardsville, il\", \"edwardsville, il\", \"cameron park, ca\", \"seattle, wa\", \"hartly, de\", \"alhambra, ca\", \"madison, wi\", \"watervliet, mi\", \"xenia (west of), oh\", \"solon, me\", \"meriden, ct\", \"alexandria, va\", \"staten island, ny\", \"millsboro, de\", \"nashua, nh\", \"groton, ma\", \"toms river, nj\", \"belair, md\", \"dayton, nj\", \"duxbury, ma\", \"citrus heights, ca\", \"richmond, va\", \"mason, oh\", \"akron (ellet), oh\", \"yakima, wa\", null, \"ithaca, ny\", \"ridge mountain elkins, wv\", \"san jose, ca\", \"longwood, fl\", \"anthony, ks\", \"spring, tx\", \"seattle, wa\", \"westminster, ca\", \"ottawa (canada), on\", \"trumbull, ct\", \"pittsburgh, pa\", \"plant city, fl\", \"springdale, ar\", \"williamsburg, va\", \"tavares, fl\", \"peoria, az\", \"tempe, az\", \"waldorf, md\", null, \"cape coral, fl\", \"camden, me\", \"bangor, me\", \"north port, fl\", null, \"santa fe, nm\", \"lake oswego, or\", \"cocoa, fl\", \"el centro, ca\", \"southington, ct\", \"port moody (canada), bc\", \"essex, ma\", null, \"canton, oh\", \"maple ridge (canada), bc\", \"buhl, id\", \"gulf shores, al\", \"columbia, tn\", \"chicago, il\", \"kelso, wa\", \"lehigh acres, fl\", \"lincolnton, nc\", \"lincoln city, or\", \"ambler, pa\", \"thornton, co\", \"dayton, oh\", \"studio city, ca\", \"blaine, mn\", \"woodland park, nj\", \"monroe, mi\", \"antioch, ca\", \"marion, ia\", \"marion, ia\", \"kellyton, al\", \"gainsvile, fl\", \"maricopa, az\", \"york, pa\", \"greenbrier, ar\", \"avon/rushford, ny\", \"gainesville, fl\", \"jacksonville beach, fl\", \"rochester, mn\", \"chesapeake, va\", \"phoenix, az\", \"lexington, ky\", \"yonkers, ny\", \"yonkers, ny\", \"san mateo, ca\", \"worcester, ma\", \"san jose, ca\", \"porter ranch, ca\", \"phoenix, az\", \"dorchester, ma\", \"los angeles, ca\", \"san diego, ca\", \"everett, wa\", \"miami, fl\", \"charlottesville, va\", \"north kingstown, ri\", \"azusa, ca\", \"lakewood, wa\", \"melborune, fl\", \"tyler, tx\", \"phoenix, az\", \"canajoharie, ny\", \"elgin, il\", \"elgin, il\", \"aurora, co\", \"bay city, mi\", \"navarre, fl\", \"pickerington, oh\", \"dorchester, ma\", \"ionia, mi\", \"palmyra, pa\", null, \"clearfield, ut\", \"corona, ca\", \"muncie, in\", \"irvine, ca\", \"jackson, mi\", \"fair oaks, ca\", \"fort bragg, ca\", \"sahuarita, az\", \"kankakee, il\", \"springfield, mo\", \"seattle, wa\", \"orange, tx\", \"fair oaks, ca\", \"mesa, az\", \"culpeper, va\", \"medford, ma\", \"bethel, ak\", \"hillsboro, or\", \"hillsboro, or\", \"malibu, ca\", \"san pedro, ca\", \"zion, il\", \"whately, ma\", \"cranston, ri\", \"san leandro, ca\", \"bullhead city, az\", \"sunset, ut\", \"harrison, mt\", \"auburn, ma\", \"houston, tx\", \"kenner, la\", \"westfield, ma\", \"indiana (no idea), in\", \"las vegas (outside of), nv\", \"guelph (canada), on\", \"edmonton (canada), ab\", \"bakersfield, ca\", \"berkley, nj\", \"normal, il\", \"normal, il\", null, \"walworth, ny\", \"mesquite, nv\", \"milton (canada), on\", \"duluth, ga\", null, \"katy, tx\", \"pueblo, co\", null, \"st. petersburg, fl\", \"eugene, or\", \"henrietta, ny\", null, \"mineral city, oh\", \"wenatchee, wa\", \"limon, co\", \"rockmart, ga\", \"brookside, al\", \"alamosa, co\", null, null, \"citrus heights, ca\", \"bellingham, wa\", \"pittsburg, ks\", null, \"independence, ky\", \"caniste, ny\", \"snoqualmie, wa\", \"albuquerque, nm\", \"aurora, il\", \"spokane, wa\", \"alliance, oh\", \"akron, oh\", \"fairview, or\", \"ventura, ca\", \"columbus, oh\", \"mansfield, oh\", \"seattle, wa\", \"coeur d&#39alene, id\", \"coeur d&#39alene, id\", \"hartford, ct\", \"fairfax, va\", \"lancaster, oh\", \"lancaster, oh\", \"dumfries, va\", \"syracuse, ny\", \"providence, ri\", \"fayetteville, wv\", \"gilbert, az\", \"redondo beach, ca\", \"bowling green, oh\", \"cullman, al\", \"portland, or\", \"greensburg, pa\", \"benicia, ca\", \"long beach, ca\", \"portland, or\", \"riverside, ca\", \"charlotte, nc\", \"yucaipa, ca\", \"merced, ca\", \"lebanon, pa\", \"lebanon, pa\", \"thibodaux, la\", \"winchester, va\", \"medford, ma\", \"seattle, wa\", \"clearwater, fl\", \"redlands, ca\", null, \"burbank, ca\", \"torrance, ca\", \"highlands ranch, co\", \"san francisco, ca\", \"north huntingdon, pa\", \"deerfield &amp; utica, ny\", \"bethany, ok\", \"watauga, tx\", \"plymouth, ma\", \"colorado springs, co\", \"wilmington, nc\", \"san diego, ca\", \"san jose, ca\", \"san jose, ca\", \"eugene, or\", \"clermont, fl\", \"brookston, in\", \"fife, wa\", \"elizabethtown, ky\", \"forest hills (queens), ny\", \"moncks corner, sc\", \"reading, pa\", \"augusta, ga\", \"boston, ma\", \"front royal, va\", null, \"fernley, nv\", \"provo, ut\", \"sacramento, ca\", \"ruskin, fl\", \"provo, ut\", \"warr acres, ok\", \"colorado springs, co\", \"livermore, ca\", \"austin, tx\", \"webster city, ia\", \"charlotte, nc\", \"nashville, tn\", \"nashville, tn\", \"bourbonnais, il\", \"norfolk, va\", \"holmen, wi\", \"kenmore, wa\", null, \"garland, tx\", \"albuquerque, nm\", \"paragon, in\", \"carney, md\", \"wilbraham, ma\", \"centreville, va\", \"edgewater, fl\", \"los angeles, ca\", \"new castle, pa\", \"chicago, il\", \"winona, mn\", \"harrison twp., mi\", \"kingston, ny\", \"new castle, pa\", \"hayes, va\", \"norwalk, ct\", \"imperial beach, ca\", \"oak forest, il\", \"rockledge, pa\", \"wasaga beach (canada), on\", \"oaks, pa\", \"hudson falls, ny\", \"oxford, oh\", \"colorado springs, co\", \"arlington, tx\", \"port alberni (canada), bc\", \"corbin, ky\", \"jal, nm\", null, null, \"gastonia, nc\", \"thomasville, nc\", null, \"greenwood (canada), ns\", \"buffalo, mn\", \"everett, wa\", \"albion, in\", null, \"ramsey, mn\", \"johnsonville, ny\", \"burlington (canada), on\", null, \"louisville, oh\", \"amston (hebron), ct\", \"las vegas, nv\", \"ventura/oxnard, ca\", \"placerville, ca\", \"clayton, id\", \"kahlotus, wa\", \"minnetonka, mn\", \"townsend, mt\", \"bartlett, il\", \"ventura, ca\", \"little falls, nj\", null, \"surry, va\", \"brownsville, pa\", \"brick, nj\", \"stuarts draft, va\", \"parker, az\", \"litchfield park, az\", \"exeter, ri\", \"prescott/prescott valley, az\", \"potosi, wi\", \"chatham, il\", \"ludlow, ok\", \"west liberty, ky\", null, \"santa monica, ca\", \"rte 9, me\", \"new durham, nh\", \"austin, tx\", \"los feliz (canada), bc\", \"bay point, ca\", \"west valley, ut\", \"allendorf, ia\", \"new york city, ny\", \"new albany, in\", \"hercules, ca\", \"oceanside, ca\", \"cardiff, ca\", \"avon, oh\", \"vernon hills, il\", \"hoffman estates, il\", \"newbury park, ca\", \"springfield, or\", \"shady side, md\", \"bartlett, nh\", \"northville, mi\", \"mesa, az\", \"murfreesboro, tn\", \"las cruces, nm\", \"tracy, ca\", \"palm springs, ca\", \"mandeville, la\", \"barnstable, ma\", \"chandler, az\", \"deerfield, ma\", \"albuquerque, nm\", \"clinton township, mi\", \"kekaha, hi\", \"kekaha, hi\", \"boston, ma\", \"new york city (brooklyn), ny\", \"hector, mn\", \"attica, mi\", null, \"multiple, ma\", \"monroe twp, nj\", \"mineral wells, wv\", \"chapel hill, nc\", \"pacific grove, ca\", \"saint petersburg, fl\", \"fort defiance (navajo nation), az\", \"eagle river, wi\", \"conway, sc\", \"fresno, ca\", \"boulder, co\", \"naughton (canada), on\", \"phoenix, az\", \"salem, or\", \"elk grove, ca\", \"litchfield, me\", \"superior, az\", \"memphis, tn\", \"arlington heights, il\", \"toledo, or\", \"lihue, hi\", \"grand rapids, mi\", \"pearl river, la\", \"exeter, ne\", \"ypsilanti, mi\", \"babson park, fl\", \"london, ky\", \"south fulton, tn\", \"chesaprake, va\", \"lexington, nc\", \"clinton, ny\", \"stillwater, ok\", \"rochester, wa\", \"manchester, nj\", \"elk county, ks\", \"monroe, wa\", \"macungie, pa\", null, \"glendale, az\", \"medford, or\", \"briggsville, ar\", \"hillsboro, or\", \"grainfield, ks\", \"carolina beach, nc\", \"carolina beach, nc\", \"forsyth, mo\", \"mondamin, ia\", \"franklin, wi\", \"bexley, oh\", \"indianapolis, in\", \"albuquerque, nm\", \"foley/elberta, al\", \"cherry grove, sc\", \"conway, ar\", \"acton, me\", \"chattanooga, tn\", \"hayden, id\", \"leonardo, nj\", \"prescott valley, az\", \"weston, fl\", \"escondido, ca\", \"olalla, wa\", \"phoenix, az\", \"englewood, co\", \"quincy, ma\", \"salaberry de valleyfield (canada), qc\", \"scappoose, or\", \"lake oswego, or\", \"birmingham, al\", \"beverly, ma\", \"tucson, az\", \"minnetonka, mn\", \"myrtle beach, sc\", \"orlando, fl\", \"cornelius, or\", \"matamoras, pa\", \"lynchburg, va\", \"toledo, oh\", \"blaine, mn\", \"orem, ut\", \"boise, id\", \"austin, tx\", \"prattville, al\", \"prattville, al\", \"lacey, wa\", \"lacey, wa\", \"scappoose, or\", \"conway, sc\", \"bandera, tx\", \"lexington, sc\", \"kelso, wa\", \"snyder, tx\", \"alloway, nj\", \"ocean isle beach, nc\", \"talahassee, fl\", \"lake wales, fl\", null, \"allentown, pa\", \"temecula, ca\", \"crown point, in\", \"selleck, wa\", \"plano, il\", \"cobourg (canada), on\", \"edmond, ok\", \"fairfax station, va\", \"sicklerville, nj\", \"sewell, nj\", \"pittsburgh, pa\", \"modesto, ca\", \"new britian, ct\", \"minneapolis, mn\", \"apopka, fl\", null, \"caldwell, id\", \"albuquerque, nm\", \"fresno, ca\", \"largo, md\", \"safford, az\", \"lake wales, fl\", \"albuquerque, nm\", \"bayonne, nj\", \"chattanooga, tn\", \"saint petersburg, fl\", \"grants pass, or\", \"albuquerque, nm\", \"englewood, fl\", \"wakarusa, in\", \"cedar rapids, ia\", \"sunnyvale, ca\", \"sunnyvale, ca\", \"irvine, ca\", \"st. francis, mn\", null, \"santa fe, nm\", null, \"san antonio, tx\", \"davenport, fl\", \"oxford, ms\", \"mercey hot springs/firebaugh, ca\", \"viola, ks\", \"kuna, id\", \"batavia, il\", \"cambridge, mn\", \"culver city, ca\", \"goldendale, wa\", \"smithton, mo\", \"bastrop, tx\", \"carteret, nj\", \"carteret, nj\", \"new baltimore, mi\", \"northampton, ma\", \"medford, ma\", \"hillsboro, or\", null, \"ridgecrest, ca\", \"centerville, oh\", \"lancaster, ny\", \"seattle, wa\", \"cherryvale, ks\", \"red wing, mn\", \"indianapolis, in\", \"oceanside, ca\", \"fowlerton, tx\", \"las vegas, nv\", \"westover, md\", \"jarrettsville, md\", \"sandy/draper, ut\", \"simi valley, ca\", \"fort lauderdale, fl\", \"hilmar, ca\", \"kitty hawk, nc\", \"pittsburgh, pa\", \"rock springs, wy\", \"spartanburg, sc\", null, \"ft. worth, tx\", \"houston, tx\", \"panama city beach, fl\", \"albuquerque, nm\", \"mesa, az\", \"corydon, in\", \"casselberry, fl\", \"greenville, sc\", \"huntington beach, ca\", \"patten, me\", \"floyd, va\", \"austin, tx\", \"pittsburgh (in south hills area), pa\", \"fredericksburg, va\", \"lebanon, pa\", \"redwood city, ca\", \"round lake, il\", \"honesdale, pa\", \"brampton (canada), on\", \"pittsburgh, pa\", \"rockport, ma\", \"slidell, la\", \"charleston, sc\", \"dawsonville, ga\", \"minneapolis (northeast of), mn\", \"ocala, fl\", \"sequim, wa\", \"williamsport, md\", \"plantation, fl\", \"la puente, ca\", \"stanardsville, va\", \"indiana, in\", \"port clinton, oh\", \"pullman, wa\", \"columbia, tn\", null, \"hendersville, tn\", \"clarkston, wa\", \"fairfield, ca\", \"springfield, ma\", null, \"nisku (canada), ab\", \"burnsville, nc\", \"smith center/lebanon (between), ks\", null, \"east dennis, ma\", \"indian wells, ca\", \"chillicothe, oh\", \"st. louis, mo\", \"santa barbara, ca\", \"san francisco, ca\", \"columbus, oh\", \"columbia, pa\", \"los alamitos/cypress, ca\", \"redwood city, ca\", \"lumberton, nj\", \"corpus christi, tx\", \"norwalk, ca\", \"new haven, ct\", \"winston, or\", \"des moines, ia\", \"st. george (northwest of), ut\", \"appleton, wi\", \"huntsville, al\", \"stamford, ct\", \"steamboat springs, co\", \"los angeles, ca\", \"dugway, ut\", \"frisco, co\", \"payette, id\", \"henderson, co\", \"chandler, az\", \"miami, fl\", \"bandon, or\", \"wallingford, ct\", \"orlando, fl\", \"granite bay, ca\", \"bandon, or\", \"south gate, ca\", \"bolivar, oh\", \"ainsworth, ia\", \"flagstaff, az\", \"lake michigan (over), mi\", \"phoenix, az\", \"irvine, ca\", \"denver, co\", \"frankfort, il\", \"ridgewood (queens), ny\", \"covington, pa\", \"rockville, md\", \"stillwater, ok\", \"collegeville, ca\", \"grass valley, ca\", \"new york city (manhattan), ny\", \"new haven, ct\", \"dacula, ga\", \"elmont, ny\", \"merrimack, nh\", \"sauk city, wi\", \"essex junction, vt\", \"towanda, il\", \"grand blanc, mi\", \"toledo, oh\", \"spokane, wa\", \"joliet, il\", \"san francisco, ca\", \"dedham, ma\", \"salem, or\", \"brunswick, oh\", \"greenville, sc\", \"arches national park, ut\", \"san diego, ca\", \"rockford, il\", \"area 51 (general area; in flight), az\", \"owensboro, ky\", \"northfield, nj\", \"plant city, fl\", \"oxnard, ca\", \"california, mo\", \"portland, or\", \"san diego, ca\", \"columbus, oh\", \"scarborough (canada), on\", \"fremont county, co\", \"charlotte, nc\", \"highland mills, ny\", \"parkersburg, wv\", \"princeton, wv\", \"franklin, tn\", \"reidsville, nc\", \"tulsa, ok\", \"florence, mt\", \"concord, nc\", \"captiva, fl\", \"greenville county, sc\", \"chester, sc\", \"fresno, ca\", \"denver, co\", \"yuma, az\", \"scott depot, wv\", \"dandridge, tn\", \"captiva, fl\", \"greenwood, ar\", \"santa fe, nm\", \"monticello, mn\", \"peoria, az\", \"springfield, mo\", \"mashpee, ma\", \"richmond, va\", \"richmond, ky\", \"pala, ca\", \"highlands ranch, co\", \"honolulu, hi\", null, \"clovis, ca\", \"saint peters, mo\", \"chicago, il\", \"clermont, fl\", \"ogden, ut\", \"kihei, hi\", \"mcminnville, or\", \"wantagh, ny\", \"glen cove, ny\", \"wytheville, va\", \"bellport, ny\", \"johnson city, tn\", \"colorado springs, co\", \"macomb township, mi\", \"hamburg, pa\", \"neenah, wi\", \"burlington (canada), on\", \"luray, va\", \"provincetown, ma\", \"murrysville, pa\", \"dallas, tx\", \"bradenville, pa\", null, \"north hollywood, ca\", \"bellingham, wa\", \"moore, ok\", \"moore, ok\", \"chesterton, in\", \"south yarmouth, ma\", \"virginia beach, va\", \"elmhurst, il\", \"colchester to essex, vt\", \"west sacramento, ca\", \"salem, or\", \"summerfield, nc\", \"beeton (canada), on\", \"evansville, in\", \"puyallup, wa\", \"shawano, wi\", \"hawley, pa\", \"oakley, ca\", \"paso robles, ca\", \"eddington, me\", \"burgaw, nc\", \"surprise, az\", \"orlando, fl\", \"carol stream, il\", \"columbus, oh\", \"lakeside, or\", \"south palm beach, fl\", \"toronto (canada), on\", \"coboconk (canada), on\", \"new york city (glen oaks/littleneck area&#44 queens), ny\", \"ladysmith, va\", \"union, me\", \"jacksonville, fl\", \"fall river mills, ca\", \"oceanside, ca\", \"delray beach, fl\", \"athens, al\", \"corunna (canada), on\", \"oshawa (canada), on\", \"port washington, ny\", \"lynbrook (long island), ny\", \"hoboken, nj\", \"cumming, ga\", \"germantown, wi\", \"olympia, wa\", \"virginia beach, va\", \"whitney, tx\", \"fort dodge, ia\", \"littleton, co\", \"gillette, wy\", \"hobart, in\", \"honolulu, hi\", null, null, \"hayward, ca\", \"sherman, tx\", \"pittsburg, co\", \"sacramento, ca\", \"imperial, mo\", \"lubbock, tx\", \"lubbock, tx\", \"hanalei beach, hi\", \"everglades turnpike south, fl\", null, \"grapevine, tx\", \"goshen, ny\", \"euless, tx\", \"canon city, co\", \"morrisville, vt\", \"los angeles, ca\", \"bomoseen, vt\", \"cross lanes, wv\", null, \"columbus, ga\", \"twin falls, id\", \"wittenberg, wi\", \"palm desert, ca\", \"plant city, fl\", \"orlando, fl\", \"eagan, mn\", \"luverne (near), al\", \"sandy springs, ga\", \"spring hill, fl\", \"palm bay, fl\", \"madison, wi\", \"midlothian, il\", \"santa barbara, ca\", \"capitol heights, md\", \"gatineau (canada), qc\", \"dover, de\", \"plainfield, il\", \"folly beach, sc\", \"north east, pa\", \"charlotte, tn\", \"new westminster (canada), bc\", \"purcell, ok\", \"borrego springs, ca\", \"convoy, oh\", \"el paso, tx\", \"hazelwood, mo\", \"porter, tx\", \"covington, la\", \"hattiesburg, ms\", \"tucson, az\", \"virginia beach, va\", \"portville, ny\", \"redford, mi\", \"butte, mt\", \"raleigh, nc\", \"youngsville, nc\", null, \"springfield, oh\", \"youngstown, oh\", \"rockvale, tn\", \"lake shasta, ca\", \"apopka, fl\", \"perham, mn\", \"orange, ca\", \"sacramento, ca\", \"okauchee, wi\", \"peoria, az\", \"portsmouth, va\", \"kent, wa\", \"seymour, ct\", \"seymour, ct\", \"jacksonville, nc\", \"orlando, fl\", \"dayton, oh\", \"lombard, il\", \"tyrone, pa\", \"west babylon, ny\", \"conneaut lake, pa\", \"macungie, pa\", \"southampton, pa\", \"indian shores, fl\", \"lisbon, md\", \"rochester, ny\", \"saint petersburg, fl\", \"saint petersburg, fl\", \"welland (canada), on\", \"ashley, pa\", \"golden, co\", \"anderson, sc\", \"frankfort, mi\", \"green island, ny\", \"old lyme, ct\", \"panama city beach, fl\", \"wedowee, al\", \"wedowee, al\", \"woodstock, ga\", \"galveston, tx\", \"mundelein, il\", \"orem, ut\", \"deltona, fl\", \"elyria, oh\", \"kalamazoo, mi\", \"hudsonville, mi\", \"new orleans, la\", \"harsens island, mi\", \"novi, mi\", \"st. george (canada), nb\", \"novi, mi\", \"sullivan city, tx\", \"fairfax, va\", \"long island city, ny\", \"houghton, mi\", \"wildwood, nj\", \"west new york, nj\", \"stanton, ky\", \"phoenix (near), az\", \"cumming, ga\", \"porterville, ca\", \"fort myers beach, fl\", \"torrington, ct\", \"allentown, pa\", \"middletown, ct\", \"castle rock, co\", \"north tonawanda, ny\", \"leesburg, va\", \"port neches, tx\", \"thunder bay (canada), on\", null, \"orlando, fl\", \"franklin, ga\", \"moorpark, ca\", \"fayetteville, ga\", \"fayetteville, ga\", \"bridgman, mi\", \"kewaunee, wi\", \"nashville, tn\", \"appleton, wi\", \"la mirada, ca\", \"chino hills, ca\", \"chaptico, md\", \"glen head, ny\", \"lillington, nc\", \"east bethel, mn\", \"high point, nc\", \"millers, md\", \"moore, ok\", \"zion, il\", \"cody, wy\", \"gilbert, az\", \"san francisco, ca\", \"annville, pa\", \"gilbertville, ma\", \"atlanta, ga\", \"sacramento, ca\", \"foley, al\", \"topsail island, nc\", \"white marsh, md\", \"parkville/fullerton, md\", \"ottawa (canada), on\", \"nottingham, md\", \"nottingham, md\", \"point richmond, ca\", \"tunkhannock (lake carey), pa\", \"hawaii volcano national park, hi\", \"portland, or\", \"shade, oh\", \"charleston, wv\", \"marion, in\", \"cleveland, oh\", \"henderson, nv\", \"green island, ny\", \"green bay, wi\", \"plant city, fl\", null, \"duncannon, pa\", \"sacramento, ca\", \"spartanburg, sc\", \"cassadaga, ny\", \"lebanon, pa\", \"appling, ga\", \"fresno, ca\", \"gastonia, nc\", \"austin, tx\", \"hudson bend, tx\", \"waconia, mn\", \"vancouver, wa\", \"los banos (near; on interstate 5), ca\", \"northport, ny\", \"kingston (canada), on\", null, \"versailles, ky\", \"tracy, ca\", \"santa maria, ca\", \"seattle, wa\", \"venice, ca\", \"barre, vt\", \"richmond, va\", \"west jordan, ut\", \"taunton, ma\", \"medford, ny\", \"hiawatha/cedar rapids, ia\", \"exton, pa\", \"furlong, pa\", \"riverton, ut\", \"riverton, ut\", \"simpsonville, ky\", \"huntington beach, ca\", \"fredericksburg, va\", \"burlington, wa\", \"san tan valley, az\", \"elverson, pa\", \"mission viejo, ca\", \"belchertown, ma\", \"marina del rey, ca\", \"idaho falls, id\", \"bremerton, wa\", \"reno, nv\", \"hooksett, nh\", \"lyons, ks\", null, \"ithaca, ny\", \"windham, me\", \"florissant, mo\", \"manchester, nh\", \"furlong, pa\", \"aloha, or\", \"brunswick, oh\", \"mcelhattan, pa\", \"sacramento, ca\", \"sycamore, il\", \"aurora, or\", \"baldwinsville, ny\", \"joliet, il\", \"williamsville, ny\", \"austin, tx\", null, \"newport, or\", \"eagle, id\", \"greenwood, in\", \"london (canada), on\", \"london (canada), on\", \"montgomery, tx\", \"o&#39fallon, il\", \"portland, or\", \"boynton beach, fl\", \"grand rapids, mi\", \"huntington beach, ca\", \"laveen, az\", \"molega north (canada), ns\", \"coos bay, or\", \"austin, tx\", \"big bay, mi\", \"midlothian, il\", \"rio verde, az\", \"la crosse, wi\", \"regina (canada), sk\", \"sacramento, ca\", \"pittsfield, ma\", \"danvers, ma\", \"west miami, fl\", \"lafayette, la\", \"hollywood, fl\", \"wylie, tx\", \"auburn, wa\", \"austin, tx\", \"aylmer gatineau (canada), qc\", \"corralitos, ca\", \"west haven, ut\", \"portland, or\", \"yukon, ok\", \"princeton, tx\", null, \"orlando, fl\", \"florence, sc\", \"gardner, ma\", \"st. albans, vt\", \"cresco, ia\", \"federal way, wa\", null, \"san francisco, ca\", \"santee, ca\", \"pell city, al\", \"three-points, az\", \"villa ridge, mo\", \"coatesville, pa\", \"country club hills, il\", \"st. cloud, mn\", \"branford, ct\", \"lima, oh\", \"springfield, il\", \"winnipeg (canada), mb\", \"boulder, co\", \"scottsdale, az\", \"lake placid, fl\", \"onaway, mi\", null, \"lubbock, tx\", \"egg harbor township, nj\", \"nassau county, ny\", \"palm desert, ca\", \"upper lake, ca\", \"meadowview, va\", \"dardenne prairie, mo\", \"mishawaka, in\", \"bowling green, fl\", \"kalamazoo, mi\", \"laguna niguel, ca\", \"st. charles, mo\", \"florence, sc\", \"canton, ga\", \"pittsburgh, pa\", \"san antonio, tx\", \"jamestown, ny\", \"louisburg, nc\", \"sacaton, az\", \"rancho mirage, ca\", \"albuquerque, nm\", \"melbourne, fl\", \"toledo, oh\", \"woodbury, mn\", \"des moines, ia\", \"fort a. p. hill (military reservation), va\", \"surry, nh\", \"myrtle beach, sc\", \"frederick, md\", \"san diego, ca\", \"cary, nc\", \"huntsville, al\", \"burgaw, nc\", \"oak island, nc\", \"ravenna, oh\", \"colorado springs, co\", \"menomonie, wi\", \"myrtle beach, sc\", \"spanish fork, ut\", \"chesire, ct\", \"cloverdale, ca\", \"coos bay, or\", \"mountain home (outskirts of), id\", null, \"appleton, wi\", \"lancaster, pa\", null, \"thornhill (canada), on\", \"pittsfield, ma\", \"chatfeild, oh\", \"dallas, ga\", \"denver, co\", \"portland, or\", \"bayonne, nj\", \"fithian, il\", \"purcellville, va\", \"sarnia (canada), on\", \"louisburg, ks\", \"lakeway, tx\", \"austin, tx\", \"sacramento, ca\", \"eastpointe, mi\", \"franklin, in\", \"pittsburgh, pa\", \"citrus heights, ca\", \"drayton (canada), on\", \"newton, nc\", \"johnstown, pa\", \"navarre, fl\", \"st. louis, mo\", \"many, il\", \"cottage grove, mn\", \"long beach, ca\", \"cambridge (canada), on\", \"edmonds, wa\", \"pittsburg, ca\", \"windsor (canada), on\", \"pawleys island, sc\", \"north myrtle beach, sc\", \"myrtle beach, sc\", \"maple falls, wa\", \"sedona, az\", \"kalispell, mt\", \"garden city beach, sc\", \"kalispell, mt\", \"albemarle, nc\", null, null, \"san luis obispo, ca\", \"johnstown, pa\", \"palm desert, ca\", \"myrtle beach, sc\", \"murrells inlet, sc\", \"santa cruz, ca\", \"fort wayne, in\", \"whitehall, mi\", \"richmond (fishing bay), va\", \"cheektowa, ny\", \"hampton, nh\", \"thousand oaks, ca\", \"firebaugh, ca\", \"buford, ga\", \"burlington, ct\", \"portland, or\", \"springfield, il\", \"fairborn, oh\", \"fairborn, oh\", null, \"lebanon, pa\", \"bridgeport, mi\", \"las vegas, nv\", \"courtland (canada), on\", \"billings, mt\", \"garden grove, ca\", \"gaffney, sc\", \"stevens point, wi\", \"binghamton, ny\", \"hiram, oh\", \"kingsport, tn\", \"kitchener (canada), on\", \"westerville, oh\", \"kaneohe, hi\", \"garden plain, ks\", \"canton, oh\", \"hugo, mn\", \"menifee, ca\", \"womelsdorf, pa\", \"whiting, nj\", \"glen allen, va\", \"seattle, wa\", \"canton, ga\", \"grayson, ky\", \"innisfail (canada), ab\", \"mount albert (canada), on\", \"westlake, oh\", \"alliston (canada), on\", \"grandview, wa\", \"dresser, wi\", \"ontario, ny\", \"salem, or\", \"spokane, wa\", \"catharpin, va\", \"goshen, ky\", \"merced, ca\", \"hwy 97 between lapine &amp; sunriver, or\", \"issaquah, wa\", \"erie, pa\", \"ann arbor, mi\", \"scarborough (canada), on\", null, \"fairfield, ct\", \"highlands ranch, co\", \"porterfield, wi\", \"arlington heights, il\", \"lahaina, hi\", \"bourbonnais, il\", \"milwaukee, wi\", \"las vegas, nv\", \"tucson, az\", \"laude, mo\", \"grahamsville, ny\", \"holland, oh\", \"wood cross, ut\", \"hermiston, or\", \"sioux city, ia\", \"whiting, in\", \"westfield, ma\", \"scotrun, pa\", \"phoenix, az\", \"meeker, co\", \"cornwall (canada), on\", \"ellicott city, md\", \"shelbyville, tn\", \"cut off, la\", \"lincoln, ne\", \"bangor, me\", \"waterloo, ia\", \"albrightsville, pa\", \"muskegon, mi\", \"richmond, va\", \"weymouth, ma\", \"williamsport, pa\", null, \"fayetteville, ga\", \"woonsocket, ri\", \"nogales, az\", \"tucson, az\", \"lake villa, il\", null, \"blythe, ca\", null, \"lebanon, oh\", \"glenolden, pa\", \"greencastle, pa\", \"natrona heights, pa\", \"safford, az\", \"nags head, nc\", \"long beach, ca\", \"hazleton, pa\", \"pigeon forge, tn\", \"west sacramento, ca\", \"lincoln, ne\", \"fairmont, wv\", \"lafayette, in\", \"stuart, ia\", \"cincinnati, oh\", \"berlin, nh\", \"cherry grove, sc\", \"north augusta (canada), on\", \"north conway, nh\", \"garden city, sc\", \"north myrtle beach, sc\", \"beach haven west, nj\", \"canterbury, nh\", \"canterbury, nh\", \"myrtle beach, sc\", \"ooltewah, tn\", \"patchogue, ny\", \"north myrtle beach, sc\", \"north myrtle beach, sc\", \"oak island, nc\", \"west deptford, nj\", \"huron, sd\", \"westminster, ca\", \"ottawa (canada), on\", \"rolesville, nc\", \"oshawa (canada), on\", null, \"atlanta, ga\", \"chicago, il\", \"gardner, ks\", \"el cajon, ca\", \"prospect heights, il\", \"san francisco, ca\", \"west sacramento, ca\", \"creekside, pa\", \"richmond, ky\", \"wilmington, nc\", \"salamanca, ny\", \"centerville, ga\", \"macomb, mi\", \"parkersburg, wv\", \"fredericton (canada), nb\", \"swampscott, ma\", \"loganville, ga\", \"barrington, il\", \"portland, or\", \"grand rapids, mi\", \"maple valley, wa\", \"morden (canada), mb\", \"ridgeway, sc\", \"oldsmar, fl\", \"perdido key, fl\", \"tinley park, il\", \"newcomersotown, oh\", \"fresno, ca\", \"oklahoma city, ok\", \"wichita, ks\", \"wichita, ks\", \"homestead, fl\", \"cleveland, oh\", \"indianapolis, in\", \"portland, or\", \"eagan, mn\", \"westland, mi\", \"fall river, ma\", \"west chester, oh\", \"chehalis, wa\", \"waxhaw, nc\", \"northville, mi\", \"mt. shasta, ca\", \"woodbury, ct\", \"worcester, ma\", \"harlan, ky\", \"stead, nv\", \"victoria (canada), bc\", \"waikoloa, hi\", \"roswell, ga\", \"winchester, va\", \"yorba linda, ca\", \"crystal river, fl\", \"nolensville, tn\", \"poulsbo, wa\", \"new york city (brooklyn), ny\", \"worthington, oh\", \"albany, ny\", \"iron mountain, mi\", \"lafayette, in\", \"los angeles, ca\", \"northampton, ma\", \"north haven, ct\", \"norwalk, ct\", \"saint joseph, mo\", \"san tan valley, az\", \"versailles, ky\", \"citrus heights, ca\", \"rowayton, ct\", \"independence, oh\", \"san bernardino, ca\", \"bushkill, pa\", \"nampa, id\", \"richmond, in\", \"barker, ny\", \"bellevue, oh\", \"cape charles, va\", \"bruce beach (canada), on\", \"eureka, ca\", \"creston, ia\", \"meadows of dan, va\", \"peoria, az\", \"guilford, ct\", \"newark, oh\", \"grove city, pa\", \"timmins (canada), on\", \"indianapolis, in\", \"santee, ca\", \"portland, or\", \"centerville, oh\", \"las vegas, nv\", \"big bear, ca\", \"seal beach, ca\", \"anderson, sc\", \"tybee island, ga\", \"bossier city, la\", \"fort lauderdale, fl\", \"los angeles, ca\", \"miami, fl\", \"baker, ca\", \"portland, tn\", \"houston, tx\", \"qu-appelle (canada), sk\", \"roxboro, nc\", \"colorado springs, co\", \"lahaina, hi\", \"worthington, oh\", \"victoria (canada), bc\", \"morgan, mn\", \"greensboro, nc\", \"independence, va\", \"captiva, fl\", \"cincinnati, oh\", \"hartman, ar\", \"liberty, oh\", \"myrtle point, or\", \"bertram, tx\", \"custer, mt\", \"louisville, ky\", \"arkdale, wi\", \"leitchfield, ky\", \"nashville, tn\", \"kannapolis, nc\", \"palo alto, ca\", \"beaver falls, pa\", \"lakeland, tn\", \"hemet, ca\", \"lexington (west of), tx\", \"las vegas, nv\", \"miami, fl\", \"parkland, fl\", \"bellport, ny\", \"middletown, oh\", \"preston, ct\", null, \"arlington, va\", \"ogdensburg, ny\", \"williamsport, pa\", \"cinnaminson, nj\", \"escalon, ca\", \"dayton, oh\", \"omaha, ne\", \"niles, il\", \"portage, in\", \"rock hill, sc\", \"santa cruz, ca\", null, null, \"london (canada), on\", \"kanata (canada), on\", \"mount albert (canada), on\", \"longmont, co\", \"clearwater, fl\", \"clearwater, fl\", \"buckeye, az\", \"stephens city, va\", \"independence, ky\", \"sulphur springs, tx\", \"gretna, ne\", \"independence, ky\", \"minnetrista, mn\", \"evergreen, co\", \"springdale, ar\", \"seattle, wa\", \"alpine, ca\", \"parkersburg, wv\", \"calgary (canada), ab\", \"seattle, wa\", \"lincoln county, ks\", \"lowell, ma\", \"goodyear, az\", \"oak harbor, wa\", \"wichita falls, tx\", \"covina, ca\", \"forsyth, mo\", \"cleveland heights, oh\", \"littleton, co\", \"parkdale, or\", \"nicholasville, ky\", \"austin, tx\", \"schaumburg, il\", \"plummer, id\", \"noblesville, in\", \"polson, mt\", \"spring city, tn\", \"chattanooga, tn\", null, \"mililani, hi\", \"stanton, ia\", \"elizabeth city, nc\", \"willow beach (canada), on\", \"d&#39iberville, ms\", \"kelseyville, ca\", \"newtown, pa\", \"lake wales, fl\", \"baldwinsville, ny\", \"baldwinsville, ny\", \"springfield, oh\", \"st. george island, fl\", \"edmonds, wa\", \"middletown, pa\", \"dunnville (canada), on\", \"indianapolis, in\", \"minong, wi\", \"river falls, wi\", \"st. paul, mn\", \"murfreesboro, tn\", \"reston, va\", \"winnipeg (canada), mb\", \"gas city, in\", null, \"chesterfield, va\", \"monrowville, pa\", \"boulder city, id\", \"portland, or\", \"huntsville, al\", \"canfield, oh\", \"jackson, nj\", \"hacienda heights, ca\", \"appleton, wi\", \"innisfail (canada), ab\", \"mt. lebanon/pittsburgh, pa\", \"prescott, az\", \"hershey, ne\", \"plum, pa\", \"bozeman, mt\", \"detroit, mi\", \"harison, mt\", \"louisville, ky\", \"victoria (canada), bc\", \"chilliwack (canada), bc\", \"indiana, pa\", \"algodones, nm\", \"richmond, va\", \"huntsville, al\", \"hampstead, nh\", \"bowling green, ky\", \"los angeles, ca\", \"crossville, tn\", \"gloversville, ny\", \"bakersfield, ca\", \"saint george, ut\", \"cumming, ga\", \"hagerstown, md\", \"los angeles, ca\", \"sylmar, ca\", \"indianapolis, in\", \"oshawa (canada), on\", \"buford, ga\", \"alpine, ut\", \"boise, id\", \"ithaca, ny\", \"salida, co\", \"leavenworth, ks\", \"vincennes, in\", \"weaverville, nc\", \"niles, mi\", \"noblesville, in\", \"conshohocken, pa\", \"bellevue, wa\", \"hattiesburg, ms\", \"charles town, wv\", \"damascus, md\", \"st. louis, mo\", \"marietta, ga\", \"helena, al\", null, \"manheim, pa\", \"chesapeake, va\", \"gwinn, mi\", \"bonita springs, fl\", \"bozeman, mt\", \"sedro wooley, wa\", \"ashburn, va\", \"bellevue, wa\", \"kirkland, wa\", \"st. charles, mo\", \"twin falls, id\", \"bloomington, mn\", \"canmore (canada), ab\", \"indianapolis, in\", \"roanoke, va\", \"toronto (canada), on\", \"newington, ct\", \"angoon, ak\", \"tomball, tx\", \"kingston, ga\", \"mississauga (canada), on\", \"wendover, ut\", \"deale, md\", \"plummer, id\", \"bryant/benton, ar\", \"burlington, nc\", \"cypress, tx\", \"greensboro, nc\", \"salina, ks\", \"bryant, ar\", \"binghamton, ny\", \"wardsboro, vt\", null, \"bothell, wa\", null, \"slippery rock, pa\", \"commerce city, co\", \"san francisco, ca\", null, \"imaly city, mi\", \"grantsburg, wi\", \"w. sacramento, ca\", \"coloma, ca\", \"mount vernon, wa\", \"elkhart, in\", \"gainesville, fl\", \"rudy, ar\", \"overland park, ks\", \"spring hill, fl\", \"weatherford, tx\", null, \"coeur d&#39alene mountains, wa\", \"mcpherson, ks\", null, \"brantford (canada), on\", \"mansfield, oh\", \"virginia beach, va\", \"rocky hill, ct\", \"hatboroo, pa\", \"cherry hill, nj\", \"clarksville, in\", \"ephrata, pa\", \"waverly, tn\", \"napa, ca\", \"oshkosh, wi\", \"rivesville, wv\", \"topsail beach, nc\", \"cuyahoga falls, oh\", \"salem, ma\", \"murrysville, pa\", \"clinton township, mi\", \"norfolk, va\", \"prior lake, mn\", \"queen creek, az\", \"san jose, ca\", \"corpus christi, tx\", \"toledo, oh\", \"emmett, id\", \"tigard, or\", \"warminster (canada), on\", \"virginia beach, va\", \"johnstown, pa\", \"indianapolis, in\", \"orland park, il\", \"sault ste marie (canada), on\", \"wyomissing, pa\", \"oakville (canada), on\", \"greeley, co\", \"liberty state park, nj\", \"cayucoc, ca\", \"williston, vt\", \"lynchburg, va\", \"south windsor, ct\", \"west hartford, ct\", \"rochester, ny\", \"city height, ca\", \"lake oswego, or\", \"poughkeepsie, ny\", \"brooks (canada), ab\", \"farmington, mo\", \"little rock, ar\", \"ogilvie, mn\", \"indianapolis, in\", \"miami, fl\", \"cadiz, ky\", \"orem, ut\", \"elk grove, ca\", \"hamilton, oh\", \"hillsboro, or\", \"london (canada), on\", \"london (canada), on\", \"manchester, ct\", \"scarborough (canada), on\", \"jacksonville, fl\", \"minoa, ny\", \"blythe, ca\", \"tiny township (canada), on\", \"san marcos, ca\", \"the village, ok\", \"golden beach, fl\", \"campbell river (canada), bc\", \"cedar rapids, ia\", \"fort morgan, al\", \"douglas, ma\", \"st. charles, mo\", \"baker, nv\", \"bristol, va\", \"dallas, pa\", \"dedham, ma\", \"clarksville, ia\", \"middlesboro, ky\", \"st. catherines (canada), on\", \"pt. angeles, wa\", \"rathdrum, id\", \"lamar, sc\", \"madison, wi\", \"winnipeg (canada), mb\", \"seattle, wa\", \"pentang (canada), on\", \"shorewood, il\", \"meriden, ct\", \"north wildwood, nj\", \"north wildwood, nj\", \"brooklyn center, mn\", \"kinross, mi\", \"hillsbro, or\", \"arabi, ga\", null, \"moscow, id\", \"southaven, ms\", \"mission, sd\", \"new york city (bronx&#44 riverdale), ny\", \"charlotte, nc\", \"ogilvie, mn\", \"winston-salem, nc\", \"anaheim, ca\", \"fairport, ny\", \"kitchener (canada), on\", \"jacksonville, al\", \"cortland, oh\", \"dallas, tx\", \"ithaca, ny\", \"gulf shores, al\", \"liberty, sc\", \"ajax (canada), on\", \"toronto (canada), on\", \"louisville, ky\", \"st. catharines (canada), on\", \"milton (canada), on\", \"billings, mt\", \"duxbury, vt\", \"w. sacramento, ca\", \"vancouver (canada), bc\", \"elk grove, ca\", null, \"fort wayne, in\", \"new castle, va\", \"kirkfield (canada), on\", \"maplewood (st. louis), mo\", \"auburn, wa\", \"bellingham, wa\", \"mooresville, nc\", \"charlotte, nc\", \"berkley, mi\", \"eufaula (close to), al\", \"louisville, ky\", \"decatur, mi\", \"chatsworth, ca\", \"chilliwack lake (canada), bc\", \"cave creek, az\", \"ellensburg, wa\", \"oak grove, la\", \"haddon heights, nj\", \"massuillon, oh\", \"sodus center, ny\", \"valley village, ca\", \"bozeman, mt\", \"coram, ny\", \"league city, tx\", \"sealy lake, mt\", \"surfside beach, sc\", \"wells, me\", \"evans, ga\", \"bethlehem, pa\", \"evans, ga\", \"south hadley, ma\", \"lake dallas, tx\", \"florence, ky\", \"norfolk, va\", \"oak forest, il\", \"kemptville, on\", \"new castle, pa\", \"burton, oh\", \"dearborn, mi\", \"heath, ma\", \"imperial, mo\", \"shelburne, vt\", \"shelton, wa\", \"hudson, oh\", \"franklin, oh\", \"south bend, in\", \"st. charles, il\", \"eastvale, ca\", \"ottawa (canada), on\", \"toronto (canada), on\", \"parkton, md\", \"new lenox, il\", \"mansfield, oh\", \"missoula, mt\", \"northville, mi\", \"plano, tx\", \"dallas, tx\", \"union city, pa\", \"boca raton, fl\", \"kettle point (canada), on\", \"georgetown, ky\", \"new orleans, la\", \"townsend, tn\", \"pickering (canada), on\", \"parkville, md\", \"oakland, tn\", \"oakland, tn\", \"bossier city, la\", \"mount laurel, nj\", \"deerfield, il\", \"woodbridge, va\", \"downingtown, pa\", \"sanibel island, fl\", \"mason city, ia\", \"falmouth, ma\", \"shawano, wi\", \"staunton, va\", \"chandler, az\", \"washougal, wa\", \"davenport, ia\", \"endicott, ny\", \"laconia, nh\", \"fort myers, fl\", \"beaver falls, pa\", \"irvine, ca\", \"daly city/pacifica, ca\", \"mesa, az\", \"taft, ca\", \"lake tahoe area, nv\", \"tucson, az\", \"salem, or\", \"kenosha, wi\", \"bryant, ar\", \"grand rapids, mi\", \"loganville, ga\", \"custer, wi\", \"towaco/kinnelon border, nj\", \"deal island, md\", \"marlton, nj\", \"nevada, mo\", \"monroe, mi\", \"shasta lake, ca\", \"hot springs, ar\", \"sparks, nv\", \"austintown, oh\", \"san rafael/novato, ca\", \"booneville, ar\", \"lena, il\", \"prior lake, mn\", null, \"slate hill, ny\", \"new york city (bronx), ny\", \"landisville, pa\", \"state college, pa\", \"w. sacramento, ca\", \"baldwin park, ca\", \"bainbridge island, wa\", \"south gate, ca\", \"roan mountain, tn\", \"roan mountain, tn\", \"massillon, oh\", \"boise, id\", \"westminster, co\", \"somers, ct\", \"dallas, tx\", \"ridgeway, sc\", \"lane, ok\", \"snohomish, wa\", \"ash springs (near), nv\", \"selma, ca\", \"clayton, ok\", \"myrtle beach, sc\", \"litchfield, sc\", \"mcalester, ok\", \"north myrtle beach, sc\", \"wichita, ks\", \"wichita, ks\", \"waldport, or\", \"iowa cuty, ia\", \"rapid city, sd\", \"myrtle beach, sc\", \"missourri city, tx\", \"saint ignatius, mt\", \"canfield, oh\", \"lincoln city, or\", \"lebanon, oh\", \"lebanon, oh\", \"new milford, ct\", \"west hartford, ct\", \"fort lauderdale, fl\", \"liberty township, oh\", \"meridian, id\", \"fishers, in\", \"myrtle beach, sc\", \"newport news (fort eustis), va\", \"ocean springs, ms\", \"baytown, tx\", \"kiawah island, sc\", \"myrtle beach, sc\", \"surfside beach, sc\", \"mission viejo, ca\", \"montclair, nj\", \"buffalo, ny\", \"portland, or\", \"anderson, sc\", \"myrtle beach, sc\", \"myrtle beach, sc\", \"temecula, ca\", \"willet, ny\", \"platteville, wi\", \"seattle, wa\", \"defiance, oh\", \"mukilteo, wa\", \"elkins, wv\", \"roseville, ca\", \"lorton, va\", \"phoenix, az\", \"fort myers beach, fl\", \"troy, il\", \"huber heights (bethel township), oh\", \"ann arbor, mi\", \"staten island, ny\", \"seattle, wa\", \"ottawa (canada), on\", \"herndon, va\", \"pasco, wa\", \"stringsville, oh\", \"livingston, va\", \"susanville, ca\", \"sunset point, az\", \"dunkirk, ny\", \"lockport, ny\", \"el monte, ca\", \"west point, ca\", \"seattle, wa\", \"santa monica, ca\", \"columbus, oh\", \"west bend, wi\", \"terryville, ct\", \"pico rivera, ca\", \"st. catharines (canada), on\", \"wilton manors, fl\", \"amityville, ny\", \"niagara falls (canada), on\", \"lynden, wa\", \"murfreesboro, tn\", \"pacific, wa\", \"blountsville, al\", \"university place, wa\", \"naugatuck, ct\", \"monterey, ca\", \"napa, ca\", null, \"cocoa beach, fl\", \"lexington, ky\", \"austin, tx\", \"parachute, co\", \"green bay, wi\", \"farmington, nm\", \"naschitti, nm\", \"owasso, ok\", \"lancaster, ca\", \"sterling, ak\", \"new jersey, nj\", \"chino valley, az\", \"seattle, wa\", \"surfside beach, sc\", \"myrtle beach, sc\", \"myrtle beach, sc\", \"moreno valley, ca\", \"canton, oh\", \"laurel/hattiesburg (between), ms\", \"silver spring, md\", \"peru, vt\", \"washington, ct\", \"captiva, fl\", \"wenatchee, wa\", \"myrtle beach, sc\", \"tulsa, ok\", \"lybrook, nm\", \"royal oak, mi\", \"tigard, or\", \"longmont, co\", \"shakopee, mn\", \"montgomery, il\", \"pinon, ca\", \"ft. lauderdale, fl\", \"whitewater, wi\", \"captiva, fl\", \"waikiki, hi\", \"cincinnati, oh\", \"monaca, pa\", \"castiac, ca\", \"eaton, oh\", \"frenchtown twp, mi\", \"burnaby (canada), bc\", \"coeur d&#39alene, id\", \"lakewood, co\", \"lakewood, wa\", \"welland (canada), on\", \"garden city, sc\", \"cornwall (canada), on\", \"williamsport, pa\", \"the dalles, or\", \"kodiak, ak\", \"watauga, tx\", \"point pleasant, wv\", \"fredonia, ny\", \"indianapolis, in\", \"akron, oh\", \"captiva, fl\", \"hagerstown, md\", \"grand lake, co\", \"thorntown, in\", \"alexandria, va\", \"syracuse, ny\", \"east aurora, ny\", \"sandy, ut\", \"pensacola, fl\", \"st. louis, mo\", \"findlay, oh\", \"auburn, ca\", \"south kortright, ny\", \"acton, ca\", \"richmond va, va\", \"woodbridge, va\", \"frankfort, ky\", \"sainte-genevieve (canada), qc\", \"captiva, fl\", \"key west&#44 dubuque, ia\", \"pawtucket, ri\", \"west chester, pa\", \"tobyhanna, pa\", \"york, pa\", \"san marcos, ca\", \"lexington, ky\", \"clear spring, md\", \"greensboro, nc\", \"florence (near), ky\", \"springfield, il\", \"corfu, ny\", \"jacobstown, nj\", \"lagrange, oh\", \"bridgeport, ny\", \"lolo, mt\", \"eugene, or\", \"middlesex, ny\", null, \"springfield, mo\", \"portland, or\", \"san antonio, tx\", \"circle pines, mn\", \"lanexa, va\", \"destin, fl\", \"rittman, oh\", null, \"woods hole, ma\", \"cordes junction, az\", \"lancaster, pa\", \"pawtucket, ri\", \"draper, ut\", \"nags head, nc\", \"roanoke, va\", \"martin, tn\", \"middle village, ny\", \"sag harbor, ny\", \"seven hills, oh\", \"anaheim, ca\", \"lynn, ma\", \"morrisville, pa\", \"remlap, al\", \"marietta, ga\", \"lemoore, ca\", \"chagrin falls, oh\", \"york, me\", \"sanibel island, fl\", \"huntsville, al\", \"prince george (canada), bc\", \"white lake, mi\", \"pompano, fl\", \"el dorado hills, ca\", \"rogers, ar\", \"st. peters, mo\", null, \"florence, ky\", \"portland, or\", \"ferndale, wa\", \"holts summit, mo\", \"monroe, or\", \"north las vegas, nv\", \"penn hills, pa\", \"flint, mi\", \"williamsburg, oh\", \"river falls, wi\", \"pittsburgh, pa\", \"anna, tx\", \"bridgeport/fairfield, ct\", \"hereford, pa\", \"hialeah, fl\", \"paintsville, ky\", \"north miami, fl\", \"dayton, pa\", \"orrington, me\", \"cedar rapids, ia\", \"langley (canada), bc\", \"englewood, fl\", \"wildwood, nj\", \"buffalo, ny\", \"wildwood crest, nj\", \"casper, wy\", \"denver, co\", \"woodbridge, va\", \"prospect, ct\", \"indianapolis, in\", \"oakland, ca\", \"madison, al\", \"madison, al\", \"springfeild, va\", \"vichy/vienna (between), mo\", \"gallatin/red hook, ny\", \"calais, vt\", \"mountain home, ar\", \"goodyear, az\", \"greenville, sc\", null, \"vancouver, wa\", \"vancouver, wa\", \"fayetteville, nc\", \"tacoma (northeast area), wa\", \"new york city (bronx), ny\", \"kingwood, tx\", \"madison, wi\", \"south bend, in\", \"glendalemingle dale, az\", \"sammamish, wa\", \"bowling green, in\", \"keswick (canada), on\", \"valdosta, ga\", \"pocahontas, ar\", \"oshkosh, wi\", \"thompson, ct\", \"keene, nh\", \"st. paul, mn\", \"avalon, nj\", \"baltic, ct\", \"gulfport, ms\", \"north east, pa\", \"ocean city, nj\", \"buckeye, az\", \"east moriches, ny\", \"selah, wa\", \"clifton, nj\", null, \"winnipeg (canada), mb\", \"dublin, oh\", \"vancouver, wa\", \"wildwood crest, nj\", null, \"baltimore city, md\", \"riverside, ca\", \"south bend, in\", \"buckeye, az\", \"rothsay, mn\", \"san ramon, ca\", \"huntington station, ny\", \"buffalo, ny\", \"mt. chestnut, pa\", \"elk grove, ca\", \"commerce, ca\", \"albany, or\", \"ft. gibson, ok\", \"sterling heights, mi\", \"broken arrow, ok\", \"berkeley, ca\", \"tumwater, wa\", \"tigard, or\", \"surprise, az\", \"riverbank, ca\", \"anoka, mn\", \"chesepeake bay bridge tunnel, va\", \"pevely/arnold (between), mo\", \"shapleigh, me\", \"black hawk, sd\", \"culver, or\", \"kerman, ca\", \"myrtle beach, sc\", \"wentzville, mo\", \"myrtle beach, sc\", \"paddock lake, wi\", \"walla walla, wa\", \"south gate, ca\", \"cleveland, oh\", \"louisville, ky\", \"mt. vernon, oh\", \"north east, md\", \"princeville, hi\", \"crestline, oh\", \"eugene, or\", \"indianapolis, in\", \"saint peters, mo\", \"bolingbrook, il\", \"round rock, tx\", \"hixson, tn\", \"moundsville, wv\", \"myrtle beach, sc\", \"streetsville (mississauga)(canada), on\", \"north platte, ne\", \"bowling green, oh\", null, \"mundelein, il\", \"santa fe, nm\", \"shoreview, mn\", \"fairfax to woodacre, ca\", \"fargo, nd\", \"fayettville, pa\", \"lewiston, id\", \"sault ste. marie, mi\", \"summerset, sd\", \"warsaw, in\", \"cedar hill, tx\", null, \"jacksonville, fl\", \"salmon arm (canada), bc\", \"cromwell, ct\", \"bartlett, il\", \"bremerton, wa\", \"old saybrook, ct\", \"broken arrow, ok\", \"downingtown, pa\", \"rockford, il\", \"boston, ma\", \"portland, me\", \"tulsa, ok\", \"washington, nj\", \"washington, nj\", \"orange, ca\", \"somers, wi\", \"washington, nj\", \"chicago, il\", \"chalfont, pa\", \"kingsville, md\", \"aiken, sc\", \"cary, nc\", \"denver, co\", \"fillmore, tx\", \"freeland, wa\", \"hampton/rye, nh\", \"lake mills, wi\", \"palm coast, fl\", \"port saint lucie, fl\", \"seminole, tx\", \"st. charles, mo\", \"stuart, fl\", \"wilmington, nc\", \"naples, fl\", \"easton, pa\", \"inverness, il\", \"los angeles, ca\", \"mesa, az\", \"naugatuck, ct\", \"north platte, ne\", \"osceola mills, pa\", \"purcellville, va\", \"sebastian, fl\", \"winston salem, nc\", \"chalfont, pa\", \"new berlin, wi\", \"pinellas park, fl\", \"longwood, fl\", \"fulton, mo\", \"bridgeview, il\", \"broomfield, co\", \"castle pines, co\", \"durham, nc\", \"heyworth, il\", \"howell, mi\", \"lincoln, ne\", \"long lake, ny\", \"mayflower, ar\", \"modesto, ca\", \"moore, ok\", \"ravenswood, wv\", \"springfield, il\", \"stilwell, ks\", \"tinley park, il\", \"woodbury, nj\", \"aurora, co\", \"cheektowaga, ny\", \"golden, co\", \"knappa, or\", \"murray, ky\", \"westminster, co\", \"cohoes, ny\", \"crestline, oh\", \"la crosse, wi\", \"oregon city, or\", \"pittsburgh, pa\", \"westminster, co\", \"temecula, ca\", \"lewis center, oh\", \"peru, in\", \"captiva, fl\", \"minneapolis, mn\", \"springfield, mo\", \"boise, id\", \"buffalo, ny\", \"chicago, il\", \"copiague, ny\", \"eagan, mn\", \"floyd knobs, in\", \"fort wayne, in\", \"hurst, tx\", \"indian lake, oh\", \"mukilteo, wa\", \"naugatuck, ct\", \"north platte, ne\", \"prince george county, va\", \"racine, wi\", \"richmond, ky\", \"san anselmo, ca\", \"shakopee, mn\", \"shakopee, mn\", \"sinking spring, pa\", \"syosset, ny\", \"troy, oh\", \"yardley, pa\", \"auburn, wa\", \"scotts valley, ca\", \"the woodlands, tx\", \"auburn, wa\", \"jacksonvile, fl\", \"mount angel, or\", \"conway, ar\", \"tiny (canada), on\", \"longwood, fl\", \"hammond, in\", \"seattle, wa\", \"rusagonis (canada), nb\", \"bessie, ok\", \"black rock, ar\", \"buffalo, ny\", \"dearborn, mi\", \"dearborn, mi\", \"eden roc/big island, hi\", \"elk grove, ca\", \"gothenburg, ne\", \"holiday, fl\", \"massapequa, ny\", \"minneapolis, mn\", \"mount sinai, ny\", \"mt. view, hi\", \"old orchard beach, me\", \"puyallup, wa\", \"renton, wa\", \"riverview, fl\", \"snohomish, wa\", \"spencer, ok\", \"willis, mi\", \"lincoln, ne\", \"west point, ca\", \"belgrade, mt\", \"denver, co\", \"levittown, ny\", \"portland, tn\", \"carbonado, wa\", \"austintown, oh\", \"broomfiled- standley lake, co\", \"chicago, il\", \"everett, wa\", \"everett, wa\", \"fairfield, ct\", \"glendive, mt\", \"lee&#39s summit, mo\", \"lynnwood, wa\", \"miami, fl\", \"nampa, id\", \"spanaway, wa\", \"whitefish, mt\", \"decorah, ia\", \"kirkland, wa\", \"valley stream, ny\", \"jupiter, fl\", \"bellingham, wa\", \"boise, id\", \"bremerton, wa\", \"bremerton, wa\", \"lake geneva, wi\", \"port charlotte, fl\", \"washington&#44 dc, dc\", \"redding, ca\", \"new york city, ny\", \"elkhart, in\", \"fort myers, fl\", \"noblesville, in\", \"port angeles, wa\", \"medical lake, wa\", \"surprise, az\", \"strongsville, oh\", \"lombard, il\", \"salisbury, ma\", \"toms river, nj\", \"kansas city, ks\", \"kansas, ks\", \"lake mills, wi\", \"turner, me\", \"birmingham, al\", \"ashland (west of; hanover county), va\", \"fulton, il\", \"valdosta, ga\", \"w. sacramento, ca\", \"wyndotte (grand lake), ok\", \"wheeling, wv\", \"bettendorf, ia\", \"chelan, wa\", \"holiday, fl\", \"monroe, ct\", \"mulberry, fl\", \"south milwaukee, wi\", \"watertown, ct\", \"enola, pa\", \"athens, tx\", \"st. peters, mo\", \"spokane, wa\", \"sun prairie, wi\", \"north myrtle beach, sc\", \"simi valley, ca\", \"franklin square, ny\", \"carlos, mn\", \"virginia beach, va\", \"middlebury, in\", \"new sharon, me\", \"post falls, id\", \"warren, mi\", \"willard, oh\", \"bluffton, in\", \"canton/plymouth, mi\", \"mojave, ca\", \"springboro, oh\", \"rocky river, oh\", null, \"cornwall (canada), on\", \"barboursville, wv\", \"horseshoe lake, ar\", \"mission hill, sd\", \"puyallup, wa\", \"marysville, wa\", \"stroudsburg, pa\", \"tucson, az\", \"austin, tx\", \"maricopa, az\", \"carlsbad, ca\", \"ashville, oh\", \"beachwood, nj\", \"columbus, oh\", \"denham springs, la\", \"grove city, oh\", \"peru, il\", \"hoover, al\", \"columbus, oh\", \"columbus, oh\", \"columbus, oh\", \"mt. laurel, nj\", \"old bridge, nj\", \"portland, or\", \"st. petersburg, fl\", \"walnut ridge, ar\", \"columbus, oh\", \"groveport, oh\", \"springfield, ma\", \"bowling green, ky\", \"columbus, oh\", \"louisville, ky\", \"toronto (scarborough) (canada), on\", \"canal winchester, oh\", \"columbus, oh\", \"grove city, oh\", \"grove city, oh\", \"columbus, oh\", \"pataskala, oh\", \"bremerton, wa\", \"fairfax, mn\", \"new milford, ct\", \"new york city (brooklyn), ny\", \"poland, oh\", \"springfield, ma\", \"springfield, ma\", \"west chester, pa\", \"southbridge, ma\", \"rockingham, vt\", \"manheim, pa\", \"rocheport, mo\", \"franklin, nh\", \"pittsburgh, pa\", \"new york city (brooklyn), ny\", \"bristol, nh\", \"canajoharie, ny\", \"drexel hill, pa\", \"hampton, va\", \"kalispell, mt\", \"haverhill, ma\", \"hiram, ga\", \"seeley lake, mo\", \"bellevue, oh\", \"diamond, oh\", \"elizabethtown (north of), pa\", \"goshen, ut\", \"hopedale, ma\", \"joplin, mo\", \"mountain home, ar\", \"port angeles, wa\", \"traverse city, mi\", \"north kingsville, oh\", \"gilbert, az\", \"frederick, md\", \"hanes city, fl\", \"indianapolis, in\", \"pasco, wa\", \"remington, va\", \"malad, id\", \"san diego, ca\", \"fort meyers beach, fl\", \"winter park, fl\", \"aynor, sc\", \"manchester, nh\", \"greenfield, ma\", \"canton, mi\", \"elkmont, al\", \"lindenhurst, ny\", \"baton rouge, la\", \"norwalk, ct\", \"paducah, ky\", \"spotswood, nj\", \"countryside, il\", \"charleston, wv\", \"cudahy, wi\", \"springfield, or\", \"st. helens, or\", \"ingleside, tx\", \"chicago heights, il\", \"surf city, nj\", \"ash, nc\", \"englewood, fl\", \"battle ground, wa\", \"richmond (south of), va\", \"reading, pa\", \"libby, mt\", \"atlantic city, nj\", \"portland, me\", \"roxborough, pa\", null, \"chilliwack (canada), bc\", \"barrington, nj\", \"springboro, oh\", \"st. louis park, mn\", \"ocean city, md\", \"manchester, ky\", \"montverde, fl\", \"seattle, wa\", \"riverview, fl\", \"sacramento, ca\", \"franklin, tn\", \"toms river, nj\", \"norman, ok\", \"manhattan beach, ca\", \"ocean city, md\", \"kitty hawk, nc\", \"buckeye, az\", \"homestead, fl\", \"bellingham, wa\", \"bunkie, la\", \"wilbraham, ma\", \"seattle, wa\", \"richmond, mi\", \"overland park, ks\", \"manomet, ma\", \"nottingham, md\", \"austin, tx\", \"yakima, wa\", \"warren, mi\", \"lombard, il\", null, \"delafield, wi\", \"belleville (canada), on\", \"sacramento, ca\", \"cudahy, wi\", \"fitchburg, wi\", \"genoa city, wi\", \"gimli (canada), mb\", \"o&#39fallon, mo\", \"burlington (canada), on\", \"columbus, oh\", \"houston, tx\", \"linfield, pa\", \"monticello, ar\", \"holden beach, nc\", \"beech creek, pa\", \"johns creek, ga\", \"brewster, ny\", \"bristol, nh\", \"butte, mt\", \"coolin, id\", \"duluth, mn\", \"lethbridge (canada), ab\", \"medina, oh\", \"sheboygan, wi\", \"wiscasset, me\", \"caledon/orangeville (canada), on\", \"lehighton, pa\", \"emerald isle, nc\", \"dayton (drexel area), oh\", \"grand manan island (canada), nb\", \"st. louis, mo\", null, \"parry sound (canada), on\", \"vernon (canada), bc\", \"vienna, va\", \"auburn, me\", \"morrow, oh\", \"salmo (canada), bc\", \"holden, me\", \"amherst, me\", \"norfolk, ma\", \"georgetown, tx\", \"four oaks, nc\", \"belmar, nj\", \"kennebunk, me\", \"milford, ct\", \"concan, tx\", \"dover/foxcroft, me\", \"lexington to cincinnati (between; highway i-74), ky\", \"bozeman, mt\", \"jackson, oh\", \"jackson, oh\", \"loveland, oh\", \"sandy, ut\", \"san jose, ca\", \"wichita, ks\", \"melbourne, fl\", \"englewood, oh\", \"cedaredge, co\", \"hazen, nd\", \"sicklerville, nj\", \"wells, vt\", \"sherman, ct\", \"tulsa, ok\", \"watauga, tx\", \"mccalla, al\", \"danville, va\", \"cathedral city, ca\", \"san francisco, ca\", \"buckeye, az\", \"bethany beach, de\", \"great mills, md\", \"hesperia, ca\", \"trenton (canada), on\", \"coeur d&#39alene, id\", \"grayson, la\", \"ogilvie, mn\", \"cambridge narrows (canada), nb\", \"sanibel, fl\", \"walla walla, wa\", \"folsom, ca\", \"woodville, tx\", \"thornton, co\", null, \"dallas, nc\", \"oxford, oh\", \"utica, ny\", \"portales, nm\", \"jericho, vt\", \"yucaipa, ca\", \"arlington heights, il\", \"greensboro, nc\", \"vicksburg, mi\", \"western, ma\", \"zeigler, il\", \"salinas (~1 hour past; on hwy 101), ca\", \"rochester, wa\", \"devils tower, wy\", \"jefferson, oh\", \"lincoln, ca\", \"massena, ny\", \"franklin, in\", \"hanford, ca\", \"stevensville, mi\", \"fort nelson (canada), bc\", \"menomonee falls, wi\", \"menomonee  falls, wi\", \"federal way, wa\", \"fence, wi\", \"chicago, il\", \"woburn, ma\", \"san diego (north of), ca\", \"fitchburg, ma\", \"las vegas, nv\", \"san diego, ca\", \"mchenry, il\", \"east wenatchee, wa\", \"okemos, mi\", null, \"southbury, ct\", \"wahiawa, hi\", \"wahiawa, hi\", \"houston, tx\", \"orlando, fl\", \"tybee island, ga\", \"vancouver, wa\", \"arden, on\", \"ft. lauderdale, fl\", \"ravenna, oh\", \"redmond, wa\", \"batavia, ny\", \"cannon beach, or\", \"kamloops (canada), bc\", \"lake winnange (canada), on\", \"fort dodge, ia\", \"corte madera, ca\", \"franklin, in\", \"rochester, wa\", \"sylvania, oh\", \"tahoe city, ca\", \"phoenix, az\", \"key west, fl\", \"plantation, fl\", \"wethersfield, ct\", \"west new york, nj\", \"alma, ar\", \"massillon, oh\", \"waldoboro, me\", \"seminary, ms\", \"buckeye, az\", \"north myrtle beach, sc\", \"winchendon, ma\", \"romeoville, il\", \"allentown (upper macungie twsp), pa\", \"captiva, fl\", \"bakersfield, ca\", \"gardner, ks\", \"santa fe, tx\", \"shoshone, id\", null, \"banks, ms\", \"colorado springs, co\", \"north east, md\", \"wallingford, ct\", \"clinton, me\", \"stow, oh\", \"warm springs, ga\", \"blue springs (east of), mo\", \"cherokee, nc\", null, \"cherokee, nc\", \"watervliet, ny\", \"fairhope, al\", \"bude, ms\", \"bauxite, ar\", \"cleveland, oh\", \"scottsdale, az\", \"orlando, fl\", null, \"milford, nh\", \"avalon, nj\", \"maryville, tn\", \"captiva, fl\", \"sterling heights, mi\", \"lahaska/new hope, pa\", \"mission viejo, ca\", \"cedar grove, nc\", \"coeur d&#39alene, id\", \"lake wales, fl\", \"round rock, tx\", \"foxboro, ma\", \"toronto (canada), on\", \"forks, wa\", \"erie, pa\", \"west union, wv\", \"madison, wi\", \"santa clara, ca\", \"grandview, wa\", \"lebanon, tn\", \"larkspur, co\", \"fenton, mo\", \"fredericksburg, va\", \"reynoldsburg, oh\", \"sparta, ky\", \"gahanna, oh\", \"loxahatchee, fl\", \"parker, co\", \"rabun county (unincorporated), ga\", \"syracuse, ny\", \"taylorsville, nc\", \"topsail island, nc\", \"orlando, fl\", \"aitkins, mn\", \"monroe, mi\", \"manson, wa\", \"captiva, fl\", \"cottage grove, mn\", \"dubuque, ia\", \"bakersfield, ca\", \"ceres, ca\", \"long branch, nj\", \"westminster, md\", \"winkler (canada), mb\", \"san diego (pacific beach), ca\", \"orlando, fl\", \"cranston, ri\", \"port wing, wi\", \"canton, mi\", \"dillsburg, pa\", \"evansville, in\", \"gloucester, ma\", \"phoenixville, pa\", null, \"orlando, fl\", \"conneaut lake, pa\", \"garfield heights, oh\", \"sag harbor, ny\", \"seattle/kirkland, wa\", \"shepherdstown, wv\", \"marlborough, ma\", \"port dover (canada), on\", \"san marcos, ca\", \"saint johns, mi\", \"ottawa (canada), on\", \"canton, oh\", \"danbury, ct\", \"san gabriel, ca\", \"lowell, ma\", \"grand rapids, mi\", \"fort wayne, in\", \"st. clair, mi\", \"corunna (canada), on\", \"kure beach, nc\", \"heyburn, id\", \"ravenswood, wv\", \"abbotsford (canada), bc\", \"safford, az\", \"paradise, mt\", \"la mesa, ca\", \"austin, tx\", \"poteau, ok\", \"findlay, oh\", \"ontario, ca\", null, \"ingleside, il\", \"ottawa (canada), on\", \"temecula, ca\", \"gilbert, az\", \"bristol, ct\", \"rochester, wa\", \"tacoma (northeast of), wa\", \"bellevue, wi\", \"lake george (just north of), ny\", \"lahaina, hi\", \"brandenton beach, fl\", \"trout lake, wa\", \"lake jackson, tx\", \"blaine, mn\", \"lancaster, ca\", \"las cruces, nm\", \"galatia, il\", \"san rafael, ca\", \"chicago, il\", \"columbus (northwest part), oh\", \"rochester, wa\", \"vancouver (canada), bc\", \"marysville, oh\", \"colts neck, nj\", \"dublin, oh\", \"virginia beach, va\", \"concord, nc\", \"springfield, va\", \"highland, ut\", \"pine bush, ny\", \"ellsworth, me\", \"santa barbara, ca\", \"antioch, tn\", \"fairfirld, ca\", \"farmington, mi\", \"hannibal, mo\", \"madison, nh\", \"tacoma, wa\", \"tacoma, wa\", \"boston, ma\", \"bredenbury (canada), sk\", \"los angeles, ca\", \"beaverton, or\", \"marstons mills, ma\", \"silverdale, wa\", \"flat rock, mi\", \"corry, pa\", \"portland, or\", \"smithsburg, md\", \"baltimore, ma\", \"kure beach, nc\", \"waynesboro, va\", \"charlestown (canada), on\", \"preston, ct\", \"glen rose, tx\", \"kennewick, wa\", null, \"alton, il\", \"north berwick, me\", \"potosi, mo\", \"fort wayne, in\", \"new york city (brooklyn), ny\", \"new york, ny\", \"rhinebeck, ny\", \"holiday, fl\", \"sebring, oh\", \"staunton, va\", \"new york city (brooklyn), ny\", \"jackfish lake (canada), sk\", \"stroudsburg, pa\", \"dumfries, va\", \"keswick (canada), on\", \"roanoke, va\", \"franklinville, nj\", \"orlando, fl\", \"sanibel island, fl\", \"carbonear/hr grace (canada), nf\", \"croydon, pa\", \"lincoln city, or\", \"flagstaff, az\", \"cresco, ia\", \"newport news, va\", \"easton, pa\", \"gulf shores, al\", \"liverpool, ny\", \"newport news, va\", \"raleigh, nc\", \"madison heights, va\", \"huntington, wv\", \"everett, wa\", \"sacramento, ca\", \"oxford, oh\", \"barrie (canada), on\", \"charlestown, ri\", \"fremont, oh\", \"nelsonville, oh\", \"paterson, nj\", \"river falls, wi\", \"winnipeg (canada), mb\", \"hinesville, ga\", \"slingerlands, ny\", \"fort dodge, ia\", \"toronto (canada), on\", \"huntington beach, ca\", \"winston-salem, nc\", \"richmond, mn\", \"gig harbor, wa\", \"pemberton/fort dix, nj\", \"isanti, mn\", \"chicago, il\", \"madison, wi\", \"azle, tx\", \"broken arrow, ok\", \"deepwater, mo\", \"barrie (canada), on\", \"ocean city, md\", \"petersburg, va\", \"naples, fl\", \"kansas city, mo\", \"lehi, ut\", \"lyndon, wi\", \"massey (canada), on\", \"lebanon, in\", \"charlton, ma\", \"marstons mills, ma\", \"torrington, ct\", \"erie, pa\", \"erie, pa\", \"pleasant hill, ca\", \"eleven mile corner, az\", \"appleton, wi\", \"barrie (canada), on\", \"fresno, ca\", \"johnstown, co\", \"johnstown, co\", \"new bedford, ma\", \"unity township, pa\", \"manitowoc, wi\", \"dana point, ca\", \"santa ana, ca\", \"lexington, ky\", \"springfield, oh\", \"springfield, oh\", \"davenport, ia\", \"london (canada), on\", \"south portland, me\", \"hamden, ct\", \"marco island, fl\", \"harrisonburg, va\", \"charlotte, nc\", \"tyndall afb, fl\", \"edmond, ok\", \"edmond, ok\", \"shaw, ms\", \"springboro, oh\", \"cottontown, tn\", \"chateauguay (canada), qc\", \"abington, pa\", \"indianapolis, in\", \"bemus point, ny\", \"elmira, ny\", \"kerville, tx\", \"westport, ct\", \"jackson, wi\", \"ogdensburg, nj\", \"drums, pa\", \"jefferson, wi\", \"springfield township, oh\", \"livermore falls, me\", \"silverdale, wa\", \"bernville, pa\", \"hamilton (canada), on\", \"hudson, wi\", \"janesville, wi\", \"mt. airy, nc\", \"nashville, tn\", \"new york city (bronx), ny\", \"new york city (bronx), ny\", \"oak island, nc\", \"los angeles, ca\", \"chatham, il\", \"guilderland, ny\", \"hackensack, nj\", \"belo, wv\", \"philadelphia, pa\", \"lowell, ma\", \"ross township, pa\", \"lisle, il\", \"claremont, nh\", \"des moines, ia\", \"fort wayne, in\", \"ravenna, oh\", \"seven devils, nc\", \"lake wales, fl\", \"o&#39fallon, mo\", \"hickory hills, il\", \"mission viejo, ca\", \"toledo, oh\", \"mason, oh\", \"peterborough (canada), on\", \"coloma, mi\", \"lockport, ny\", \"balsam lake (canada), on\", \"st. agatha, me\", \"port saint lucie, fl\", \"tecumseh (canada), on\", \"murray, ky\", \"yakima, wa\", null, \"weaverville, nc\", \"waikoloa, hi\", \"syracuse, ny\", \"milford, ct\", \"indianapolis, in\", \"spring hill, tn\", \"dallas, ga\", \"hillsborough, nj\", \"hutto, tx\", \"worton, md\", \"cottonwood, az\", \"ypsilanti, mi\", \"goshen, in\", \"linden, nj\", \"moultrie, ga\", \"weaverville, nc\", \"mount pleasant, sc\", \"winchester, ks\", \"newburgh, in\", \"platte city, mo\", \"greensboro, ga\", \"bear, de\", \"tucumcari, nm\", null, \"el paso, tx\", \"greensburg, pa\", \"delavan, wi\", \"salt lake city, ut\", \"bridgeport, wv\", \"dodge city, ks\", \"enfield, nh\", null, \"ashgrove, mo\", \"columbia, me\", \"atlanta, ga\", \"campbell, oh\", \"richmond, va\", \"bluebell, pa\", \"new york city (queens; fresh meadows), ny\", \"garfield, wa\", \"marshall, wi\", \"cedar rapids, ia\", \"winsted, ct\", \"las vegas, nv\", \"garland, tx\", \"somerset, nj\", \"ridgefield, ct\", \"kapoho, hi\", \"munising, mi\", \"marmora, nj\", \"roseville, mi\", \"kailua kona, hi\", \"ft. branch, in\", \"seattle (west seattle/seatac), wa\", \"o&#39fallon, mo\", \"sidney, oh\", \"captiva, fl\", \"billings, mt\", \"shawnee, ok\", \"auburn, ny\", \"twin lake, mi\", \"lees summit, mo\", \"phoenix, az\", null, \"torrance, ca\", null, \"newark, de\", \"gatineau (canada), qc\", \"salt lake city, ut\", \"captiva, fl\", \"lexington, sc\", \"port saint lucie, fl\", \"big bend, wi\", \"coeur d&#39alene, id\", \"bristol, tn\", \"woodstock, il\", \"duck lake (canada), sk\", \"corpus christi, tx\", \"farmersburg, in\", \"mayfield, ky\", \"palmer, ak\", \"fort smith, ar\", \"brainerd, mn\", \"bristol, ct\", \"bristol, ct\", \"pensacola, fl\", \"sedona, az\", \"east aurora, ny\", \"west haven, ct\", \"falmouth, me\", \"falmouth, me\", \"bedminster, nj\", \"port saint lucie, fl\", \"bristol, ct\", \"pacific city, or\", \"foster city, ca\", \"north myrtle beach/loris, sc\", \"haymarket, va\", \"haymarket, va\", \"bloomington, il\", \"enola, pa\", \"des moines, ia\", \"fredericton (20 min. outside) (canada), nb\", \"necedah, wi\", \"saskatoon (canada), sk\", \"vallejo, ca\", \"charleston, wv\", \"albuquerque (southeast), nm\", \"fairview heights, il\", \"oakhill, wv\", \"murfreesboro, tn\", \"beloit township, wi\", \"gilbert, az\", \"eagle creek, or\", \"mt. airy, nc\", \"glendale, az\", \"mukwonago, wi\", \"lake grove, ny\", \"milford, ct\", \"fish lake, in\", \"elk mills, md\", \"lake geneva (near), wi\", \"mentor, oh\", \"glenville, nc\", \"grand traverse county, mi\", \"mukwonago, wi\", \"smithtown, ny\", \"south lincoln, vt\", \"westlake, oh\", \"fort atkinson, wi\", \"oakland, ca\", \"bowmanville (canada), on\", \"lenexa, ks\", \"spruce grove (canada, ab\", \"grayslake, il\", \"windsor, on\", \"campbell river (canada), bc\", \"arden, on\", \"ingleside, il\", \"kingston, ny\", \"hillsboro, or\", \"phoenix, ny\", \"danbury, ct\", \"beavercreek, oh\", \"loganville, ga\", \"orem, ut\", \"takoma, wa\", \"hackettstown, nj\", \"loxahatchee, fl\", \"the pas (canada), mb\", \"madison, ct\", \"maple ridge (canada), bc\", \"toledo, oh\", \"suffolk, ny\", \"deer park, ny\", \"panoche (near; on i-5), ca\", \"shelby, mi\", \"forward township, pa\", \"hastings, mn\", \"winnipeg (canada), mb\", null, \"voorheesville, ny\", \"pittsburgh, pa\", \"lee&#39s summit, mo\", \"dyersville, ia\", \"grapeview, wa\", \"mesa, az\", \"new york city (bronx), ny\", \"medina, oh\", \"indian trail, nc\", \"cheadle (canada), ab\", \"madison, wi\", \"asheville, nc\", \"cayucos, ca\", \"grenada, ms\", \"las vegas, nv\", \"oak harbor, oh\", \"hoffman estates, il\", \"woonsocket, ri\", \"fresno, ca\", \"monrovia, ca\", \"bangor, me\", \"new richmond, wi\", \"san jose, ca\", \"cedar rapids, ia\", \"port clinton, oh\", \"dayton, oh\", \"riverhead, ny\", \"baytown, tx\", \"columbus, oh\", \"dayton, oh\", \"leland, mi\", \"fairhaven, ma\", \"berkley, mi\", \"drexel, oh\", \"leesburg, va\", \"gurley, al\", \"harvest, al\", \"knappa, or\", \"auburn, ky\", \"lisbon falls, me\", \"st. thomas (canada), on\", \"lake george, ny\", \"lake george village, ny\", \"elkton, md\", \"clovis, ca\", \"pekin, il\", \"west jordan, ut\", \"yellowstone, wy\", \"portland, or\", \"boulder, co\", \"palmyra, me\", \"santa barbara, ca\", \"missoula, mt\", \"post falls, id\", \"daytona beach, fl\", \"phoenixville, pa\", \"west valley city, ut\", \"farmerville, la\", \"windsor, ct\", \"export, pa\", \"dayton, oh\", \"oak island, nc\", \"dartmouth (canada), ns\", \"stafford, va\", \"dike, ia\", \"grove city, mn\", \"lakeville, mn\", \"captiva, fl\", \"philomath, or\", \"gering, ne\", \"grand marais, mn\", \"marstons mills, ma\", \"valdosta, ga\", \"shoreline, wa\", \"whitby (canada), on\", null, null, \"turlock, ca\", \"farmerville, la\", \"bismarck, nd\", null, \"commerce, tx\", \"monroeville, pa\", \"los angeles, ca\", \"west palm beach, fl\", \"waxhaw, nc\", \"hartford, ny\", \"hilton head, sc\", \"lawndale, ca\", \"tucson, az\", \"wanamingo, mn\", \"clarkston, wa\", \"captiva, fl\", \"augusta, me\", \"attleboro, ma\", \"lehi, ut\", \"toledo, oh\", \"beaver, oh\", \"sydenham (canada), on\", \"verona, ky\", \"rancho cucamonga, ca\", \"lewiston, me\", \"allentown, pa\", \"hartwell, ga\", \"albuquerque, nm\", \"coeur d&#39alene, id\", \"fayetteville, nc\", \"fayetteville, nc\", null, \"lassen national forest, ca\", \"lake wales, fl\", \"saint augustine, fl\", \"harrison, wa\", \"everett, wa\", \"las vegas, nv\", \"winter haven, fl\", \"woodbury, mn\", \"joppa, md\", \"desert center, ca\", \"painesville, oh\", \"boca raton, fl\", \"redondo beach, ca\", \"reunion, fl\", \"west palm beach, fl\", \"delray beach, fl\", \"orlando, fl\", \"pompano beach, fl\", \"sanford, fl\", \"west palm beach, fl\", \"dania beach, fl\", \"pompano beach, fl\", \"york, me\", \"west palm beach, fl\", \"plymouth, ma\", \"schererville, in\", \"custer, wi\", \"fairbanks, ak\", \"manchester, nh\", \"poteau, ok\", \"seattle, wa\", \"ada, ks\", \"woodland, wa\", \"wellston, mi\", \"mapleton, ut\", \"tustin, ca\", \"st. petersburg, fl\", \"kelowna (canada), bc\", \"peoria, az\", null, \"miami, fl\", \"north spokane, wa\", \"old orchard beach, me\", \"phoenix, az\", \"portland, or\", \"jericho, vt\", \"woodville (canada), on\", \"coeur d&#39alene, id\", \"milwaukie, or\", \"winchester (near), id\", \"astoria, or\", \"richmond (canada), bc\", \"redmond, wa\", \"everett, wa\", \"san diego, ca\", \"lincoln city, or\", \"captiva, fl\", \"belmont, nh\", \"ferndale, wa\", \"grand remous (canada), qc\", \"chemainus (canada), bc\", \"lynden, wa\", \"los angeles, ca\", \"spring lake heights, nj\", \"ottawa (canada), on\", \"wenatchee, wa\", \"naches, wa\", \"merced, ca\", \"kittery, me\", \"merced, ca\", \"hermitage, pa\", \"battle ground, wa\", null, \"lovington, il\", \"towson, md\", \"captiva, fl\", \"captiva, fl\", \"captiva, fl\", \"lakeville, mn\", \"acton (canada), on\", \"gloucester, ma\", \"st. thomas (canada), on\", \"tyrone (canada), on\", \"centerville, ga\", \"guelph (canada), on\", \"jericho, vt\", \"hemet, ca\", \"gorham, me\", \"pine mountain club, ca\", \"st. helena, ca\", \"buxton, nc\", \"eau claire, wi\", \"edmonton (canada), ab\", \"milwaukee, wi\", \"warwick, ri\", \"myrtle beach, sc\", \"syracuse, ut\", \"sharpsburg, md\", \"gillette, wy\", \"virginia beach, va\", \"cupertino, ca\", \"lebanon, il\", \"auburn, wa\", \"nashville, tn\", \"emerald isle, nc\", \"fayetteville, nc\", \"myrtle beach, sc\", \"emerald isle, nc\", \"san miguel, ca\", null, \"emerald isle, nc\", \"saint peter, mn\", \"hillsboro, or\", \"myrtle beach, sc\", \"myrtle beach, sc\", \"scottsdale, az\", null, null, \"milton, wv\", \"north providence, ri\", \"arlington, tx\", \"toronto (canada), on\", \"san marcos, tx\", \"salt lake city, ut\", \"san antonio, tx\", \"clayton, nm\", \"antioch, il\", \"grenada, ms\", \"worthington, oh\", \"rowley, ma\", \"vernon (canada), bc\", \"woodbridge, va\", \"loudon, tn\", \"santa barbara (north of), ca\", \"beavercreek, oh\", \"beavercreek, oh\", \"rossville, ga\", \"zelionople, pa\", \"columbus, oh\", \"provincetown, ma\", \"wakeman, oh\", \"georgetown, ky\", \"lupton, mi\", \"zanesville, oh\", \"ajax (canada), on\", \"bozrah, ct\", \"arlington, wi\", \"costa mesa, ca\", \"everett, wa\", \"hendersonville, tn\", \"wilsonville, or\", \"dennisport, ma\", \"ogallala, ne\", \"pickerington, oh\", \"capitola, ca\", \"tampa, fl\", \"moreno valley, ca\", \"unknown, oh\", \"unknown, oh\", \"hasbrouck heights, nj\", \"naperville, il\", \"buckeye, az\", \"holden beach, nc\", \"ocean springs, ms\", \"tacoma, wa\", null, \"ashley, il\", \"sebastopol, ca\", \"tacoma, wa\", \"santa barbara, ca\", \"mcminnville, or\", \"sweetser, in\", \"kingston, ny\", null, \"owensboro, ky\", \"webster, ia\", \"ben avon, pa\", \"keystone heights, fl\", \"dana point, ca\", \"livonia, mi\", \"phoenix, az\", \"north myrtle beach, sc\", \"boulder, co\", \"bryan, tx\", \"bricktown, nj\", \"green bay, wi\", \"toronto (canada), on\", \"roswell, ga\", \"richmond, va\", \"boulder, co\", \"kentwood, mi\", \"canby, or\", \"kill devil hill, nc\", \"lake worth, fl\", \"mississauga (canada), on\", \"zionsville, in\", \"surprise, az\", \"frankfort, ky\", \"hiawatha, ia\", \"gallatin, tn\", \"elyria, oh\", \"columbus, oh\", \"morro bay, ca\", \"murray, ky\", \"gardendale, al\", \"blossvale, ny\", \"milford, ct\", \"north huntingdon, pa\", \"provincetown, ma\", \"seattle, wa\", \"syracuse, ny\", \"frederick, md\", \"mt. holly/lumberton, nj\", \"athelstine, wi\", \"collegeville, pa\", \"bowling green, ky\", \"chicago, il\", \"iowa, la\", \"farmington, ct\", \"fredericksburg, va\", \"meridian, id\", \"canby, or\", \"columbus, oh\", \"grosse ile, mi\", \"lancaster county (south of willow street), pa\", \"bridgewater, ma\", \"college station, tx\", \"lafayette, in\", \"landisville, pa\", \"saint louis, mo\", \"columbus, oh\", \"canton, ga\", \"o&#39fallon, mo\", \"fayetteville, ga\", \"ashville, ny\", \"hamilton, oh\", \"lakehurst, nj\", \"lock haven, pa\", \"cleveland, oh\", \"vancouver, wa\", \"east los angeles, ca\", \"lincolnville, me\", null, \"miami, fl\", \"tempe, az\", null, \"halifax (canada), ns\", \"deer park, ny\", \"easton, pa\", \"mt. airy, nc\", \"oconomowoc, wi\", \"wethersfield, ct\", \"west chester, pa\", \"peterborough (canada), on\", \"gainesville, ga\", \"goshen, in\", \"manchac, la\", \"charleston (south), sc\", \"green bay, wi\", \"idaho falls, id\", \"cromwell, ct\", \"st. albert (canada), ab\", \"vernon (outside of) (canada), bc\", \"goodyear, az\", \"windsor, ca\", \"burbank, ca\", \"fergus falls, mn\", \"salt lake city, ut\", \"san diego, ca\", \"fayetteville, ar\", \"blackwood, nj\", \"mesa, az\", \"flint, mi\", \"memphis, tn\", \"tumacacori, az\", \"westport, ma\", \"akron, oh\", \"riverside, ca\", \"portland, me\", \"bridgeton, mo\", \"suffolk, va\", \"hamilton, al\", \"melville, ny\", \"silver spring, md\", \"rochester, wa\", \"clearlake oaks, ca\", \"dallas, tx\", \"smithport, pa\", \"montreal (canada), qc\", \"silverdale, wa\", \"baltimore, md\", \"centerville, oh\", \"boise, id\", \"seattle, wa\", \"shelbyville, ky\", \"shelbyville, ky\", \"clermont, fl\", \"everett, wa\", \"newfield, nj\", \"ketchum, id\", \"suwanee, ga\", \"bullhead city, az\", \"cumming, ga\", \"new mexico (abov; in-flight), nm\", \"berlin, md\", \"klamath falls, or\", \"sharpsburg, ky\", null, \"pictou (canada), ns\", \"albuquerque, nm\", \"west warwick, ri\", \"northville, ny\", \"sequim, wa\", \"stowe, vt\", \"asbury park, nj\", \"somerville, ma\", \"horseheads/elmira, ny\", \"downingtown, pa\", \"auburn, wa\", \"deming (near), nm\", \"round hill, va\", \"wyoming, mi\", \"olympia, wa\", \"kingwood, tx\", \"greenwood, sc\", \"calgary (canada), ab\", \"newcastle, me\", \"grasonville, md\", \"toms river, nj\", \"cowpens, sc\", null, \"bluffdale, ut\", \"tucson, az\", \"altoona, pa\", \"lehighton, pa\", \"paris (canada), on\", \"deland, fl\", \"deland, fl\", \"indian rocks beach, fl\", \"whitesburg, tn\", \"albuquerque, nm\", \"latham, ks\", \"greenville, sc\", \"somerville, ma\", null, \"greenville, nc\", \"grand prairie, tx\", \"milan, tn\", \"manassas, va\", \"albuquerque, nm\", \"bedford, in\", \"rio rancho, nm\", \"albuquerque, nm\", \"bettendorf, ia\", \"santa fe, nm\", \"san tan valley, az\", \"chandler, az\", \"jupiter, fl\", \"racine, wi\", \"wichita, ks\", \"marine city, mi\", \"miami, fl\", \"medina, oh\", \"plantation, fl\", \"winnipeg, mb\", \"celina, oh\", \"childress, tx\", \"lind, wi\", \"powell, oh\", \"columbus, oh\", \"lawton, ok\", \"waterford, wi\", \"anchorage, ak\", \"rapid city, sd\", \"des moines, ia\", \"san antonio, tx\", \"grand prairie, tx\", \"timmins (canada), on\", \"delta, oh\", \"south chesterfield, va\", \"tulare, ca\", \"verona, nj\", \"milton, wv\", \"greenbelt, md\", \"wellington, fl\", \"peoria, az\", \"seatac, wa\", \"mesa, az\", \"mesa, az\", \"maricopa, az\", \"san tan valley, az\", \"queen creek, az\", \"goodyear, az\", \"holyoke, ma\", \"sun city, az\", \"west chester, oh\", \"buna, tx\", null, \"lincoln city, or\", \"lincoln city, or\", \"chesterfield, va\", \"everett, wa\", \"janesville, wi\", \"lititz, pa\", \"sandstone, mn\", \"amherst, ma\", \"easton, pa\", \"gastonia, nc\", \"albuquerque, nm\", \"rio rancho, nm\", \"norman, ok\", \"kingston, nh\", \"warwick, ri\", \"santa fe and albuquerque, nm\", \"gorham, me\", \"canterbury, nh\", \"auburn, me\", \"north wayne, me\", \"plymouth, ma\", \"salem, nh\", \"south hamiltion, ma\", \"arnstein (canada), on\", \"belfry, ky\", \"chicago, il\", \"lilburn, ga\", \"yarmouth port, ma\", \"sacramento, ca\", \"sacramento, ca\", \"crestline, oh\", \"redkey, in\", \"bloomington, il\", \"jackson, wi\", \"bloomington, il\", \"healdsburg, ca\", \"bar harbor, me\", \"columbia, sc\", \"new brunswick, nj\", \"rockville, md\", \"carmichael, ca\", \"east islip, ny\", \"waterloo, ia\", \"alden, il\", \"conway, sc\", \"dillsburg, pa\", \"montgomery, oh\", \"denver, co\", \"englewood, oh\", \"miamisburg, oh\", \"prunedale, ca\", \"awatukee, az\", \"hilliard, oh\", \"virginia beach, va\", \"lakewood, co\", \"south elgin, il\", \"las cruces, nm\", \"sachse, tx\", \"muskogee, ok\", \"denver, co\", \"vernal, ut\", \"denver, co\", \"millersburg, ky\", \"delray beach, fl\", \"south windsor, ct\", \"west valley city, ut\", \"las vegas, nv\", \"defiance, oh\", \"coatesville, in\", \"las vegas, nv\", \"andrews, sc\", \"east syracuse, ny\", \"virginia beach, va\", \"columbus, oh\", \"elk neck, md\", \"tulsa, ok\", \"south sioux city, ne\", \"townville, pa\", null, \"mokena, il\", \"turners falls, ma\", \"belleville, wi\", \"fort wayne, in\", \"murrells inlet, sc\", \"richmond, va\", \"fairbanks, ak\", \"hudson, nh\", \"hazen, nd\", \"columbus, oh\", \"rapid city, mi\", \"south sioux city, ne\", \"three forks, mt\", \"mississauga (canada), on\", \"kingston (canada), on\", \"marin/san rafael, ca\", \"lafayette, ny\", \"kinsman, oh\", \"redmond, wa\", \"olathe, ks\", \"winsdor (harrow) (canada), on\", \"blaine, mn\", \"newport beach, ca\", \"fayetteville, wv\", \"huddy, ky\", \"beverly, ma\", \"baton rouge, la\", \"blaine, wa\", null, \"leduc (while driving on highway 2), ab\", \"owensboro, ky\", \"fort wayne, in\", \"new britain, ct\", \"youngstown, oh\", \"fort wayn, in\", \"meriden, ct\", \"portsmouth, va\", \"pawcatuck, ct\", \"davenport, ia\", \"cincinnati, oh\", \"frankfort, mi\", \"leesburg, va\", \"denver/aurora, co\", \"turlock, ca\", \"alameda, ca\", \"chicago park, ca\", \"longs, sc\", \"conway, sc\", \"interlachen, fl\", \"arlington, va\", \"high point, nc\", \"lake worth, fl\", \"north myrtle beach, sc\", \"north myrtle beach, sc\", \"turlock, ca\", \"atlanta, ga\", \"centreville, va\", \"franksville, wi\", \"kennewick, wa\", \"bowie, md\", null, \"glen arbor, mi\", \"albany/ colonie, ny\", \"ozark, ar\", \"elkhorn, wi\", \"farmington hills, mi\", \"leland, nc\", \"franklin, in\", \"hilliard, oh\", \"west chester, oh\", \"shaker heights, oh\", \"flint, mi\", \"huntington, in\", \"las vegas, nv\", \"hoover, al\", \"royal city (north of), wa\", \"clines corner &amp; moririty (between), nm\", \"myrtle beach, sc\", \"denver, pa\", \"lawndale, ca\", \"berlin heights, oh\", \"peoria, az\", \"morrow, oh\", \"ann arbor, mi\", \"frederick, md\", \"dublin, oh\", \"north bergen, nj\", \"fairborn, oh\", \"boston, ma\", \"palm springs, ca\", \"los angeles, ca\", \"boise, id\", \"northridge, ca\", \"whittier, ca\", \"chelsea, al\", null, \"coon rapids, mn\", \"eddyville, ky\", \"oxford, pa\", \"glendale, az\", \"clarksville, tn\", \"taylors, sc\", \"milton, ga\", \"cumming, ga\", \"loganville, ga\", \"pensacola, fl\", \"moreno valley, ca\", \"athens, ga\", \"binghamton, ny\", \"cleveland, oh\", \"mattapoisett, ma\", \"owls head, ny\", \"tolland, ct\", \"canal winchester, oh\", \"new palestine, in\", \"akron, oh\", \"oxford, pa\", \"sale creek, tn\", \"coldwater, ms\", \"indianapolis, in\", \"niagara falls, ny\", \"phoenix, az\", \"sant monica, ca\", \"sedona, az\", \"o&#39fallon, mo\", \"west carrollton, oh\", \"chesterfield, va\", \"oxford, pa\", \"lafayette, la\", \"florence, al\", \"raleigh, nc\", \"albion, me\", \"florence, ky\", \"plantation, fl\", \"miramichi (canada), nb\", \"ottawa (canada), on\", \"colts neck, nj\", \"lexington, ky\", \"osprey, fl\", \"keansburg, nj\", \"langdon, nd\", \"nashua, nh\", \"manchester, ct\", \"sewanee, tn\", \"erlanger, ky\", \"eatonville, wa\", \"tonawanda, ny\", \"clarksville, ar\", \"nashville, tn\", \"ewing, nj\", \"haverhill, ma\", \"johnston, ri\", \"westfield (canada), ns\", \"gunnison area, co\", \"springboro, oh\", \"catskill, ny\", null, null, \"newbury, vt\", \"east nassau, ny\", null, \"san clemente, ca\", \"san diego, ca\", \"mt. holly, nc\", \"albuquerque, nm\", \"como, co\", \"el reno, ok\", \"gap, pa\", \"lookout mountain, ga\", \"fairbanks, ak\", \"north berwick, me\", \"staten island, ny\", \"keeseville, ny\", \"muskegon, mi\", \"austin, tn\", \"stow, ma\", \"berlin, wi\", \"thurmont, md\", \"eagan, mn\", \"south dennis, ma\", \"glen gardner, nj\", \"logan, wv\", \"barrhaven (canada), on\", \"woodbury, mn\", \"springdale, ar\", \"west palm beach, fl\", \"laguna beach, ca\", \"mt. airy, nc\", \"canton, oh\", \"salt lake city, ut\", \"yoder, ks\", \"lincoln city, or\", \"severna park, md\", null, \"chittenango, ny\", \"fresno, ca\", \"coram, ny\", \"clarksville, ar\", \"cutler bay, fl\", \"bradshaw, ne\", \"meriden, ct\", \"waxhaw, nc\", \"santa ana, ca\", \"parkville, md\", \"malibu, ca\", \"seymour, ct\", \"moore, ok\", \"covington, ga\", \"san diego, ca\", \"warsaw, oh\", \"sault ste. marie (canada), on\", \"gainesville, ga\", \"shavertown, pa\", \"advance, nc\", \"lincoln, ne\", \"kings mountain, nc\", \"hunt valley, md\", \"susanville, ca\", \"denver, co\", \"advance, nc\", \"gilbert, az\", \"gallatin, tn\", \"los banos, ca\", \"whittier, ca\", \"bellingham, ma\", \"cary, nc\", \"sacramento, ca\", \"easton, pa\", \"emerald isle, nc\", \"everett, wa\", \"hayden, al\", \"merrill, or\", \"fairbanks, ak\", \"pittsburgh, pa\", \"winnipeg (canada), mb\", \"boston, ny\", \"shrewsbury, pa\", null, \"springfield, ma\", \"surfside beach, sc\", \"fairport, ny\", \"celina, tx\", \"sicklerville, nj\", \"lincoln, ne\", \"urbana, oh\", \"boise, id\", \"victoria, mn\", \"augusta, wv\", \"hemet, ca\", \"johns creek, ga\", \"prosser, wa\", \"pyote, tx\", \"cumming, ga\", \"asheville, nc\", \"gladstone, mi\", \"hellertown, pa\", \"searsmont, me\", \"broadlands, va\", \"tampa, fl\", \"placerville, co\", \"portland, ct\", \"tomball, tx\", \"montpelier, vt\", \"cass lake, mn\", \"dearborn heights, mi\", \"richmond, va\", \"rochester, nh\", \"sebree, ky\", \"racine, wi\", \"san diego/pacific beach, ca\", \"westport, ma\", \"onalaska, wi\", \"dayton, wa\", \"peidmont, al\", \"springfield, or\", \"south bend, in\", \"cumming, ga\", \"houston, tx\", \"petaluma, ca\", \"coventry, ri\", \"ludington, mi\", \"woodbury, ct\", \"candle lake (canada), sk\", \"new orleans, la\", \"pinery provincial park (canada), on\", \"manchester, nh\", \"phillipsburg, nj\", \"renton, wa\", \"petaluma, ca\", \"piscataway, nj\", \"birch bay, wa\", \"fresno, ca\", \"coldwater, mi\", \"austin, tx\", \"killeen, tx\", null, \"maine (southeast), me\", \"pt. st lucie, fl\", \"port saint lucie, fl\", \"lincoln, ca\", \"wichita, ks\", \"thunder bay, on\", \"silveradale, wa\", \"derby, ks\", \"fort worth, tx\", \"fort wayne, in\", \"everett, wa\", \"norfolk, va\", \"buffalo (west of; on highway 90 west), ny\", \"struthers, oh\", \"san diego, ca\", \"cedar park, tx\", \"calmar (canada), ab\", \"clifton, nj\", \"tuscaloosa, al\", \"clarksville, tn\", null, \"gainesville, fl\", \"hamstead (hollyridge), nc\", \"milton (canada), on\", \"woodstock, ga\", \"nashville, tn\", \"boise, id\", \"napa, ca\", \"vienna, va\", \"edmond, ok\"], \"type\": \"scattergeo\"}],\n",
              "                        {\"geo\": {\"scope\": \"usa\"}, \"template\": {\"data\": {\"bar\": [{\"error_x\": {\"color\": \"#2a3f5f\"}, \"error_y\": {\"color\": \"#2a3f5f\"}, \"marker\": {\"line\": {\"color\": \"#E5ECF6\", \"width\": 0.5}}, \"type\": \"bar\"}], \"barpolar\": [{\"marker\": {\"line\": {\"color\": \"#E5ECF6\", \"width\": 0.5}}, \"type\": \"barpolar\"}], \"carpet\": [{\"aaxis\": {\"endlinecolor\": \"#2a3f5f\", \"gridcolor\": \"white\", \"linecolor\": \"white\", \"minorgridcolor\": \"white\", \"startlinecolor\": \"#2a3f5f\"}, \"baxis\": {\"endlinecolor\": \"#2a3f5f\", \"gridcolor\": \"white\", \"linecolor\": \"white\", \"minorgridcolor\": \"white\", \"startlinecolor\": \"#2a3f5f\"}, \"type\": \"carpet\"}], \"choropleth\": [{\"colorbar\": {\"outlinewidth\": 0, \"ticks\": \"\"}, \"type\": \"choropleth\"}], \"contour\": [{\"colorbar\": {\"outlinewidth\": 0, \"ticks\": \"\"}, \"colorscale\": [[0.0, \"#0d0887\"], [0.1111111111111111, \"#46039f\"], [0.2222222222222222, \"#7201a8\"], [0.3333333333333333, \"#9c179e\"], [0.4444444444444444, \"#bd3786\"], [0.5555555555555556, \"#d8576b\"], [0.6666666666666666, \"#ed7953\"], [0.7777777777777778, \"#fb9f3a\"], [0.8888888888888888, \"#fdca26\"], [1.0, \"#f0f921\"]], \"type\": \"contour\"}], \"contourcarpet\": [{\"colorbar\": {\"outlinewidth\": 0, \"ticks\": \"\"}, \"type\": \"contourcarpet\"}], \"heatmap\": [{\"colorbar\": {\"outlinewidth\": 0, \"ticks\": \"\"}, \"colorscale\": [[0.0, \"#0d0887\"], [0.1111111111111111, \"#46039f\"], [0.2222222222222222, \"#7201a8\"], [0.3333333333333333, \"#9c179e\"], [0.4444444444444444, \"#bd3786\"], [0.5555555555555556, \"#d8576b\"], [0.6666666666666666, \"#ed7953\"], [0.7777777777777778, \"#fb9f3a\"], [0.8888888888888888, \"#fdca26\"], [1.0, \"#f0f921\"]], \"type\": \"heatmap\"}], \"heatmapgl\": [{\"colorbar\": {\"outlinewidth\": 0, \"ticks\": \"\"}, \"colorscale\": [[0.0, \"#0d0887\"], [0.1111111111111111, \"#46039f\"], [0.2222222222222222, \"#7201a8\"], [0.3333333333333333, \"#9c179e\"], [0.4444444444444444, \"#bd3786\"], [0.5555555555555556, \"#d8576b\"], [0.6666666666666666, \"#ed7953\"], [0.7777777777777778, \"#fb9f3a\"], [0.8888888888888888, \"#fdca26\"], [1.0, \"#f0f921\"]], \"type\": \"heatmapgl\"}], \"histogram\": [{\"marker\": {\"colorbar\": {\"outlinewidth\": 0, \"ticks\": \"\"}}, \"type\": \"histogram\"}], \"histogram2d\": [{\"colorbar\": {\"outlinewidth\": 0, \"ticks\": \"\"}, \"colorscale\": [[0.0, \"#0d0887\"], [0.1111111111111111, \"#46039f\"], [0.2222222222222222, \"#7201a8\"], [0.3333333333333333, \"#9c179e\"], [0.4444444444444444, \"#bd3786\"], [0.5555555555555556, \"#d8576b\"], [0.6666666666666666, \"#ed7953\"], [0.7777777777777778, \"#fb9f3a\"], [0.8888888888888888, \"#fdca26\"], [1.0, \"#f0f921\"]], \"type\": \"histogram2d\"}], \"histogram2dcontour\": [{\"colorbar\": {\"outlinewidth\": 0, \"ticks\": \"\"}, \"colorscale\": [[0.0, \"#0d0887\"], [0.1111111111111111, \"#46039f\"], [0.2222222222222222, \"#7201a8\"], [0.3333333333333333, \"#9c179e\"], [0.4444444444444444, \"#bd3786\"], [0.5555555555555556, \"#d8576b\"], [0.6666666666666666, \"#ed7953\"], [0.7777777777777778, \"#fb9f3a\"], [0.8888888888888888, \"#fdca26\"], [1.0, \"#f0f921\"]], \"type\": \"histogram2dcontour\"}], \"mesh3d\": [{\"colorbar\": {\"outlinewidth\": 0, \"ticks\": \"\"}, \"type\": \"mesh3d\"}], \"parcoords\": [{\"line\": {\"colorbar\": {\"outlinewidth\": 0, \"ticks\": \"\"}}, \"type\": \"parcoords\"}], \"pie\": [{\"automargin\": true, \"type\": \"pie\"}], \"scatter\": [{\"marker\": {\"colorbar\": {\"outlinewidth\": 0, \"ticks\": \"\"}}, \"type\": \"scatter\"}], \"scatter3d\": [{\"line\": {\"colorbar\": {\"outlinewidth\": 0, \"ticks\": \"\"}}, \"marker\": {\"colorbar\": {\"outlinewidth\": 0, \"ticks\": \"\"}}, \"type\": \"scatter3d\"}], \"scattercarpet\": [{\"marker\": {\"colorbar\": {\"outlinewidth\": 0, \"ticks\": \"\"}}, \"type\": \"scattercarpet\"}], \"scattergeo\": [{\"marker\": {\"colorbar\": {\"outlinewidth\": 0, \"ticks\": \"\"}}, \"type\": \"scattergeo\"}], \"scattergl\": [{\"marker\": {\"colorbar\": {\"outlinewidth\": 0, \"ticks\": \"\"}}, \"type\": \"scattergl\"}], \"scattermapbox\": [{\"marker\": {\"colorbar\": {\"outlinewidth\": 0, \"ticks\": \"\"}}, \"type\": \"scattermapbox\"}], \"scatterpolar\": [{\"marker\": {\"colorbar\": {\"outlinewidth\": 0, \"ticks\": \"\"}}, \"type\": \"scatterpolar\"}], \"scatterpolargl\": [{\"marker\": {\"colorbar\": {\"outlinewidth\": 0, \"ticks\": \"\"}}, \"type\": \"scatterpolargl\"}], \"scatterternary\": [{\"marker\": {\"colorbar\": {\"outlinewidth\": 0, \"ticks\": \"\"}}, \"type\": \"scatterternary\"}], \"surface\": [{\"colorbar\": {\"outlinewidth\": 0, \"ticks\": \"\"}, \"colorscale\": [[0.0, \"#0d0887\"], [0.1111111111111111, \"#46039f\"], [0.2222222222222222, \"#7201a8\"], [0.3333333333333333, \"#9c179e\"], [0.4444444444444444, \"#bd3786\"], [0.5555555555555556, \"#d8576b\"], [0.6666666666666666, \"#ed7953\"], [0.7777777777777778, \"#fb9f3a\"], [0.8888888888888888, \"#fdca26\"], [1.0, \"#f0f921\"]], \"type\": \"surface\"}], \"table\": [{\"cells\": {\"fill\": {\"color\": \"#EBF0F8\"}, \"line\": {\"color\": \"white\"}}, \"header\": {\"fill\": {\"color\": \"#C8D4E3\"}, \"line\": {\"color\": \"white\"}}, \"type\": \"table\"}]}, \"layout\": {\"annotationdefaults\": {\"arrowcolor\": \"#2a3f5f\", \"arrowhead\": 0, \"arrowwidth\": 1}, \"coloraxis\": {\"colorbar\": {\"outlinewidth\": 0, \"ticks\": \"\"}}, \"colorscale\": {\"diverging\": [[0, \"#8e0152\"], [0.1, \"#c51b7d\"], [0.2, \"#de77ae\"], [0.3, \"#f1b6da\"], [0.4, \"#fde0ef\"], [0.5, \"#f7f7f7\"], [0.6, \"#e6f5d0\"], [0.7, \"#b8e186\"], [0.8, \"#7fbc41\"], [0.9, \"#4d9221\"], [1, \"#276419\"]], \"sequential\": [[0.0, \"#0d0887\"], [0.1111111111111111, \"#46039f\"], [0.2222222222222222, \"#7201a8\"], [0.3333333333333333, \"#9c179e\"], [0.4444444444444444, \"#bd3786\"], [0.5555555555555556, \"#d8576b\"], [0.6666666666666666, \"#ed7953\"], [0.7777777777777778, \"#fb9f3a\"], [0.8888888888888888, \"#fdca26\"], [1.0, \"#f0f921\"]], \"sequentialminus\": [[0.0, \"#0d0887\"], [0.1111111111111111, \"#46039f\"], [0.2222222222222222, \"#7201a8\"], [0.3333333333333333, \"#9c179e\"], [0.4444444444444444, \"#bd3786\"], [0.5555555555555556, \"#d8576b\"], [0.6666666666666666, \"#ed7953\"], [0.7777777777777778, \"#fb9f3a\"], [0.8888888888888888, \"#fdca26\"], [1.0, \"#f0f921\"]]}, \"colorway\": [\"#636efa\", \"#EF553B\", \"#00cc96\", \"#ab63fa\", \"#FFA15A\", \"#19d3f3\", \"#FF6692\", \"#B6E880\", \"#FF97FF\", \"#FECB52\"], \"font\": {\"color\": \"#2a3f5f\"}, \"geo\": {\"bgcolor\": \"white\", \"lakecolor\": \"white\", \"landcolor\": \"#E5ECF6\", \"showlakes\": true, \"showland\": true, \"subunitcolor\": \"white\"}, \"hoverlabel\": {\"align\": \"left\"}, \"hovermode\": \"closest\", \"mapbox\": {\"style\": \"light\"}, \"paper_bgcolor\": \"white\", \"plot_bgcolor\": \"#E5ECF6\", \"polar\": {\"angularaxis\": {\"gridcolor\": \"white\", \"linecolor\": \"white\", \"ticks\": \"\"}, \"bgcolor\": \"#E5ECF6\", \"radialaxis\": {\"gridcolor\": \"white\", \"linecolor\": \"white\", \"ticks\": \"\"}}, \"scene\": {\"xaxis\": {\"backgroundcolor\": \"#E5ECF6\", \"gridcolor\": \"white\", \"gridwidth\": 2, \"linecolor\": \"white\", \"showbackground\": true, \"ticks\": \"\", \"zerolinecolor\": \"white\"}, \"yaxis\": {\"backgroundcolor\": \"#E5ECF6\", \"gridcolor\": \"white\", \"gridwidth\": 2, \"linecolor\": \"white\", \"showbackground\": true, \"ticks\": \"\", \"zerolinecolor\": \"white\"}, \"zaxis\": {\"backgroundcolor\": \"#E5ECF6\", \"gridcolor\": \"white\", \"gridwidth\": 2, \"linecolor\": \"white\", \"showbackground\": true, \"ticks\": \"\", \"zerolinecolor\": \"white\"}}, \"shapedefaults\": {\"line\": {\"color\": \"#2a3f5f\"}}, \"ternary\": {\"aaxis\": {\"gridcolor\": \"white\", \"linecolor\": \"white\", \"ticks\": \"\"}, \"baxis\": {\"gridcolor\": \"white\", \"linecolor\": \"white\", \"ticks\": \"\"}, \"bgcolor\": \"#E5ECF6\", \"caxis\": {\"gridcolor\": \"white\", \"linecolor\": \"white\", \"ticks\": \"\"}}, \"title\": {\"x\": 0.05}, \"xaxis\": {\"automargin\": true, \"gridcolor\": \"white\", \"linecolor\": \"white\", \"ticks\": \"\", \"title\": {\"standoff\": 15}, \"zerolinecolor\": \"white\", \"zerolinewidth\": 2}, \"yaxis\": {\"automargin\": true, \"gridcolor\": \"white\", \"linecolor\": \"white\", \"ticks\": \"\", \"title\": {\"standoff\": 15}, \"zerolinecolor\": \"white\", \"zerolinewidth\": 2}}}, \"title\": {\"text\": \"2013 Reports\"}},\n",
              "                        {\"responsive\": true}\n",
              "                    ).then(function(){\n",
              "                            \n",
              "var gd = document.getElementById('03747604-44ea-46ac-b6d5-fc0b7aa49cf1');\n",
              "var x = new MutationObserver(function (mutations, observer) {{\n",
              "        var display = window.getComputedStyle(gd).display;\n",
              "        if (!display || display === 'none') {{\n",
              "            console.log([gd, 'removed!']);\n",
              "            Plotly.purge(gd);\n",
              "            observer.disconnect();\n",
              "        }}\n",
              "}});\n",
              "\n",
              "// Listen for the removal of the full notebook cells\n",
              "var notebookContainer = gd.closest('#notebook-container');\n",
              "if (notebookContainer) {{\n",
              "    x.observe(notebookContainer, {childList: true});\n",
              "}}\n",
              "\n",
              "// Listen for the clearing of the current output cell\n",
              "var outputEl = gd.closest('.output');\n",
              "if (outputEl) {{\n",
              "    x.observe(outputEl, {childList: true});\n",
              "}}\n",
              "\n",
              "                        })\n",
              "                };\n",
              "                \n",
              "            </script>\n",
              "        </div>\n",
              "</body>\n",
              "</html>"
            ]
          },
          "metadata": {
            "tags": []
          }
        }
      ]
    },
    {
      "cell_type": "code",
      "metadata": {
        "id": "iTghXUWQsr_-",
        "colab": {
          "base_uri": "https://localhost:8080/",
          "height": 512
        },
        "outputId": "2aea6cc8-e10d-4b4d-fa80-44d8a09c3b38"
      },
      "source": [
        "rt.tail()"
      ],
      "execution_count": null,
      "outputs": [
        {
          "output_type": "execute_result",
          "data": {
            "text/html": [
              "<div>\n",
              "<style scoped>\n",
              "    .dataframe tbody tr th:only-of-type {\n",
              "        vertical-align: middle;\n",
              "    }\n",
              "\n",
              "    .dataframe tbody tr th {\n",
              "        vertical-align: top;\n",
              "    }\n",
              "\n",
              "    .dataframe thead th {\n",
              "        text-align: right;\n",
              "    }\n",
              "</style>\n",
              "<table border=\"1\" class=\"dataframe\">\n",
              "  <thead>\n",
              "    <tr style=\"text-align: right;\">\n",
              "      <th></th>\n",
              "      <th>datetime</th>\n",
              "      <th>city</th>\n",
              "      <th>state</th>\n",
              "      <th>country</th>\n",
              "      <th>shape</th>\n",
              "      <th>duration (seconds)</th>\n",
              "      <th>duration (hours/min)</th>\n",
              "      <th>comments</th>\n",
              "      <th>date posted</th>\n",
              "      <th>latitude</th>\n",
              "      <th>longitude</th>\n",
              "      <th>month</th>\n",
              "      <th>year</th>\n",
              "      <th>hour</th>\n",
              "    </tr>\n",
              "  </thead>\n",
              "  <tbody>\n",
              "    <tr>\n",
              "      <th>80327</th>\n",
              "      <td>2013-09-09 21:15:00</td>\n",
              "      <td>nashville</td>\n",
              "      <td>tn</td>\n",
              "      <td>us</td>\n",
              "      <td>light</td>\n",
              "      <td>600</td>\n",
              "      <td>10 minutes</td>\n",
              "      <td>Round from the distance/slowly changing colors...</td>\n",
              "      <td>9/30/2013</td>\n",
              "      <td>36.1658</td>\n",
              "      <td>-86.784444</td>\n",
              "      <td>9</td>\n",
              "      <td>2013</td>\n",
              "      <td>21</td>\n",
              "    </tr>\n",
              "    <tr>\n",
              "      <th>80328</th>\n",
              "      <td>2013-09-09 22:00:00</td>\n",
              "      <td>boise</td>\n",
              "      <td>id</td>\n",
              "      <td>us</td>\n",
              "      <td>circle</td>\n",
              "      <td>1200</td>\n",
              "      <td>20 minutes</td>\n",
              "      <td>Boise&amp;#44 ID&amp;#44 spherical&amp;#44 20 min&amp;#44 10 r...</td>\n",
              "      <td>9/30/2013</td>\n",
              "      <td>43.6136</td>\n",
              "      <td>-116.202500</td>\n",
              "      <td>9</td>\n",
              "      <td>2013</td>\n",
              "      <td>22</td>\n",
              "    </tr>\n",
              "    <tr>\n",
              "      <th>80329</th>\n",
              "      <td>2013-09-09 22:00:00</td>\n",
              "      <td>napa</td>\n",
              "      <td>ca</td>\n",
              "      <td>us</td>\n",
              "      <td>other</td>\n",
              "      <td>1200</td>\n",
              "      <td>hour</td>\n",
              "      <td>Napa UFO&amp;#44</td>\n",
              "      <td>9/30/2013</td>\n",
              "      <td>38.2972</td>\n",
              "      <td>-122.284444</td>\n",
              "      <td>9</td>\n",
              "      <td>2013</td>\n",
              "      <td>22</td>\n",
              "    </tr>\n",
              "    <tr>\n",
              "      <th>80330</th>\n",
              "      <td>2013-09-09 22:20:00</td>\n",
              "      <td>vienna</td>\n",
              "      <td>va</td>\n",
              "      <td>us</td>\n",
              "      <td>circle</td>\n",
              "      <td>5</td>\n",
              "      <td>5 seconds</td>\n",
              "      <td>Saw a five gold lit cicular craft moving fastl...</td>\n",
              "      <td>9/30/2013</td>\n",
              "      <td>38.9011</td>\n",
              "      <td>-77.265556</td>\n",
              "      <td>9</td>\n",
              "      <td>2013</td>\n",
              "      <td>22</td>\n",
              "    </tr>\n",
              "    <tr>\n",
              "      <th>80331</th>\n",
              "      <td>2013-09-09 23:00:00</td>\n",
              "      <td>edmond</td>\n",
              "      <td>ok</td>\n",
              "      <td>us</td>\n",
              "      <td>cigar</td>\n",
              "      <td>1020</td>\n",
              "      <td>17 minutes</td>\n",
              "      <td>2 witnesses 2  miles apart&amp;#44 Red &amp;amp; White...</td>\n",
              "      <td>9/30/2013</td>\n",
              "      <td>35.6528</td>\n",
              "      <td>-97.477778</td>\n",
              "      <td>9</td>\n",
              "      <td>2013</td>\n",
              "      <td>23</td>\n",
              "    </tr>\n",
              "  </tbody>\n",
              "</table>\n",
              "</div>"
            ],
            "text/plain": [
              "                 datetime       city state  ... month  year hour\n",
              "80327 2013-09-09 21:15:00  nashville    tn  ...     9  2013   21\n",
              "80328 2013-09-09 22:00:00      boise    id  ...     9  2013   22\n",
              "80329 2013-09-09 22:00:00       napa    ca  ...     9  2013   22\n",
              "80330 2013-09-09 22:20:00     vienna    va  ...     9  2013   22\n",
              "80331 2013-09-09 23:00:00     edmond    ok  ...     9  2013   23\n",
              "\n",
              "[5 rows x 14 columns]"
            ]
          },
          "metadata": {
            "tags": []
          },
          "execution_count": 29
        }
      ]
    }
  ]
}